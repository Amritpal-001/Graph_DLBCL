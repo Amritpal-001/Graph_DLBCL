{
 "cells": [
  {
   "cell_type": "code",
   "execution_count": null,
   "metadata": {},
   "outputs": [],
   "source": [
    "\n",
    "import pandas as pd\n",
    "import os\n",
    "import shutil\n",
    "from os import path as osp\n",
    "from src.intensity import add_features_and_create_new_dicts\n",
    "\n",
    "\n",
    "BASEDIR = '/home/amrit/data/proj_data/MLG_project/DLBCL-Morph'\n",
    "\n",
    "\n",
    "STAIN = 'MYC'\n",
    "FIDIR = f'{BASEDIR}/outputs'\n",
    "CLINPATH = f'{BASEDIR}/clinical_data_cleaned.csv'\n",
    "ANNPATH = f'{BASEDIR}/annotations_clean.csv'\n",
    "FEATSDIR = f'{BASEDIR}/outputs/files/{STAIN}'\n",
    "FEATSCALERPATH = f\"{FEATSDIR}/0_feat_scaler.npz\"\n",
    "PATCH_SIZE = 224\n",
    "OUTPUT_SIZE = PATCH_SIZE*8\n",
    "\n",
    "##########\n",
    "# read annotation csv, filter, and process intensity features\n",
    "df = pd.read_csv(ANNPATH)\n",
    "\n",
    "df = df[df['stain'] == STAIN]\n",
    "df['area'] = (df['xe'] - df['xs']) *  (df['ye'] - df['ys'])/10000\n",
    "df = df[df['area'] >= 150]  \n",
    "df = df[df['xs']  >=0 ]\n",
    "df = df[df['ys']  >=0 ]\n",
    "df = df[df['xe']  >=0 ]\n",
    "df = df[df['ye']  >=0 ]\n",
    "\n",
    "df = df.reset_index()\n",
    "##########\n",
    "\n",
    "###############\n",
    "# add intensity features\n",
    "start_index = 0\n",
    "end_index = len(df.index)\n",
    "\n",
    "datpaths = []\n",
    "imgpaths = []\n",
    "updatpaths = []\n"
   ]
  },
  {
   "cell_type": "code",
   "execution_count": null,
   "metadata": {},
   "outputs": [],
   "source": [
    "# for index in range(start_index, 1):\n",
    "for index in range(start_index, end_index):\n",
    "    df_index = df['index'][index]\n",
    "    patient_id = df['patient_id'][index]\n",
    "    stain = df['stain'][index]\n",
    "    tma_id = df['tma_id'][index]\n",
    "    unique_id = str(patient_id) + '_' + stain + '_' + str(df_index)\n",
    "\n",
    "    img_file_name = f\"{FIDIR}/images/{patient_id}/{patient_id}_{stain}_{tma_id}_{OUTPUT_SIZE}_{df_index}.png\"\n",
    "    dat_file_name = f\"{FIDIR}/files/{stain}/{patient_id}/{df_index}/0.dat\"\n",
    "    updat_file_name = f\"{FIDIR}/files/{stain}/{patient_id}/{df_index}/{unique_id}.dat\"\n",
    "\n",
    "    datpaths.append(dat_file_name)\n",
    "    imgpaths.append(img_file_name)\n",
    "    updatpaths.append(updat_file_name)\n",
    "    "
   ]
  },
  {
   "cell_type": "code",
   "execution_count": null,
   "metadata": {},
   "outputs": [],
   "source": [
    "\n",
    "import numpy as np\n",
    "import joblib\n",
    "import cv2\n",
    "from tqdm import tqdm\n",
    "\n",
    "\n",
    "def get_cell_features(celldata, image_global, saliencymap_global, original=False):\n",
    "    contour_global = np.array(celldata['contour'])\n",
    "    if original:\n",
    "        contour = contour_global\n",
    "        image = image_global\n",
    "        saliencymap = saliencymap_global\n",
    "    else:\n",
    "        img_max_coord = image_global.shape[:2][::-1]\n",
    "        # recalc from contour\n",
    "        cont_min, cont_max = np.min(contour_global, axis=0), np.max(contour_global, axis=0)\n",
    "        # add padding to allow proper saliency calc because boundary is 3 pixels\n",
    "        padding = 5\n",
    "        cont_min = np.clip(cont_min-padding, 0, img_max_coord)\n",
    "        cont_max = np.clip(cont_max+padding, 0, img_max_coord)\n",
    "\n",
    "        # inverted because array dims transpose of coordinates\n",
    "        box_min, box_max = cont_min[::-1], cont_max[::-1]\n",
    "        # filter cell if bbox is outside image dimensions\n",
    "        if contour_global.shape[0] < 5:\n",
    "            return None\n",
    "        contour = contour_global - np.expand_dims(cont_min, axis=0)\n",
    "        image = image_global[box_min[0]:box_max[0], box_min[1]:box_max[1], :]\n",
    "        saliencymap = saliencymap_global[box_min[0]:box_max[0], box_min[1]:box_max[1]]\n",
    "\n",
    "    # area\n",
    "    area = cv2.contourArea(contour)\n",
    "    # solidity\n",
    "    hull = cv2.convexHull(contour)\n",
    "    hull_area = cv2.contourArea(hull)\n",
    "    solidity = float(area)/hull_area\n",
    "    # major/minor axis len\n",
    "    (x,y),(minAxisLen,majAxisLen),angle = cv2.fitEllipse(contour)\n",
    "    perimeterLen = cv2.arcLength(contour, True)\n",
    "    # circularity\n",
    "    circularity = 4 * np.pi * area / (perimeterLen**2)\n",
    "    # eccentiricity\n",
    "    eccentiricity = np.sqrt((majAxisLen)**2 - (minAxisLen)**2) / (majAxisLen)\n",
    "    # mean intensities\n",
    "    mask = np.zeros(image[:,:,0].shape, np.uint8)\n",
    "    cv2.drawContours(mask, [contour], -1, 255, -1)\n",
    "    maskedimg = image[np.where(mask == 255)]\n",
    "    intensities = np.mean(maskedimg, axis=0)\n",
    "        \n",
    "    # intensity range\n",
    "    mins = np.min(maskedimg, axis=0)\n",
    "    maxes = np.max(maskedimg, axis=0)\n",
    "   \n",
    "    intensity_range = maxes - mins\n",
    "\n",
    "    # boundary\n",
    "    boundary = np.zeros(image[:,:,0].shape, np.uint8)\n",
    "    # currently the boundary thickness is 3 pixels\n",
    "    cv2.drawContours(boundary, [contour], -1, 255, 3)\n",
    "\n",
    "    # boundary intensity\n",
    "    boundaryimg = image[np.where(boundary == 255)]\n",
    "    boundary_intensities = np.mean(boundaryimg, axis=0)\n",
    "\n",
    "    # boundary saliency\n",
    "    boundary_saliencies = saliencymap[np.where(boundary == 255)]\n",
    "    boundary_saliency_mean = np.mean(boundary_saliencies)\n",
    "\n",
    "    # return {\n",
    "    # \t\"area\" : area,\n",
    "    # \t\"eccentiricity\" : eccentiricity,\n",
    "    # \t\"solidity\" : solidity,\n",
    "    # \t\"circularity\" : circularity,\n",
    "    # \t\"majorAxisLength\" : majAxisLen,\n",
    "    # \t\"minAxisLength\" : minAxisLen,\n",
    "    # \t\"blue_mean_intensity\" : intensities[0],\n",
    "    # \t\"green_mean_intensity\" : intensities[1],\n",
    "    # \t\"red_mean_intensity\" : intensities[2],\n",
    "    # \t\"blue_intensity_range\" : intensity_range[0],\n",
    "    # \t\"green_intensity_range\" : intensity_range[1],\n",
    "    # \t\"red_intensity_range\" : intensity_range[2],\n",
    "    # \t\"blue_boundary_intensity\" : boundary_intensities[0],\n",
    "    # \t\"green_boundary_intensity\" : boundary_intensities[1],\n",
    "    # \t\"red_boundary_intensity\" : boundary_intensities[2],\n",
    "    # \t\"boundary_saliency\" : boundary_saliency_mean,\n",
    "    # }\n",
    "\n",
    "    return np.array([\n",
    "        area,\n",
    "        eccentiricity,\n",
    "        solidity,\n",
    "        circularity,majAxisLen,\n",
    "        minAxisLen,\n",
    "        intensities[0],\n",
    "        intensities[1],\n",
    "        intensities[2],\n",
    "        intensity_range[0],\n",
    "        intensity_range[1],\n",
    "        intensity_range[2],\n",
    "        boundary_intensities[0],\n",
    "        boundary_intensities[1],\n",
    "        boundary_intensities[2],\n",
    "        boundary_saliency_mean,\n",
    "    ])\n",
    "\n",
    "saliency = cv2.saliency.StaticSaliencyFineGrained_create()\n",
    "def get_saliency_map(image):\n",
    "    _, saliencymap = saliency.computeSaliency(image)\n",
    "    return saliencymap\n",
    "\n",
    "def add_features_and_create_new_dicts(datpaths, imgpaths, updatpaths):\n",
    "    for datpath, imgpath, updatpath in zip(tqdm(datpaths), imgpaths, updatpaths):\n",
    "        celldata_dict = joblib.load(datpath)\n",
    "        celldata_list = [(k, v) for k, v in celldata_dict.items()]\n",
    "        # celldata_list = celldata_list[:100]\n",
    "\n",
    "        image = cv2.imread(imgpath)\n",
    "        saliencymap = get_saliency_map(image)\n",
    "\n",
    "        cellfeat_list = joblib.Parallel(4)(\n",
    "            joblib.delayed(get_cell_features)(celldata, image, saliencymap)\n",
    "            for _, celldata in tqdm(celldata_list, disable=True)\n",
    "        )\n",
    "        # cellfeat_list = [\n",
    "        #     get_cell_features(celldata, image, saliencymap)\n",
    "        #     for _, celldata in tqdm(celldata_list, disable=True)\n",
    "        # ]\n",
    "\n",
    "        cellfeat_list_temp = [x for x in cellfeat_list if x is not None]\n",
    "        valid_cells_n = len(cellfeat_list_temp)\n",
    "        total_cells_n = len(cellfeat_list)\n",
    "        valid_cell_frac = (valid_cells_n/total_cells_n)\n",
    "        \n",
    "        if valid_cell_frac < 1.0:\n",
    "            print('updatpath:', updatpath)\n",
    "            print('datpath:', datpath)\n",
    "            print('imgpath:', imgpath)\n",
    "            print(f'valid_cells_frac {valid_cell_frac} = 1-{total_cells_n-valid_cells_n}/{total_cells_n}')\n",
    "\n",
    "        celldatanew_dict = {\n",
    "            k: {**v, 'intensity_feats': feats}\n",
    "            for (k, v), feats in zip(celldata_list, cellfeat_list)\n",
    "            if feats is not None\n",
    "        }\n",
    "        joblib.dump(celldatanew_dict, updatpath)\n",
    "        "
   ]
  },
  {
   "cell_type": "code",
   "execution_count": 8,
   "metadata": {},
   "outputs": [
    {
     "name": "stderr",
     "output_type": "stream",
     "text": [
      " 91%|█████████▏| 333/364 [18:26<01:49,  3.52s/it]"
     ]
    },
    {
     "name": "stdout",
     "output_type": "stream",
     "text": [
      "updatpath: /home/amrit/data/proj_data/MLG_project/DLBCL-Morph/outputs/files/MYC/13981/2615/13981_MYC_2615.dat\n",
      "datpath: /home/amrit/data/proj_data/MLG_project/DLBCL-Morph/outputs/files/MYC/13981/2615/0.dat\n",
      "imgpath: /home/amrit/data/proj_data/MLG_project/DLBCL-Morph/outputs/images/13981/13981_MYC_TA234_1792_2615.png\n",
      "valid_cells_frac 0.9998890614599512 = 1-1/9014\n"
     ]
    },
    {
     "name": "stderr",
     "output_type": "stream",
     "text": [
      "100%|██████████| 364/364 [20:13<00:00,  3.33s/it]\n"
     ]
    },
    {
     "name": "stdout",
     "output_type": "stream",
     "text": [
      "Building global cell feature normalizer\n"
     ]
    }
   ],
   "source": [
    "# 20 minutes\n",
    "\n",
    "# shutil.rmtree(FEATSDIR)\n",
    "# if not osp.exists(FEATSDIR):\n",
    "#     os.makedirs(FEATSDIR)\n",
    "add_features_and_create_new_dicts(datpaths, imgpaths, updatpaths)\n",
    "###############\n",
    "\n",
    "# get all cell features in all datapoints and get normalization stats\n",
    "print('Building global cell feature normalizer')\n",
    "from sklearn.preprocessing import StandardScaler\n",
    "from tqdm import tqdm\n",
    "import joblib\n",
    "import numpy as np"
   ]
  },
  {
   "cell_type": "code",
   "execution_count": null,
   "metadata": {},
   "outputs": [],
   "source": [
    "# 4 minutes\n",
    "gns = StandardScaler()\n",
    "for featpath in tqdm(updatpaths):\n",
    "    # print(featpath)\n",
    "    celldatadict = joblib.load(featpath)\n",
    "    cellsfeats = np.array([v['intensity_feats'] for k, v in celldatadict.items()])\n",
    "    gns.partial_fit(cellsfeats)"
   ]
  },
  {
   "cell_type": "code",
   "execution_count": 10,
   "metadata": {},
   "outputs": [
    {
     "data": {
      "text/plain": [
       "'/home/amrit/data/proj_data/MLG_project/DLBCL-Morph/outputs/files/MYC/0_feat_scaler.npz'"
      ]
     },
     "execution_count": 10,
     "metadata": {},
     "output_type": "execute_result"
    }
   ],
   "source": [
    "FEATSCALERPATH"
   ]
  },
  {
   "cell_type": "code",
   "execution_count": 11,
   "metadata": {},
   "outputs": [],
   "source": [
    "np.savez(FEATSCALERPATH, mean=gns.mean_, var=gns.var_)\n",
    "\n",
    "# dd = np.load(FEATSCALERPATH)\n",
    "# print(dd['mean'], gns.mean_)\n",
    "# print(dd['var'], gns.var_)\n"
   ]
  },
  {
   "cell_type": "code",
   "execution_count": 97,
   "metadata": {},
   "outputs": [],
   "source": []
  },
  {
   "cell_type": "code",
   "execution_count": 126,
   "metadata": {},
   "outputs": [],
   "source": [
    "\n",
    "import pandas as pd\n",
    "import os\n",
    "import shutil\n",
    "from os import path as osp\n",
    "from src.intensity import add_features_and_create_new_dicts\n",
    "\n",
    "\n",
    "BASEDIR = '/home/amrit/data/proj_data/MLG_project/DLBCL-Morph'\n",
    "\n",
    "\n",
    "STAIN = 'MYC'\n",
    "FIDIR = f'{BASEDIR}/outputs'\n",
    "CLINPATH = f'{BASEDIR}/clinical_data_cleaned.csv'\n",
    "ANNPATH = f'{BASEDIR}/annotations_clean.csv'\n",
    "FEATSDIR = f'{BASEDIR}/outputs/files/{STAIN}'\n",
    "FEATSCALERPATH = f\"{FEATSDIR}/0_feat_scaler.npz\"\n",
    "# PATCH_SIZE = 224\n",
    "# OUTPUT_SIZE = PATCH_SIZE*8\n",
    "\n",
    "\n",
    "GRAPHSDIR = f'{BASEDIR}/graphs'\n",
    "LABELSPATH = f'{BASEDIR}/graphs/0_labels.json'\n",
    "PATCH_SIZE = 300\n",
    "SKEW_NOISE = 0.0001\n",
    "MIN_CELLS_PER_PATCH = 2\n",
    "CONNECTIVITY_DISTANCE = 500\n",
    "\n",
    "global_patch_stats = []\n",
    "\n",
    "# divide into quantiles\n",
    "df = pd.read_csv(CLINPATH)\n",
    "df_labels = get_pids_labels_for_key(df, key='OS', nclasses=3)\n",
    "\n",
    "# # save paths\n",
    "# featpaths = np.sort(glob.glob(f'{FEATSDIR}/**/*.dat', recursive=True)) #np.sort(glob.glob(f'{FEATSDIR}/*.dat'))\n",
    "# featpaths = [x if \"/0.dat\" not in x for x in featpaths]\n",
    "featpaths = np.sort(glob.glob(f'{FEATSDIR}/**/*.dat', recursive=True)) #np.sort(glob.glob(f'{FEATSDIR}/*.dat'))\n",
    "featpaths = [x for x in featpaths if (\"/0.dat\" not in x) and (\"/file_map.dat\" not in x)]\n",
    "featpaths\n",
    "pids = [int(osp.basename(featpath).split('_')[0]) for featpath in featpaths]\n",
    "df_featpaths = pd.DataFrame(zip(pids, featpaths), columns=['patient_id', 'featpath'])\n",
    "\n",
    "# merge to find datapoints with graph data and labels\n",
    "df_data = df_featpaths.merge(df_labels, on='patient_id')\n",
    "# df_data = df_data[:12]\n",
    "\n",
    "featpaths_data = df_data['featpath'].to_list()\n",
    "labels_data = df_data['OS_class'].to_list()\n",
    "outgraphpaths_data = [f\"{GRAPHSDIR}/{osp.basename(featpath).split('.')[0]}.json\" for featpath in featpaths_data]\n",
    "\n",
    "# save labels\n",
    "labels_dict = {osp.basename(graphpath): label for graphpath, label in zip(outgraphpaths_data, labels_data)}\n",
    "with open(LABELSPATH, 'w') as f:\n",
    "    json.dump(labels_dict, f)\n",
    "\n"
   ]
  },
  {
   "cell_type": "code",
   "execution_count": 127,
   "metadata": {},
   "outputs": [
    {
     "data": {
      "text/plain": [
       "'/home/amrit/data/proj_data/MLG_project/DLBCL-Morph/graphs/0_labels.json'"
      ]
     },
     "execution_count": 127,
     "metadata": {},
     "output_type": "execute_result"
    }
   ],
   "source": [
    "LABELSPATH"
   ]
  },
  {
   "cell_type": "code",
   "execution_count": 115,
   "metadata": {},
   "outputs": [
    {
     "name": "stderr",
     "output_type": "stream",
     "text": [
      "  0%|          | 0/319 [00:00<?, ?it/s]"
     ]
    },
    {
     "name": "stderr",
     "output_type": "stream",
     "text": [
      "100%|██████████| 319/319 [01:02<00:00,  5.13it/s]\n"
     ]
    }
   ],
   "source": [
    "\n",
    "# read normalizer stats from file and pass to fn\n",
    "dd = np.load(FEATSCALERPATH)\n",
    "cell_feat_norm_stats = (dd['mean'], dd['var'])\n",
    "\n",
    "# create final graphs data\n",
    "# shutil.rmtree(GRAPHSDIR)\n",
    "if not osp.exists(GRAPHSDIR):\n",
    "    os.makedirs(GRAPHSDIR)\n",
    "    create_graph_with_pooled_patch_nodes(\n",
    "        featpaths_data,\n",
    "        labels_data,\n",
    "        outgraphpaths_data,\n",
    "        PATCH_SIZE,\n",
    "        cell_feat_norm_stats=cell_feat_norm_stats,\n",
    "    )\n",
    "\n",
    "    # wont work in parallel mode\n",
    "    # print(np.mean(global_patch_stats), np.std(global_patch_stats))"
   ]
  },
  {
   "cell_type": "code",
   "execution_count": null,
   "metadata": {},
   "outputs": [],
   "source": []
  },
  {
   "cell_type": "code",
   "execution_count": 152,
   "metadata": {},
   "outputs": [],
   "source": [
    "\n",
    "ON_GPU = False\n",
    "\n",
    "device = select_device(on_gpu=ON_GPU)\n",
    "\n",
    "SEED = 5\n",
    "random.seed(SEED)\n",
    "rng = np.random.default_rng(SEED)\n",
    "torch.manual_seed(SEED)\n",
    "torch.cuda.manual_seed(SEED)\n",
    "\n",
    "\n",
    "BASEDIR = '/home/amrit/data/proj_data/MLG_project/DLBCL-Morph'\n",
    "\n",
    "\n",
    "STAIN = 'MYC'\n",
    "FIDIR = f'{BASEDIR}/outputs'\n",
    "CLINPATH = f'{BASEDIR}/clinical_data_cleaned.csv'\n",
    "ANNPATH = f'{BASEDIR}/annotations_clean.csv'\n",
    "FEATSDIR = f'{BASEDIR}/outputs/files/{STAIN}'\n",
    "FEATSCALERPATH = f\"{FEATSDIR}/0_feat_scaler.npz\"\n",
    "# PATCH_SIZE = 224\n",
    "# OUTPUT_SIZE = PATCH_SIZE*8\n",
    "\n",
    "WORKSPACE_DIR = Path(BASEDIR)\n",
    "GRAPH_DIR = WORKSPACE_DIR / \"graphs\"\n",
    "LABELS_PATH = WORKSPACE_DIR / \"graphs/0_labels.txt\"\n",
    "\n",
    "# GRAPHSDIR = f'{BASEDIR}/graphs'\n",
    "# LABELSPATH = f'{BASEDIR}/graphs/0_labels.json'\n",
    "PATCH_SIZE = 300\n",
    "SKEW_NOISE = 0.0001\n",
    "MIN_CELLS_PER_PATCH = 2\n",
    "CONNECTIVITY_DISTANCE = 500\n",
    "\n",
    "\n",
    "# WORKSPACE_DIR = Path(\"./workspace/ours\")\n",
    "# GRAPH_DIR = WORKSPACE_DIR / \"graphs\"\n",
    "# LABELS_PATH = WORKSPACE_DIR / \"graphs/0_labels.txt\"\n",
    "NUM_EPOCHS = 100\n",
    "NUM_NODE_FEATURES = 128\n",
    "NCLASSES = 3\n",
    "\n",
    "# TRAIN_DIR = BASEDIR + \"/training\"\n",
    "# SPLIT_PATH = TRAIN_DIR + \"/splits.dat\"\n",
    "# RUN_OUTPUT_DIR = TRAIN_DIR + f\"/session_{datetime.now().strftime('%m_%d_%H_%M_%S')}\"\n",
    "# # os.mkdir(TRAIN_DIR)\n",
    "# # os.mkdir(RUN_OUTPUT_DIR)\n",
    "TRAIN_DIR = WORKSPACE_DIR / \"training\"\n",
    "SPLIT_PATH = TRAIN_DIR / \"splits.dat\"\n",
    "RUN_OUTPUT_DIR = TRAIN_DIR / f\"session_{datetime.now().strftime('%m_%d_%H_%M_%S')}\"\n",
    "RUN_OUTPUT_DIR.mkdir(parents=True, exist_ok=True)\n",
    "MODEL_DIR = RUN_OUTPUT_DIR / \"model\"\n",
    "\n",
    "# MODEL_DIR = RUN_OUTPUT_DIR + \"/model\""
   ]
  },
  {
   "cell_type": "code",
   "execution_count": 153,
   "metadata": {},
   "outputs": [
    {
     "data": {
      "text/plain": [
       "'/home/amrit/data/proj_data/MLG_project/DLBCL-Morph/graphs'"
      ]
     },
     "execution_count": 153,
     "metadata": {},
     "output_type": "execute_result"
    }
   ],
   "source": [
    "GRAPHSDIR"
   ]
  },
  {
   "cell_type": "code",
   "execution_count": 154,
   "metadata": {},
   "outputs": [
    {
     "data": {
      "text/plain": [
       "(320, 320)"
      ]
     },
     "execution_count": 154,
     "metadata": {},
     "output_type": "execute_result"
    }
   ],
   "source": [
    "wsi_paths = recur_find_ext(GRAPHSDIR, [\".json\"])\n",
    "wsi_names = [Path(v).stem for v in wsi_paths]\n",
    "assert len(wsi_paths) > 0, \"No files found.\"  # noqa: S101\n",
    "\n",
    "len(wsi_paths) , len(wsi_names)"
   ]
  },
  {
   "cell_type": "code",
   "execution_count": 155,
   "metadata": {},
   "outputs": [],
   "source": [
    "NUM_FOLDS = 1\n",
    "TEST_RATIO = 0.2\n",
    "TRAIN_RATIO = 0.8 * 0.7\n",
    "VALID_RATIO = 0.8 * 0.3\n",
    "\n",
    "if SPLIT_PATH and os.path.exists(SPLIT_PATH):\n",
    "    splits = joblib.load(SPLIT_PATH)\n",
    "else:\n",
    "    x = np.array(wsi_names)\n",
    "    with open(LABELSPATH, 'r') as f:\n",
    "        labels_dict = json.load(f)\n",
    "    print(labels_dict)\n",
    "    y = np.array([labels_dict[wsi_name+'.json'] for wsi_name in wsi_names])\n",
    "    splits = stratified_split(x, y, TRAIN_RATIO, VALID_RATIO, TEST_RATIO, NUM_FOLDS)\n",
    "    joblib.dump(splits, SPLIT_PATH)\n"
   ]
  },
  {
   "cell_type": "code",
   "execution_count": 175,
   "metadata": {},
   "outputs": [
    {
     "name": "stderr",
     "output_type": "stream",
     "text": [
      "|2023-11-20|23:25:28.051| [INFO] EPOCH: 000\n"
     ]
    },
    {
     "name": "stdout",
     "output_type": "stream",
     "text": [
      "SlideGraphArch(\n",
      "  (first_h): Sequential(\n",
      "    (0): Linear(in_features=128, out_features=64, bias=True)\n",
      "    (1): BatchNorm1d(64, eps=1e-05, momentum=0.1, affine=True, track_running_stats=True)\n",
      "    (2): ReLU()\n",
      "  )\n",
      "  (nns): ModuleList(\n",
      "    (0): Sequential(\n",
      "      (0): Linear(in_features=128, out_features=32, bias=True)\n",
      "      (1): BatchNorm1d(32, eps=1e-05, momentum=0.1, affine=True, track_running_stats=True)\n",
      "      (2): ReLU()\n",
      "    )\n",
      "    (1): Sequential(\n",
      "      (0): Linear(in_features=64, out_features=8, bias=True)\n",
      "      (1): BatchNorm1d(8, eps=1e-05, momentum=0.1, affine=True, track_running_stats=True)\n",
      "      (2): ReLU()\n",
      "    )\n",
      "  )\n",
      "  (convs): ModuleList(\n",
      "    (0): EdgeConv(nn=Sequential(\n",
      "      (0): Linear(in_features=128, out_features=32, bias=True)\n",
      "      (1): BatchNorm1d(32, eps=1e-05, momentum=0.1, affine=True, track_running_stats=True)\n",
      "      (2): ReLU()\n",
      "    ))\n",
      "    (1): EdgeConv(nn=Sequential(\n",
      "      (0): Linear(in_features=64, out_features=8, bias=True)\n",
      "      (1): BatchNorm1d(8, eps=1e-05, momentum=0.1, affine=True, track_running_stats=True)\n",
      "      (2): ReLU()\n",
      "    ))\n",
      "  )\n",
      "  (linears): ModuleList(\n",
      "    (0): Linear(in_features=64, out_features=3, bias=True)\n",
      "    (1): Linear(in_features=32, out_features=3, bias=True)\n",
      "    (2): Linear(in_features=8, out_features=3, bias=True)\n",
      "  )\n",
      ")\n"
     ]
    },
    {
     "name": "stderr",
     "output_type": "stream",
     "text": [
      "  0%|          | 0/7 [00:00<?, ?it/s]"
     ]
    },
    {
     "name": "stderr",
     "output_type": "stream",
     "text": [
      "100%|██████████| 7/7 [00:00<00:00, 13.30it/s]\n",
      "|2023-11-20|23:25:28.580| [INFO] train-EMA-loss: 1.325166\n",
      "|2023-11-20|23:25:28.960| [INFO] infer-train-accuracy: 0.331878\n",
      "|2023-11-20|23:25:29.204| [INFO] infer-valid-A-accuracy: 0.346154\n",
      "|2023-11-20|23:25:29.497| [INFO] infer-valid-B-accuracy: 0.343750\n",
      "|2023-11-20|23:25:29.721| [INFO] EPOCH: 001\n"
     ]
    },
    {
     "name": "stdout",
     "output_type": "stream",
     "text": [
      "best_score {'infer-train-accuracy': 0, 'infer-valid-A-accuracy': 0, 'infer-valid-B-accuracy': 0}\n"
     ]
    },
    {
     "name": "stderr",
     "output_type": "stream",
     "text": [
      "100%|██████████| 7/7 [00:00<00:00, 13.88it/s]\n",
      "|2023-11-20|23:25:30.228| [INFO] train-EMA-loss: 1.079468\n",
      "|2023-11-20|23:25:30.640| [INFO] infer-train-accuracy: 0.371179\n",
      "|2023-11-20|23:25:30.881| [INFO] infer-valid-A-accuracy: 0.346154\n",
      "|2023-11-20|23:25:31.155| [INFO] infer-valid-B-accuracy: 0.359375\n",
      "|2023-11-20|23:25:31.382| [INFO] EPOCH: 002\n"
     ]
    },
    {
     "name": "stdout",
     "output_type": "stream",
     "text": [
      "best_score {'infer-train-accuracy': 0.37117903930131, 'infer-valid-A-accuracy': 0.34615384615384615, 'infer-valid-B-accuracy': 0.359375}\n"
     ]
    },
    {
     "name": "stderr",
     "output_type": "stream",
     "text": [
      "100%|██████████| 7/7 [00:00<00:00, 13.76it/s]\n",
      "|2023-11-20|23:25:31.894| [INFO] train-EMA-loss: 1.071944\n",
      "|2023-11-20|23:25:32.325| [INFO] infer-train-accuracy: 0.436681\n",
      "|2023-11-20|23:25:32.564| [INFO] infer-valid-A-accuracy: 0.500000\n",
      "|2023-11-20|23:25:32.830| [INFO] infer-valid-B-accuracy: 0.390625\n",
      "|2023-11-20|23:25:33.062| [INFO] EPOCH: 003\n"
     ]
    },
    {
     "name": "stdout",
     "output_type": "stream",
     "text": [
      "best_score {'infer-train-accuracy': 0.4366812227074236, 'infer-valid-A-accuracy': 0.5, 'infer-valid-B-accuracy': 0.390625}\n"
     ]
    },
    {
     "name": "stderr",
     "output_type": "stream",
     "text": [
      "100%|██████████| 7/7 [00:00<00:00, 13.64it/s]\n",
      "|2023-11-20|23:25:33.578| [INFO] train-EMA-loss: 1.082588\n",
      "|2023-11-20|23:25:33.955| [INFO] infer-train-accuracy: 0.441048\n",
      "|2023-11-20|23:25:34.190| [INFO] infer-valid-A-accuracy: 0.423077\n",
      "|2023-11-20|23:25:34.458| [INFO] infer-valid-B-accuracy: 0.375000\n",
      "|2023-11-20|23:25:34.681| [INFO] EPOCH: 004\n"
     ]
    },
    {
     "name": "stdout",
     "output_type": "stream",
     "text": [
      "best_score {'infer-train-accuracy': 0.4410480349344978, 'infer-valid-A-accuracy': 0.5, 'infer-valid-B-accuracy': 0.390625}\n"
     ]
    },
    {
     "name": "stderr",
     "output_type": "stream",
     "text": [
      "100%|██████████| 7/7 [00:00<00:00, 14.01it/s]\n",
      "|2023-11-20|23:25:35.182| [INFO] train-EMA-loss: 1.073682\n",
      "|2023-11-20|23:25:35.546| [INFO] infer-train-accuracy: 0.458515\n",
      "|2023-11-20|23:25:35.789| [INFO] infer-valid-A-accuracy: 0.423077\n",
      "|2023-11-20|23:25:36.064| [INFO] infer-valid-B-accuracy: 0.437500\n",
      "|2023-11-20|23:25:36.293| [INFO] EPOCH: 005\n"
     ]
    },
    {
     "name": "stdout",
     "output_type": "stream",
     "text": [
      "best_score {'infer-train-accuracy': 0.4585152838427948, 'infer-valid-A-accuracy': 0.5, 'infer-valid-B-accuracy': 0.4375}\n"
     ]
    },
    {
     "name": "stderr",
     "output_type": "stream",
     "text": [
      "100%|██████████| 7/7 [00:00<00:00, 14.44it/s]\n",
      "|2023-11-20|23:25:36.780| [INFO] train-EMA-loss: 1.054355\n",
      "|2023-11-20|23:25:37.150| [INFO] infer-train-accuracy: 0.458515\n",
      "|2023-11-20|23:25:37.385| [INFO] infer-valid-A-accuracy: 0.384615\n",
      "|2023-11-20|23:25:37.679| [INFO] infer-valid-B-accuracy: 0.500000\n",
      "|2023-11-20|23:25:37.925| [INFO] EPOCH: 006\n"
     ]
    },
    {
     "name": "stdout",
     "output_type": "stream",
     "text": [
      "best_score {'infer-train-accuracy': 0.4585152838427948, 'infer-valid-A-accuracy': 0.5, 'infer-valid-B-accuracy': 0.5}\n"
     ]
    },
    {
     "name": "stderr",
     "output_type": "stream",
     "text": [
      "100%|██████████| 7/7 [00:00<00:00, 14.03it/s]\n",
      "|2023-11-20|23:25:38.426| [INFO] train-EMA-loss: 1.044093\n",
      "|2023-11-20|23:25:38.821| [INFO] infer-train-accuracy: 0.458515\n",
      "|2023-11-20|23:25:39.059| [INFO] infer-valid-A-accuracy: 0.346154\n",
      "|2023-11-20|23:25:39.329| [INFO] infer-valid-B-accuracy: 0.500000\n",
      "|2023-11-20|23:25:39.558| [INFO] EPOCH: 007\n"
     ]
    },
    {
     "name": "stdout",
     "output_type": "stream",
     "text": [
      "best_score {'infer-train-accuracy': 0.4585152838427948, 'infer-valid-A-accuracy': 0.5, 'infer-valid-B-accuracy': 0.5}\n"
     ]
    },
    {
     "name": "stderr",
     "output_type": "stream",
     "text": [
      "100%|██████████| 7/7 [00:00<00:00, 13.24it/s]\n",
      "|2023-11-20|23:25:40.089| [INFO] train-EMA-loss: 1.009699\n",
      "|2023-11-20|23:25:40.493| [INFO] infer-train-accuracy: 0.449782\n",
      "|2023-11-20|23:25:40.744| [INFO] infer-valid-A-accuracy: 0.346154\n",
      "|2023-11-20|23:25:41.022| [INFO] infer-valid-B-accuracy: 0.500000\n",
      "|2023-11-20|23:25:41.253| [INFO] EPOCH: 008\n"
     ]
    },
    {
     "name": "stdout",
     "output_type": "stream",
     "text": [
      "best_score {'infer-train-accuracy': 0.4585152838427948, 'infer-valid-A-accuracy': 0.5, 'infer-valid-B-accuracy': 0.5}\n"
     ]
    },
    {
     "name": "stderr",
     "output_type": "stream",
     "text": [
      "100%|██████████| 7/7 [00:00<00:00, 14.26it/s]\n",
      "|2023-11-20|23:25:41.746| [INFO] train-EMA-loss: 1.091335\n",
      "|2023-11-20|23:25:42.115| [INFO] infer-train-accuracy: 0.449782\n",
      "|2023-11-20|23:25:42.357| [INFO] infer-valid-A-accuracy: 0.346154\n",
      "|2023-11-20|23:25:42.621| [INFO] infer-valid-B-accuracy: 0.484375\n",
      "|2023-11-20|23:25:42.857| [INFO] EPOCH: 009\n"
     ]
    },
    {
     "name": "stdout",
     "output_type": "stream",
     "text": [
      "best_score {'infer-train-accuracy': 0.4585152838427948, 'infer-valid-A-accuracy': 0.5, 'infer-valid-B-accuracy': 0.5}\n"
     ]
    },
    {
     "name": "stderr",
     "output_type": "stream",
     "text": [
      "100%|██████████| 7/7 [00:00<00:00, 14.84it/s]\n",
      "|2023-11-20|23:25:43.331| [INFO] train-EMA-loss: 1.013423\n",
      "|2023-11-20|23:25:43.719| [INFO] infer-train-accuracy: 0.445415\n",
      "|2023-11-20|23:25:43.974| [INFO] infer-valid-A-accuracy: 0.307692\n",
      "|2023-11-20|23:25:44.243| [INFO] infer-valid-B-accuracy: 0.484375\n",
      "|2023-11-20|23:25:44.465| [INFO] EPOCH: 010\n"
     ]
    },
    {
     "name": "stdout",
     "output_type": "stream",
     "text": [
      "best_score {'infer-train-accuracy': 0.4585152838427948, 'infer-valid-A-accuracy': 0.5, 'infer-valid-B-accuracy': 0.5}\n"
     ]
    },
    {
     "name": "stderr",
     "output_type": "stream",
     "text": [
      "100%|██████████| 7/7 [00:00<00:00, 12.18it/s]\n",
      "|2023-11-20|23:25:45.042| [INFO] train-EMA-loss: 1.036611\n",
      "|2023-11-20|23:25:45.443| [INFO] infer-train-accuracy: 0.449782\n",
      "|2023-11-20|23:25:45.696| [INFO] infer-valid-A-accuracy: 0.307692\n",
      "|2023-11-20|23:25:45.976| [INFO] infer-valid-B-accuracy: 0.484375\n",
      "|2023-11-20|23:25:46.213| [INFO] EPOCH: 011\n"
     ]
    },
    {
     "name": "stdout",
     "output_type": "stream",
     "text": [
      "best_score {'infer-train-accuracy': 0.4585152838427948, 'infer-valid-A-accuracy': 0.5, 'infer-valid-B-accuracy': 0.5}\n"
     ]
    },
    {
     "name": "stderr",
     "output_type": "stream",
     "text": [
      "100%|██████████| 7/7 [00:00<00:00, 12.55it/s]\n",
      "|2023-11-20|23:25:46.773| [INFO] train-EMA-loss: 0.940360\n",
      "|2023-11-20|23:25:47.186| [INFO] infer-train-accuracy: 0.462882\n",
      "|2023-11-20|23:25:47.444| [INFO] infer-valid-A-accuracy: 0.307692\n",
      "|2023-11-20|23:25:47.716| [INFO] infer-valid-B-accuracy: 0.500000\n",
      "|2023-11-20|23:25:47.995| [INFO] EPOCH: 012\n"
     ]
    },
    {
     "name": "stdout",
     "output_type": "stream",
     "text": [
      "best_score {'infer-train-accuracy': 0.462882096069869, 'infer-valid-A-accuracy': 0.5, 'infer-valid-B-accuracy': 0.5}\n"
     ]
    },
    {
     "name": "stderr",
     "output_type": "stream",
     "text": [
      "100%|██████████| 7/7 [00:00<00:00, 11.35it/s]\n",
      "|2023-11-20|23:25:48.614| [INFO] train-EMA-loss: 0.899363\n",
      "|2023-11-20|23:25:49.077| [INFO] infer-train-accuracy: 0.480349\n",
      "|2023-11-20|23:25:49.342| [INFO] infer-valid-A-accuracy: 0.384615\n",
      "|2023-11-20|23:25:49.653| [INFO] infer-valid-B-accuracy: 0.468750\n",
      "|2023-11-20|23:25:49.936| [INFO] EPOCH: 013\n"
     ]
    },
    {
     "name": "stdout",
     "output_type": "stream",
     "text": [
      "best_score {'infer-train-accuracy': 0.48034934497816595, 'infer-valid-A-accuracy': 0.5, 'infer-valid-B-accuracy': 0.5}\n"
     ]
    },
    {
     "name": "stderr",
     "output_type": "stream",
     "text": [
      "100%|██████████| 7/7 [00:00<00:00, 11.40it/s]\n",
      "|2023-11-20|23:25:50.553| [INFO] train-EMA-loss: 0.867590\n",
      "|2023-11-20|23:25:50.976| [INFO] infer-train-accuracy: 0.493450\n",
      "|2023-11-20|23:25:51.236| [INFO] infer-valid-A-accuracy: 0.461538\n",
      "|2023-11-20|23:25:51.514| [INFO] infer-valid-B-accuracy: 0.484375\n",
      "|2023-11-20|23:25:51.748| [INFO] EPOCH: 014\n"
     ]
    },
    {
     "name": "stdout",
     "output_type": "stream",
     "text": [
      "best_score {'infer-train-accuracy': 0.49344978165938863, 'infer-valid-A-accuracy': 0.5, 'infer-valid-B-accuracy': 0.5}\n"
     ]
    },
    {
     "name": "stderr",
     "output_type": "stream",
     "text": [
      "100%|██████████| 7/7 [00:00<00:00, 13.69it/s]\n",
      "|2023-11-20|23:25:52.263| [INFO] train-EMA-loss: 0.877987\n",
      "|2023-11-20|23:25:52.674| [INFO] infer-train-accuracy: 0.510917\n",
      "|2023-11-20|23:25:52.931| [INFO] infer-valid-A-accuracy: 0.538462\n",
      "|2023-11-20|23:25:53.237| [INFO] infer-valid-B-accuracy: 0.500000\n",
      "|2023-11-20|23:25:53.478| [INFO] EPOCH: 015\n"
     ]
    },
    {
     "name": "stdout",
     "output_type": "stream",
     "text": [
      "best_score {'infer-train-accuracy': 0.5109170305676856, 'infer-valid-A-accuracy': 0.5384615384615384, 'infer-valid-B-accuracy': 0.5}\n"
     ]
    },
    {
     "name": "stderr",
     "output_type": "stream",
     "text": [
      "100%|██████████| 7/7 [00:00<00:00, 12.80it/s]\n",
      "|2023-11-20|23:25:54.028| [INFO] train-EMA-loss: 0.964665\n",
      "|2023-11-20|23:25:54.422| [INFO] infer-train-accuracy: 0.532751\n",
      "|2023-11-20|23:25:54.712| [INFO] infer-valid-A-accuracy: 0.538462\n",
      "|2023-11-20|23:25:55.017| [INFO] infer-valid-B-accuracy: 0.515625\n",
      "|2023-11-20|23:25:55.258| [INFO] EPOCH: 016\n"
     ]
    },
    {
     "name": "stdout",
     "output_type": "stream",
     "text": [
      "best_score {'infer-train-accuracy': 0.5327510917030568, 'infer-valid-A-accuracy': 0.5384615384615384, 'infer-valid-B-accuracy': 0.515625}\n"
     ]
    },
    {
     "name": "stderr",
     "output_type": "stream",
     "text": [
      "100%|██████████| 7/7 [00:00<00:00, 13.18it/s]\n",
      "|2023-11-20|23:25:55.791| [INFO] train-EMA-loss: 0.943813\n",
      "|2023-11-20|23:25:56.185| [INFO] infer-train-accuracy: 0.537118\n",
      "|2023-11-20|23:25:56.454| [INFO] infer-valid-A-accuracy: 0.500000\n",
      "|2023-11-20|23:25:56.732| [INFO] infer-valid-B-accuracy: 0.484375\n",
      "|2023-11-20|23:25:56.987| [INFO] EPOCH: 017\n"
     ]
    },
    {
     "name": "stdout",
     "output_type": "stream",
     "text": [
      "best_score {'infer-train-accuracy': 0.537117903930131, 'infer-valid-A-accuracy': 0.5384615384615384, 'infer-valid-B-accuracy': 0.515625}\n"
     ]
    },
    {
     "name": "stderr",
     "output_type": "stream",
     "text": [
      "100%|██████████| 7/7 [00:00<00:00, 13.72it/s]\n",
      "|2023-11-20|23:25:57.499| [INFO] train-EMA-loss: 1.047347\n",
      "|2023-11-20|23:25:57.905| [INFO] infer-train-accuracy: 0.545852\n",
      "|2023-11-20|23:25:58.164| [INFO] infer-valid-A-accuracy: 0.500000\n",
      "|2023-11-20|23:25:58.450| [INFO] infer-valid-B-accuracy: 0.500000\n",
      "|2023-11-20|23:25:58.695| [INFO] EPOCH: 018\n"
     ]
    },
    {
     "name": "stdout",
     "output_type": "stream",
     "text": [
      "best_score {'infer-train-accuracy': 0.5458515283842795, 'infer-valid-A-accuracy': 0.5384615384615384, 'infer-valid-B-accuracy': 0.515625}\n"
     ]
    },
    {
     "name": "stderr",
     "output_type": "stream",
     "text": [
      "100%|██████████| 7/7 [00:00<00:00, 12.80it/s]\n",
      "|2023-11-20|23:25:59.244| [INFO] train-EMA-loss: 0.923699\n",
      "|2023-11-20|23:25:59.650| [INFO] infer-train-accuracy: 0.585153\n",
      "|2023-11-20|23:25:59.894| [INFO] infer-valid-A-accuracy: 0.538462\n",
      "|2023-11-20|23:26:00.176| [INFO] infer-valid-B-accuracy: 0.515625\n",
      "|2023-11-20|23:26:00.418| [INFO] EPOCH: 019\n"
     ]
    },
    {
     "name": "stdout",
     "output_type": "stream",
     "text": [
      "best_score {'infer-train-accuracy': 0.5851528384279476, 'infer-valid-A-accuracy': 0.5384615384615384, 'infer-valid-B-accuracy': 0.515625}\n"
     ]
    },
    {
     "name": "stderr",
     "output_type": "stream",
     "text": [
      "100%|██████████| 7/7 [00:00<00:00, 12.97it/s]\n",
      "|2023-11-20|23:26:00.960| [INFO] train-EMA-loss: 0.944184\n",
      "|2023-11-20|23:26:01.325| [INFO] infer-train-accuracy: 0.598253\n",
      "|2023-11-20|23:26:01.568| [INFO] infer-valid-A-accuracy: 0.500000\n",
      "|2023-11-20|23:26:01.874| [INFO] infer-valid-B-accuracy: 0.500000\n",
      "|2023-11-20|23:26:02.118| [INFO] EPOCH: 020\n"
     ]
    },
    {
     "name": "stdout",
     "output_type": "stream",
     "text": [
      "best_score {'infer-train-accuracy': 0.5982532751091703, 'infer-valid-A-accuracy': 0.5384615384615384, 'infer-valid-B-accuracy': 0.515625}\n"
     ]
    },
    {
     "name": "stderr",
     "output_type": "stream",
     "text": [
      "100%|██████████| 7/7 [00:00<00:00, 13.40it/s]\n",
      "|2023-11-20|23:26:02.644| [INFO] train-EMA-loss: 0.887240\n",
      "|2023-11-20|23:26:03.104| [INFO] infer-train-accuracy: 0.606987\n",
      "|2023-11-20|23:26:03.347| [INFO] infer-valid-A-accuracy: 0.423077\n",
      "|2023-11-20|23:26:03.661| [INFO] infer-valid-B-accuracy: 0.453125\n",
      "|2023-11-20|23:26:03.950| [INFO] EPOCH: 021\n"
     ]
    },
    {
     "name": "stdout",
     "output_type": "stream",
     "text": [
      "best_score {'infer-train-accuracy': 0.6069868995633187, 'infer-valid-A-accuracy': 0.5384615384615384, 'infer-valid-B-accuracy': 0.515625}\n"
     ]
    },
    {
     "name": "stderr",
     "output_type": "stream",
     "text": [
      "100%|██████████| 7/7 [00:00<00:00, 13.61it/s]\n",
      "|2023-11-20|23:26:04.467| [INFO] train-EMA-loss: 0.893046\n",
      "|2023-11-20|23:26:04.859| [INFO] infer-train-accuracy: 0.606987\n",
      "|2023-11-20|23:26:05.123| [INFO] infer-valid-A-accuracy: 0.423077\n",
      "|2023-11-20|23:26:05.396| [INFO] infer-valid-B-accuracy: 0.484375\n",
      "|2023-11-20|23:26:05.645| [INFO] EPOCH: 022\n"
     ]
    },
    {
     "name": "stdout",
     "output_type": "stream",
     "text": [
      "best_score {'infer-train-accuracy': 0.6069868995633187, 'infer-valid-A-accuracy': 0.5384615384615384, 'infer-valid-B-accuracy': 0.515625}\n"
     ]
    },
    {
     "name": "stderr",
     "output_type": "stream",
     "text": [
      "100%|██████████| 7/7 [00:00<00:00, 13.86it/s]\n",
      "|2023-11-20|23:26:06.152| [INFO] train-EMA-loss: 0.907518\n",
      "|2023-11-20|23:26:06.524| [INFO] infer-train-accuracy: 0.611354\n",
      "|2023-11-20|23:26:06.771| [INFO] infer-valid-A-accuracy: 0.384615\n",
      "|2023-11-20|23:26:07.081| [INFO] infer-valid-B-accuracy: 0.453125\n",
      "|2023-11-20|23:26:07.313| [INFO] EPOCH: 023\n"
     ]
    },
    {
     "name": "stdout",
     "output_type": "stream",
     "text": [
      "best_score {'infer-train-accuracy': 0.611353711790393, 'infer-valid-A-accuracy': 0.5384615384615384, 'infer-valid-B-accuracy': 0.515625}\n"
     ]
    },
    {
     "name": "stderr",
     "output_type": "stream",
     "text": [
      "100%|██████████| 7/7 [00:00<00:00, 11.25it/s]\n",
      "|2023-11-20|23:26:07.938| [INFO] train-EMA-loss: 0.808812\n",
      "|2023-11-20|23:26:08.333| [INFO] infer-train-accuracy: 0.650655\n",
      "|2023-11-20|23:26:08.575| [INFO] infer-valid-A-accuracy: 0.423077\n",
      "|2023-11-20|23:26:08.871| [INFO] infer-valid-B-accuracy: 0.484375\n",
      "|2023-11-20|23:26:09.126| [INFO] EPOCH: 024\n"
     ]
    },
    {
     "name": "stdout",
     "output_type": "stream",
     "text": [
      "best_score {'infer-train-accuracy': 0.6506550218340611, 'infer-valid-A-accuracy': 0.5384615384615384, 'infer-valid-B-accuracy': 0.515625}\n"
     ]
    },
    {
     "name": "stderr",
     "output_type": "stream",
     "text": [
      "100%|██████████| 7/7 [00:00<00:00, 12.72it/s]\n",
      "|2023-11-20|23:26:09.678| [INFO] train-EMA-loss: 0.813884\n",
      "|2023-11-20|23:26:10.103| [INFO] infer-train-accuracy: 0.624454\n",
      "|2023-11-20|23:26:10.363| [INFO] infer-valid-A-accuracy: 0.500000\n",
      "|2023-11-20|23:26:11.157| [INFO] infer-valid-B-accuracy: 0.484375\n",
      "|2023-11-20|23:26:11.396| [INFO] EPOCH: 025\n"
     ]
    },
    {
     "name": "stdout",
     "output_type": "stream",
     "text": [
      "best_score {'infer-train-accuracy': 0.6506550218340611, 'infer-valid-A-accuracy': 0.5384615384615384, 'infer-valid-B-accuracy': 0.515625}\n"
     ]
    },
    {
     "name": "stderr",
     "output_type": "stream",
     "text": [
      "100%|██████████| 7/7 [00:00<00:00, 14.05it/s]\n",
      "|2023-11-20|23:26:11.896| [INFO] train-EMA-loss: 0.739843\n",
      "|2023-11-20|23:26:12.266| [INFO] infer-train-accuracy: 0.624454\n",
      "|2023-11-20|23:26:12.500| [INFO] infer-valid-A-accuracy: 0.500000\n",
      "|2023-11-20|23:26:12.771| [INFO] infer-valid-B-accuracy: 0.468750\n",
      "|2023-11-20|23:26:13.016| [INFO] EPOCH: 026\n"
     ]
    },
    {
     "name": "stdout",
     "output_type": "stream",
     "text": [
      "best_score {'infer-train-accuracy': 0.6506550218340611, 'infer-valid-A-accuracy': 0.5384615384615384, 'infer-valid-B-accuracy': 0.515625}\n"
     ]
    },
    {
     "name": "stderr",
     "output_type": "stream",
     "text": [
      "100%|██████████| 7/7 [00:00<00:00, 13.56it/s]\n",
      "|2023-11-20|23:26:13.535| [INFO] train-EMA-loss: 0.907351\n",
      "|2023-11-20|23:26:13.920| [INFO] infer-train-accuracy: 0.641921\n",
      "|2023-11-20|23:26:14.164| [INFO] infer-valid-A-accuracy: 0.500000\n",
      "|2023-11-20|23:26:14.437| [INFO] infer-valid-B-accuracy: 0.468750\n",
      "|2023-11-20|23:26:14.679| [INFO] EPOCH: 027\n"
     ]
    },
    {
     "name": "stdout",
     "output_type": "stream",
     "text": [
      "best_score {'infer-train-accuracy': 0.6506550218340611, 'infer-valid-A-accuracy': 0.5384615384615384, 'infer-valid-B-accuracy': 0.515625}\n"
     ]
    },
    {
     "name": "stderr",
     "output_type": "stream",
     "text": [
      "100%|██████████| 7/7 [00:00<00:00, 13.93it/s]\n",
      "|2023-11-20|23:26:15.183| [INFO] train-EMA-loss: 0.790504\n",
      "|2023-11-20|23:26:15.566| [INFO] infer-train-accuracy: 0.659389\n",
      "|2023-11-20|23:26:15.810| [INFO] infer-valid-A-accuracy: 0.500000\n",
      "|2023-11-20|23:26:16.083| [INFO] infer-valid-B-accuracy: 0.453125\n",
      "|2023-11-20|23:26:16.325| [INFO] EPOCH: 028\n"
     ]
    },
    {
     "name": "stdout",
     "output_type": "stream",
     "text": [
      "best_score {'infer-train-accuracy': 0.6593886462882096, 'infer-valid-A-accuracy': 0.5384615384615384, 'infer-valid-B-accuracy': 0.515625}\n"
     ]
    },
    {
     "name": "stderr",
     "output_type": "stream",
     "text": [
      "100%|██████████| 7/7 [00:00<00:00, 13.94it/s]\n",
      "|2023-11-20|23:26:16.829| [INFO] train-EMA-loss: 0.761942\n",
      "|2023-11-20|23:26:17.219| [INFO] infer-train-accuracy: 0.655022\n",
      "|2023-11-20|23:26:17.456| [INFO] infer-valid-A-accuracy: 0.461538\n",
      "|2023-11-20|23:26:17.727| [INFO] infer-valid-B-accuracy: 0.484375\n",
      "|2023-11-20|23:26:17.970| [INFO] EPOCH: 029\n"
     ]
    },
    {
     "name": "stdout",
     "output_type": "stream",
     "text": [
      "best_score {'infer-train-accuracy': 0.6593886462882096, 'infer-valid-A-accuracy': 0.5384615384615384, 'infer-valid-B-accuracy': 0.515625}\n"
     ]
    },
    {
     "name": "stderr",
     "output_type": "stream",
     "text": [
      "100%|██████████| 7/7 [00:00<00:00, 13.98it/s]\n",
      "|2023-11-20|23:26:18.473| [INFO] train-EMA-loss: 0.815665\n",
      "|2023-11-20|23:26:18.861| [INFO] infer-train-accuracy: 0.633188\n",
      "|2023-11-20|23:26:19.112| [INFO] infer-valid-A-accuracy: 0.461538\n",
      "|2023-11-20|23:26:19.396| [INFO] infer-valid-B-accuracy: 0.468750\n",
      "|2023-11-20|23:26:19.638| [INFO] EPOCH: 030\n"
     ]
    },
    {
     "name": "stdout",
     "output_type": "stream",
     "text": [
      "best_score {'infer-train-accuracy': 0.6593886462882096, 'infer-valid-A-accuracy': 0.5384615384615384, 'infer-valid-B-accuracy': 0.515625}\n"
     ]
    },
    {
     "name": "stderr",
     "output_type": "stream",
     "text": [
      "100%|██████████| 7/7 [00:00<00:00, 13.23it/s]\n",
      "|2023-11-20|23:26:20.169| [INFO] train-EMA-loss: 0.696935\n",
      "|2023-11-20|23:26:20.560| [INFO] infer-train-accuracy: 0.637555\n",
      "|2023-11-20|23:26:20.811| [INFO] infer-valid-A-accuracy: 0.461538\n",
      "|2023-11-20|23:26:21.101| [INFO] infer-valid-B-accuracy: 0.468750\n",
      "|2023-11-20|23:26:21.348| [INFO] EPOCH: 031\n"
     ]
    },
    {
     "name": "stdout",
     "output_type": "stream",
     "text": [
      "best_score {'infer-train-accuracy': 0.6593886462882096, 'infer-valid-A-accuracy': 0.5384615384615384, 'infer-valid-B-accuracy': 0.515625}\n"
     ]
    },
    {
     "name": "stderr",
     "output_type": "stream",
     "text": [
      "100%|██████████| 7/7 [00:00<00:00, 13.78it/s]\n",
      "|2023-11-20|23:26:21.859| [INFO] train-EMA-loss: 0.813497\n",
      "|2023-11-20|23:26:22.222| [INFO] infer-train-accuracy: 0.633188\n",
      "|2023-11-20|23:26:22.472| [INFO] infer-valid-A-accuracy: 0.576923\n",
      "|2023-11-20|23:26:22.750| [INFO] infer-valid-B-accuracy: 0.406250\n",
      "|2023-11-20|23:26:22.998| [INFO] EPOCH: 032\n"
     ]
    },
    {
     "name": "stdout",
     "output_type": "stream",
     "text": [
      "best_score {'infer-train-accuracy': 0.6593886462882096, 'infer-valid-A-accuracy': 0.5769230769230769, 'infer-valid-B-accuracy': 0.515625}\n"
     ]
    },
    {
     "name": "stderr",
     "output_type": "stream",
     "text": [
      "100%|██████████| 7/7 [00:00<00:00, 14.07it/s]\n",
      "|2023-11-20|23:26:23.499| [INFO] train-EMA-loss: 0.835737\n",
      "|2023-11-20|23:26:23.883| [INFO] infer-train-accuracy: 0.650655\n",
      "|2023-11-20|23:26:24.145| [INFO] infer-valid-A-accuracy: 0.538462\n",
      "|2023-11-20|23:26:24.414| [INFO] infer-valid-B-accuracy: 0.437500\n",
      "|2023-11-20|23:26:24.662| [INFO] EPOCH: 033\n"
     ]
    },
    {
     "name": "stdout",
     "output_type": "stream",
     "text": [
      "best_score {'infer-train-accuracy': 0.6593886462882096, 'infer-valid-A-accuracy': 0.5769230769230769, 'infer-valid-B-accuracy': 0.515625}\n"
     ]
    },
    {
     "name": "stderr",
     "output_type": "stream",
     "text": [
      "100%|██████████| 7/7 [00:00<00:00, 13.56it/s]\n",
      "|2023-11-20|23:26:25.181| [INFO] train-EMA-loss: 0.680133\n",
      "|2023-11-20|23:26:25.536| [INFO] infer-train-accuracy: 0.655022\n",
      "|2023-11-20|23:26:25.774| [INFO] infer-valid-A-accuracy: 0.500000\n",
      "|2023-11-20|23:26:26.046| [INFO] infer-valid-B-accuracy: 0.421875\n",
      "|2023-11-20|23:26:26.292| [INFO] EPOCH: 034\n"
     ]
    },
    {
     "name": "stdout",
     "output_type": "stream",
     "text": [
      "best_score {'infer-train-accuracy': 0.6593886462882096, 'infer-valid-A-accuracy': 0.5769230769230769, 'infer-valid-B-accuracy': 0.515625}\n"
     ]
    },
    {
     "name": "stderr",
     "output_type": "stream",
     "text": [
      "100%|██████████| 7/7 [00:00<00:00, 13.12it/s]\n",
      "|2023-11-20|23:26:26.828| [INFO] train-EMA-loss: 0.696905\n",
      "|2023-11-20|23:26:27.262| [INFO] infer-train-accuracy: 0.676856\n",
      "|2023-11-20|23:26:27.505| [INFO] infer-valid-A-accuracy: 0.461538\n",
      "|2023-11-20|23:26:27.792| [INFO] infer-valid-B-accuracy: 0.453125\n",
      "|2023-11-20|23:26:28.040| [INFO] EPOCH: 035\n"
     ]
    },
    {
     "name": "stdout",
     "output_type": "stream",
     "text": [
      "best_score {'infer-train-accuracy': 0.6768558951965066, 'infer-valid-A-accuracy': 0.5769230769230769, 'infer-valid-B-accuracy': 0.515625}\n"
     ]
    },
    {
     "name": "stderr",
     "output_type": "stream",
     "text": [
      "100%|██████████| 7/7 [00:00<00:00, 13.81it/s]\n",
      "|2023-11-20|23:26:28.550| [INFO] train-EMA-loss: 0.713201\n",
      "|2023-11-20|23:26:28.930| [INFO] infer-train-accuracy: 0.711790\n",
      "|2023-11-20|23:26:29.192| [INFO] infer-valid-A-accuracy: 0.500000\n",
      "|2023-11-20|23:26:29.450| [INFO] infer-valid-B-accuracy: 0.437500\n",
      "|2023-11-20|23:26:29.703| [INFO] EPOCH: 036\n"
     ]
    },
    {
     "name": "stdout",
     "output_type": "stream",
     "text": [
      "best_score {'infer-train-accuracy': 0.7117903930131004, 'infer-valid-A-accuracy': 0.5769230769230769, 'infer-valid-B-accuracy': 0.515625}\n"
     ]
    },
    {
     "name": "stderr",
     "output_type": "stream",
     "text": [
      "100%|██████████| 7/7 [00:00<00:00, 13.85it/s]\n",
      "|2023-11-20|23:26:30.211| [INFO] train-EMA-loss: 0.735072\n",
      "|2023-11-20|23:26:30.590| [INFO] infer-train-accuracy: 0.711790\n",
      "|2023-11-20|23:26:30.856| [INFO] infer-valid-A-accuracy: 0.538462\n",
      "|2023-11-20|23:26:31.159| [INFO] infer-valid-B-accuracy: 0.453125\n",
      "|2023-11-20|23:26:31.410| [INFO] EPOCH: 037\n"
     ]
    },
    {
     "name": "stdout",
     "output_type": "stream",
     "text": [
      "best_score {'infer-train-accuracy': 0.7117903930131004, 'infer-valid-A-accuracy': 0.5769230769230769, 'infer-valid-B-accuracy': 0.515625}\n"
     ]
    },
    {
     "name": "stderr",
     "output_type": "stream",
     "text": [
      "100%|██████████| 7/7 [00:00<00:00, 13.68it/s]\n",
      "|2023-11-20|23:26:31.924| [INFO] train-EMA-loss: 0.625289\n",
      "|2023-11-20|23:26:32.320| [INFO] infer-train-accuracy: 0.685590\n",
      "|2023-11-20|23:26:32.572| [INFO] infer-valid-A-accuracy: 0.500000\n",
      "|2023-11-20|23:26:32.901| [INFO] infer-valid-B-accuracy: 0.406250\n",
      "|2023-11-20|23:26:33.158| [INFO] EPOCH: 038\n"
     ]
    },
    {
     "name": "stdout",
     "output_type": "stream",
     "text": [
      "best_score {'infer-train-accuracy': 0.7117903930131004, 'infer-valid-A-accuracy': 0.5769230769230769, 'infer-valid-B-accuracy': 0.515625}\n"
     ]
    },
    {
     "name": "stderr",
     "output_type": "stream",
     "text": [
      "100%|██████████| 7/7 [00:00<00:00, 11.85it/s]\n",
      "|2023-11-20|23:26:33.751| [INFO] train-EMA-loss: 0.680643\n",
      "|2023-11-20|23:26:34.172| [INFO] infer-train-accuracy: 0.689956\n",
      "|2023-11-20|23:26:34.448| [INFO] infer-valid-A-accuracy: 0.423077\n",
      "|2023-11-20|23:26:34.758| [INFO] infer-valid-B-accuracy: 0.468750\n",
      "|2023-11-20|23:26:35.018| [INFO] EPOCH: 039\n"
     ]
    },
    {
     "name": "stdout",
     "output_type": "stream",
     "text": [
      "best_score {'infer-train-accuracy': 0.7117903930131004, 'infer-valid-A-accuracy': 0.5769230769230769, 'infer-valid-B-accuracy': 0.515625}\n"
     ]
    },
    {
     "name": "stderr",
     "output_type": "stream",
     "text": [
      "100%|██████████| 7/7 [00:00<00:00, 13.05it/s]\n",
      "|2023-11-20|23:26:35.557| [INFO] train-EMA-loss: 0.657850\n",
      "|2023-11-20|23:26:35.983| [INFO] infer-train-accuracy: 0.733624\n",
      "|2023-11-20|23:26:36.228| [INFO] infer-valid-A-accuracy: 0.461538\n",
      "|2023-11-20|23:26:36.505| [INFO] infer-valid-B-accuracy: 0.421875\n",
      "|2023-11-20|23:26:36.763| [INFO] EPOCH: 040\n"
     ]
    },
    {
     "name": "stdout",
     "output_type": "stream",
     "text": [
      "best_score {'infer-train-accuracy': 0.7336244541484717, 'infer-valid-A-accuracy': 0.5769230769230769, 'infer-valid-B-accuracy': 0.515625}\n"
     ]
    },
    {
     "name": "stderr",
     "output_type": "stream",
     "text": [
      "100%|██████████| 7/7 [00:00<00:00, 14.05it/s]\n",
      "|2023-11-20|23:26:37.263| [INFO] train-EMA-loss: 0.665504\n",
      "|2023-11-20|23:26:37.646| [INFO] infer-train-accuracy: 0.707424\n",
      "|2023-11-20|23:26:37.921| [INFO] infer-valid-A-accuracy: 0.384615\n",
      "|2023-11-20|23:26:38.202| [INFO] infer-valid-B-accuracy: 0.421875\n",
      "|2023-11-20|23:26:38.458| [INFO] EPOCH: 041\n"
     ]
    },
    {
     "name": "stdout",
     "output_type": "stream",
     "text": [
      "best_score {'infer-train-accuracy': 0.7336244541484717, 'infer-valid-A-accuracy': 0.5769230769230769, 'infer-valid-B-accuracy': 0.515625}\n"
     ]
    },
    {
     "name": "stderr",
     "output_type": "stream",
     "text": [
      "100%|██████████| 7/7 [00:00<00:00, 11.05it/s]\n",
      "|2023-11-20|23:26:39.094| [INFO] train-EMA-loss: 0.725422\n",
      "|2023-11-20|23:26:39.492| [INFO] infer-train-accuracy: 0.737991\n",
      "|2023-11-20|23:26:39.765| [INFO] infer-valid-A-accuracy: 0.538462\n",
      "|2023-11-20|23:26:40.036| [INFO] infer-valid-B-accuracy: 0.453125\n",
      "|2023-11-20|23:26:40.296| [INFO] EPOCH: 042\n"
     ]
    },
    {
     "name": "stdout",
     "output_type": "stream",
     "text": [
      "best_score {'infer-train-accuracy': 0.7379912663755459, 'infer-valid-A-accuracy': 0.5769230769230769, 'infer-valid-B-accuracy': 0.515625}\n"
     ]
    },
    {
     "name": "stderr",
     "output_type": "stream",
     "text": [
      "100%|██████████| 7/7 [00:00<00:00, 13.06it/s]\n",
      "|2023-11-20|23:26:40.835| [INFO] train-EMA-loss: 0.705609\n",
      "|2023-11-20|23:26:41.245| [INFO] infer-train-accuracy: 0.751092\n",
      "|2023-11-20|23:26:41.496| [INFO] infer-valid-A-accuracy: 0.538462\n",
      "|2023-11-20|23:26:41.783| [INFO] infer-valid-B-accuracy: 0.453125\n",
      "|2023-11-20|23:26:42.056| [INFO] EPOCH: 043\n"
     ]
    },
    {
     "name": "stdout",
     "output_type": "stream",
     "text": [
      "best_score {'infer-train-accuracy': 0.7510917030567685, 'infer-valid-A-accuracy': 0.5769230769230769, 'infer-valid-B-accuracy': 0.515625}\n"
     ]
    },
    {
     "name": "stderr",
     "output_type": "stream",
     "text": [
      "100%|██████████| 7/7 [00:00<00:00, 11.65it/s]\n",
      "|2023-11-20|23:26:42.659| [INFO] train-EMA-loss: 0.658838\n",
      "|2023-11-20|23:26:43.080| [INFO] infer-train-accuracy: 0.737991\n",
      "|2023-11-20|23:26:43.330| [INFO] infer-valid-A-accuracy: 0.500000\n",
      "|2023-11-20|23:26:43.628| [INFO] infer-valid-B-accuracy: 0.406250\n",
      "|2023-11-20|23:26:43.927| [INFO] EPOCH: 044\n"
     ]
    },
    {
     "name": "stdout",
     "output_type": "stream",
     "text": [
      "best_score {'infer-train-accuracy': 0.7510917030567685, 'infer-valid-A-accuracy': 0.5769230769230769, 'infer-valid-B-accuracy': 0.515625}\n"
     ]
    },
    {
     "name": "stderr",
     "output_type": "stream",
     "text": [
      "100%|██████████| 7/7 [00:00<00:00, 14.16it/s]\n",
      "|2023-11-20|23:26:44.424| [INFO] train-EMA-loss: 0.606172\n",
      "|2023-11-20|23:26:44.833| [INFO] infer-train-accuracy: 0.759825\n",
      "|2023-11-20|23:26:45.095| [INFO] infer-valid-A-accuracy: 0.500000\n",
      "|2023-11-20|23:26:45.407| [INFO] infer-valid-B-accuracy: 0.343750\n",
      "|2023-11-20|23:26:45.740| [INFO] EPOCH: 045\n"
     ]
    },
    {
     "name": "stdout",
     "output_type": "stream",
     "text": [
      "best_score {'infer-train-accuracy': 0.759825327510917, 'infer-valid-A-accuracy': 0.5769230769230769, 'infer-valid-B-accuracy': 0.515625}\n"
     ]
    },
    {
     "name": "stderr",
     "output_type": "stream",
     "text": [
      "100%|██████████| 7/7 [00:00<00:00, 11.26it/s]\n",
      "|2023-11-20|23:26:46.364| [INFO] train-EMA-loss: 0.575270\n",
      "|2023-11-20|23:26:46.754| [INFO] infer-train-accuracy: 0.755459\n",
      "|2023-11-20|23:26:46.998| [INFO] infer-valid-A-accuracy: 0.461538\n",
      "|2023-11-20|23:26:47.275| [INFO] infer-valid-B-accuracy: 0.421875\n",
      "|2023-11-20|23:26:47.546| [INFO] EPOCH: 046\n"
     ]
    },
    {
     "name": "stdout",
     "output_type": "stream",
     "text": [
      "best_score {'infer-train-accuracy': 0.759825327510917, 'infer-valid-A-accuracy': 0.5769230769230769, 'infer-valid-B-accuracy': 0.515625}\n"
     ]
    },
    {
     "name": "stderr",
     "output_type": "stream",
     "text": [
      "100%|██████████| 7/7 [00:00<00:00, 13.74it/s]\n",
      "|2023-11-20|23:26:48.059| [INFO] train-EMA-loss: 0.688419\n",
      "|2023-11-20|23:26:48.445| [INFO] infer-train-accuracy: 0.768559\n",
      "|2023-11-20|23:26:48.696| [INFO] infer-valid-A-accuracy: 0.538462\n",
      "|2023-11-20|23:26:48.982| [INFO] infer-valid-B-accuracy: 0.390625\n",
      "|2023-11-20|23:26:49.252| [INFO] EPOCH: 047\n"
     ]
    },
    {
     "name": "stdout",
     "output_type": "stream",
     "text": [
      "best_score {'infer-train-accuracy': 0.7685589519650655, 'infer-valid-A-accuracy': 0.5769230769230769, 'infer-valid-B-accuracy': 0.515625}\n"
     ]
    },
    {
     "name": "stderr",
     "output_type": "stream",
     "text": [
      "100%|██████████| 7/7 [00:00<00:00, 13.79it/s]\n",
      "|2023-11-20|23:26:49.762| [INFO] train-EMA-loss: 0.595673\n",
      "|2023-11-20|23:26:50.140| [INFO] infer-train-accuracy: 0.729258\n",
      "|2023-11-20|23:26:50.360| [INFO] infer-valid-A-accuracy: 0.423077\n",
      "|2023-11-20|23:26:50.615| [INFO] infer-valid-B-accuracy: 0.453125\n",
      "|2023-11-20|23:26:50.852| [INFO] EPOCH: 048\n"
     ]
    },
    {
     "name": "stdout",
     "output_type": "stream",
     "text": [
      "best_score {'infer-train-accuracy': 0.7685589519650655, 'infer-valid-A-accuracy': 0.5769230769230769, 'infer-valid-B-accuracy': 0.515625}\n"
     ]
    },
    {
     "name": "stderr",
     "output_type": "stream",
     "text": [
      "100%|██████████| 7/7 [00:00<00:00, 15.69it/s]\n",
      "|2023-11-20|23:26:51.300| [INFO] train-EMA-loss: 0.542765\n",
      "|2023-11-20|23:26:51.687| [INFO] infer-train-accuracy: 0.786026\n",
      "|2023-11-20|23:26:51.909| [INFO] infer-valid-A-accuracy: 0.538462\n",
      "|2023-11-20|23:26:52.155| [INFO] infer-valid-B-accuracy: 0.375000\n",
      "|2023-11-20|23:26:52.435| [INFO] EPOCH: 049\n"
     ]
    },
    {
     "name": "stdout",
     "output_type": "stream",
     "text": [
      "best_score {'infer-train-accuracy': 0.7860262008733624, 'infer-valid-A-accuracy': 0.5769230769230769, 'infer-valid-B-accuracy': 0.515625}\n"
     ]
    },
    {
     "name": "stderr",
     "output_type": "stream",
     "text": [
      "100%|██████████| 7/7 [00:00<00:00, 10.73it/s]\n",
      "|2023-11-20|23:26:53.090| [INFO] train-EMA-loss: 0.592212\n",
      "|2023-11-20|23:26:53.551| [INFO] infer-train-accuracy: 0.790393\n",
      "|2023-11-20|23:26:53.857| [INFO] infer-valid-A-accuracy: 0.576923\n",
      "|2023-11-20|23:26:54.150| [INFO] infer-valid-B-accuracy: 0.406250\n",
      "|2023-11-20|23:26:54.454| [INFO] EPOCH: 050\n"
     ]
    },
    {
     "name": "stdout",
     "output_type": "stream",
     "text": [
      "best_score {'infer-train-accuracy': 0.7903930131004366, 'infer-valid-A-accuracy': 0.5769230769230769, 'infer-valid-B-accuracy': 0.515625}\n"
     ]
    },
    {
     "name": "stderr",
     "output_type": "stream",
     "text": [
      "100%|██████████| 7/7 [00:00<00:00, 11.20it/s]\n",
      "|2023-11-20|23:26:55.081| [INFO] train-EMA-loss: 0.598925\n",
      "|2023-11-20|23:26:55.512| [INFO] infer-train-accuracy: 0.794760\n",
      "|2023-11-20|23:26:55.786| [INFO] infer-valid-A-accuracy: 0.538462\n",
      "|2023-11-20|23:26:56.109| [INFO] infer-valid-B-accuracy: 0.375000\n",
      "|2023-11-20|23:26:56.412| [INFO] EPOCH: 051\n"
     ]
    },
    {
     "name": "stdout",
     "output_type": "stream",
     "text": [
      "best_score {'infer-train-accuracy': 0.7947598253275109, 'infer-valid-A-accuracy': 0.5769230769230769, 'infer-valid-B-accuracy': 0.515625}\n"
     ]
    },
    {
     "name": "stderr",
     "output_type": "stream",
     "text": [
      "100%|██████████| 7/7 [00:00<00:00, 13.95it/s]\n",
      "|2023-11-20|23:26:56.917| [INFO] train-EMA-loss: 0.508818\n",
      "|2023-11-20|23:26:57.290| [INFO] infer-train-accuracy: 0.781659\n",
      "|2023-11-20|23:26:57.520| [INFO] infer-valid-A-accuracy: 0.500000\n",
      "|2023-11-20|23:26:57.778| [INFO] infer-valid-B-accuracy: 0.375000\n",
      "|2023-11-20|23:26:58.018| [INFO] EPOCH: 052\n"
     ]
    },
    {
     "name": "stdout",
     "output_type": "stream",
     "text": [
      "best_score {'infer-train-accuracy': 0.7947598253275109, 'infer-valid-A-accuracy': 0.5769230769230769, 'infer-valid-B-accuracy': 0.515625}\n"
     ]
    },
    {
     "name": "stderr",
     "output_type": "stream",
     "text": [
      "100%|██████████| 7/7 [00:00<00:00, 15.42it/s]\n",
      "|2023-11-20|23:26:58.474| [INFO] train-EMA-loss: 0.584446\n",
      "|2023-11-20|23:26:58.840| [INFO] infer-train-accuracy: 0.799127\n",
      "|2023-11-20|23:26:59.098| [INFO] infer-valid-A-accuracy: 0.461538\n",
      "|2023-11-20|23:26:59.386| [INFO] infer-valid-B-accuracy: 0.421875\n",
      "|2023-11-20|23:26:59.658| [INFO] EPOCH: 053\n"
     ]
    },
    {
     "name": "stdout",
     "output_type": "stream",
     "text": [
      "best_score {'infer-train-accuracy': 0.7991266375545851, 'infer-valid-A-accuracy': 0.5769230769230769, 'infer-valid-B-accuracy': 0.515625}\n"
     ]
    },
    {
     "name": "stderr",
     "output_type": "stream",
     "text": [
      "100%|██████████| 7/7 [00:00<00:00, 14.05it/s]\n",
      "|2023-11-20|23:27:00.159| [INFO] train-EMA-loss: 0.657211\n",
      "|2023-11-20|23:27:00.566| [INFO] infer-train-accuracy: 0.786026\n",
      "|2023-11-20|23:27:00.792| [INFO] infer-valid-A-accuracy: 0.576923\n",
      "|2023-11-20|23:27:01.071| [INFO] infer-valid-B-accuracy: 0.390625\n",
      "|2023-11-20|23:27:01.402| [INFO] EPOCH: 054\n"
     ]
    },
    {
     "name": "stdout",
     "output_type": "stream",
     "text": [
      "best_score {'infer-train-accuracy': 0.7991266375545851, 'infer-valid-A-accuracy': 0.5769230769230769, 'infer-valid-B-accuracy': 0.515625}\n"
     ]
    },
    {
     "name": "stderr",
     "output_type": "stream",
     "text": [
      "100%|██████████| 7/7 [00:00<00:00, 12.79it/s]\n",
      "|2023-11-20|23:27:01.952| [INFO] train-EMA-loss: 0.602470\n",
      "|2023-11-20|23:27:02.298| [INFO] infer-train-accuracy: 0.820961\n",
      "|2023-11-20|23:27:02.523| [INFO] infer-valid-A-accuracy: 0.500000\n",
      "|2023-11-20|23:27:02.791| [INFO] infer-valid-B-accuracy: 0.421875\n",
      "|2023-11-20|23:27:03.044| [INFO] EPOCH: 055\n"
     ]
    },
    {
     "name": "stdout",
     "output_type": "stream",
     "text": [
      "best_score {'infer-train-accuracy': 0.8209606986899564, 'infer-valid-A-accuracy': 0.5769230769230769, 'infer-valid-B-accuracy': 0.515625}\n"
     ]
    },
    {
     "name": "stderr",
     "output_type": "stream",
     "text": [
      "100%|██████████| 7/7 [00:00<00:00, 13.62it/s]\n",
      "|2023-11-20|23:27:03.560| [INFO] train-EMA-loss: 0.529974\n",
      "|2023-11-20|23:27:03.981| [INFO] infer-train-accuracy: 0.803493\n",
      "|2023-11-20|23:27:04.268| [INFO] infer-valid-A-accuracy: 0.538462\n",
      "|2023-11-20|23:27:04.530| [INFO] infer-valid-B-accuracy: 0.468750\n",
      "|2023-11-20|23:27:04.846| [INFO] EPOCH: 056\n"
     ]
    },
    {
     "name": "stdout",
     "output_type": "stream",
     "text": [
      "best_score {'infer-train-accuracy': 0.8209606986899564, 'infer-valid-A-accuracy': 0.5769230769230769, 'infer-valid-B-accuracy': 0.515625}\n"
     ]
    },
    {
     "name": "stderr",
     "output_type": "stream",
     "text": [
      "100%|██████████| 7/7 [00:00<00:00, 11.11it/s]\n",
      "|2023-11-20|23:27:05.477| [INFO] train-EMA-loss: 0.556380\n",
      "|2023-11-20|23:27:05.871| [INFO] infer-train-accuracy: 0.860262\n",
      "|2023-11-20|23:27:06.140| [INFO] infer-valid-A-accuracy: 0.423077\n",
      "|2023-11-20|23:27:06.410| [INFO] infer-valid-B-accuracy: 0.421875\n",
      "|2023-11-20|23:27:06.700| [INFO] EPOCH: 057\n"
     ]
    },
    {
     "name": "stdout",
     "output_type": "stream",
     "text": [
      "best_score {'infer-train-accuracy': 0.8602620087336245, 'infer-valid-A-accuracy': 0.5769230769230769, 'infer-valid-B-accuracy': 0.515625}\n"
     ]
    },
    {
     "name": "stderr",
     "output_type": "stream",
     "text": [
      "100%|██████████| 7/7 [00:00<00:00, 14.13it/s]\n",
      "|2023-11-20|23:27:07.198| [INFO] train-EMA-loss: 0.491388\n",
      "|2023-11-20|23:27:07.579| [INFO] infer-train-accuracy: 0.855895\n",
      "|2023-11-20|23:27:07.866| [INFO] infer-valid-A-accuracy: 0.423077\n",
      "|2023-11-20|23:27:08.139| [INFO] infer-valid-B-accuracy: 0.453125\n",
      "|2023-11-20|23:27:08.408| [INFO] EPOCH: 058\n"
     ]
    },
    {
     "name": "stdout",
     "output_type": "stream",
     "text": [
      "best_score {'infer-train-accuracy': 0.8602620087336245, 'infer-valid-A-accuracy': 0.5769230769230769, 'infer-valid-B-accuracy': 0.515625}\n"
     ]
    },
    {
     "name": "stderr",
     "output_type": "stream",
     "text": [
      "100%|██████████| 7/7 [00:00<00:00, 13.68it/s]\n",
      "|2023-11-20|23:27:08.922| [INFO] train-EMA-loss: 0.530857\n",
      "|2023-11-20|23:27:09.355| [INFO] infer-train-accuracy: 0.825328\n",
      "|2023-11-20|23:27:09.621| [INFO] infer-valid-A-accuracy: 0.500000\n",
      "|2023-11-20|23:27:09.914| [INFO] infer-valid-B-accuracy: 0.453125\n",
      "|2023-11-20|23:27:10.200| [INFO] EPOCH: 059\n"
     ]
    },
    {
     "name": "stdout",
     "output_type": "stream",
     "text": [
      "best_score {'infer-train-accuracy': 0.8602620087336245, 'infer-valid-A-accuracy': 0.5769230769230769, 'infer-valid-B-accuracy': 0.515625}\n"
     ]
    },
    {
     "name": "stderr",
     "output_type": "stream",
     "text": [
      "100%|██████████| 7/7 [00:00<00:00, 13.51it/s]\n",
      "|2023-11-20|23:27:10.721| [INFO] train-EMA-loss: 0.412209\n",
      "|2023-11-20|23:27:11.150| [INFO] infer-train-accuracy: 0.860262\n",
      "|2023-11-20|23:27:11.401| [INFO] infer-valid-A-accuracy: 0.576923\n",
      "|2023-11-20|23:27:11.662| [INFO] infer-valid-B-accuracy: 0.484375\n",
      "|2023-11-20|23:27:11.927| [INFO] EPOCH: 060\n"
     ]
    },
    {
     "name": "stdout",
     "output_type": "stream",
     "text": [
      "best_score {'infer-train-accuracy': 0.8602620087336245, 'infer-valid-A-accuracy': 0.5769230769230769, 'infer-valid-B-accuracy': 0.515625}\n"
     ]
    },
    {
     "name": "stderr",
     "output_type": "stream",
     "text": [
      "100%|██████████| 7/7 [00:00<00:00, 12.84it/s]\n",
      "|2023-11-20|23:27:12.474| [INFO] train-EMA-loss: 0.627512\n",
      "|2023-11-20|23:27:12.913| [INFO] infer-train-accuracy: 0.799127\n",
      "|2023-11-20|23:27:13.155| [INFO] infer-valid-A-accuracy: 0.423077\n",
      "|2023-11-20|23:27:13.466| [INFO] infer-valid-B-accuracy: 0.500000\n",
      "|2023-11-20|23:27:13.739| [INFO] EPOCH: 061\n"
     ]
    },
    {
     "name": "stdout",
     "output_type": "stream",
     "text": [
      "best_score {'infer-train-accuracy': 0.8602620087336245, 'infer-valid-A-accuracy': 0.5769230769230769, 'infer-valid-B-accuracy': 0.515625}\n"
     ]
    },
    {
     "name": "stderr",
     "output_type": "stream",
     "text": [
      "100%|██████████| 7/7 [00:00<00:00, 12.77it/s]\n",
      "|2023-11-20|23:27:14.290| [INFO] train-EMA-loss: 0.441779\n",
      "|2023-11-20|23:27:14.711| [INFO] infer-train-accuracy: 0.807860\n",
      "|2023-11-20|23:27:14.946| [INFO] infer-valid-A-accuracy: 0.461538\n",
      "|2023-11-20|23:27:15.257| [INFO] infer-valid-B-accuracy: 0.515625\n",
      "|2023-11-20|23:27:15.534| [INFO] EPOCH: 062\n"
     ]
    },
    {
     "name": "stdout",
     "output_type": "stream",
     "text": [
      "best_score {'infer-train-accuracy': 0.8602620087336245, 'infer-valid-A-accuracy': 0.5769230769230769, 'infer-valid-B-accuracy': 0.515625}\n"
     ]
    },
    {
     "name": "stderr",
     "output_type": "stream",
     "text": [
      "100%|██████████| 7/7 [00:00<00:00, 12.93it/s]\n",
      "|2023-11-20|23:27:16.078| [INFO] train-EMA-loss: 0.485651\n",
      "|2023-11-20|23:27:16.448| [INFO] infer-train-accuracy: 0.882096\n",
      "|2023-11-20|23:27:16.698| [INFO] infer-valid-A-accuracy: 0.538462\n",
      "|2023-11-20|23:27:17.031| [INFO] infer-valid-B-accuracy: 0.468750\n",
      "|2023-11-20|23:27:17.297| [INFO] EPOCH: 063\n"
     ]
    },
    {
     "name": "stdout",
     "output_type": "stream",
     "text": [
      "best_score {'infer-train-accuracy': 0.8820960698689956, 'infer-valid-A-accuracy': 0.5769230769230769, 'infer-valid-B-accuracy': 0.515625}\n"
     ]
    },
    {
     "name": "stderr",
     "output_type": "stream",
     "text": [
      "100%|██████████| 7/7 [00:00<00:00, 12.28it/s]\n",
      "|2023-11-20|23:27:17.870| [INFO] train-EMA-loss: 0.469827\n",
      "|2023-11-20|23:27:18.276| [INFO] infer-train-accuracy: 0.851528\n",
      "|2023-11-20|23:27:18.544| [INFO] infer-valid-A-accuracy: 0.500000\n",
      "|2023-11-20|23:27:18.900| [INFO] infer-valid-B-accuracy: 0.406250\n",
      "|2023-11-20|23:27:19.229| [INFO] EPOCH: 064\n"
     ]
    },
    {
     "name": "stdout",
     "output_type": "stream",
     "text": [
      "best_score {'infer-train-accuracy': 0.8820960698689956, 'infer-valid-A-accuracy': 0.5769230769230769, 'infer-valid-B-accuracy': 0.515625}\n"
     ]
    },
    {
     "name": "stderr",
     "output_type": "stream",
     "text": [
      "100%|██████████| 7/7 [00:00<00:00, 12.64it/s]\n",
      "|2023-11-20|23:27:19.786| [INFO] train-EMA-loss: 0.620454\n",
      "|2023-11-20|23:27:20.189| [INFO] infer-train-accuracy: 0.877729\n",
      "|2023-11-20|23:27:20.430| [INFO] infer-valid-A-accuracy: 0.615385\n",
      "|2023-11-20|23:27:20.715| [INFO] infer-valid-B-accuracy: 0.406250\n",
      "|2023-11-20|23:27:21.024| [INFO] EPOCH: 065\n"
     ]
    },
    {
     "name": "stdout",
     "output_type": "stream",
     "text": [
      "best_score {'infer-train-accuracy': 0.8820960698689956, 'infer-valid-A-accuracy': 0.6153846153846154, 'infer-valid-B-accuracy': 0.515625}\n"
     ]
    },
    {
     "name": "stderr",
     "output_type": "stream",
     "text": [
      "100%|██████████| 7/7 [00:00<00:00, 12.08it/s]\n",
      "|2023-11-20|23:27:21.606| [INFO] train-EMA-loss: 0.425684\n",
      "|2023-11-20|23:27:21.996| [INFO] infer-train-accuracy: 0.838428\n",
      "|2023-11-20|23:27:22.236| [INFO] infer-valid-A-accuracy: 0.576923\n",
      "|2023-11-20|23:27:22.496| [INFO] infer-valid-B-accuracy: 0.437500\n",
      "|2023-11-20|23:27:22.757| [INFO] EPOCH: 066\n"
     ]
    },
    {
     "name": "stdout",
     "output_type": "stream",
     "text": [
      "best_score {'infer-train-accuracy': 0.8820960698689956, 'infer-valid-A-accuracy': 0.6153846153846154, 'infer-valid-B-accuracy': 0.515625}\n"
     ]
    },
    {
     "name": "stderr",
     "output_type": "stream",
     "text": [
      "100%|██████████| 7/7 [00:00<00:00, 13.27it/s]\n",
      "|2023-11-20|23:27:23.287| [INFO] train-EMA-loss: 0.454728\n",
      "|2023-11-20|23:27:23.683| [INFO] infer-train-accuracy: 0.847162\n",
      "|2023-11-20|23:27:23.934| [INFO] infer-valid-A-accuracy: 0.576923\n",
      "|2023-11-20|23:27:24.231| [INFO] infer-valid-B-accuracy: 0.390625\n",
      "|2023-11-20|23:27:24.500| [INFO] EPOCH: 067\n"
     ]
    },
    {
     "name": "stdout",
     "output_type": "stream",
     "text": [
      "best_score {'infer-train-accuracy': 0.8820960698689956, 'infer-valid-A-accuracy': 0.6153846153846154, 'infer-valid-B-accuracy': 0.515625}\n"
     ]
    },
    {
     "name": "stderr",
     "output_type": "stream",
     "text": [
      "100%|██████████| 7/7 [00:00<00:00, 13.26it/s]\n",
      "|2023-11-20|23:27:25.031| [INFO] train-EMA-loss: 0.374865\n",
      "|2023-11-20|23:27:25.464| [INFO] infer-train-accuracy: 0.877729\n",
      "|2023-11-20|23:27:25.701| [INFO] infer-valid-A-accuracy: 0.538462\n",
      "|2023-11-20|23:27:26.003| [INFO] infer-valid-B-accuracy: 0.484375\n",
      "|2023-11-20|23:27:26.274| [INFO] EPOCH: 068\n"
     ]
    },
    {
     "name": "stdout",
     "output_type": "stream",
     "text": [
      "best_score {'infer-train-accuracy': 0.8820960698689956, 'infer-valid-A-accuracy': 0.6153846153846154, 'infer-valid-B-accuracy': 0.515625}\n"
     ]
    },
    {
     "name": "stderr",
     "output_type": "stream",
     "text": [
      "100%|██████████| 7/7 [00:00<00:00, 13.71it/s]\n",
      "|2023-11-20|23:27:26.788| [INFO] train-EMA-loss: 0.571068\n",
      "|2023-11-20|23:27:27.159| [INFO] infer-train-accuracy: 0.864629\n",
      "|2023-11-20|23:27:27.407| [INFO] infer-valid-A-accuracy: 0.384615\n",
      "|2023-11-20|23:27:27.683| [INFO] infer-valid-B-accuracy: 0.453125\n",
      "|2023-11-20|23:27:27.982| [INFO] EPOCH: 069\n"
     ]
    },
    {
     "name": "stdout",
     "output_type": "stream",
     "text": [
      "best_score {'infer-train-accuracy': 0.8820960698689956, 'infer-valid-A-accuracy': 0.6153846153846154, 'infer-valid-B-accuracy': 0.515625}\n"
     ]
    },
    {
     "name": "stderr",
     "output_type": "stream",
     "text": [
      "100%|██████████| 7/7 [00:00<00:00, 12.42it/s]\n",
      "|2023-11-20|23:27:28.548| [INFO] train-EMA-loss: 0.402376\n",
      "|2023-11-20|23:27:29.014| [INFO] infer-train-accuracy: 0.864629\n",
      "|2023-11-20|23:27:29.255| [INFO] infer-valid-A-accuracy: 0.461538\n",
      "|2023-11-20|23:27:29.543| [INFO] infer-valid-B-accuracy: 0.406250\n",
      "|2023-11-20|23:27:29.818| [INFO] EPOCH: 070\n"
     ]
    },
    {
     "name": "stdout",
     "output_type": "stream",
     "text": [
      "best_score {'infer-train-accuracy': 0.8820960698689956, 'infer-valid-A-accuracy': 0.6153846153846154, 'infer-valid-B-accuracy': 0.515625}\n"
     ]
    },
    {
     "name": "stderr",
     "output_type": "stream",
     "text": [
      "100%|██████████| 7/7 [00:00<00:00, 13.73it/s]\n",
      "|2023-11-20|23:27:30.331| [INFO] train-EMA-loss: 0.449578\n",
      "|2023-11-20|23:27:30.766| [INFO] infer-train-accuracy: 0.903930\n",
      "|2023-11-20|23:27:31.004| [INFO] infer-valid-A-accuracy: 0.538462\n",
      "|2023-11-20|23:27:31.300| [INFO] infer-valid-B-accuracy: 0.421875\n",
      "|2023-11-20|23:27:31.573| [INFO] EPOCH: 071\n"
     ]
    },
    {
     "name": "stdout",
     "output_type": "stream",
     "text": [
      "best_score {'infer-train-accuracy': 0.9039301310043668, 'infer-valid-A-accuracy': 0.6153846153846154, 'infer-valid-B-accuracy': 0.515625}\n"
     ]
    },
    {
     "name": "stderr",
     "output_type": "stream",
     "text": [
      "100%|██████████| 7/7 [00:00<00:00, 13.45it/s]\n",
      "|2023-11-20|23:27:32.095| [INFO] train-EMA-loss: 0.422041\n",
      "|2023-11-20|23:27:32.489| [INFO] infer-train-accuracy: 0.882096\n",
      "|2023-11-20|23:27:32.728| [INFO] infer-valid-A-accuracy: 0.500000\n",
      "|2023-11-20|23:27:32.992| [INFO] infer-valid-B-accuracy: 0.468750\n",
      "|2023-11-20|23:27:33.258| [INFO] EPOCH: 072\n"
     ]
    },
    {
     "name": "stdout",
     "output_type": "stream",
     "text": [
      "best_score {'infer-train-accuracy': 0.9039301310043668, 'infer-valid-A-accuracy': 0.6153846153846154, 'infer-valid-B-accuracy': 0.515625}\n"
     ]
    },
    {
     "name": "stderr",
     "output_type": "stream",
     "text": [
      "100%|██████████| 7/7 [00:00<00:00, 13.98it/s]\n",
      "|2023-11-20|23:27:33.761| [INFO] train-EMA-loss: 0.546147\n",
      "|2023-11-20|23:27:34.168| [INFO] infer-train-accuracy: 0.921397\n",
      "|2023-11-20|23:27:34.403| [INFO] infer-valid-A-accuracy: 0.576923\n",
      "|2023-11-20|23:27:34.669| [INFO] infer-valid-B-accuracy: 0.468750\n",
      "|2023-11-20|23:27:34.932| [INFO] EPOCH: 073\n"
     ]
    },
    {
     "name": "stdout",
     "output_type": "stream",
     "text": [
      "best_score {'infer-train-accuracy': 0.9213973799126638, 'infer-valid-A-accuracy': 0.6153846153846154, 'infer-valid-B-accuracy': 0.515625}\n"
     ]
    },
    {
     "name": "stderr",
     "output_type": "stream",
     "text": [
      "100%|██████████| 7/7 [00:00<00:00, 14.41it/s]\n",
      "|2023-11-20|23:27:35.421| [INFO] train-EMA-loss: 0.441727\n",
      "|2023-11-20|23:27:35.796| [INFO] infer-train-accuracy: 0.921397\n",
      "|2023-11-20|23:27:36.044| [INFO] infer-valid-A-accuracy: 0.500000\n",
      "|2023-11-20|23:27:36.313| [INFO] infer-valid-B-accuracy: 0.437500\n",
      "|2023-11-20|23:27:36.568| [INFO] EPOCH: 074\n"
     ]
    },
    {
     "name": "stdout",
     "output_type": "stream",
     "text": [
      "best_score {'infer-train-accuracy': 0.9213973799126638, 'infer-valid-A-accuracy': 0.6153846153846154, 'infer-valid-B-accuracy': 0.515625}\n"
     ]
    },
    {
     "name": "stderr",
     "output_type": "stream",
     "text": [
      "100%|██████████| 7/7 [00:00<00:00, 14.27it/s]\n",
      "|2023-11-20|23:27:37.061| [INFO] train-EMA-loss: 0.389912\n",
      "|2023-11-20|23:27:37.448| [INFO] infer-train-accuracy: 0.886463\n",
      "|2023-11-20|23:27:37.683| [INFO] infer-valid-A-accuracy: 0.461538\n",
      "|2023-11-20|23:27:37.948| [INFO] infer-valid-B-accuracy: 0.484375\n",
      "|2023-11-20|23:27:38.205| [INFO] EPOCH: 075\n"
     ]
    },
    {
     "name": "stdout",
     "output_type": "stream",
     "text": [
      "best_score {'infer-train-accuracy': 0.9213973799126638, 'infer-valid-A-accuracy': 0.6153846153846154, 'infer-valid-B-accuracy': 0.515625}\n"
     ]
    },
    {
     "name": "stderr",
     "output_type": "stream",
     "text": [
      "100%|██████████| 7/7 [00:00<00:00, 14.69it/s]\n",
      "|2023-11-20|23:27:38.684| [INFO] train-EMA-loss: 0.439472\n",
      "|2023-11-20|23:27:39.050| [INFO] infer-train-accuracy: 0.851528\n",
      "|2023-11-20|23:27:39.282| [INFO] infer-valid-A-accuracy: 0.461538\n",
      "|2023-11-20|23:27:39.554| [INFO] infer-valid-B-accuracy: 0.453125\n",
      "|2023-11-20|23:27:39.811| [INFO] EPOCH: 076\n"
     ]
    },
    {
     "name": "stdout",
     "output_type": "stream",
     "text": [
      "best_score {'infer-train-accuracy': 0.9213973799126638, 'infer-valid-A-accuracy': 0.6153846153846154, 'infer-valid-B-accuracy': 0.515625}\n"
     ]
    },
    {
     "name": "stderr",
     "output_type": "stream",
     "text": [
      "100%|██████████| 7/7 [00:00<00:00, 13.78it/s]\n",
      "|2023-11-20|23:27:40.321| [INFO] train-EMA-loss: 0.363450\n",
      "|2023-11-20|23:27:40.698| [INFO] infer-train-accuracy: 0.930131\n",
      "|2023-11-20|23:27:40.933| [INFO] infer-valid-A-accuracy: 0.576923\n",
      "|2023-11-20|23:27:41.202| [INFO] infer-valid-B-accuracy: 0.437500\n",
      "|2023-11-20|23:27:41.464| [INFO] EPOCH: 077\n"
     ]
    },
    {
     "name": "stdout",
     "output_type": "stream",
     "text": [
      "best_score {'infer-train-accuracy': 0.9301310043668122, 'infer-valid-A-accuracy': 0.6153846153846154, 'infer-valid-B-accuracy': 0.515625}\n"
     ]
    },
    {
     "name": "stderr",
     "output_type": "stream",
     "text": [
      "100%|██████████| 7/7 [00:00<00:00, 14.23it/s]\n",
      "|2023-11-20|23:27:41.959| [INFO] train-EMA-loss: 0.553061\n",
      "|2023-11-20|23:27:42.348| [INFO] infer-train-accuracy: 0.864629\n",
      "|2023-11-20|23:27:42.591| [INFO] infer-valid-A-accuracy: 0.576923\n",
      "|2023-11-20|23:27:42.862| [INFO] infer-valid-B-accuracy: 0.468750\n",
      "|2023-11-20|23:27:43.121| [INFO] EPOCH: 078\n"
     ]
    },
    {
     "name": "stdout",
     "output_type": "stream",
     "text": [
      "best_score {'infer-train-accuracy': 0.9301310043668122, 'infer-valid-A-accuracy': 0.6153846153846154, 'infer-valid-B-accuracy': 0.515625}\n"
     ]
    },
    {
     "name": "stderr",
     "output_type": "stream",
     "text": [
      "100%|██████████| 7/7 [00:00<00:00, 14.41it/s]\n",
      "|2023-11-20|23:27:43.609| [INFO] train-EMA-loss: 0.392650\n",
      "|2023-11-20|23:27:44.019| [INFO] infer-train-accuracy: 0.895197\n",
      "|2023-11-20|23:27:44.331| [INFO] infer-valid-A-accuracy: 0.500000\n",
      "|2023-11-20|23:27:44.630| [INFO] infer-valid-B-accuracy: 0.468750\n",
      "|2023-11-20|23:27:45.196| [INFO] EPOCH: 079\n"
     ]
    },
    {
     "name": "stdout",
     "output_type": "stream",
     "text": [
      "best_score {'infer-train-accuracy': 0.9301310043668122, 'infer-valid-A-accuracy': 0.6153846153846154, 'infer-valid-B-accuracy': 0.515625}\n"
     ]
    },
    {
     "name": "stderr",
     "output_type": "stream",
     "text": [
      "100%|██████████| 7/7 [00:00<00:00, 11.55it/s]\n",
      "|2023-11-20|23:27:45.805| [INFO] train-EMA-loss: 0.350545\n",
      "|2023-11-20|23:27:46.265| [INFO] infer-train-accuracy: 0.908297\n",
      "|2023-11-20|23:27:46.566| [INFO] infer-valid-A-accuracy: 0.538462\n",
      "|2023-11-20|23:27:46.944| [INFO] infer-valid-B-accuracy: 0.390625\n",
      "|2023-11-20|23:27:47.257| [INFO] EPOCH: 080\n"
     ]
    },
    {
     "name": "stdout",
     "output_type": "stream",
     "text": [
      "best_score {'infer-train-accuracy': 0.9301310043668122, 'infer-valid-A-accuracy': 0.6153846153846154, 'infer-valid-B-accuracy': 0.515625}\n"
     ]
    },
    {
     "name": "stderr",
     "output_type": "stream",
     "text": [
      "100%|██████████| 7/7 [00:00<00:00, 13.02it/s]\n",
      "|2023-11-20|23:27:47.796| [INFO] train-EMA-loss: 0.354292\n",
      "|2023-11-20|23:27:48.222| [INFO] infer-train-accuracy: 0.930131\n",
      "|2023-11-20|23:27:48.524| [INFO] infer-valid-A-accuracy: 0.500000\n",
      "|2023-11-20|23:27:48.836| [INFO] infer-valid-B-accuracy: 0.484375\n",
      "|2023-11-20|23:27:49.116| [INFO] EPOCH: 081\n"
     ]
    },
    {
     "name": "stdout",
     "output_type": "stream",
     "text": [
      "best_score {'infer-train-accuracy': 0.9301310043668122, 'infer-valid-A-accuracy': 0.6153846153846154, 'infer-valid-B-accuracy': 0.515625}\n"
     ]
    },
    {
     "name": "stderr",
     "output_type": "stream",
     "text": [
      "100%|██████████| 7/7 [00:00<00:00, 12.45it/s]\n",
      "|2023-11-20|23:27:49.680| [INFO] train-EMA-loss: 0.445007\n",
      "|2023-11-20|23:27:50.114| [INFO] infer-train-accuracy: 0.930131\n",
      "|2023-11-20|23:27:50.362| [INFO] infer-valid-A-accuracy: 0.500000\n",
      "|2023-11-20|23:27:50.659| [INFO] infer-valid-B-accuracy: 0.515625\n",
      "|2023-11-20|23:27:50.941| [INFO] EPOCH: 082\n"
     ]
    },
    {
     "name": "stdout",
     "output_type": "stream",
     "text": [
      "best_score {'infer-train-accuracy': 0.9301310043668122, 'infer-valid-A-accuracy': 0.6153846153846154, 'infer-valid-B-accuracy': 0.515625}\n"
     ]
    },
    {
     "name": "stderr",
     "output_type": "stream",
     "text": [
      "100%|██████████| 7/7 [00:00<00:00, 13.10it/s]\n",
      "|2023-11-20|23:27:51.477| [INFO] train-EMA-loss: 0.413705\n",
      "|2023-11-20|23:27:51.892| [INFO] infer-train-accuracy: 0.943231\n",
      "|2023-11-20|23:27:52.130| [INFO] infer-valid-A-accuracy: 0.615385\n",
      "|2023-11-20|23:27:52.428| [INFO] infer-valid-B-accuracy: 0.437500\n",
      "|2023-11-20|23:27:52.686| [INFO] EPOCH: 083\n"
     ]
    },
    {
     "name": "stdout",
     "output_type": "stream",
     "text": [
      "best_score {'infer-train-accuracy': 0.9432314410480349, 'infer-valid-A-accuracy': 0.6153846153846154, 'infer-valid-B-accuracy': 0.515625}\n"
     ]
    },
    {
     "name": "stderr",
     "output_type": "stream",
     "text": [
      "100%|██████████| 7/7 [00:00<00:00, 13.16it/s]\n",
      "|2023-11-20|23:27:53.221| [INFO] train-EMA-loss: 0.426821\n",
      "|2023-11-20|23:27:53.683| [INFO] infer-train-accuracy: 0.895197\n",
      "|2023-11-20|23:27:53.933| [INFO] infer-valid-A-accuracy: 0.384615\n",
      "|2023-11-20|23:27:54.269| [INFO] infer-valid-B-accuracy: 0.531250\n",
      "|2023-11-20|23:27:54.545| [INFO] EPOCH: 084\n"
     ]
    },
    {
     "name": "stdout",
     "output_type": "stream",
     "text": [
      "best_score {'infer-train-accuracy': 0.9432314410480349, 'infer-valid-A-accuracy': 0.6153846153846154, 'infer-valid-B-accuracy': 0.53125}\n"
     ]
    },
    {
     "name": "stderr",
     "output_type": "stream",
     "text": [
      "100%|██████████| 7/7 [00:00<00:00, 14.10it/s]\n",
      "|2023-11-20|23:27:55.044| [INFO] train-EMA-loss: 0.332616\n",
      "|2023-11-20|23:27:55.453| [INFO] infer-train-accuracy: 0.917031\n",
      "|2023-11-20|23:27:55.746| [INFO] infer-valid-A-accuracy: 0.461538\n",
      "|2023-11-20|23:27:56.035| [INFO] infer-valid-B-accuracy: 0.500000\n",
      "|2023-11-20|23:27:56.301| [INFO] EPOCH: 085\n"
     ]
    },
    {
     "name": "stdout",
     "output_type": "stream",
     "text": [
      "best_score {'infer-train-accuracy': 0.9432314410480349, 'infer-valid-A-accuracy': 0.6153846153846154, 'infer-valid-B-accuracy': 0.53125}\n"
     ]
    },
    {
     "name": "stderr",
     "output_type": "stream",
     "text": [
      "100%|██████████| 7/7 [00:00<00:00, 11.35it/s]\n",
      "|2023-11-20|23:27:56.920| [INFO] train-EMA-loss: 0.302322\n",
      "|2023-11-20|23:27:57.350| [INFO] infer-train-accuracy: 0.965066\n",
      "|2023-11-20|23:27:57.594| [INFO] infer-valid-A-accuracy: 0.576923\n",
      "|2023-11-20|23:27:57.894| [INFO] infer-valid-B-accuracy: 0.453125\n",
      "|2023-11-20|23:27:58.159| [INFO] EPOCH: 086\n"
     ]
    },
    {
     "name": "stdout",
     "output_type": "stream",
     "text": [
      "best_score {'infer-train-accuracy': 0.9650655021834061, 'infer-valid-A-accuracy': 0.6153846153846154, 'infer-valid-B-accuracy': 0.53125}\n"
     ]
    },
    {
     "name": "stderr",
     "output_type": "stream",
     "text": [
      "100%|██████████| 7/7 [00:00<00:00, 13.02it/s]\n",
      "|2023-11-20|23:27:58.699| [INFO] train-EMA-loss: 0.240714\n",
      "|2023-11-20|23:27:59.080| [INFO] infer-train-accuracy: 0.947598\n",
      "|2023-11-20|23:27:59.327| [INFO] infer-valid-A-accuracy: 0.500000\n",
      "|2023-11-20|23:27:59.609| [INFO] infer-valid-B-accuracy: 0.468750\n",
      "|2023-11-20|23:27:59.887| [INFO] EPOCH: 087\n"
     ]
    },
    {
     "name": "stdout",
     "output_type": "stream",
     "text": [
      "best_score {'infer-train-accuracy': 0.9650655021834061, 'infer-valid-A-accuracy': 0.6153846153846154, 'infer-valid-B-accuracy': 0.53125}\n"
     ]
    },
    {
     "name": "stderr",
     "output_type": "stream",
     "text": [
      "100%|██████████| 7/7 [00:00<00:00, 12.97it/s]\n",
      "|2023-11-20|23:28:00.430| [INFO] train-EMA-loss: 0.359563\n",
      "|2023-11-20|23:28:00.892| [INFO] infer-train-accuracy: 0.973799\n",
      "|2023-11-20|23:28:01.177| [INFO] infer-valid-A-accuracy: 0.576923\n",
      "|2023-11-20|23:28:01.496| [INFO] infer-valid-B-accuracy: 0.500000\n",
      "|2023-11-20|23:28:01.788| [INFO] EPOCH: 088\n"
     ]
    },
    {
     "name": "stdout",
     "output_type": "stream",
     "text": [
      "best_score {'infer-train-accuracy': 0.9737991266375546, 'infer-valid-A-accuracy': 0.6153846153846154, 'infer-valid-B-accuracy': 0.53125}\n"
     ]
    },
    {
     "name": "stderr",
     "output_type": "stream",
     "text": [
      "100%|██████████| 7/7 [00:00<00:00, 13.95it/s]\n",
      "|2023-11-20|23:28:02.292| [INFO] train-EMA-loss: 0.318997\n",
      "|2023-11-20|23:28:02.695| [INFO] infer-train-accuracy: 0.960699\n",
      "|2023-11-20|23:28:02.936| [INFO] infer-valid-A-accuracy: 0.576923\n",
      "|2023-11-20|23:28:03.212| [INFO] infer-valid-B-accuracy: 0.515625\n",
      "|2023-11-20|23:28:03.482| [INFO] EPOCH: 089\n"
     ]
    },
    {
     "name": "stdout",
     "output_type": "stream",
     "text": [
      "best_score {'infer-train-accuracy': 0.9737991266375546, 'infer-valid-A-accuracy': 0.6153846153846154, 'infer-valid-B-accuracy': 0.53125}\n"
     ]
    },
    {
     "name": "stderr",
     "output_type": "stream",
     "text": [
      "100%|██████████| 7/7 [00:00<00:00, 14.33it/s]\n",
      "|2023-11-20|23:28:03.972| [INFO] train-EMA-loss: 0.296807\n",
      "|2023-11-20|23:28:04.358| [INFO] infer-train-accuracy: 0.934498\n",
      "|2023-11-20|23:28:04.625| [INFO] infer-valid-A-accuracy: 0.461538\n",
      "|2023-11-20|23:28:04.934| [INFO] infer-valid-B-accuracy: 0.453125\n",
      "|2023-11-20|23:28:05.227| [INFO] EPOCH: 090\n"
     ]
    },
    {
     "name": "stdout",
     "output_type": "stream",
     "text": [
      "best_score {'infer-train-accuracy': 0.9737991266375546, 'infer-valid-A-accuracy': 0.6153846153846154, 'infer-valid-B-accuracy': 0.53125}\n"
     ]
    },
    {
     "name": "stderr",
     "output_type": "stream",
     "text": [
      "100%|██████████| 7/7 [00:00<00:00, 13.27it/s]\n",
      "|2023-11-20|23:28:05.757| [INFO] train-EMA-loss: 0.370254\n",
      "|2023-11-20|23:28:06.194| [INFO] infer-train-accuracy: 0.969432\n",
      "|2023-11-20|23:28:06.441| [INFO] infer-valid-A-accuracy: 0.576923\n",
      "|2023-11-20|23:28:06.730| [INFO] infer-valid-B-accuracy: 0.437500\n",
      "|2023-11-20|23:28:07.018| [INFO] EPOCH: 091\n"
     ]
    },
    {
     "name": "stdout",
     "output_type": "stream",
     "text": [
      "best_score {'infer-train-accuracy': 0.9737991266375546, 'infer-valid-A-accuracy': 0.6153846153846154, 'infer-valid-B-accuracy': 0.53125}\n"
     ]
    },
    {
     "name": "stderr",
     "output_type": "stream",
     "text": [
      "100%|██████████| 7/7 [00:00<00:00, 13.92it/s]\n",
      "|2023-11-20|23:28:07.523| [INFO] train-EMA-loss: 0.288675\n",
      "|2023-11-20|23:28:07.922| [INFO] infer-train-accuracy: 0.973799\n",
      "|2023-11-20|23:28:08.282| [INFO] infer-valid-A-accuracy: 0.461538\n",
      "|2023-11-20|23:28:08.628| [INFO] infer-valid-B-accuracy: 0.453125\n",
      "|2023-11-20|23:28:08.908| [INFO] EPOCH: 092\n"
     ]
    },
    {
     "name": "stdout",
     "output_type": "stream",
     "text": [
      "best_score {'infer-train-accuracy': 0.9737991266375546, 'infer-valid-A-accuracy': 0.6153846153846154, 'infer-valid-B-accuracy': 0.53125}\n"
     ]
    },
    {
     "name": "stderr",
     "output_type": "stream",
     "text": [
      "100%|██████████| 7/7 [00:00<00:00, 11.01it/s]\n",
      "|2023-11-20|23:28:09.546| [INFO] train-EMA-loss: 0.307521\n",
      "|2023-11-20|23:28:10.014| [INFO] infer-train-accuracy: 0.965066\n",
      "|2023-11-20|23:28:10.264| [INFO] infer-valid-A-accuracy: 0.538462\n",
      "|2023-11-20|23:28:10.550| [INFO] infer-valid-B-accuracy: 0.421875\n",
      "|2023-11-20|23:28:10.823| [INFO] EPOCH: 093\n"
     ]
    },
    {
     "name": "stdout",
     "output_type": "stream",
     "text": [
      "best_score {'infer-train-accuracy': 0.9737991266375546, 'infer-valid-A-accuracy': 0.6153846153846154, 'infer-valid-B-accuracy': 0.53125}\n"
     ]
    },
    {
     "name": "stderr",
     "output_type": "stream",
     "text": [
      "100%|██████████| 7/7 [00:00<00:00, 11.91it/s]\n",
      "|2023-11-20|23:28:11.413| [INFO] train-EMA-loss: 0.298722\n",
      "|2023-11-20|23:28:11.848| [INFO] infer-train-accuracy: 0.965066\n",
      "|2023-11-20|23:28:12.108| [INFO] infer-valid-A-accuracy: 0.615385\n",
      "|2023-11-20|23:28:12.384| [INFO] infer-valid-B-accuracy: 0.531250\n",
      "|2023-11-20|23:28:12.653| [INFO] EPOCH: 094\n"
     ]
    },
    {
     "name": "stdout",
     "output_type": "stream",
     "text": [
      "best_score {'infer-train-accuracy': 0.9737991266375546, 'infer-valid-A-accuracy': 0.6153846153846154, 'infer-valid-B-accuracy': 0.53125}\n"
     ]
    },
    {
     "name": "stderr",
     "output_type": "stream",
     "text": [
      "100%|██████████| 7/7 [00:00<00:00, 13.96it/s]\n",
      "|2023-11-20|23:28:13.157| [INFO] train-EMA-loss: 0.316909\n",
      "|2023-11-20|23:28:13.554| [INFO] infer-train-accuracy: 0.960699\n",
      "|2023-11-20|23:28:13.790| [INFO] infer-valid-A-accuracy: 0.615385\n",
      "|2023-11-20|23:28:14.063| [INFO] infer-valid-B-accuracy: 0.406250\n",
      "|2023-11-20|23:28:14.321| [INFO] EPOCH: 095\n"
     ]
    },
    {
     "name": "stdout",
     "output_type": "stream",
     "text": [
      "best_score {'infer-train-accuracy': 0.9737991266375546, 'infer-valid-A-accuracy': 0.6153846153846154, 'infer-valid-B-accuracy': 0.53125}\n"
     ]
    },
    {
     "name": "stderr",
     "output_type": "stream",
     "text": [
      "100%|██████████| 7/7 [00:00<00:00, 14.93it/s]\n",
      "|2023-11-20|23:28:14.792| [INFO] train-EMA-loss: 0.253864\n",
      "|2023-11-20|23:28:15.166| [INFO] infer-train-accuracy: 0.965066\n",
      "|2023-11-20|23:28:15.409| [INFO] infer-valid-A-accuracy: 0.576923\n",
      "|2023-11-20|23:28:15.688| [INFO] infer-valid-B-accuracy: 0.500000\n",
      "|2023-11-20|23:28:15.976| [INFO] EPOCH: 096\n"
     ]
    },
    {
     "name": "stdout",
     "output_type": "stream",
     "text": [
      "best_score {'infer-train-accuracy': 0.9737991266375546, 'infer-valid-A-accuracy': 0.6153846153846154, 'infer-valid-B-accuracy': 0.53125}\n"
     ]
    },
    {
     "name": "stderr",
     "output_type": "stream",
     "text": [
      "100%|██████████| 7/7 [00:00<00:00, 14.66it/s]\n",
      "|2023-11-20|23:28:16.456| [INFO] train-EMA-loss: 0.227404\n",
      "|2023-11-20|23:28:16.851| [INFO] infer-train-accuracy: 0.960699\n",
      "|2023-11-20|23:28:17.104| [INFO] infer-valid-A-accuracy: 0.500000\n",
      "|2023-11-20|23:28:17.375| [INFO] infer-valid-B-accuracy: 0.468750\n",
      "|2023-11-20|23:28:17.699| [INFO] EPOCH: 097\n"
     ]
    },
    {
     "name": "stdout",
     "output_type": "stream",
     "text": [
      "best_score {'infer-train-accuracy': 0.9737991266375546, 'infer-valid-A-accuracy': 0.6153846153846154, 'infer-valid-B-accuracy': 0.53125}\n"
     ]
    },
    {
     "name": "stderr",
     "output_type": "stream",
     "text": [
      "100%|██████████| 7/7 [00:00<00:00, 14.34it/s]\n",
      "|2023-11-20|23:28:18.190| [INFO] train-EMA-loss: 0.347250\n",
      "|2023-11-20|23:28:18.541| [INFO] infer-train-accuracy: 0.973799\n",
      "|2023-11-20|23:28:18.763| [INFO] infer-valid-A-accuracy: 0.576923\n",
      "|2023-11-20|23:28:19.026| [INFO] infer-valid-B-accuracy: 0.437500\n",
      "|2023-11-20|23:28:19.310| [INFO] EPOCH: 098\n"
     ]
    },
    {
     "name": "stdout",
     "output_type": "stream",
     "text": [
      "best_score {'infer-train-accuracy': 0.9737991266375546, 'infer-valid-A-accuracy': 0.6153846153846154, 'infer-valid-B-accuracy': 0.53125}\n"
     ]
    },
    {
     "name": "stderr",
     "output_type": "stream",
     "text": [
      "100%|██████████| 7/7 [00:00<00:00, 13.49it/s]\n",
      "|2023-11-20|23:28:19.831| [INFO] train-EMA-loss: 0.250289\n",
      "|2023-11-20|23:28:20.203| [INFO] infer-train-accuracy: 0.973799\n",
      "|2023-11-20|23:28:20.447| [INFO] infer-valid-A-accuracy: 0.500000\n",
      "|2023-11-20|23:28:20.718| [INFO] infer-valid-B-accuracy: 0.500000\n",
      "|2023-11-20|23:28:21.041| [INFO] EPOCH: 099\n"
     ]
    },
    {
     "name": "stdout",
     "output_type": "stream",
     "text": [
      "best_score {'infer-train-accuracy': 0.9737991266375546, 'infer-valid-A-accuracy': 0.6153846153846154, 'infer-valid-B-accuracy': 0.53125}\n"
     ]
    },
    {
     "name": "stderr",
     "output_type": "stream",
     "text": [
      "100%|██████████| 7/7 [00:00<00:00, 14.08it/s]\n",
      "|2023-11-20|23:28:21.540| [INFO] train-EMA-loss: 0.395904\n",
      "|2023-11-20|23:28:21.924| [INFO] infer-train-accuracy: 0.986900\n",
      "|2023-11-20|23:28:22.155| [INFO] infer-valid-A-accuracy: 0.576923\n",
      "|2023-11-20|23:28:22.416| [INFO] infer-valid-B-accuracy: 0.453125\n"
     ]
    },
    {
     "name": "stdout",
     "output_type": "stream",
     "text": [
      "best_score {'infer-train-accuracy': 0.9868995633187773, 'infer-valid-A-accuracy': 0.6153846153846154, 'infer-valid-B-accuracy': 0.53125}\n"
     ]
    }
   ],
   "source": [
    "\n",
    "\n",
    "# # we must define the function after training/loading\n",
    "# def nodes_preproc_func(node_features: np.ndarray) -> np.ndarray:\n",
    "#     \"\"\"Pre-processing function for nodes.\"\"\"\n",
    "#     return node_scaler.transform(node_features)\n",
    "nodes_preproc_func = None\n",
    "\n",
    "\n",
    "splits = joblib.load(SPLIT_PATH)\n",
    "loader_kwargs = {\n",
    "    \"num_workers\": 6,\n",
    "    \"batch_size\": 32,\n",
    "}\n",
    "# arch_kwargs = {\n",
    "#     \"dim_features\": NUM_NODE_FEATURES,\n",
    "#     \"dim_target\": NCLASSES,\n",
    "#     \"layers\": [32, 32, 16, 8],\n",
    "#     \"dropout\": 0.3,\n",
    "#     \"pooling\": \"mean\",\n",
    "#     \"conv\": \"EdgeConv\",\n",
    "#     \"aggr\": \"max\",\n",
    "# }\n",
    "\n",
    "\n",
    "arch_kwargs = {\n",
    "    \"dim_features\": NUM_NODE_FEATURES,\n",
    "    \"dim_target\": NCLASSES,\n",
    "    \"layers\": [64, 32, 8],\n",
    "    \"dropout\": 0.3,\n",
    "    \"pooling\": \"mean\",\n",
    "    \"conv\": \"EdgeConv\",\n",
    "    \"aggr\": \"max\",\n",
    "}\n",
    "optim_kwargs = {\n",
    "    \"lr\": 5.0e-4,\n",
    "    \"weight_decay\": 1.0e-4,\n",
    "}\n",
    "\n",
    "NUM_EPOCHS = 100\n",
    "# if not MODEL_DIR.exists() or True:\n",
    "for split_idx, split in enumerate(splits):\n",
    "        new_split = {\n",
    "            \"train\": split[\"train\"],\n",
    "            \"infer-train\": split[\"train\"],\n",
    "            \"infer-valid-A\": split[\"valid\"],\n",
    "            \"infer-valid-B\": split[\"test\"],\n",
    "        }\n",
    "        MODEL_DIR = Path(MODEL_DIR) \n",
    "        split_save_dir = MODEL_DIR / f\"{split_idx:02d}/\"\n",
    "        rm_n_mkdir(split_save_dir)\n",
    "        reset_logging(split_save_dir)\n",
    "        run_once(\n",
    "            new_split,\n",
    "            NUM_EPOCHS,\n",
    "            save_dir=split_save_dir,\n",
    "            arch_kwargs=arch_kwargs,\n",
    "            loader_kwargs=loader_kwargs,\n",
    "            optim_kwargs=optim_kwargs,\n",
    "            on_gpu=ON_GPU,\n",
    "        )"
   ]
  },
  {
   "cell_type": "code",
   "execution_count": 164,
   "metadata": {},
   "outputs": [
    {
     "data": {
      "text/plain": [
       "SlideGraphArch(\n",
       "  (first_h): Sequential(\n",
       "    (0): Linear(in_features=128, out_features=64, bias=True)\n",
       "    (1): BatchNorm1d(64, eps=1e-05, momentum=0.1, affine=True, track_running_stats=True)\n",
       "    (2): ReLU()\n",
       "  )\n",
       "  (nns): ModuleList(\n",
       "    (0): Sequential(\n",
       "      (0): Linear(in_features=128, out_features=32, bias=True)\n",
       "      (1): BatchNorm1d(32, eps=1e-05, momentum=0.1, affine=True, track_running_stats=True)\n",
       "      (2): ReLU()\n",
       "    )\n",
       "    (1): Sequential(\n",
       "      (0): Linear(in_features=64, out_features=8, bias=True)\n",
       "      (1): BatchNorm1d(8, eps=1e-05, momentum=0.1, affine=True, track_running_stats=True)\n",
       "      (2): ReLU()\n",
       "    )\n",
       "  )\n",
       "  (convs): ModuleList(\n",
       "    (0): EdgeConv(nn=Sequential(\n",
       "      (0): Linear(in_features=128, out_features=32, bias=True)\n",
       "      (1): BatchNorm1d(32, eps=1e-05, momentum=0.1, affine=True, track_running_stats=True)\n",
       "      (2): ReLU()\n",
       "    ))\n",
       "    (1): EdgeConv(nn=Sequential(\n",
       "      (0): Linear(in_features=64, out_features=8, bias=True)\n",
       "      (1): BatchNorm1d(8, eps=1e-05, momentum=0.1, affine=True, track_running_stats=True)\n",
       "      (2): ReLU()\n",
       "    ))\n",
       "  )\n",
       "  (linears): ModuleList(\n",
       "    (0): Linear(in_features=64, out_features=3, bias=True)\n",
       "    (1): Linear(in_features=32, out_features=3, bias=True)\n",
       "    (2): Linear(in_features=8, out_features=3, bias=True)\n",
       "  )\n",
       ")"
      ]
     },
     "execution_count": 164,
     "metadata": {},
     "output_type": "execute_result"
    }
   ],
   "source": [
    "\n",
    "arch_kwargs = {\n",
    "    \"dim_features\": NUM_NODE_FEATURES,\n",
    "    \"dim_target\": NCLASSES,\n",
    "    \"layers\": [64, 32, 8],\n",
    "    \"dropout\": 0.3,\n",
    "    \"pooling\": \"mean\",\n",
    "    \"conv\": \"EdgeConv\",\n",
    "    \"aggr\": \"max\",\n",
    "}\n",
    "model = SlideGraphArch(**arch_kwargs)\n",
    "model"
   ]
  },
  {
   "cell_type": "code",
   "execution_count": null,
   "metadata": {},
   "outputs": [],
   "source": []
  }
 ],
 "metadata": {
  "kernelspec": {
   "display_name": "DL2",
   "language": "python",
   "name": "python3"
  },
  "language_info": {
   "codemirror_mode": {
    "name": "ipython",
    "version": 3
   },
   "file_extension": ".py",
   "mimetype": "text/x-python",
   "name": "python",
   "nbconvert_exporter": "python",
   "pygments_lexer": "ipython3",
   "version": "3.10.13"
  }
 },
 "nbformat": 4,
 "nbformat_minor": 2
}
