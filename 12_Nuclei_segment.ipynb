{
  "cells": [
    {
      "cell_type": "markdown",
      "metadata": {
        "id": "GTfV-nd683PZ"
      },
      "source": [
        "# Nucleus Instance Segmentation"
      ]
    },
    {
      "cell_type": "code",
      "execution_count": null,
      "metadata": {
        "id": "oCOSzUCUXnfh",
        "tags": [
          "remove-cell"
        ]
      },
      "outputs": [],
      "source": [
        "# %%bash\n",
        "# apt-get -y install libopenjp2-7-dev libopenjp2-tools openslide-tools libpixman-1-dev | tail -n 1\n",
        "# pip install git+https://github.com/TissueImageAnalytics/tiatoolbox.git@develop | tail -n 1\n",
        "# echo \"Installation is done.\""
      ]
    },
    {
      "cell_type": "code",
      "execution_count": 1,
      "metadata": {
        "id": "UEIfjUTaJLPj"
      },
      "outputs": [
        {
          "name": "stderr",
          "output_type": "stream",
          "text": [
            "|2023-11-04|12:19:38.582| [WARNING] /home/amrit/anaconda3/envs/DL/lib/python3.10/site-packages/umap/distances.py:1063: NumbaDeprecationWarning: The 'nopython' keyword argument was not supplied to the 'numba.jit' decorator. The implicit default value for this argument is currently False, but it will be changed to True in Numba 0.59.0. See https://numba.readthedocs.io/en/stable/reference/deprecation.html#deprecation-of-object-mode-fall-back-behaviour-when-using-jit for details.\n",
            "  @numba.jit()\n",
            "\n",
            "|2023-11-04|12:19:38.583| [WARNING] /home/amrit/anaconda3/envs/DL/lib/python3.10/site-packages/umap/distances.py:1071: NumbaDeprecationWarning: The 'nopython' keyword argument was not supplied to the 'numba.jit' decorator. The implicit default value for this argument is currently False, but it will be changed to True in Numba 0.59.0. See https://numba.readthedocs.io/en/stable/reference/deprecation.html#deprecation-of-object-mode-fall-back-behaviour-when-using-jit for details.\n",
            "  @numba.jit()\n",
            "\n",
            "|2023-11-04|12:19:38.584| [WARNING] /home/amrit/anaconda3/envs/DL/lib/python3.10/site-packages/umap/distances.py:1086: NumbaDeprecationWarning: The 'nopython' keyword argument was not supplied to the 'numba.jit' decorator. The implicit default value for this argument is currently False, but it will be changed to True in Numba 0.59.0. See https://numba.readthedocs.io/en/stable/reference/deprecation.html#deprecation-of-object-mode-fall-back-behaviour-when-using-jit for details.\n",
            "  @numba.jit()\n",
            "\n",
            "|2023-11-04|12:19:38.952| [WARNING] /home/amrit/anaconda3/envs/DL/lib/python3.10/site-packages/tqdm/auto.py:21: TqdmWarning: IProgress not found. Please update jupyter and ipywidgets. See https://ipywidgets.readthedocs.io/en/stable/user_install.html\n",
            "  from .autonotebook import tqdm as notebook_tqdm\n",
            "\n",
            "|2023-11-04|12:19:41.710| [WARNING] /home/amrit/anaconda3/envs/DL/lib/python3.10/site-packages/umap/umap_.py:660: NumbaDeprecationWarning: The 'nopython' keyword argument was not supplied to the 'numba.jit' decorator. The implicit default value for this argument is currently False, but it will be changed to True in Numba 0.59.0. See https://numba.readthedocs.io/en/stable/reference/deprecation.html#deprecation-of-object-mode-fall-back-behaviour-when-using-jit for details.\n",
            "  @numba.jit()\n",
            "\n",
            "|2023-11-04|12:19:42.649| [WARNING] /tmp/ipykernel_10397/1192300010.py:34: DeprecationWarning: This function has no longer any effect, and will be removed in a future release. Starting with Shapely 2.0, equivalent speedups are always available\n",
            "  speedups.enable()\n",
            "\n"
          ]
        }
      ],
      "source": [
        "\"\"\"Import modules required to run the Jupyter notebook.\"\"\"\n",
        "# Clear logger to use tiatoolbox.logger\n",
        "import logging\n",
        "import warnings\n",
        "\n",
        "from PIL import Image\n",
        "\n",
        "if logging.getLogger().hasHandlers():\n",
        "    logging.getLogger().handlers.clear()\n",
        "\n",
        "from tiatoolbox.data import stain_norm_target\n",
        "from tiatoolbox.tools.stainnorm import get_normalizer\n",
        "import shutil\n",
        "import slideio\n",
        "\n",
        "import cv2\n",
        "import joblib\n",
        "import matplotlib as mpl\n",
        "import matplotlib.pyplot as plt\n",
        "import numpy as np\n",
        "\n",
        "\n",
        "\n",
        "from matplotlib import colormaps\n",
        "from numpy.typing import ArrayLike\n",
        "from PIL import Image, ImageFilter, ImageOps\n",
        "from shapely import speedups\n",
        "from shapely.geometry import Polygon\n",
        "\n",
        "from tiatoolbox import logger\n",
        "from tiatoolbox.annotation.storage import Annotation, AnnotationStore\n",
        "\n",
        "if speedups.available:  # pragma: no branch\n",
        "    speedups.enable()\n",
        "\n",
        "\n",
        "from tiatoolbox import logger\n",
        "from tiatoolbox.models.engine.nucleus_instance_segmentor import NucleusInstanceSegmentor\n",
        "from tiatoolbox.utils.misc import download_data, imread\n",
        "\n",
        "# We need this function to visualize the nuclear predictions\n",
        "from tiatoolbox.utils.visualization import (\n",
        "    overlay_prediction_contours,\n",
        ")\n",
        "from tiatoolbox.wsicore.wsireader import WSIReader\n",
        "\n",
        "warnings.filterwarnings(\"ignore\")\n",
        "mpl.rcParams[\"figure.dpi\"] = 300  # for high resolution figure in notebook\n",
        "mpl.rcParams[\"figure.facecolor\"] = \"white\"  # To make sure text is visible in dark mode\n",
        "plt.rcParams.update({\"font.size\": 5})\n",
        "\n",
        "from src.visualize import overlay_prediction_contours"
      ]
    },
    {
      "cell_type": "markdown",
      "metadata": {},
      "source": [
        "> ![image](https://tiatoolbox.dcs.warwick.ac.uk/notebook/hovernet_samples.PNG)\n"
      ]
    },
    {
      "cell_type": "code",
      "execution_count": null,
      "metadata": {},
      "outputs": [],
      "source": [
        "import pandas as pd\n",
        "df2= pd.read_csv(\"/home/amrit/data/proj_data/MLG_project/DLBCL-Morph/TMA/annotations_clean.csv\")\n",
        "print(df2['stain'].unique())\n",
        "# df2 = df2[df2['patient_id'] == 17666]\n",
        "# df2 = df2[df2['patient_id'] == 13968]\n",
        "# df2 = df2[df2['patient_id'] == 17658]\n",
        "\n",
        "print(df2['stain'].unique())\n",
        "print(df2['tma_id'].unique())\n",
        "\n",
        "\n",
        "df2 = df2.sort_values(\"patient_id\")\n",
        "# df2 = df2[df2['tma_id'] == 'TA292']\n",
        "df2['area'] = (df2['xe'] - df2['xs']) *  (df2['ye'] - df2['ys'])/10000\n",
        "df2 = df2[df2['area'] >= 150]  \n",
        "\n",
        "df2 = df2[df2['stain'] == 'MYC']\n",
        "df2 = df2[df2['xs']  >=0 ]\n",
        "df2 = df2[df2['ys']  >=0 ]\n",
        "df2 = df2[df2['xe']  >=0 ]\n",
        "df2 = df2[df2['ye']  >=0 ]\n",
        "\n",
        "df2 = df2.reset_index()\n",
        "\n",
        "\n",
        "df2"
      ]
    },
    {
      "cell_type": "code",
      "execution_count": null,
      "metadata": {},
      "outputs": [],
      "source": [
        "df2.describe()"
      ]
    },
    {
      "cell_type": "code",
      "execution_count": null,
      "metadata": {},
      "outputs": [],
      "source": [
        "df2[240:260]"
      ]
    },
    {
      "cell_type": "markdown",
      "metadata": {},
      "source": [
        "# Single run"
      ]
    },
    {
      "cell_type": "code",
      "execution_count": 19,
      "metadata": {},
      "outputs": [
        {
          "name": "stderr",
          "output_type": "stream",
          "text": [
            "Process Batch: 100%|##############################| 2/2 [00:03<00:00,  1.69s/it]\n",
            "INFO:root:Finish: 0\n",
            "INFO:root:--Input: /home/amrit/data/proj_data/MLG_project/DLBCL-Morph/outputs/images/26851/26851_MYC_TA408_1792_596.png\n",
            "INFO:root:--Output: /home/amrit/data/proj_data/MLG_project/DLBCL-Morph/outputs/files/MYC/26851/596/0\n",
            "INFO:root:Number of detected nuclei: 2778\n",
            "INFO:root:Nucleus prediction structure for nucleus ID: ca09a8ece83f4ceaaa7b0b4e12ec0ac5\n",
            "INFO:root:Keys in the output dictionary: [box, centroid, contour, prob, type]\n",
            "INFO:root:Bounding box: (831, 381, 864, 402)\n",
            "INFO:root:Centroid: (847, 390)\n"
          ]
        },
        {
          "name": "stdout",
          "output_type": "stream",
          "text": [
            "count_dict {0: 2019, 1: 474, 2: 138, 3: 16, 4: 131, 5: 0}\n",
            "selected_count_dict {0: 1940, 1: 448, 2: 111, 3: 7, 4: 112, 5: 0}\n"
          ]
        },
        {
          "name": "stderr",
          "output_type": "stream",
          "text": [
            "WARNING:matplotlib.image:Clipping input data to the valid range for imshow with RGB data ([0..1] for floats or [0..255] for integers).\n"
          ]
        },
        {
          "name": "stdout",
          "output_type": "stream",
          "text": [
            "index 354\n",
            "level_0            589\n",
            "index              589\n",
            "patient_id       26851\n",
            "tma_id           TA408\n",
            "stain              MYC\n",
            "xs               10096\n",
            "ys                9388\n",
            "xe               12733\n",
            "ye               11859\n",
            "area          651.6027\n",
            "Name: 354, dtype: object\n",
            "26851 MYC TA408 10096 9388 12733 11859 2637 2471\n",
            "{'objective_power': 40.0, 'slide_dimensions': (161270, 43078), 'level_count': 4, 'level_dimensions': ((161270, 43078), (40317, 10769), (10079, 2692), (2519, 673)), 'level_downsamples': [1.0, 4.000117662565491, 16.00141206165203, 64.01517619140594], 'vendor': 'aperio', 'mpp': (0.2535, 0.2535), 'file_path': PosixPath('/home/amrit/data/proj_data/MLG_project/DLBCL-Morph/TMA/MYC/TA408.svs'), 'axes': 'YXS'}\n",
            "(2771, 2937, 3)\n"
          ]
        },
        {
          "name": "stderr",
          "output_type": "stream",
          "text": [
            "WARNING:root:WSIPatchDataset only reads image tile at `units=\"baseline\"`. Resolutions will be converted to baseline value.\n",
            "WARNING:root:WSIPatchDataset only reads image tile at `units=\"baseline\"`. Resolutions will be converted to baseline value.\n",
            "WARNING:root:Raw data is None.\n",
            "WARNING:root:Unknown scale (no objective_power or mpp)\n"
          ]
        },
        {
          "name": "stdout",
          "output_type": "stream",
          "text": [
            "mode tile\n"
          ]
        },
        {
          "name": "stderr",
          "output_type": "stream",
          "text": [
            "Process Batch:   0%|                                      | 0/7 [00:00<?, ?it/s]WARNING:root:Raw data is None.\n",
            "WARNING:root:Raw data is None.\n",
            "WARNING:root:Raw data is None.\n",
            "WARNING:root:Raw data is None.\n",
            "Process Batch: 100%|##############################| 7/7 [00:11<00:00,  1.60s/it]\n",
            "Process Batch: 100%|##############################| 7/7 [00:11<00:00,  1.67s/it]\n",
            "Process Batch: 100%|##############################| 7/7 [00:10<00:00,  1.45s/it]\n",
            "Process Batch: 100%|##############################| 7/7 [00:11<00:00,  1.67s/it]\n",
            "Process Batch: 100%|##############################| 8/8 [00:13<00:00,  1.67s/it]\n",
            "Process Batch: 100%|##############################| 7/7 [00:11<00:00,  1.67s/it]\n",
            "Process Batch: 100%|##############################| 6/6 [00:08<00:00,  1.46s/it]\n",
            "Process Batch: 100%|##############################| 6/6 [00:10<00:00,  1.67s/it]\n",
            "Process Batch: 100%|##############################| 6/6 [00:08<00:00,  1.46s/it]\n",
            "Process Batch: 100%|##############################| 2/2 [00:02<00:00,  1.45s/it]\n",
            "Process Batch: 100%|##############################| 2/2 [00:02<00:00,  1.46s/it]\n",
            "Process Batch: 100%|##############################| 2/2 [00:03<00:00,  1.69s/it]\n",
            "Process Batch: 100%|##############################| 2/2 [00:03<00:00,  1.68s/it]\n",
            "Process Batch: 100%|##############################| 2/2 [00:02<00:00,  1.25s/it]\n",
            "Process Batch: 100%|##############################| 2/2 [00:02<00:00,  1.25s/it]\n",
            "Process Batch: 100%|##############################| 2/2 [00:02<00:00,  1.45s/it]\n",
            "Process Batch: 100%|##############################| 2/2 [00:03<00:00,  1.69s/it]\n",
            "Process Batch: 100%|##############################| 2/2 [00:02<00:00,  1.45s/it]\n",
            "Process Batch: 100%|##############################| 2/2 [00:02<00:00,  1.45s/it]\n",
            "Process Batch: 100%|##############################| 2/2 [00:03<00:00,  1.68s/it]\n",
            "Process Batch: 100%|##############################| 2/2 [00:02<00:00,  1.45s/it]\n",
            "Process Batch: 100%|##############################| 2/2 [00:03<00:00,  1.68s/it]\n",
            "Process Batch: 100%|##############################| 2/2 [00:03<00:00,  1.68s/it]\n",
            "Process Batch: 100%|##############################| 2/2 [00:03<00:00,  1.68s/it]\n",
            "Process Batch: 100%|##############################| 2/2 [00:03<00:00,  1.68s/it]\n",
            "INFO:root:Finish: 0\n",
            "INFO:root:--Input: /home/amrit/data/proj_data/MLG_project/DLBCL-Morph/outputs/images/26851/26851_MYC_TA408_1792_589.png\n",
            "INFO:root:--Output: /home/amrit/data/proj_data/MLG_project/DLBCL-Morph/outputs/files/MYC/26851/589/0\n",
            "INFO:root:Number of detected nuclei: 5383\n",
            "INFO:root:Nucleus prediction structure for nucleus ID: a56f2cc3568144e9b6571e9ce2f85d1b\n",
            "INFO:root:Keys in the output dictionary: [box, centroid, contour, prob, type]\n",
            "INFO:root:Bounding box: (844, 382, 862, 405)\n",
            "INFO:root:Centroid: (853, 391)\n"
          ]
        },
        {
          "name": "stdout",
          "output_type": "stream",
          "text": [
            "count_dict {0: 1879, 1: 2186, 2: 761, 3: 35, 4: 522, 5: 0}\n",
            "selected_count_dict {0: 1586, 1: 1948, 2: 599, 3: 19, 4: 408, 5: 0}\n"
          ]
        },
        {
          "name": "stderr",
          "output_type": "stream",
          "text": [
            "WARNING:matplotlib.image:Clipping input data to the valid range for imshow with RGB data ([0..1] for floats or [0..255] for integers).\n"
          ]
        },
        {
          "name": "stdout",
          "output_type": "stream",
          "text": [
            "index 355\n",
            "level_0            579\n",
            "index              579\n",
            "patient_id       26853\n",
            "tma_id           TA408\n",
            "stain              MYC\n",
            "xs               38970\n",
            "ys                7135\n",
            "xe               41451\n",
            "ye                9591\n",
            "area          609.3336\n",
            "Name: 355, dtype: object\n",
            "26853 MYC TA408 38970 7135 41451 9591 2481 2456\n",
            "{'objective_power': 40.0, 'slide_dimensions': (161270, 43078), 'level_count': 4, 'level_dimensions': ((161270, 43078), (40317, 10769), (10079, 2692), (2519, 673)), 'level_downsamples': [1.0, 4.000117662565491, 16.00141206165203, 64.01517619140594], 'vendor': 'aperio', 'mpp': (0.2535, 0.2535), 'file_path': PosixPath('/home/amrit/data/proj_data/MLG_project/DLBCL-Morph/TMA/MYC/TA408.svs'), 'axes': 'YXS'}\n",
            "(2756, 2781, 3)\n"
          ]
        },
        {
          "name": "stderr",
          "output_type": "stream",
          "text": [
            "WARNING:root:WSIPatchDataset only reads image tile at `units=\"baseline\"`. Resolutions will be converted to baseline value.\n",
            "WARNING:root:WSIPatchDataset only reads image tile at `units=\"baseline\"`. Resolutions will be converted to baseline value.\n"
          ]
        },
        {
          "name": "stdout",
          "output_type": "stream",
          "text": [
            "mode tile\n"
          ]
        },
        {
          "name": "stderr",
          "output_type": "stream",
          "text": [
            "WARNING:root:Raw data is None.\n",
            "WARNING:root:Unknown scale (no objective_power or mpp)\n",
            "Process Batch:   0%|                                      | 0/7 [00:00<?, ?it/s]WARNING:root:Raw data is None.\n",
            "WARNING:root:Raw data is None.\n",
            "WARNING:root:Raw data is None.\n",
            "WARNING:root:Raw data is None.\n",
            "Process Batch: 100%|##############################| 7/7 [00:11<00:00,  1.58s/it]\n",
            "Process Batch: 100%|##############################| 7/7 [00:11<00:00,  1.67s/it]\n",
            "Process Batch: 100%|##############################| 6/6 [00:08<00:00,  1.46s/it]\n",
            "Process Batch: 100%|##############################| 7/7 [00:11<00:00,  1.67s/it]\n",
            "Process Batch: 100%|##############################| 8/8 [00:13<00:00,  1.67s/it]\n",
            "Process Batch: 100%|##############################| 6/6 [00:10<00:00,  1.67s/it]\n",
            "Process Batch: 100%|##############################| 6/6 [00:08<00:00,  1.46s/it]\n",
            "Process Batch: 100%|##############################| 6/6 [00:10<00:00,  1.67s/it]\n",
            "Process Batch: 100%|##############################| 5/5 [00:07<00:00,  1.50s/it]\n",
            "Process Batch: 100%|##############################| 2/2 [00:02<00:00,  1.46s/it]\n",
            "Process Batch: 100%|##############################| 2/2 [00:02<00:00,  1.46s/it]\n",
            "Process Batch: 100%|##############################| 2/2 [00:03<00:00,  1.69s/it]\n",
            "Process Batch: 100%|##############################| 2/2 [00:03<00:00,  1.69s/it]\n",
            "Process Batch: 100%|##############################| 2/2 [00:02<00:00,  1.25s/it]\n",
            "Process Batch: 100%|##############################| 2/2 [00:02<00:00,  1.24s/it]\n",
            "Process Batch: 100%|##############################| 2/2 [00:02<00:00,  1.45s/it]\n",
            "Process Batch: 100%|##############################| 2/2 [00:03<00:00,  1.68s/it]\n",
            "Process Batch: 100%|##############################| 2/2 [00:02<00:00,  1.25s/it]\n",
            "Process Batch: 100%|##############################| 2/2 [00:02<00:00,  1.45s/it]\n",
            "Process Batch: 100%|##############################| 2/2 [00:03<00:00,  1.69s/it]\n",
            "Process Batch: 100%|##############################| 2/2 [00:02<00:00,  1.25s/it]\n",
            "Process Batch: 100%|##############################| 2/2 [00:03<00:00,  1.69s/it]\n",
            "Process Batch: 100%|##############################| 2/2 [00:03<00:00,  1.69s/it]\n",
            "Process Batch: 100%|##############################| 2/2 [00:03<00:00,  1.68s/it]\n",
            "Process Batch: 100%|##############################| 2/2 [00:03<00:00,  1.69s/it]\n",
            "INFO:root:Finish: 0\n",
            "INFO:root:--Input: /home/amrit/data/proj_data/MLG_project/DLBCL-Morph/outputs/images/26853/26853_MYC_TA408_1792_579.png\n",
            "INFO:root:--Output: /home/amrit/data/proj_data/MLG_project/DLBCL-Morph/outputs/files/MYC/26853/579/0\n",
            "INFO:root:Number of detected nuclei: 2410\n",
            "INFO:root:Nucleus prediction structure for nucleus ID: 7ac14e097c404c22b0cfbbdeaf80993d\n",
            "INFO:root:Keys in the output dictionary: [box, centroid, contour, prob, type]\n",
            "INFO:root:Bounding box: (844, 120, 879, 150)\n",
            "INFO:root:Centroid: (860, 135)\n"
          ]
        },
        {
          "name": "stdout",
          "output_type": "stream",
          "text": [
            "count_dict {0: 2168, 1: 52, 2: 167, 3: 23, 4: 0, 5: 0}\n",
            "selected_count_dict {0: 2071, 1: 47, 2: 141, 3: 15, 4: 0, 5: 0}\n"
          ]
        },
        {
          "name": "stderr",
          "output_type": "stream",
          "text": [
            "WARNING:matplotlib.image:Clipping input data to the valid range for imshow with RGB data ([0..1] for floats or [0..255] for integers).\n"
          ]
        },
        {
          "name": "stdout",
          "output_type": "stream",
          "text": [
            "index 356\n",
            "level_0            597\n",
            "index              597\n",
            "patient_id       26853\n",
            "tma_id           TA408\n",
            "stain              MYC\n",
            "xs               42914\n",
            "ys                7194\n",
            "xe               45395\n",
            "ye                9650\n",
            "area          609.3336\n",
            "Name: 356, dtype: object\n",
            "26853 MYC TA408 42914 7194 45395 9650 2481 2456\n",
            "{'objective_power': 40.0, 'slide_dimensions': (161270, 43078), 'level_count': 4, 'level_dimensions': ((161270, 43078), (40317, 10769), (10079, 2692), (2519, 673)), 'level_downsamples': [1.0, 4.000117662565491, 16.00141206165203, 64.01517619140594], 'vendor': 'aperio', 'mpp': (0.2535, 0.2535), 'file_path': PosixPath('/home/amrit/data/proj_data/MLG_project/DLBCL-Morph/TMA/MYC/TA408.svs'), 'axes': 'YXS'}\n",
            "(2756, 2781, 3)\n"
          ]
        },
        {
          "name": "stderr",
          "output_type": "stream",
          "text": [
            "WARNING:root:WSIPatchDataset only reads image tile at `units=\"baseline\"`. Resolutions will be converted to baseline value.\n",
            "WARNING:root:WSIPatchDataset only reads image tile at `units=\"baseline\"`. Resolutions will be converted to baseline value.\n",
            "WARNING:root:Raw data is None.\n",
            "WARNING:root:Unknown scale (no objective_power or mpp)\n"
          ]
        },
        {
          "name": "stdout",
          "output_type": "stream",
          "text": [
            "mode tile\n"
          ]
        },
        {
          "name": "stderr",
          "output_type": "stream",
          "text": [
            "Process Batch:   0%|                                      | 0/7 [00:00<?, ?it/s]WARNING:root:Raw data is None.\n",
            "WARNING:root:Raw data is None.\n",
            "WARNING:root:Raw data is None.\n",
            "WARNING:root:Raw data is None.\n",
            "Process Batch: 100%|##############################| 7/7 [00:11<00:00,  1.59s/it]\n",
            "Process Batch: 100%|##############################| 7/7 [00:11<00:00,  1.67s/it]\n",
            "Process Batch: 100%|##############################| 6/6 [00:08<00:00,  1.46s/it]\n",
            "Process Batch: 100%|##############################| 7/7 [00:11<00:00,  1.67s/it]\n",
            "Process Batch: 100%|##############################| 8/8 [00:13<00:00,  1.68s/it]\n",
            "Process Batch: 100%|##############################| 6/6 [00:10<00:00,  1.67s/it]\n",
            "Process Batch: 100%|##############################| 6/6 [00:08<00:00,  1.46s/it]\n",
            "Process Batch: 100%|##############################| 6/6 [00:10<00:00,  1.67s/it]\n",
            "Process Batch: 100%|##############################| 5/5 [00:07<00:00,  1.50s/it]\n",
            "Process Batch: 100%|##############################| 2/2 [00:02<00:00,  1.45s/it]\n",
            "Process Batch: 100%|##############################| 2/2 [00:02<00:00,  1.45s/it]\n",
            "Process Batch: 100%|##############################| 2/2 [00:03<00:00,  1.68s/it]\n",
            "Process Batch: 100%|##############################| 2/2 [00:03<00:00,  1.69s/it]\n",
            "Process Batch: 100%|##############################| 2/2 [00:02<00:00,  1.25s/it]\n",
            "Process Batch: 100%|##############################| 2/2 [00:02<00:00,  1.25s/it]\n",
            "Process Batch: 100%|##############################| 2/2 [00:02<00:00,  1.45s/it]\n",
            "Process Batch: 100%|##############################| 2/2 [00:03<00:00,  1.69s/it]\n",
            "Process Batch: 100%|##############################| 2/2 [00:02<00:00,  1.25s/it]\n",
            "Process Batch: 100%|##############################| 2/2 [00:02<00:00,  1.45s/it]\n",
            "Process Batch: 100%|##############################| 2/2 [00:03<00:00,  1.68s/it]\n",
            "Process Batch: 100%|##############################| 2/2 [00:02<00:00,  1.25s/it]\n",
            "Process Batch: 100%|##############################| 2/2 [00:03<00:00,  1.68s/it]\n",
            "Process Batch: 100%|##############################| 2/2 [00:03<00:00,  1.69s/it]\n",
            "Process Batch: 100%|##############################| 2/2 [00:03<00:00,  1.68s/it]\n",
            "Process Batch: 100%|##############################| 2/2 [00:03<00:00,  1.68s/it]\n",
            "INFO:root:Finish: 0\n",
            "INFO:root:--Input: /home/amrit/data/proj_data/MLG_project/DLBCL-Morph/outputs/images/26853/26853_MYC_TA408_1792_597.png\n",
            "INFO:root:--Output: /home/amrit/data/proj_data/MLG_project/DLBCL-Morph/outputs/files/MYC/26853/597/0\n",
            "INFO:root:Number of detected nuclei: 2611\n",
            "INFO:root:Nucleus prediction structure for nucleus ID: e75ee08986b449d98c834d265f2ee0d4\n",
            "INFO:root:Keys in the output dictionary: [box, centroid, contour, prob, type]\n",
            "INFO:root:Bounding box: (820, 404, 832, 419)\n",
            "INFO:root:Centroid: (825, 410)\n"
          ]
        },
        {
          "name": "stdout",
          "output_type": "stream",
          "text": [
            "count_dict {0: 2496, 1: 30, 2: 51, 3: 34, 4: 0, 5: 0}\n",
            "selected_count_dict {0: 2421, 1: 27, 2: 44, 3: 23, 4: 0, 5: 0}\n"
          ]
        },
        {
          "name": "stderr",
          "output_type": "stream",
          "text": [
            "WARNING:matplotlib.image:Clipping input data to the valid range for imshow with RGB data ([0..1] for floats or [0..255] for integers).\n"
          ]
        },
        {
          "name": "stdout",
          "output_type": "stream",
          "text": [
            "index 357\n",
            "level_0           621\n",
            "index             621\n",
            "patient_id      26856\n",
            "tma_id          TA408\n",
            "stain             MYC\n",
            "xs              14904\n",
            "ys               5269\n",
            "xe              17301\n",
            "ye               7649\n",
            "area          570.486\n",
            "Name: 357, dtype: object\n",
            "26856 MYC TA408 14904 5269 17301 7649 2397 2380\n",
            "{'objective_power': 40.0, 'slide_dimensions': (161270, 43078), 'level_count': 4, 'level_dimensions': ((161270, 43078), (40317, 10769), (10079, 2692), (2519, 673)), 'level_downsamples': [1.0, 4.000117662565491, 16.00141206165203, 64.01517619140594], 'vendor': 'aperio', 'mpp': (0.2535, 0.2535), 'file_path': PosixPath('/home/amrit/data/proj_data/MLG_project/DLBCL-Morph/TMA/MYC/TA408.svs'), 'axes': 'YXS'}\n",
            "(2680, 2697, 3)\n"
          ]
        },
        {
          "name": "stderr",
          "output_type": "stream",
          "text": [
            "WARNING:root:WSIPatchDataset only reads image tile at `units=\"baseline\"`. Resolutions will be converted to baseline value.\n",
            "WARNING:root:WSIPatchDataset only reads image tile at `units=\"baseline\"`. Resolutions will be converted to baseline value.\n",
            "WARNING:root:Raw data is None.\n",
            "WARNING:root:Unknown scale (no objective_power or mpp)\n"
          ]
        },
        {
          "name": "stdout",
          "output_type": "stream",
          "text": [
            "mode tile\n"
          ]
        },
        {
          "name": "stderr",
          "output_type": "stream",
          "text": [
            "Process Batch:   0%|                                      | 0/7 [00:00<?, ?it/s]WARNING:root:Raw data is None.\n",
            "WARNING:root:Raw data is None.\n",
            "WARNING:root:Raw data is None.\n",
            "WARNING:root:Raw data is None.\n",
            "Process Batch: 100%|##############################| 7/7 [00:11<00:00,  1.60s/it]\n",
            "Process Batch: 100%|##############################| 7/7 [00:11<00:00,  1.67s/it]\n",
            "Process Batch: 100%|##############################| 6/6 [00:08<00:00,  1.46s/it]\n",
            "Process Batch: 100%|##############################| 7/7 [00:11<00:00,  1.67s/it]\n",
            "Process Batch: 100%|##############################| 8/8 [00:13<00:00,  1.67s/it]\n",
            "Process Batch: 100%|##############################| 6/6 [00:10<00:00,  1.67s/it]\n",
            "Process Batch: 100%|##############################| 6/6 [00:08<00:00,  1.46s/it]\n",
            "Process Batch: 100%|##############################| 6/6 [00:10<00:00,  1.67s/it]\n",
            "Process Batch: 100%|##############################| 5/5 [00:07<00:00,  1.50s/it]\n",
            "Process Batch: 100%|##############################| 2/2 [00:02<00:00,  1.45s/it]\n",
            "Process Batch: 100%|##############################| 2/2 [00:02<00:00,  1.46s/it]\n",
            "Process Batch: 100%|##############################| 2/2 [00:03<00:00,  1.68s/it]\n",
            "Process Batch: 100%|##############################| 2/2 [00:03<00:00,  1.68s/it]\n",
            "Process Batch: 100%|##############################| 2/2 [00:02<00:00,  1.24s/it]\n",
            "Process Batch: 100%|##############################| 2/2 [00:02<00:00,  1.25s/it]\n",
            "Process Batch: 100%|##############################| 2/2 [00:02<00:00,  1.45s/it]\n",
            "Process Batch: 100%|##############################| 2/2 [00:03<00:00,  1.68s/it]\n",
            "Process Batch: 100%|##############################| 2/2 [00:02<00:00,  1.25s/it]\n",
            "Process Batch: 100%|##############################| 2/2 [00:02<00:00,  1.45s/it]\n",
            "Process Batch: 100%|##############################| 2/2 [00:03<00:00,  1.68s/it]\n",
            "Process Batch: 100%|##############################| 2/2 [00:02<00:00,  1.24s/it]\n",
            "Process Batch: 100%|##############################| 2/2 [00:03<00:00,  1.68s/it]\n",
            "Process Batch: 100%|##############################| 2/2 [00:03<00:00,  1.68s/it]\n",
            "Process Batch: 100%|##############################| 2/2 [00:03<00:00,  1.68s/it]\n",
            "Process Batch: 100%|##############################| 2/2 [00:03<00:00,  1.68s/it]\n",
            "INFO:root:Finish: 0\n",
            "INFO:root:--Input: /home/amrit/data/proj_data/MLG_project/DLBCL-Morph/outputs/images/26856/26856_MYC_TA408_1792_621.png\n",
            "INFO:root:--Output: /home/amrit/data/proj_data/MLG_project/DLBCL-Morph/outputs/files/MYC/26856/621/0\n",
            "INFO:root:Number of detected nuclei: 1868\n",
            "INFO:root:Nucleus prediction structure for nucleus ID: e70479c277a149f18208813c9d79d62d\n",
            "INFO:root:Keys in the output dictionary: [box, centroid, contour, prob, type]\n",
            "INFO:root:Bounding box: (855, 285, 888, 315)\n",
            "INFO:root:Centroid: (871, 298)\n"
          ]
        },
        {
          "name": "stdout",
          "output_type": "stream",
          "text": [
            "count_dict {0: 1182, 1: 488, 2: 111, 3: 33, 4: 54, 5: 0}\n",
            "selected_count_dict {0: 1076, 1: 446, 2: 84, 3: 26, 4: 45, 5: 0}\n"
          ]
        },
        {
          "name": "stderr",
          "output_type": "stream",
          "text": [
            "WARNING:matplotlib.image:Clipping input data to the valid range for imshow with RGB data ([0..1] for floats or [0..255] for integers).\n"
          ]
        },
        {
          "name": "stdout",
          "output_type": "stream",
          "text": [
            "index 358\n",
            "level_0           613\n",
            "index             613\n",
            "patient_id      26856\n",
            "tma_id          TA408\n",
            "stain             MYC\n",
            "xs              18770\n",
            "ys               5586\n",
            "xe              21167\n",
            "ye               7966\n",
            "area          570.486\n",
            "Name: 358, dtype: object\n",
            "26856 MYC TA408 18770 5586 21167 7966 2397 2380\n",
            "{'objective_power': 40.0, 'slide_dimensions': (161270, 43078), 'level_count': 4, 'level_dimensions': ((161270, 43078), (40317, 10769), (10079, 2692), (2519, 673)), 'level_downsamples': [1.0, 4.000117662565491, 16.00141206165203, 64.01517619140594], 'vendor': 'aperio', 'mpp': (0.2535, 0.2535), 'file_path': PosixPath('/home/amrit/data/proj_data/MLG_project/DLBCL-Morph/TMA/MYC/TA408.svs'), 'axes': 'YXS'}\n",
            "(2680, 2697, 3)\n"
          ]
        },
        {
          "name": "stderr",
          "output_type": "stream",
          "text": [
            "WARNING:root:WSIPatchDataset only reads image tile at `units=\"baseline\"`. Resolutions will be converted to baseline value.\n",
            "WARNING:root:WSIPatchDataset only reads image tile at `units=\"baseline\"`. Resolutions will be converted to baseline value.\n",
            "WARNING:root:Raw data is None.\n",
            "WARNING:root:Unknown scale (no objective_power or mpp)\n"
          ]
        },
        {
          "name": "stdout",
          "output_type": "stream",
          "text": [
            "mode tile\n"
          ]
        },
        {
          "name": "stderr",
          "output_type": "stream",
          "text": [
            "Process Batch:   0%|                                      | 0/7 [00:00<?, ?it/s]WARNING:root:Raw data is None.\n",
            "WARNING:root:Raw data is None.\n",
            "WARNING:root:Raw data is None.\n",
            "WARNING:root:Raw data is None.\n",
            "Process Batch: 100%|##############################| 7/7 [00:11<00:00,  1.59s/it]\n",
            "Process Batch: 100%|##############################| 7/7 [00:11<00:00,  1.67s/it]\n",
            "Process Batch: 100%|##############################| 6/6 [00:08<00:00,  1.46s/it]\n",
            "Process Batch: 100%|##############################| 7/7 [00:11<00:00,  1.67s/it]\n",
            "Process Batch: 100%|##############################| 8/8 [00:13<00:00,  1.68s/it]\n",
            "Process Batch: 100%|##############################| 6/6 [00:10<00:00,  1.68s/it]\n",
            "Process Batch: 100%|##############################| 6/6 [00:08<00:00,  1.47s/it]\n",
            "Process Batch: 100%|##############################| 6/6 [00:10<00:00,  1.68s/it]\n",
            "Process Batch: 100%|##############################| 5/5 [00:07<00:00,  1.51s/it]\n",
            "Process Batch: 100%|##############################| 2/2 [00:02<00:00,  1.46s/it]\n",
            "Process Batch: 100%|##############################| 2/2 [00:02<00:00,  1.46s/it]\n",
            "Process Batch: 100%|##############################| 2/2 [00:03<00:00,  1.69s/it]\n",
            "Process Batch: 100%|##############################| 2/2 [00:03<00:00,  1.70s/it]\n",
            "Process Batch: 100%|##############################| 2/2 [00:02<00:00,  1.26s/it]\n",
            "Process Batch: 100%|##############################| 2/2 [00:02<00:00,  1.25s/it]\n",
            "Process Batch: 100%|##############################| 2/2 [00:02<00:00,  1.46s/it]\n",
            "Process Batch: 100%|##############################| 2/2 [00:03<00:00,  1.69s/it]\n",
            "Process Batch: 100%|##############################| 2/2 [00:02<00:00,  1.25s/it]\n",
            "Process Batch: 100%|##############################| 2/2 [00:02<00:00,  1.46s/it]\n",
            "Process Batch: 100%|##############################| 2/2 [00:03<00:00,  1.69s/it]\n",
            "Process Batch: 100%|##############################| 2/2 [00:02<00:00,  1.25s/it]\n",
            "Process Batch: 100%|##############################| 2/2 [00:03<00:00,  1.69s/it]\n",
            "Process Batch: 100%|##############################| 2/2 [00:03<00:00,  1.69s/it]\n",
            "Process Batch: 100%|##############################| 2/2 [00:03<00:00,  1.69s/it]\n",
            "Process Batch: 100%|##############################| 2/2 [00:03<00:00,  1.70s/it]\n",
            "INFO:root:Finish: 0\n",
            "INFO:root:--Input: /home/amrit/data/proj_data/MLG_project/DLBCL-Morph/outputs/images/26856/26856_MYC_TA408_1792_613.png\n",
            "INFO:root:--Output: /home/amrit/data/proj_data/MLG_project/DLBCL-Morph/outputs/files/MYC/26856/613/0\n",
            "INFO:root:Number of detected nuclei: 2027\n",
            "INFO:root:Nucleus prediction structure for nucleus ID: 863f81827da64535ad2a1788f030a305\n",
            "INFO:root:Keys in the output dictionary: [box, centroid, contour, prob, type]\n",
            "INFO:root:Bounding box: (826, 294, 847, 309)\n",
            "INFO:root:Centroid: (836, 301)\n"
          ]
        },
        {
          "name": "stdout",
          "output_type": "stream",
          "text": [
            "count_dict {0: 1578, 1: 295, 2: 110, 3: 16, 4: 28, 5: 0}\n",
            "selected_count_dict {0: 1486, 1: 278, 2: 91, 3: 12, 4: 24, 5: 0}\n"
          ]
        },
        {
          "name": "stderr",
          "output_type": "stream",
          "text": [
            "WARNING:matplotlib.image:Clipping input data to the valid range for imshow with RGB data ([0..1] for floats or [0..255] for integers).\n"
          ]
        },
        {
          "name": "stdout",
          "output_type": "stream",
          "text": [
            "index 359\n",
            "level_0            561\n",
            "index              561\n",
            "patient_id       26857\n",
            "tma_id           TA408\n",
            "stain              MYC\n",
            "xs                6833\n",
            "ys                4609\n",
            "xe                9471\n",
            "ye                7080\n",
            "area          651.8498\n",
            "Name: 359, dtype: object\n",
            "26857 MYC TA408 6833 4609 9471 7080 2638 2471\n",
            "{'objective_power': 40.0, 'slide_dimensions': (161270, 43078), 'level_count': 4, 'level_dimensions': ((161270, 43078), (40317, 10769), (10079, 2692), (2519, 673)), 'level_downsamples': [1.0, 4.000117662565491, 16.00141206165203, 64.01517619140594], 'vendor': 'aperio', 'mpp': (0.2535, 0.2535), 'file_path': PosixPath('/home/amrit/data/proj_data/MLG_project/DLBCL-Morph/TMA/MYC/TA408.svs'), 'axes': 'YXS'}\n",
            "(2771, 2938, 3)\n"
          ]
        },
        {
          "name": "stderr",
          "output_type": "stream",
          "text": [
            "WARNING:root:WSIPatchDataset only reads image tile at `units=\"baseline\"`. Resolutions will be converted to baseline value.\n",
            "WARNING:root:WSIPatchDataset only reads image tile at `units=\"baseline\"`. Resolutions will be converted to baseline value.\n",
            "WARNING:root:Raw data is None.\n",
            "WARNING:root:Unknown scale (no objective_power or mpp)\n"
          ]
        },
        {
          "name": "stdout",
          "output_type": "stream",
          "text": [
            "mode tile\n"
          ]
        },
        {
          "name": "stderr",
          "output_type": "stream",
          "text": [
            "Process Batch:   0%|                                      | 0/7 [00:00<?, ?it/s]WARNING:root:Raw data is None.\n",
            "WARNING:root:Raw data is None.\n",
            "WARNING:root:Raw data is None.\n",
            "WARNING:root:Raw data is None.\n",
            "Process Batch: 100%|##############################| 7/7 [00:11<00:00,  1.60s/it]\n",
            "Process Batch: 100%|##############################| 7/7 [00:11<00:00,  1.67s/it]\n",
            "Process Batch: 100%|##############################| 7/7 [00:10<00:00,  1.46s/it]\n",
            "Process Batch: 100%|##############################| 7/7 [00:11<00:00,  1.68s/it]\n",
            "Process Batch: 100%|##############################| 8/8 [00:13<00:00,  1.68s/it]\n",
            "Process Batch: 100%|##############################| 7/7 [00:11<00:00,  1.68s/it]\n",
            "Process Batch: 100%|##############################| 6/6 [00:08<00:00,  1.47s/it]\n",
            "Process Batch: 100%|##############################| 6/6 [00:10<00:00,  1.68s/it]\n",
            "Process Batch: 100%|##############################| 6/6 [00:08<00:00,  1.46s/it]\n",
            "Process Batch: 100%|##############################| 2/2 [00:02<00:00,  1.45s/it]\n",
            "Process Batch: 100%|##############################| 2/2 [00:02<00:00,  1.45s/it]\n",
            "Process Batch: 100%|##############################| 2/2 [00:03<00:00,  1.69s/it]\n",
            "Process Batch: 100%|##############################| 2/2 [00:03<00:00,  1.69s/it]\n",
            "Process Batch: 100%|##############################| 2/2 [00:02<00:00,  1.25s/it]\n",
            "Process Batch: 100%|##############################| 2/2 [00:02<00:00,  1.26s/it]\n",
            "Process Batch: 100%|##############################| 2/2 [00:02<00:00,  1.45s/it]\n",
            "Process Batch: 100%|##############################| 2/2 [00:03<00:00,  1.69s/it]\n",
            "Process Batch: 100%|##############################| 2/2 [00:02<00:00,  1.45s/it]\n",
            "Process Batch: 100%|##############################| 2/2 [00:02<00:00,  1.46s/it]\n",
            "Process Batch: 100%|##############################| 2/2 [00:03<00:00,  1.69s/it]\n",
            "Process Batch: 100%|##############################| 2/2 [00:02<00:00,  1.45s/it]\n",
            "Process Batch: 100%|##############################| 2/2 [00:03<00:00,  1.68s/it]\n",
            "Process Batch: 100%|##############################| 2/2 [00:03<00:00,  1.69s/it]\n",
            "Process Batch: 100%|##############################| 2/2 [00:03<00:00,  1.69s/it]\n",
            "Process Batch: 100%|##############################| 2/2 [00:03<00:00,  1.69s/it]\n",
            "INFO:root:Finish: 0\n",
            "INFO:root:--Input: /home/amrit/data/proj_data/MLG_project/DLBCL-Morph/outputs/images/26857/26857_MYC_TA408_1792_561.png\n",
            "INFO:root:--Output: /home/amrit/data/proj_data/MLG_project/DLBCL-Morph/outputs/files/MYC/26857/561/0\n",
            "INFO:root:Number of detected nuclei: 5213\n",
            "INFO:root:Nucleus prediction structure for nucleus ID: c439b82db2014186b547b75f4711c93c\n",
            "INFO:root:Keys in the output dictionary: [box, centroid, contour, prob, type]\n",
            "INFO:root:Bounding box: (810, 450, 837, 463)\n",
            "INFO:root:Centroid: (822, 456)\n"
          ]
        },
        {
          "name": "stdout",
          "output_type": "stream",
          "text": [
            "count_dict {0: 2132, 1: 1625, 2: 70, 3: 18, 4: 1368, 5: 0}\n",
            "selected_count_dict {0: 1676, 1: 1344, 2: 37, 3: 5, 4: 1049, 5: 0}\n"
          ]
        },
        {
          "name": "stderr",
          "output_type": "stream",
          "text": [
            "WARNING:matplotlib.image:Clipping input data to the valid range for imshow with RGB data ([0..1] for floats or [0..255] for integers).\n"
          ]
        },
        {
          "name": "stdout",
          "output_type": "stream",
          "text": [
            "index 360\n",
            "level_0           606\n",
            "index             606\n",
            "patient_id      26858\n",
            "tma_id          TA408\n",
            "stain             MYC\n",
            "xs              47191\n",
            "ys               3255\n",
            "xe              49671\n",
            "ye               5711\n",
            "area          609.088\n",
            "Name: 360, dtype: object\n",
            "26858 MYC TA408 47191 3255 49671 5711 2480 2456\n",
            "{'objective_power': 40.0, 'slide_dimensions': (161270, 43078), 'level_count': 4, 'level_dimensions': ((161270, 43078), (40317, 10769), (10079, 2692), (2519, 673)), 'level_downsamples': [1.0, 4.000117662565491, 16.00141206165203, 64.01517619140594], 'vendor': 'aperio', 'mpp': (0.2535, 0.2535), 'file_path': PosixPath('/home/amrit/data/proj_data/MLG_project/DLBCL-Morph/TMA/MYC/TA408.svs'), 'axes': 'YXS'}\n",
            "(2756, 2780, 3)\n"
          ]
        },
        {
          "name": "stderr",
          "output_type": "stream",
          "text": [
            "WARNING:root:WSIPatchDataset only reads image tile at `units=\"baseline\"`. Resolutions will be converted to baseline value.\n",
            "WARNING:root:WSIPatchDataset only reads image tile at `units=\"baseline\"`. Resolutions will be converted to baseline value.\n"
          ]
        },
        {
          "name": "stdout",
          "output_type": "stream",
          "text": [
            "mode tile\n"
          ]
        },
        {
          "name": "stderr",
          "output_type": "stream",
          "text": [
            "WARNING:root:Raw data is None.\n",
            "WARNING:root:Unknown scale (no objective_power or mpp)\n",
            "Process Batch:   0%|                                      | 0/7 [00:00<?, ?it/s]WARNING:root:Raw data is None.\n",
            "WARNING:root:Raw data is None.\n",
            "WARNING:root:Raw data is None.\n",
            "WARNING:root:Raw data is None.\n",
            "Process Batch: 100%|##############################| 7/7 [00:11<00:00,  1.61s/it]\n",
            "Process Batch: 100%|##############################| 7/7 [00:11<00:00,  1.68s/it]\n",
            "Process Batch: 100%|##############################| 6/6 [00:08<00:00,  1.47s/it]\n",
            "Process Batch: 100%|##############################| 7/7 [00:11<00:00,  1.68s/it]\n",
            "Process Batch: 100%|##############################| 8/8 [00:13<00:00,  1.68s/it]\n",
            "Process Batch: 100%|##############################| 6/6 [00:10<00:00,  1.68s/it]\n",
            "Process Batch: 100%|##############################| 6/6 [00:08<00:00,  1.46s/it]\n",
            "Process Batch: 100%|##############################| 6/6 [00:10<00:00,  1.68s/it]\n",
            "Process Batch: 100%|##############################| 5/5 [00:07<00:00,  1.50s/it]\n",
            "Process Batch: 100%|##############################| 2/2 [00:02<00:00,  1.45s/it]\n",
            "Process Batch: 100%|##############################| 2/2 [00:02<00:00,  1.45s/it]\n",
            "Process Batch: 100%|##############################| 2/2 [00:03<00:00,  1.69s/it]\n",
            "Process Batch: 100%|##############################| 2/2 [00:03<00:00,  1.69s/it]\n",
            "Process Batch: 100%|##############################| 2/2 [00:02<00:00,  1.25s/it]\n",
            "Process Batch: 100%|##############################| 2/2 [00:02<00:00,  1.25s/it]\n",
            "Process Batch: 100%|##############################| 2/2 [00:02<00:00,  1.45s/it]\n",
            "Process Batch: 100%|##############################| 2/2 [00:03<00:00,  1.69s/it]\n",
            "Process Batch: 100%|##############################| 2/2 [00:02<00:00,  1.25s/it]\n",
            "Process Batch: 100%|##############################| 2/2 [00:02<00:00,  1.45s/it]\n",
            "Process Batch: 100%|##############################| 2/2 [00:03<00:00,  1.68s/it]\n",
            "Process Batch: 100%|##############################| 2/2 [00:02<00:00,  1.25s/it]\n",
            "Process Batch: 100%|##############################| 2/2 [00:03<00:00,  1.69s/it]\n",
            "Process Batch: 100%|##############################| 2/2 [00:03<00:00,  1.69s/it]\n",
            "Process Batch: 100%|##############################| 2/2 [00:03<00:00,  1.69s/it]\n",
            "Process Batch: 100%|##############################| 2/2 [00:03<00:00,  1.69s/it]\n",
            "INFO:root:Finish: 0\n",
            "INFO:root:--Input: /home/amrit/data/proj_data/MLG_project/DLBCL-Morph/outputs/images/26858/26858_MYC_TA408_1792_606.png\n",
            "INFO:root:--Output: /home/amrit/data/proj_data/MLG_project/DLBCL-Morph/outputs/files/MYC/26858/606/0\n",
            "INFO:root:Number of detected nuclei: 4904\n",
            "INFO:root:Nucleus prediction structure for nucleus ID: 82dd281e7df54156844db8ee57c7d56a\n",
            "INFO:root:Keys in the output dictionary: [box, centroid, contour, prob, type]\n",
            "INFO:root:Bounding box: (810, 239, 829, 253)\n",
            "INFO:root:Centroid: (818, 245)\n"
          ]
        },
        {
          "name": "stdout",
          "output_type": "stream",
          "text": [
            "count_dict {0: 2619, 1: 1181, 2: 711, 3: 117, 4: 276, 5: 0}\n",
            "selected_count_dict {0: 2190, 1: 989, 2: 535, 3: 69, 4: 179, 5: 0}\n"
          ]
        },
        {
          "name": "stderr",
          "output_type": "stream",
          "text": [
            "WARNING:matplotlib.image:Clipping input data to the valid range for imshow with RGB data ([0..1] for floats or [0..255] for integers).\n"
          ]
        },
        {
          "name": "stdout",
          "output_type": "stream",
          "text": [
            "index 361\n",
            "level_0            601\n",
            "index              601\n",
            "patient_id       26858\n",
            "tma_id           TA408\n",
            "stain              MYC\n",
            "xs               51704\n",
            "ys                3620\n",
            "xe               54185\n",
            "ye                6076\n",
            "area          609.3336\n",
            "Name: 361, dtype: object\n",
            "26858 MYC TA408 51704 3620 54185 6076 2481 2456\n",
            "{'objective_power': 40.0, 'slide_dimensions': (161270, 43078), 'level_count': 4, 'level_dimensions': ((161270, 43078), (40317, 10769), (10079, 2692), (2519, 673)), 'level_downsamples': [1.0, 4.000117662565491, 16.00141206165203, 64.01517619140594], 'vendor': 'aperio', 'mpp': (0.2535, 0.2535), 'file_path': PosixPath('/home/amrit/data/proj_data/MLG_project/DLBCL-Morph/TMA/MYC/TA408.svs'), 'axes': 'YXS'}\n",
            "(2756, 2781, 3)\n"
          ]
        },
        {
          "name": "stderr",
          "output_type": "stream",
          "text": [
            "WARNING:root:WSIPatchDataset only reads image tile at `units=\"baseline\"`. Resolutions will be converted to baseline value.\n",
            "WARNING:root:WSIPatchDataset only reads image tile at `units=\"baseline\"`. Resolutions will be converted to baseline value.\n",
            "WARNING:root:Raw data is None.\n",
            "WARNING:root:Unknown scale (no objective_power or mpp)\n"
          ]
        },
        {
          "name": "stdout",
          "output_type": "stream",
          "text": [
            "mode tile\n"
          ]
        },
        {
          "name": "stderr",
          "output_type": "stream",
          "text": [
            "Process Batch:   0%|                                      | 0/7 [00:00<?, ?it/s]WARNING:root:Raw data is None.\n",
            "WARNING:root:Raw data is None.\n",
            "WARNING:root:Raw data is None.\n",
            "WARNING:root:Raw data is None.\n",
            "Process Batch: 100%|##############################| 7/7 [00:11<00:00,  1.60s/it]\n",
            "Process Batch: 100%|##############################| 7/7 [00:11<00:00,  1.67s/it]\n",
            "Process Batch: 100%|##############################| 6/6 [00:08<00:00,  1.46s/it]\n",
            "Process Batch: 100%|##############################| 7/7 [00:11<00:00,  1.67s/it]\n",
            "Process Batch: 100%|##############################| 8/8 [00:13<00:00,  1.68s/it]\n",
            "Process Batch: 100%|##############################| 6/6 [00:10<00:00,  1.67s/it]\n",
            "Process Batch: 100%|##############################| 6/6 [00:08<00:00,  1.46s/it]\n",
            "Process Batch: 100%|##############################| 6/6 [00:10<00:00,  1.68s/it]\n",
            "Process Batch: 100%|##############################| 5/5 [00:07<00:00,  1.50s/it]\n",
            "Process Batch: 100%|##############################| 2/2 [00:02<00:00,  1.46s/it]\n",
            "Process Batch: 100%|##############################| 2/2 [00:02<00:00,  1.45s/it]\n",
            "Process Batch: 100%|##############################| 2/2 [00:03<00:00,  1.69s/it]\n",
            "Process Batch: 100%|##############################| 2/2 [00:03<00:00,  1.68s/it]\n",
            "Process Batch: 100%|##############################| 2/2 [00:02<00:00,  1.25s/it]\n",
            "Process Batch: 100%|##############################| 2/2 [00:02<00:00,  1.25s/it]\n",
            "Process Batch: 100%|##############################| 2/2 [00:02<00:00,  1.45s/it]\n",
            "Process Batch: 100%|##############################| 2/2 [00:03<00:00,  1.69s/it]\n",
            "Process Batch: 100%|##############################| 2/2 [00:02<00:00,  1.26s/it]\n",
            "Process Batch: 100%|##############################| 2/2 [00:02<00:00,  1.46s/it]\n",
            "Process Batch: 100%|##############################| 2/2 [00:03<00:00,  1.69s/it]\n",
            "Process Batch: 100%|##############################| 2/2 [00:02<00:00,  1.25s/it]\n",
            "Process Batch: 100%|##############################| 2/2 [00:03<00:00,  1.69s/it]\n",
            "Process Batch: 100%|##############################| 2/2 [00:03<00:00,  1.69s/it]\n",
            "Process Batch: 100%|##############################| 2/2 [00:03<00:00,  1.69s/it]\n",
            "Process Batch: 100%|##############################| 2/2 [00:03<00:00,  1.70s/it]\n",
            "INFO:root:Finish: 0\n",
            "INFO:root:--Input: /home/amrit/data/proj_data/MLG_project/DLBCL-Morph/outputs/images/26858/26858_MYC_TA408_1792_601.png\n",
            "INFO:root:--Output: /home/amrit/data/proj_data/MLG_project/DLBCL-Morph/outputs/files/MYC/26858/601/0\n",
            "INFO:root:Number of detected nuclei: 4908\n",
            "INFO:root:Nucleus prediction structure for nucleus ID: 73d6083108bf406abd3e6a8a119a7be4\n",
            "INFO:root:Keys in the output dictionary: [box, centroid, contour, prob, type]\n",
            "INFO:root:Bounding box: (847, 172, 859, 185)\n",
            "INFO:root:Centroid: (852, 177)\n"
          ]
        },
        {
          "name": "stdout",
          "output_type": "stream",
          "text": [
            "count_dict {0: 2557, 1: 1041, 2: 952, 3: 281, 4: 77, 5: 0}\n",
            "selected_count_dict {0: 2247, 1: 927, 2: 775, 3: 182, 4: 58, 5: 0}\n"
          ]
        },
        {
          "name": "stderr",
          "output_type": "stream",
          "text": [
            "WARNING:matplotlib.image:Clipping input data to the valid range for imshow with RGB data ([0..1] for floats or [0..255] for integers).\n"
          ]
        },
        {
          "name": "stdout",
          "output_type": "stream",
          "text": [
            "index 362\n",
            "level_0            572\n",
            "index              572\n",
            "patient_id       26859\n",
            "tma_id           TA408\n",
            "stain              MYC\n",
            "xs               39558\n",
            "ys                2735\n",
            "xe               42039\n",
            "ye                5191\n",
            "area          609.3336\n",
            "Name: 362, dtype: object\n",
            "26859 MYC TA408 39558 2735 42039 5191 2481 2456\n",
            "{'objective_power': 40.0, 'slide_dimensions': (161270, 43078), 'level_count': 4, 'level_dimensions': ((161270, 43078), (40317, 10769), (10079, 2692), (2519, 673)), 'level_downsamples': [1.0, 4.000117662565491, 16.00141206165203, 64.01517619140594], 'vendor': 'aperio', 'mpp': (0.2535, 0.2535), 'file_path': PosixPath('/home/amrit/data/proj_data/MLG_project/DLBCL-Morph/TMA/MYC/TA408.svs'), 'axes': 'YXS'}\n",
            "(2756, 2781, 3)\n"
          ]
        },
        {
          "name": "stderr",
          "output_type": "stream",
          "text": [
            "WARNING:root:WSIPatchDataset only reads image tile at `units=\"baseline\"`. Resolutions will be converted to baseline value.\n",
            "WARNING:root:WSIPatchDataset only reads image tile at `units=\"baseline\"`. Resolutions will be converted to baseline value.\n",
            "WARNING:root:Raw data is None.\n",
            "WARNING:root:Unknown scale (no objective_power or mpp)\n"
          ]
        },
        {
          "name": "stdout",
          "output_type": "stream",
          "text": [
            "mode tile\n"
          ]
        },
        {
          "name": "stderr",
          "output_type": "stream",
          "text": [
            "Process Batch:   0%|                                      | 0/7 [00:00<?, ?it/s]WARNING:root:Raw data is None.\n",
            "WARNING:root:Raw data is None.\n",
            "WARNING:root:Raw data is None.\n",
            "WARNING:root:Raw data is None.\n",
            "Process Batch: 100%|##############################| 7/7 [00:11<00:00,  1.64s/it]\n",
            "Process Batch: 100%|##############################| 7/7 [00:11<00:00,  1.67s/it]\n",
            "Process Batch: 100%|##############################| 6/6 [00:08<00:00,  1.46s/it]\n",
            "Process Batch: 100%|##############################| 7/7 [00:11<00:00,  1.68s/it]\n",
            "Process Batch: 100%|##############################| 8/8 [00:13<00:00,  1.68s/it]\n",
            "Process Batch: 100%|##############################| 6/6 [00:10<00:00,  1.68s/it]\n",
            "Process Batch: 100%|##############################| 6/6 [00:08<00:00,  1.47s/it]\n",
            "Process Batch: 100%|##############################| 6/6 [00:10<00:00,  1.67s/it]\n",
            "Process Batch: 100%|##############################| 5/5 [00:07<00:00,  1.50s/it]\n",
            "Process Batch: 100%|##############################| 2/2 [00:02<00:00,  1.45s/it]\n",
            "Process Batch: 100%|##############################| 2/2 [00:02<00:00,  1.45s/it]\n",
            "Process Batch: 100%|##############################| 2/2 [00:03<00:00,  1.68s/it]\n",
            "Process Batch: 100%|##############################| 2/2 [00:03<00:00,  1.68s/it]\n",
            "Process Batch: 100%|##############################| 2/2 [00:02<00:00,  1.25s/it]\n",
            "Process Batch: 100%|##############################| 2/2 [00:02<00:00,  1.24s/it]\n",
            "Process Batch: 100%|##############################| 2/2 [00:02<00:00,  1.44s/it]\n",
            "Process Batch: 100%|##############################| 2/2 [00:03<00:00,  1.68s/it]\n",
            "Process Batch: 100%|##############################| 2/2 [00:02<00:00,  1.24s/it]\n",
            "Process Batch: 100%|##############################| 2/2 [00:02<00:00,  1.45s/it]\n",
            "Process Batch: 100%|##############################| 2/2 [00:03<00:00,  1.68s/it]\n",
            "Process Batch: 100%|##############################| 2/2 [00:02<00:00,  1.25s/it]\n",
            "Process Batch: 100%|##############################| 2/2 [00:03<00:00,  1.68s/it]\n",
            "Process Batch: 100%|##############################| 2/2 [00:03<00:00,  1.68s/it]\n",
            "Process Batch: 100%|##############################| 2/2 [00:03<00:00,  1.68s/it]\n",
            "Process Batch: 100%|##############################| 2/2 [00:03<00:00,  1.68s/it]\n",
            "INFO:root:Finish: 0\n",
            "INFO:root:--Input: /home/amrit/data/proj_data/MLG_project/DLBCL-Morph/outputs/images/26859/26859_MYC_TA408_1792_572.png\n",
            "INFO:root:--Output: /home/amrit/data/proj_data/MLG_project/DLBCL-Morph/outputs/files/MYC/26859/572/0\n",
            "INFO:root:Number of detected nuclei: 3520\n",
            "INFO:root:Nucleus prediction structure for nucleus ID: 423da8fbcc38456bad4c4581aa5b6e79\n",
            "INFO:root:Keys in the output dictionary: [box, centroid, contour, prob, type]\n",
            "INFO:root:Bounding box: (841, 283, 873, 305)\n",
            "INFO:root:Centroid: (856, 293)\n"
          ]
        },
        {
          "name": "stdout",
          "output_type": "stream",
          "text": [
            "count_dict {0: 2886, 1: 452, 2: 114, 3: 50, 4: 18, 5: 0}\n",
            "selected_count_dict {0: 2562, 1: 365, 2: 76, 3: 28, 4: 7, 5: 0}\n"
          ]
        },
        {
          "name": "stderr",
          "output_type": "stream",
          "text": [
            "WARNING:matplotlib.image:Clipping input data to the valid range for imshow with RGB data ([0..1] for floats or [0..255] for integers).\n"
          ]
        },
        {
          "name": "stdout",
          "output_type": "stream",
          "text": [
            "index 363\n",
            "level_0            627\n",
            "index              627\n",
            "patient_id       26859\n",
            "tma_id           TA408\n",
            "stain              MYC\n",
            "xs               43208\n",
            "ys                2779\n",
            "xe               45689\n",
            "ye                5235\n",
            "area          609.3336\n",
            "Name: 363, dtype: object\n",
            "26859 MYC TA408 43208 2779 45689 5235 2481 2456\n",
            "{'objective_power': 40.0, 'slide_dimensions': (161270, 43078), 'level_count': 4, 'level_dimensions': ((161270, 43078), (40317, 10769), (10079, 2692), (2519, 673)), 'level_downsamples': [1.0, 4.000117662565491, 16.00141206165203, 64.01517619140594], 'vendor': 'aperio', 'mpp': (0.2535, 0.2535), 'file_path': PosixPath('/home/amrit/data/proj_data/MLG_project/DLBCL-Morph/TMA/MYC/TA408.svs'), 'axes': 'YXS'}\n",
            "(2756, 2781, 3)\n"
          ]
        },
        {
          "name": "stderr",
          "output_type": "stream",
          "text": [
            "WARNING:root:WSIPatchDataset only reads image tile at `units=\"baseline\"`. Resolutions will be converted to baseline value.\n",
            "WARNING:root:WSIPatchDataset only reads image tile at `units=\"baseline\"`. Resolutions will be converted to baseline value.\n",
            "WARNING:root:Raw data is None.\n",
            "WARNING:root:Unknown scale (no objective_power or mpp)\n"
          ]
        },
        {
          "name": "stdout",
          "output_type": "stream",
          "text": [
            "mode tile\n"
          ]
        },
        {
          "name": "stderr",
          "output_type": "stream",
          "text": [
            "Process Batch:   0%|                                      | 0/7 [00:00<?, ?it/s]WARNING:root:Raw data is None.\n",
            "WARNING:root:Raw data is None.\n",
            "WARNING:root:Raw data is None.\n",
            "WARNING:root:Raw data is None.\n",
            "Process Batch: 100%|##############################| 7/7 [00:11<00:00,  1.60s/it]\n",
            "Process Batch: 100%|##############################| 7/7 [00:11<00:00,  1.67s/it]\n",
            "Process Batch: 100%|##############################| 6/6 [00:08<00:00,  1.46s/it]\n",
            "Process Batch: 100%|##############################| 7/7 [00:11<00:00,  1.67s/it]\n",
            "Process Batch: 100%|##############################| 8/8 [00:13<00:00,  1.67s/it]\n",
            "Process Batch: 100%|##############################| 6/6 [00:10<00:00,  1.68s/it]\n",
            "Process Batch: 100%|##############################| 6/6 [00:08<00:00,  1.46s/it]\n",
            "Process Batch: 100%|##############################| 6/6 [00:10<00:00,  1.67s/it]\n",
            "Process Batch: 100%|##############################| 5/5 [00:07<00:00,  1.50s/it]\n",
            "Process Batch: 100%|##############################| 2/2 [00:02<00:00,  1.45s/it]\n",
            "Process Batch: 100%|##############################| 2/2 [00:02<00:00,  1.45s/it]\n",
            "Process Batch: 100%|##############################| 2/2 [00:03<00:00,  1.68s/it]\n",
            "Process Batch: 100%|##############################| 2/2 [00:03<00:00,  1.69s/it]\n",
            "Process Batch: 100%|##############################| 2/2 [00:02<00:00,  1.25s/it]\n",
            "Process Batch: 100%|##############################| 2/2 [00:02<00:00,  1.25s/it]\n",
            "Process Batch: 100%|##############################| 2/2 [00:02<00:00,  1.45s/it]\n",
            "Process Batch: 100%|##############################| 2/2 [00:03<00:00,  1.68s/it]\n",
            "Process Batch: 100%|##############################| 2/2 [00:02<00:00,  1.25s/it]\n",
            "Process Batch: 100%|##############################| 2/2 [00:02<00:00,  1.45s/it]\n",
            "Process Batch: 100%|##############################| 2/2 [00:03<00:00,  1.68s/it]\n",
            "Process Batch: 100%|##############################| 2/2 [00:02<00:00,  1.25s/it]\n",
            "Process Batch: 100%|##############################| 2/2 [00:03<00:00,  1.68s/it]\n",
            "Process Batch: 100%|##############################| 2/2 [00:03<00:00,  1.68s/it]\n",
            "Process Batch: 100%|##############################| 2/2 [00:03<00:00,  1.68s/it]\n",
            "Process Batch: 100%|##############################| 2/2 [00:03<00:00,  1.69s/it]\n",
            "INFO:root:Finish: 0\n",
            "INFO:root:--Input: /home/amrit/data/proj_data/MLG_project/DLBCL-Morph/outputs/images/26859/26859_MYC_TA408_1792_627.png\n",
            "INFO:root:--Output: /home/amrit/data/proj_data/MLG_project/DLBCL-Morph/outputs/files/MYC/26859/627/0\n",
            "INFO:root:Number of detected nuclei: 3812\n",
            "INFO:root:Nucleus prediction structure for nucleus ID: 3ce47c28645b4019abb93b57e8f5a0f2\n",
            "INFO:root:Keys in the output dictionary: [box, centroid, contour, prob, type]\n",
            "INFO:root:Bounding box: (845, 367, 858, 378)\n",
            "INFO:root:Centroid: (851, 372)\n"
          ]
        },
        {
          "name": "stdout",
          "output_type": "stream",
          "text": [
            "count_dict {0: 2807, 1: 692, 2: 173, 3: 91, 4: 49, 5: 0}\n",
            "selected_count_dict {0: 2434, 1: 571, 2: 109, 3: 55, 4: 29, 5: 0}\n"
          ]
        },
        {
          "name": "stderr",
          "output_type": "stream",
          "text": [
            "WARNING:matplotlib.image:Clipping input data to the valid range for imshow with RGB data ([0..1] for floats or [0..255] for integers).\n"
          ]
        },
        {
          "data": {
            "text/plain": [
              "<Figure size 4500x1800 with 0 Axes>"
            ]
          },
          "metadata": {},
          "output_type": "display_data"
        },
        {
          "data": {
            "text/plain": [
              "<Figure size 4500x1800 with 0 Axes>"
            ]
          },
          "metadata": {},
          "output_type": "display_data"
        },
        {
          "data": {
            "text/plain": [
              "<Figure size 4500x1800 with 0 Axes>"
            ]
          },
          "metadata": {},
          "output_type": "display_data"
        },
        {
          "data": {
            "text/plain": [
              "<Figure size 4500x1800 with 0 Axes>"
            ]
          },
          "metadata": {},
          "output_type": "display_data"
        },
        {
          "data": {
            "text/plain": [
              "<Figure size 4500x1800 with 0 Axes>"
            ]
          },
          "metadata": {},
          "output_type": "display_data"
        },
        {
          "data": {
            "text/plain": [
              "<Figure size 4500x1800 with 0 Axes>"
            ]
          },
          "metadata": {},
          "output_type": "display_data"
        },
        {
          "data": {
            "text/plain": [
              "<Figure size 4500x1800 with 0 Axes>"
            ]
          },
          "metadata": {},
          "output_type": "display_data"
        },
        {
          "data": {
            "text/plain": [
              "<Figure size 4500x1800 with 0 Axes>"
            ]
          },
          "metadata": {},
          "output_type": "display_data"
        },
        {
          "data": {
            "text/plain": [
              "<Figure size 4500x1800 with 0 Axes>"
            ]
          },
          "metadata": {},
          "output_type": "display_data"
        },
        {
          "data": {
            "text/plain": [
              "<Figure size 4500x1800 with 0 Axes>"
            ]
          },
          "metadata": {},
          "output_type": "display_data"
        },
        {
          "data": {
            "text/plain": [
              "<Figure size 4500x1800 with 0 Axes>"
            ]
          },
          "metadata": {},
          "output_type": "display_data"
        },
        {
          "data": {
            "text/plain": [
              "<Figure size 4500x1800 with 0 Axes>"
            ]
          },
          "metadata": {},
          "output_type": "display_data"
        },
        {
          "data": {
            "text/plain": [
              "<Figure size 4500x1800 with 0 Axes>"
            ]
          },
          "metadata": {},
          "output_type": "display_data"
        },
        {
          "data": {
            "text/plain": [
              "<Figure size 4500x1800 with 0 Axes>"
            ]
          },
          "metadata": {},
          "output_type": "display_data"
        },
        {
          "data": {
            "text/plain": [
              "<Figure size 4500x1800 with 0 Axes>"
            ]
          },
          "metadata": {},
          "output_type": "display_data"
        },
        {
          "data": {
            "text/plain": [
              "<Figure size 4500x1800 with 0 Axes>"
            ]
          },
          "metadata": {},
          "output_type": "display_data"
        },
        {
          "data": {
            "text/plain": [
              "<Figure size 4500x1800 with 0 Axes>"
            ]
          },
          "metadata": {},
          "output_type": "display_data"
        },
        {
          "data": {
            "text/plain": [
              "<Figure size 4500x1800 with 0 Axes>"
            ]
          },
          "metadata": {},
          "output_type": "display_data"
        },
        {
          "data": {
            "text/plain": [
              "<Figure size 4500x1800 with 0 Axes>"
            ]
          },
          "metadata": {},
          "output_type": "display_data"
        },
        {
          "data": {
            "text/plain": [
              "<Figure size 4500x1800 with 0 Axes>"
            ]
          },
          "metadata": {},
          "output_type": "display_data"
        },
        {
          "data": {
            "text/plain": [
              "<Figure size 4500x1800 with 0 Axes>"
            ]
          },
          "metadata": {},
          "output_type": "display_data"
        },
        {
          "data": {
            "text/plain": [
              "<Figure size 4500x1800 with 0 Axes>"
            ]
          },
          "metadata": {},
          "output_type": "display_data"
        },
        {
          "data": {
            "text/plain": [
              "<Figure size 4500x1800 with 0 Axes>"
            ]
          },
          "metadata": {},
          "output_type": "display_data"
        },
        {
          "data": {
            "text/plain": [
              "<Figure size 4500x1800 with 0 Axes>"
            ]
          },
          "metadata": {},
          "output_type": "display_data"
        },
        {
          "data": {
            "text/plain": [
              "<Figure size 4500x1800 with 0 Axes>"
            ]
          },
          "metadata": {},
          "output_type": "display_data"
        },
        {
          "data": {
            "text/plain": [
              "<Figure size 4500x1800 with 0 Axes>"
            ]
          },
          "metadata": {},
          "output_type": "display_data"
        },
        {
          "data": {
            "text/plain": [
              "<Figure size 4500x1800 with 0 Axes>"
            ]
          },
          "metadata": {},
          "output_type": "display_data"
        },
        {
          "data": {
            "text/plain": [
              "<Figure size 4500x1800 with 0 Axes>"
            ]
          },
          "metadata": {},
          "output_type": "display_data"
        },
        {
          "data": {
            "text/plain": [
              "<Figure size 4500x1800 with 0 Axes>"
            ]
          },
          "metadata": {},
          "output_type": "display_data"
        },
        {
          "data": {
            "text/plain": [
              "<Figure size 4500x1800 with 0 Axes>"
            ]
          },
          "metadata": {},
          "output_type": "display_data"
        },
        {
          "data": {
            "text/plain": [
              "<Figure size 4500x1800 with 0 Axes>"
            ]
          },
          "metadata": {},
          "output_type": "display_data"
        },
        {
          "data": {
            "text/plain": [
              "<Figure size 4500x1800 with 0 Axes>"
            ]
          },
          "metadata": {},
          "output_type": "display_data"
        },
        {
          "data": {
            "text/plain": [
              "<Figure size 4500x1800 with 0 Axes>"
            ]
          },
          "metadata": {},
          "output_type": "display_data"
        },
        {
          "data": {
            "text/plain": [
              "<Figure size 4500x1800 with 0 Axes>"
            ]
          },
          "metadata": {},
          "output_type": "display_data"
        },
        {
          "data": {
            "text/plain": [
              "<Figure size 4500x1800 with 0 Axes>"
            ]
          },
          "metadata": {},
          "output_type": "display_data"
        },
        {
          "data": {
            "text/plain": [
              "<Figure size 4500x1800 with 0 Axes>"
            ]
          },
          "metadata": {},
          "output_type": "display_data"
        },
        {
          "data": {
            "text/plain": [
              "<Figure size 4500x1800 with 0 Axes>"
            ]
          },
          "metadata": {},
          "output_type": "display_data"
        },
        {
          "data": {
            "text/plain": [
              "<Figure size 4500x1800 with 0 Axes>"
            ]
          },
          "metadata": {},
          "output_type": "display_data"
        },
        {
          "data": {
            "text/plain": [
              "<Figure size 4500x1800 with 0 Axes>"
            ]
          },
          "metadata": {},
          "output_type": "display_data"
        },
        {
          "data": {
            "text/plain": [
              "<Figure size 4500x1800 with 0 Axes>"
            ]
          },
          "metadata": {},
          "output_type": "display_data"
        },
        {
          "data": {
            "text/plain": [
              "<Figure size 4500x1800 with 0 Axes>"
            ]
          },
          "metadata": {},
          "output_type": "display_data"
        },
        {
          "data": {
            "text/plain": [
              "<Figure size 4500x1800 with 0 Axes>"
            ]
          },
          "metadata": {},
          "output_type": "display_data"
        },
        {
          "data": {
            "text/plain": [
              "<Figure size 4500x1800 with 0 Axes>"
            ]
          },
          "metadata": {},
          "output_type": "display_data"
        },
        {
          "data": {
            "text/plain": [
              "<Figure size 4500x1800 with 0 Axes>"
            ]
          },
          "metadata": {},
          "output_type": "display_data"
        },
        {
          "data": {
            "text/plain": [
              "<Figure size 4500x1800 with 0 Axes>"
            ]
          },
          "metadata": {},
          "output_type": "display_data"
        },
        {
          "data": {
            "text/plain": [
              "<Figure size 4500x1800 with 0 Axes>"
            ]
          },
          "metadata": {},
          "output_type": "display_data"
        },
        {
          "data": {
            "text/plain": [
              "<Figure size 4500x1800 with 0 Axes>"
            ]
          },
          "metadata": {},
          "output_type": "display_data"
        },
        {
          "data": {
            "text/plain": [
              "<Figure size 4500x1800 with 0 Axes>"
            ]
          },
          "metadata": {},
          "output_type": "display_data"
        },
        {
          "data": {
            "text/plain": [
              "<Figure size 4500x1800 with 0 Axes>"
            ]
          },
          "metadata": {},
          "output_type": "display_data"
        },
        {
          "data": {
            "text/plain": [
              "<Figure size 4500x1800 with 0 Axes>"
            ]
          },
          "metadata": {},
          "output_type": "display_data"
        },
        {
          "data": {
            "text/plain": [
              "<Figure size 4500x1800 with 0 Axes>"
            ]
          },
          "metadata": {},
          "output_type": "display_data"
        },
        {
          "data": {
            "text/plain": [
              "<Figure size 4500x1800 with 0 Axes>"
            ]
          },
          "metadata": {},
          "output_type": "display_data"
        },
        {
          "data": {
            "text/plain": [
              "<Figure size 4500x1800 with 0 Axes>"
            ]
          },
          "metadata": {},
          "output_type": "display_data"
        },
        {
          "data": {
            "text/plain": [
              "<Figure size 4500x1800 with 0 Axes>"
            ]
          },
          "metadata": {},
          "output_type": "display_data"
        },
        {
          "data": {
            "text/plain": [
              "<Figure size 4500x1800 with 0 Axes>"
            ]
          },
          "metadata": {},
          "output_type": "display_data"
        },
        {
          "data": {
            "text/plain": [
              "<Figure size 4500x1800 with 0 Axes>"
            ]
          },
          "metadata": {},
          "output_type": "display_data"
        },
        {
          "data": {
            "text/plain": [
              "<Figure size 4500x1800 with 0 Axes>"
            ]
          },
          "metadata": {},
          "output_type": "display_data"
        },
        {
          "data": {
            "text/plain": [
              "<Figure size 4500x1800 with 0 Axes>"
            ]
          },
          "metadata": {},
          "output_type": "display_data"
        },
        {
          "data": {
            "text/plain": [
              "<Figure size 4500x1800 with 0 Axes>"
            ]
          },
          "metadata": {},
          "output_type": "display_data"
        },
        {
          "data": {
            "text/plain": [
              "<Figure size 4500x1800 with 0 Axes>"
            ]
          },
          "metadata": {},
          "output_type": "display_data"
        },
        {
          "data": {
            "text/plain": [
              "<Figure size 4500x1800 with 0 Axes>"
            ]
          },
          "metadata": {},
          "output_type": "display_data"
        },
        {
          "data": {
            "text/plain": [
              "<Figure size 4500x1800 with 0 Axes>"
            ]
          },
          "metadata": {},
          "output_type": "display_data"
        },
        {
          "data": {
            "text/plain": [
              "<Figure size 4500x1800 with 0 Axes>"
            ]
          },
          "metadata": {},
          "output_type": "display_data"
        },
        {
          "data": {
            "text/plain": [
              "<Figure size 4500x1800 with 0 Axes>"
            ]
          },
          "metadata": {},
          "output_type": "display_data"
        },
        {
          "data": {
            "text/plain": [
              "<Figure size 4500x1800 with 0 Axes>"
            ]
          },
          "metadata": {},
          "output_type": "display_data"
        },
        {
          "data": {
            "text/plain": [
              "<Figure size 4500x1800 with 0 Axes>"
            ]
          },
          "metadata": {},
          "output_type": "display_data"
        },
        {
          "data": {
            "text/plain": [
              "<Figure size 4500x1800 with 0 Axes>"
            ]
          },
          "metadata": {},
          "output_type": "display_data"
        },
        {
          "data": {
            "text/plain": [
              "<Figure size 4500x1800 with 0 Axes>"
            ]
          },
          "metadata": {},
          "output_type": "display_data"
        },
        {
          "data": {
            "text/plain": [
              "<Figure size 4500x1800 with 0 Axes>"
            ]
          },
          "metadata": {},
          "output_type": "display_data"
        },
        {
          "data": {
            "text/plain": [
              "<Figure size 4500x1800 with 0 Axes>"
            ]
          },
          "metadata": {},
          "output_type": "display_data"
        },
        {
          "data": {
            "text/plain": [
              "<Figure size 4500x1800 with 0 Axes>"
            ]
          },
          "metadata": {},
          "output_type": "display_data"
        },
        {
          "data": {
            "text/plain": [
              "<Figure size 4500x1800 with 0 Axes>"
            ]
          },
          "metadata": {},
          "output_type": "display_data"
        },
        {
          "data": {
            "text/plain": [
              "<Figure size 4500x1800 with 0 Axes>"
            ]
          },
          "metadata": {},
          "output_type": "display_data"
        },
        {
          "data": {
            "text/plain": [
              "<Figure size 4500x1800 with 0 Axes>"
            ]
          },
          "metadata": {},
          "output_type": "display_data"
        },
        {
          "data": {
            "text/plain": [
              "<Figure size 4500x1800 with 0 Axes>"
            ]
          },
          "metadata": {},
          "output_type": "display_data"
        },
        {
          "data": {
            "text/plain": [
              "<Figure size 4500x1800 with 0 Axes>"
            ]
          },
          "metadata": {},
          "output_type": "display_data"
        },
        {
          "data": {
            "text/plain": [
              "<Figure size 4500x1800 with 0 Axes>"
            ]
          },
          "metadata": {},
          "output_type": "display_data"
        },
        {
          "data": {
            "text/plain": [
              "<Figure size 4500x1800 with 0 Axes>"
            ]
          },
          "metadata": {},
          "output_type": "display_data"
        },
        {
          "data": {
            "text/plain": [
              "<Figure size 4500x1800 with 0 Axes>"
            ]
          },
          "metadata": {},
          "output_type": "display_data"
        },
        {
          "data": {
            "text/plain": [
              "<Figure size 4500x1800 with 0 Axes>"
            ]
          },
          "metadata": {},
          "output_type": "display_data"
        },
        {
          "data": {
            "text/plain": [
              "<Figure size 4500x1800 with 0 Axes>"
            ]
          },
          "metadata": {},
          "output_type": "display_data"
        },
        {
          "data": {
            "text/plain": [
              "<Figure size 4500x1800 with 0 Axes>"
            ]
          },
          "metadata": {},
          "output_type": "display_data"
        },
        {
          "data": {
            "text/plain": [
              "<Figure size 4500x1800 with 0 Axes>"
            ]
          },
          "metadata": {},
          "output_type": "display_data"
        },
        {
          "data": {
            "text/plain": [
              "<Figure size 4500x1800 with 0 Axes>"
            ]
          },
          "metadata": {},
          "output_type": "display_data"
        },
        {
          "data": {
            "text/plain": [
              "<Figure size 4500x1800 with 0 Axes>"
            ]
          },
          "metadata": {},
          "output_type": "display_data"
        },
        {
          "data": {
            "text/plain": [
              "<Figure size 4500x1800 with 0 Axes>"
            ]
          },
          "metadata": {},
          "output_type": "display_data"
        },
        {
          "data": {
            "text/plain": [
              "<Figure size 4500x1800 with 0 Axes>"
            ]
          },
          "metadata": {},
          "output_type": "display_data"
        },
        {
          "data": {
            "text/plain": [
              "<Figure size 4500x1800 with 0 Axes>"
            ]
          },
          "metadata": {},
          "output_type": "display_data"
        },
        {
          "data": {
            "text/plain": [
              "<Figure size 4500x1800 with 0 Axes>"
            ]
          },
          "metadata": {},
          "output_type": "display_data"
        },
        {
          "data": {
            "text/plain": [
              "<Figure size 4500x1800 with 0 Axes>"
            ]
          },
          "metadata": {},
          "output_type": "display_data"
        },
        {
          "data": {
            "text/plain": [
              "<Figure size 4500x1800 with 0 Axes>"
            ]
          },
          "metadata": {},
          "output_type": "display_data"
        },
        {
          "data": {
            "text/plain": [
              "<Figure size 4500x1800 with 0 Axes>"
            ]
          },
          "metadata": {},
          "output_type": "display_data"
        },
        {
          "data": {
            "text/plain": [
              "<Figure size 4500x1800 with 0 Axes>"
            ]
          },
          "metadata": {},
          "output_type": "display_data"
        },
        {
          "data": {
            "text/plain": [
              "<Figure size 4500x1800 with 0 Axes>"
            ]
          },
          "metadata": {},
          "output_type": "display_data"
        },
        {
          "data": {
            "text/plain": [
              "<Figure size 4500x1800 with 0 Axes>"
            ]
          },
          "metadata": {},
          "output_type": "display_data"
        },
        {
          "data": {
            "text/plain": [
              "<Figure size 4500x1800 with 0 Axes>"
            ]
          },
          "metadata": {},
          "output_type": "display_data"
        },
        {
          "data": {
            "text/plain": [
              "<Figure size 4500x1800 with 0 Axes>"
            ]
          },
          "metadata": {},
          "output_type": "display_data"
        },
        {
          "data": {
            "text/plain": [
              "<Figure size 4500x1800 with 0 Axes>"
            ]
          },
          "metadata": {},
          "output_type": "display_data"
        },
        {
          "data": {
            "text/plain": [
              "<Figure size 4500x1800 with 0 Axes>"
            ]
          },
          "metadata": {},
          "output_type": "display_data"
        },
        {
          "data": {
            "text/plain": [
              "<Figure size 4500x1800 with 0 Axes>"
            ]
          },
          "metadata": {},
          "output_type": "display_data"
        },
        {
          "data": {
            "text/plain": [
              "<Figure size 4500x1800 with 0 Axes>"
            ]
          },
          "metadata": {},
          "output_type": "display_data"
        },
        {
          "data": {
            "text/plain": [
              "<Figure size 4500x1800 with 0 Axes>"
            ]
          },
          "metadata": {},
          "output_type": "display_data"
        },
        {
          "data": {
            "text/plain": [
              "<Figure size 4500x1800 with 0 Axes>"
            ]
          },
          "metadata": {},
          "output_type": "display_data"
        },
        {
          "data": {
            "text/plain": [
              "<Figure size 4500x1800 with 0 Axes>"
            ]
          },
          "metadata": {},
          "output_type": "display_data"
        },
        {
          "data": {
            "text/plain": [
              "<Figure size 4500x1800 with 0 Axes>"
            ]
          },
          "metadata": {},
          "output_type": "display_data"
        },
        {
          "data": {
            "text/plain": [
              "<Figure size 4500x1800 with 0 Axes>"
            ]
          },
          "metadata": {},
          "output_type": "display_data"
        },
        {
          "data": {
            "text/plain": [
              "<Figure size 4500x1800 with 0 Axes>"
            ]
          },
          "metadata": {},
          "output_type": "display_data"
        },
        {
          "data": {
            "text/plain": [
              "<Figure size 4500x1800 with 0 Axes>"
            ]
          },
          "metadata": {},
          "output_type": "display_data"
        },
        {
          "data": {
            "text/plain": [
              "<Figure size 4500x1800 with 0 Axes>"
            ]
          },
          "metadata": {},
          "output_type": "display_data"
        },
        {
          "data": {
            "text/plain": [
              "<Figure size 4500x1800 with 0 Axes>"
            ]
          },
          "metadata": {},
          "output_type": "display_data"
        },
        {
          "data": {
            "text/plain": [
              "<Figure size 4500x1800 with 0 Axes>"
            ]
          },
          "metadata": {},
          "output_type": "display_data"
        },
        {
          "data": {
            "text/plain": [
              "<Figure size 4500x1800 with 0 Axes>"
            ]
          },
          "metadata": {},
          "output_type": "display_data"
        },
        {
          "data": {
            "text/plain": [
              "<Figure size 4500x1800 with 0 Axes>"
            ]
          },
          "metadata": {},
          "output_type": "display_data"
        },
        {
          "data": {
            "text/plain": [
              "<Figure size 4500x1800 with 0 Axes>"
            ]
          },
          "metadata": {},
          "output_type": "display_data"
        },
        {
          "data": {
            "text/plain": [
              "<Figure size 4500x1800 with 0 Axes>"
            ]
          },
          "metadata": {},
          "output_type": "display_data"
        },
        {
          "data": {
            "text/plain": [
              "<Figure size 4500x1800 with 0 Axes>"
            ]
          },
          "metadata": {},
          "output_type": "display_data"
        },
        {
          "data": {
            "text/plain": [
              "<Figure size 4500x1800 with 0 Axes>"
            ]
          },
          "metadata": {},
          "output_type": "display_data"
        },
        {
          "data": {
            "text/plain": [
              "<Figure size 4500x1800 with 0 Axes>"
            ]
          },
          "metadata": {},
          "output_type": "display_data"
        },
        {
          "data": {
            "text/plain": [
              "<Figure size 4500x1800 with 0 Axes>"
            ]
          },
          "metadata": {},
          "output_type": "display_data"
        },
        {
          "data": {
            "text/plain": [
              "<Figure size 4500x1800 with 0 Axes>"
            ]
          },
          "metadata": {},
          "output_type": "display_data"
        },
        {
          "data": {
            "text/plain": [
              "<Figure size 4500x1800 with 0 Axes>"
            ]
          },
          "metadata": {},
          "output_type": "display_data"
        },
        {
          "data": {
            "text/plain": [
              "<Figure size 4500x1800 with 0 Axes>"
            ]
          },
          "metadata": {},
          "output_type": "display_data"
        },
        {
          "data": {
            "text/plain": [
              "<Figure size 4500x1800 with 0 Axes>"
            ]
          },
          "metadata": {},
          "output_type": "display_data"
        },
        {
          "data": {
            "text/plain": [
              "<Figure size 4500x1800 with 0 Axes>"
            ]
          },
          "metadata": {},
          "output_type": "display_data"
        },
        {
          "data": {
            "text/plain": [
              "<Figure size 4500x1800 with 0 Axes>"
            ]
          },
          "metadata": {},
          "output_type": "display_data"
        },
        {
          "data": {
            "text/plain": [
              "<Figure size 4500x1800 with 0 Axes>"
            ]
          },
          "metadata": {},
          "output_type": "display_data"
        },
        {
          "data": {
            "text/plain": [
              "<Figure size 4500x1800 with 0 Axes>"
            ]
          },
          "metadata": {},
          "output_type": "display_data"
        },
        {
          "data": {
            "text/plain": [
              "<Figure size 4500x1800 with 0 Axes>"
            ]
          },
          "metadata": {},
          "output_type": "display_data"
        },
        {
          "data": {
            "text/plain": [
              "<Figure size 4500x1800 with 0 Axes>"
            ]
          },
          "metadata": {},
          "output_type": "display_data"
        },
        {
          "data": {
            "text/plain": [
              "<Figure size 4500x1800 with 0 Axes>"
            ]
          },
          "metadata": {},
          "output_type": "display_data"
        },
        {
          "data": {
            "text/plain": [
              "<Figure size 4500x1800 with 0 Axes>"
            ]
          },
          "metadata": {},
          "output_type": "display_data"
        },
        {
          "data": {
            "text/plain": [
              "<Figure size 4500x1800 with 0 Axes>"
            ]
          },
          "metadata": {},
          "output_type": "display_data"
        },
        {
          "data": {
            "text/plain": [
              "<Figure size 4500x1800 with 0 Axes>"
            ]
          },
          "metadata": {},
          "output_type": "display_data"
        },
        {
          "data": {
            "text/plain": [
              "<Figure size 4500x1800 with 0 Axes>"
            ]
          },
          "metadata": {},
          "output_type": "display_data"
        },
        {
          "data": {
            "text/plain": [
              "<Figure size 4500x1800 with 0 Axes>"
            ]
          },
          "metadata": {},
          "output_type": "display_data"
        },
        {
          "data": {
            "text/plain": [
              "<Figure size 4500x1800 with 0 Axes>"
            ]
          },
          "metadata": {},
          "output_type": "display_data"
        },
        {
          "data": {
            "text/plain": [
              "<Figure size 4500x1800 with 0 Axes>"
            ]
          },
          "metadata": {},
          "output_type": "display_data"
        },
        {
          "data": {
            "text/plain": [
              "<Figure size 4500x1800 with 0 Axes>"
            ]
          },
          "metadata": {},
          "output_type": "display_data"
        },
        {
          "data": {
            "text/plain": [
              "<Figure size 4500x1800 with 0 Axes>"
            ]
          },
          "metadata": {},
          "output_type": "display_data"
        },
        {
          "data": {
            "text/plain": [
              "<Figure size 4500x1800 with 0 Axes>"
            ]
          },
          "metadata": {},
          "output_type": "display_data"
        },
        {
          "data": {
            "text/plain": [
              "<Figure size 4500x1800 with 0 Axes>"
            ]
          },
          "metadata": {},
          "output_type": "display_data"
        },
        {
          "data": {
            "text/plain": [
              "<Figure size 4500x1800 with 0 Axes>"
            ]
          },
          "metadata": {},
          "output_type": "display_data"
        },
        {
          "data": {
            "text/plain": [
              "<Figure size 4500x1800 with 0 Axes>"
            ]
          },
          "metadata": {},
          "output_type": "display_data"
        },
        {
          "data": {
            "text/plain": [
              "<Figure size 4500x1800 with 0 Axes>"
            ]
          },
          "metadata": {},
          "output_type": "display_data"
        },
        {
          "data": {
            "text/plain": [
              "<Figure size 4500x1800 with 0 Axes>"
            ]
          },
          "metadata": {},
          "output_type": "display_data"
        },
        {
          "data": {
            "text/plain": [
              "<Figure size 4500x1800 with 0 Axes>"
            ]
          },
          "metadata": {},
          "output_type": "display_data"
        },
        {
          "data": {
            "text/plain": [
              "<Figure size 4500x1800 with 0 Axes>"
            ]
          },
          "metadata": {},
          "output_type": "display_data"
        },
        {
          "data": {
            "text/plain": [
              "<Figure size 4500x1800 with 0 Axes>"
            ]
          },
          "metadata": {},
          "output_type": "display_data"
        },
        {
          "data": {
            "text/plain": [
              "<Figure size 4500x1800 with 0 Axes>"
            ]
          },
          "metadata": {},
          "output_type": "display_data"
        },
        {
          "data": {
            "text/plain": [
              "<Figure size 4500x1800 with 0 Axes>"
            ]
          },
          "metadata": {},
          "output_type": "display_data"
        },
        {
          "data": {
            "text/plain": [
              "<Figure size 4500x1800 with 0 Axes>"
            ]
          },
          "metadata": {},
          "output_type": "display_data"
        },
        {
          "data": {
            "text/plain": [
              "<Figure size 4500x1800 with 0 Axes>"
            ]
          },
          "metadata": {},
          "output_type": "display_data"
        },
        {
          "data": {
            "text/plain": [
              "<Figure size 4500x1800 with 0 Axes>"
            ]
          },
          "metadata": {},
          "output_type": "display_data"
        },
        {
          "data": {
            "text/plain": [
              "<Figure size 4500x1800 with 0 Axes>"
            ]
          },
          "metadata": {},
          "output_type": "display_data"
        },
        {
          "data": {
            "text/plain": [
              "<Figure size 4500x1800 with 0 Axes>"
            ]
          },
          "metadata": {},
          "output_type": "display_data"
        },
        {
          "data": {
            "text/plain": [
              "<Figure size 4500x1800 with 0 Axes>"
            ]
          },
          "metadata": {},
          "output_type": "display_data"
        },
        {
          "data": {
            "text/plain": [
              "<Figure size 4500x1800 with 0 Axes>"
            ]
          },
          "metadata": {},
          "output_type": "display_data"
        },
        {
          "data": {
            "text/plain": [
              "<Figure size 4500x1800 with 0 Axes>"
            ]
          },
          "metadata": {},
          "output_type": "display_data"
        },
        {
          "data": {
            "text/plain": [
              "<Figure size 4500x1800 with 0 Axes>"
            ]
          },
          "metadata": {},
          "output_type": "display_data"
        },
        {
          "data": {
            "text/plain": [
              "<Figure size 4500x1800 with 0 Axes>"
            ]
          },
          "metadata": {},
          "output_type": "display_data"
        },
        {
          "data": {
            "text/plain": [
              "<Figure size 4500x1800 with 0 Axes>"
            ]
          },
          "metadata": {},
          "output_type": "display_data"
        },
        {
          "data": {
            "text/plain": [
              "<Figure size 4500x1800 with 0 Axes>"
            ]
          },
          "metadata": {},
          "output_type": "display_data"
        },
        {
          "data": {
            "text/plain": [
              "<Figure size 4500x1800 with 0 Axes>"
            ]
          },
          "metadata": {},
          "output_type": "display_data"
        },
        {
          "data": {
            "text/plain": [
              "<Figure size 4500x1800 with 0 Axes>"
            ]
          },
          "metadata": {},
          "output_type": "display_data"
        },
        {
          "data": {
            "text/plain": [
              "<Figure size 4500x1800 with 0 Axes>"
            ]
          },
          "metadata": {},
          "output_type": "display_data"
        },
        {
          "data": {
            "text/plain": [
              "<Figure size 4500x1800 with 0 Axes>"
            ]
          },
          "metadata": {},
          "output_type": "display_data"
        },
        {
          "data": {
            "text/plain": [
              "<Figure size 4500x1800 with 0 Axes>"
            ]
          },
          "metadata": {},
          "output_type": "display_data"
        },
        {
          "data": {
            "text/plain": [
              "<Figure size 4500x1800 with 0 Axes>"
            ]
          },
          "metadata": {},
          "output_type": "display_data"
        },
        {
          "data": {
            "text/plain": [
              "<Figure size 4500x1800 with 0 Axes>"
            ]
          },
          "metadata": {},
          "output_type": "display_data"
        },
        {
          "data": {
            "text/plain": [
              "<Figure size 4500x1800 with 0 Axes>"
            ]
          },
          "metadata": {},
          "output_type": "display_data"
        },
        {
          "data": {
            "text/plain": [
              "<Figure size 4500x1800 with 0 Axes>"
            ]
          },
          "metadata": {},
          "output_type": "display_data"
        },
        {
          "data": {
            "text/plain": [
              "<Figure size 4500x1800 with 0 Axes>"
            ]
          },
          "metadata": {},
          "output_type": "display_data"
        },
        {
          "data": {
            "text/plain": [
              "<Figure size 4500x1800 with 0 Axes>"
            ]
          },
          "metadata": {},
          "output_type": "display_data"
        },
        {
          "data": {
            "text/plain": [
              "<Figure size 4500x1800 with 0 Axes>"
            ]
          },
          "metadata": {},
          "output_type": "display_data"
        },
        {
          "data": {
            "text/plain": [
              "<Figure size 4500x1800 with 0 Axes>"
            ]
          },
          "metadata": {},
          "output_type": "display_data"
        },
        {
          "data": {
            "text/plain": [
              "<Figure size 4500x1800 with 0 Axes>"
            ]
          },
          "metadata": {},
          "output_type": "display_data"
        },
        {
          "data": {
            "text/plain": [
              "<Figure size 4500x1800 with 0 Axes>"
            ]
          },
          "metadata": {},
          "output_type": "display_data"
        },
        {
          "data": {
            "text/plain": [
              "<Figure size 4500x1800 with 0 Axes>"
            ]
          },
          "metadata": {},
          "output_type": "display_data"
        },
        {
          "data": {
            "text/plain": [
              "<Figure size 4500x1800 with 0 Axes>"
            ]
          },
          "metadata": {},
          "output_type": "display_data"
        },
        {
          "data": {
            "text/plain": [
              "<Figure size 4500x1800 with 0 Axes>"
            ]
          },
          "metadata": {},
          "output_type": "display_data"
        },
        {
          "data": {
            "text/plain": [
              "<Figure size 4500x1800 with 0 Axes>"
            ]
          },
          "metadata": {},
          "output_type": "display_data"
        },
        {
          "data": {
            "text/plain": [
              "<Figure size 4500x1800 with 0 Axes>"
            ]
          },
          "metadata": {},
          "output_type": "display_data"
        },
        {
          "data": {
            "text/plain": [
              "<Figure size 4500x1800 with 0 Axes>"
            ]
          },
          "metadata": {},
          "output_type": "display_data"
        },
        {
          "data": {
            "text/plain": [
              "<Figure size 4500x1800 with 0 Axes>"
            ]
          },
          "metadata": {},
          "output_type": "display_data"
        },
        {
          "data": {
            "text/plain": [
              "<Figure size 4500x1800 with 0 Axes>"
            ]
          },
          "metadata": {},
          "output_type": "display_data"
        },
        {
          "data": {
            "text/plain": [
              "<Figure size 4500x1800 with 0 Axes>"
            ]
          },
          "metadata": {},
          "output_type": "display_data"
        },
        {
          "data": {
            "text/plain": [
              "<Figure size 4500x1800 with 0 Axes>"
            ]
          },
          "metadata": {},
          "output_type": "display_data"
        },
        {
          "data": {
            "text/plain": [
              "<Figure size 4500x1800 with 0 Axes>"
            ]
          },
          "metadata": {},
          "output_type": "display_data"
        },
        {
          "data": {
            "text/plain": [
              "<Figure size 4500x1800 with 0 Axes>"
            ]
          },
          "metadata": {},
          "output_type": "display_data"
        },
        {
          "data": {
            "text/plain": [
              "<Figure size 4500x1800 with 0 Axes>"
            ]
          },
          "metadata": {},
          "output_type": "display_data"
        },
        {
          "data": {
            "text/plain": [
              "<Figure size 4500x1800 with 0 Axes>"
            ]
          },
          "metadata": {},
          "output_type": "display_data"
        },
        {
          "data": {
            "text/plain": [
              "<Figure size 4500x1800 with 0 Axes>"
            ]
          },
          "metadata": {},
          "output_type": "display_data"
        },
        {
          "data": {
            "text/plain": [
              "<Figure size 4500x1800 with 0 Axes>"
            ]
          },
          "metadata": {},
          "output_type": "display_data"
        },
        {
          "data": {
            "text/plain": [
              "<Figure size 4500x1800 with 0 Axes>"
            ]
          },
          "metadata": {},
          "output_type": "display_data"
        },
        {
          "data": {
            "text/plain": [
              "<Figure size 4500x1800 with 0 Axes>"
            ]
          },
          "metadata": {},
          "output_type": "display_data"
        },
        {
          "data": {
            "text/plain": [
              "<Figure size 4500x1800 with 0 Axes>"
            ]
          },
          "metadata": {},
          "output_type": "display_data"
        },
        {
          "data": {
            "text/plain": [
              "<Figure size 4500x1800 with 0 Axes>"
            ]
          },
          "metadata": {},
          "output_type": "display_data"
        },
        {
          "data": {
            "text/plain": [
              "<Figure size 4500x1800 with 0 Axes>"
            ]
          },
          "metadata": {},
          "output_type": "display_data"
        },
        {
          "data": {
            "text/plain": [
              "<Figure size 4500x1800 with 0 Axes>"
            ]
          },
          "metadata": {},
          "output_type": "display_data"
        },
        {
          "data": {
            "text/plain": [
              "<Figure size 4500x1800 with 0 Axes>"
            ]
          },
          "metadata": {},
          "output_type": "display_data"
        },
        {
          "data": {
            "text/plain": [
              "<Figure size 4500x1800 with 0 Axes>"
            ]
          },
          "metadata": {},
          "output_type": "display_data"
        },
        {
          "data": {
            "text/plain": [
              "<Figure size 4500x1800 with 0 Axes>"
            ]
          },
          "metadata": {},
          "output_type": "display_data"
        },
        {
          "data": {
            "text/plain": [
              "<Figure size 4500x1800 with 0 Axes>"
            ]
          },
          "metadata": {},
          "output_type": "display_data"
        },
        {
          "data": {
            "text/plain": [
              "<Figure size 4500x1800 with 0 Axes>"
            ]
          },
          "metadata": {},
          "output_type": "display_data"
        },
        {
          "data": {
            "text/plain": [
              "<Figure size 4500x1800 with 0 Axes>"
            ]
          },
          "metadata": {},
          "output_type": "display_data"
        },
        {
          "data": {
            "text/plain": [
              "<Figure size 4500x1800 with 0 Axes>"
            ]
          },
          "metadata": {},
          "output_type": "display_data"
        },
        {
          "data": {
            "text/plain": [
              "<Figure size 4500x1800 with 0 Axes>"
            ]
          },
          "metadata": {},
          "output_type": "display_data"
        },
        {
          "data": {
            "text/plain": [
              "<Figure size 4500x1800 with 0 Axes>"
            ]
          },
          "metadata": {},
          "output_type": "display_data"
        },
        {
          "data": {
            "text/plain": [
              "<Figure size 4500x1800 with 0 Axes>"
            ]
          },
          "metadata": {},
          "output_type": "display_data"
        },
        {
          "data": {
            "text/plain": [
              "<Figure size 4500x1800 with 0 Axes>"
            ]
          },
          "metadata": {},
          "output_type": "display_data"
        },
        {
          "data": {
            "text/plain": [
              "<Figure size 4500x1800 with 0 Axes>"
            ]
          },
          "metadata": {},
          "output_type": "display_data"
        },
        {
          "data": {
            "text/plain": [
              "<Figure size 4500x1800 with 0 Axes>"
            ]
          },
          "metadata": {},
          "output_type": "display_data"
        },
        {
          "data": {
            "text/plain": [
              "<Figure size 4500x1800 with 0 Axes>"
            ]
          },
          "metadata": {},
          "output_type": "display_data"
        },
        {
          "data": {
            "text/plain": [
              "<Figure size 4500x1800 with 0 Axes>"
            ]
          },
          "metadata": {},
          "output_type": "display_data"
        },
        {
          "data": {
            "text/plain": [
              "<Figure size 4500x1800 with 0 Axes>"
            ]
          },
          "metadata": {},
          "output_type": "display_data"
        },
        {
          "data": {
            "text/plain": [
              "<Figure size 4500x1800 with 0 Axes>"
            ]
          },
          "metadata": {},
          "output_type": "display_data"
        },
        {
          "data": {
            "text/plain": [
              "<Figure size 4500x1800 with 0 Axes>"
            ]
          },
          "metadata": {},
          "output_type": "display_data"
        },
        {
          "data": {
            "text/plain": [
              "<Figure size 4500x1800 with 0 Axes>"
            ]
          },
          "metadata": {},
          "output_type": "display_data"
        },
        {
          "data": {
            "text/plain": [
              "<Figure size 4500x1800 with 0 Axes>"
            ]
          },
          "metadata": {},
          "output_type": "display_data"
        },
        {
          "data": {
            "text/plain": [
              "<Figure size 4500x1800 with 0 Axes>"
            ]
          },
          "metadata": {},
          "output_type": "display_data"
        },
        {
          "data": {
            "text/plain": [
              "<Figure size 4500x1800 with 0 Axes>"
            ]
          },
          "metadata": {},
          "output_type": "display_data"
        },
        {
          "data": {
            "text/plain": [
              "<Figure size 4500x1800 with 0 Axes>"
            ]
          },
          "metadata": {},
          "output_type": "display_data"
        },
        {
          "data": {
            "text/plain": [
              "<Figure size 4500x1800 with 0 Axes>"
            ]
          },
          "metadata": {},
          "output_type": "display_data"
        },
        {
          "data": {
            "text/plain": [
              "<Figure size 4500x1800 with 0 Axes>"
            ]
          },
          "metadata": {},
          "output_type": "display_data"
        },
        {
          "data": {
            "text/plain": [
              "<Figure size 4500x1800 with 0 Axes>"
            ]
          },
          "metadata": {},
          "output_type": "display_data"
        },
        {
          "data": {
            "text/plain": [
              "<Figure size 4500x1800 with 0 Axes>"
            ]
          },
          "metadata": {},
          "output_type": "display_data"
        },
        {
          "data": {
            "text/plain": [
              "<Figure size 4500x1800 with 0 Axes>"
            ]
          },
          "metadata": {},
          "output_type": "display_data"
        },
        {
          "data": {
            "text/plain": [
              "<Figure size 4500x1800 with 0 Axes>"
            ]
          },
          "metadata": {},
          "output_type": "display_data"
        },
        {
          "data": {
            "text/plain": [
              "<Figure size 4500x1800 with 0 Axes>"
            ]
          },
          "metadata": {},
          "output_type": "display_data"
        },
        {
          "data": {
            "text/plain": [
              "<Figure size 4500x1800 with 0 Axes>"
            ]
          },
          "metadata": {},
          "output_type": "display_data"
        },
        {
          "data": {
            "text/plain": [
              "<Figure size 4500x1800 with 0 Axes>"
            ]
          },
          "metadata": {},
          "output_type": "display_data"
        },
        {
          "data": {
            "text/plain": [
              "<Figure size 4500x1800 with 0 Axes>"
            ]
          },
          "metadata": {},
          "output_type": "display_data"
        },
        {
          "data": {
            "text/plain": [
              "<Figure size 4500x1800 with 0 Axes>"
            ]
          },
          "metadata": {},
          "output_type": "display_data"
        },
        {
          "data": {
            "text/plain": [
              "<Figure size 4500x1800 with 0 Axes>"
            ]
          },
          "metadata": {},
          "output_type": "display_data"
        },
        {
          "data": {
            "text/plain": [
              "<Figure size 4500x1800 with 0 Axes>"
            ]
          },
          "metadata": {},
          "output_type": "display_data"
        },
        {
          "data": {
            "text/plain": [
              "<Figure size 4500x1800 with 0 Axes>"
            ]
          },
          "metadata": {},
          "output_type": "display_data"
        },
        {
          "data": {
            "text/plain": [
              "<Figure size 4500x1800 with 0 Axes>"
            ]
          },
          "metadata": {},
          "output_type": "display_data"
        },
        {
          "data": {
            "text/plain": [
              "<Figure size 4500x1800 with 0 Axes>"
            ]
          },
          "metadata": {},
          "output_type": "display_data"
        },
        {
          "data": {
            "text/plain": [
              "<Figure size 4500x1800 with 0 Axes>"
            ]
          },
          "metadata": {},
          "output_type": "display_data"
        },
        {
          "data": {
            "text/plain": [
              "<Figure size 4500x1800 with 0 Axes>"
            ]
          },
          "metadata": {},
          "output_type": "display_data"
        },
        {
          "data": {
            "text/plain": [
              "<Figure size 4500x1800 with 0 Axes>"
            ]
          },
          "metadata": {},
          "output_type": "display_data"
        },
        {
          "data": {
            "text/plain": [
              "<Figure size 4500x1800 with 0 Axes>"
            ]
          },
          "metadata": {},
          "output_type": "display_data"
        },
        {
          "data": {
            "text/plain": [
              "<Figure size 4500x1800 with 0 Axes>"
            ]
          },
          "metadata": {},
          "output_type": "display_data"
        },
        {
          "data": {
            "text/plain": [
              "<Figure size 4500x1800 with 0 Axes>"
            ]
          },
          "metadata": {},
          "output_type": "display_data"
        },
        {
          "data": {
            "text/plain": [
              "<Figure size 4500x1800 with 0 Axes>"
            ]
          },
          "metadata": {},
          "output_type": "display_data"
        },
        {
          "data": {
            "text/plain": [
              "<Figure size 4500x1800 with 0 Axes>"
            ]
          },
          "metadata": {},
          "output_type": "display_data"
        },
        {
          "data": {
            "text/plain": [
              "<Figure size 4500x1800 with 0 Axes>"
            ]
          },
          "metadata": {},
          "output_type": "display_data"
        },
        {
          "data": {
            "text/plain": [
              "<Figure size 4500x1800 with 0 Axes>"
            ]
          },
          "metadata": {},
          "output_type": "display_data"
        },
        {
          "data": {
            "text/plain": [
              "<Figure size 4500x1800 with 0 Axes>"
            ]
          },
          "metadata": {},
          "output_type": "display_data"
        },
        {
          "data": {
            "text/plain": [
              "<Figure size 4500x1800 with 0 Axes>"
            ]
          },
          "metadata": {},
          "output_type": "display_data"
        },
        {
          "data": {
            "text/plain": [
              "<Figure size 4500x1800 with 0 Axes>"
            ]
          },
          "metadata": {},
          "output_type": "display_data"
        },
        {
          "data": {
            "text/plain": [
              "<Figure size 4500x1800 with 0 Axes>"
            ]
          },
          "metadata": {},
          "output_type": "display_data"
        },
        {
          "data": {
            "text/plain": [
              "<Figure size 4500x1800 with 0 Axes>"
            ]
          },
          "metadata": {},
          "output_type": "display_data"
        },
        {
          "data": {
            "text/plain": [
              "<Figure size 4500x1800 with 0 Axes>"
            ]
          },
          "metadata": {},
          "output_type": "display_data"
        },
        {
          "data": {
            "text/plain": [
              "<Figure size 4500x1800 with 0 Axes>"
            ]
          },
          "metadata": {},
          "output_type": "display_data"
        },
        {
          "data": {
            "text/plain": [
              "<Figure size 4500x1800 with 0 Axes>"
            ]
          },
          "metadata": {},
          "output_type": "display_data"
        },
        {
          "data": {
            "text/plain": [
              "<Figure size 4500x1800 with 0 Axes>"
            ]
          },
          "metadata": {},
          "output_type": "display_data"
        },
        {
          "data": {
            "text/plain": [
              "<Figure size 4500x1800 with 0 Axes>"
            ]
          },
          "metadata": {},
          "output_type": "display_data"
        },
        {
          "data": {
            "text/plain": [
              "<Figure size 4500x1800 with 0 Axes>"
            ]
          },
          "metadata": {},
          "output_type": "display_data"
        },
        {
          "data": {
            "text/plain": [
              "<Figure size 4500x1800 with 0 Axes>"
            ]
          },
          "metadata": {},
          "output_type": "display_data"
        },
        {
          "data": {
            "text/plain": [
              "<Figure size 4500x1800 with 0 Axes>"
            ]
          },
          "metadata": {},
          "output_type": "display_data"
        },
        {
          "data": {
            "text/plain": [
              "<Figure size 4500x1800 with 0 Axes>"
            ]
          },
          "metadata": {},
          "output_type": "display_data"
        },
        {
          "data": {
            "text/plain": [
              "<Figure size 4500x1800 with 0 Axes>"
            ]
          },
          "metadata": {},
          "output_type": "display_data"
        },
        {
          "data": {
            "text/plain": [
              "<Figure size 4500x1800 with 0 Axes>"
            ]
          },
          "metadata": {},
          "output_type": "display_data"
        },
        {
          "data": {
            "text/plain": [
              "<Figure size 4500x1800 with 0 Axes>"
            ]
          },
          "metadata": {},
          "output_type": "display_data"
        },
        {
          "data": {
            "text/plain": [
              "<Figure size 4500x1800 with 0 Axes>"
            ]
          },
          "metadata": {},
          "output_type": "display_data"
        },
        {
          "data": {
            "text/plain": [
              "<Figure size 4500x1800 with 0 Axes>"
            ]
          },
          "metadata": {},
          "output_type": "display_data"
        },
        {
          "data": {
            "text/plain": [
              "<Figure size 4500x1800 with 0 Axes>"
            ]
          },
          "metadata": {},
          "output_type": "display_data"
        },
        {
          "data": {
            "text/plain": [
              "<Figure size 4500x1800 with 0 Axes>"
            ]
          },
          "metadata": {},
          "output_type": "display_data"
        },
        {
          "data": {
            "text/plain": [
              "<Figure size 4500x1800 with 0 Axes>"
            ]
          },
          "metadata": {},
          "output_type": "display_data"
        },
        {
          "data": {
            "text/plain": [
              "<Figure size 4500x1800 with 0 Axes>"
            ]
          },
          "metadata": {},
          "output_type": "display_data"
        },
        {
          "data": {
            "text/plain": [
              "<Figure size 4500x1800 with 0 Axes>"
            ]
          },
          "metadata": {},
          "output_type": "display_data"
        },
        {
          "data": {
            "text/plain": [
              "<Figure size 4500x1800 with 0 Axes>"
            ]
          },
          "metadata": {},
          "output_type": "display_data"
        },
        {
          "data": {
            "text/plain": [
              "<Figure size 4500x1800 with 0 Axes>"
            ]
          },
          "metadata": {},
          "output_type": "display_data"
        },
        {
          "data": {
            "text/plain": [
              "<Figure size 4500x1800 with 0 Axes>"
            ]
          },
          "metadata": {},
          "output_type": "display_data"
        },
        {
          "data": {
            "text/plain": [
              "<Figure size 4500x1800 with 0 Axes>"
            ]
          },
          "metadata": {},
          "output_type": "display_data"
        },
        {
          "data": {
            "text/plain": [
              "<Figure size 4500x1800 with 0 Axes>"
            ]
          },
          "metadata": {},
          "output_type": "display_data"
        },
        {
          "data": {
            "text/plain": [
              "<Figure size 4500x1800 with 0 Axes>"
            ]
          },
          "metadata": {},
          "output_type": "display_data"
        },
        {
          "data": {
            "text/plain": [
              "<Figure size 4500x1800 with 0 Axes>"
            ]
          },
          "metadata": {},
          "output_type": "display_data"
        },
        {
          "data": {
            "text/plain": [
              "<Figure size 4500x1800 with 0 Axes>"
            ]
          },
          "metadata": {},
          "output_type": "display_data"
        },
        {
          "data": {
            "text/plain": [
              "<Figure size 4500x1800 with 0 Axes>"
            ]
          },
          "metadata": {},
          "output_type": "display_data"
        },
        {
          "data": {
            "text/plain": [
              "<Figure size 4500x1800 with 0 Axes>"
            ]
          },
          "metadata": {},
          "output_type": "display_data"
        },
        {
          "data": {
            "text/plain": [
              "<Figure size 4500x1800 with 0 Axes>"
            ]
          },
          "metadata": {},
          "output_type": "display_data"
        },
        {
          "data": {
            "text/plain": [
              "<Figure size 4500x1800 with 0 Axes>"
            ]
          },
          "metadata": {},
          "output_type": "display_data"
        },
        {
          "data": {
            "text/plain": [
              "<Figure size 4500x1800 with 0 Axes>"
            ]
          },
          "metadata": {},
          "output_type": "display_data"
        },
        {
          "data": {
            "text/plain": [
              "<Figure size 4500x1800 with 0 Axes>"
            ]
          },
          "metadata": {},
          "output_type": "display_data"
        },
        {
          "data": {
            "text/plain": [
              "<Figure size 4500x1800 with 0 Axes>"
            ]
          },
          "metadata": {},
          "output_type": "display_data"
        },
        {
          "data": {
            "text/plain": [
              "<Figure size 4500x1800 with 0 Axes>"
            ]
          },
          "metadata": {},
          "output_type": "display_data"
        },
        {
          "data": {
            "text/plain": [
              "<Figure size 4500x1800 with 0 Axes>"
            ]
          },
          "metadata": {},
          "output_type": "display_data"
        },
        {
          "data": {
            "text/plain": [
              "<Figure size 4500x1800 with 0 Axes>"
            ]
          },
          "metadata": {},
          "output_type": "display_data"
        },
        {
          "data": {
            "text/plain": [
              "<Figure size 4500x1800 with 0 Axes>"
            ]
          },
          "metadata": {},
          "output_type": "display_data"
        },
        {
          "data": {
            "text/plain": [
              "<Figure size 4500x1800 with 0 Axes>"
            ]
          },
          "metadata": {},
          "output_type": "display_data"
        },
        {
          "data": {
            "text/plain": [
              "<Figure size 4500x1800 with 0 Axes>"
            ]
          },
          "metadata": {},
          "output_type": "display_data"
        },
        {
          "data": {
            "text/plain": [
              "<Figure size 4500x1800 with 0 Axes>"
            ]
          },
          "metadata": {},
          "output_type": "display_data"
        },
        {
          "data": {
            "text/plain": [
              "<Figure size 4500x1800 with 0 Axes>"
            ]
          },
          "metadata": {},
          "output_type": "display_data"
        },
        {
          "data": {
            "text/plain": [
              "<Figure size 4500x1800 with 0 Axes>"
            ]
          },
          "metadata": {},
          "output_type": "display_data"
        },
        {
          "data": {
            "text/plain": [
              "<Figure size 4500x1800 with 0 Axes>"
            ]
          },
          "metadata": {},
          "output_type": "display_data"
        },
        {
          "data": {
            "text/plain": [
              "<Figure size 4500x1800 with 0 Axes>"
            ]
          },
          "metadata": {},
          "output_type": "display_data"
        },
        {
          "data": {
            "text/plain": [
              "<Figure size 4500x1800 with 0 Axes>"
            ]
          },
          "metadata": {},
          "output_type": "display_data"
        },
        {
          "data": {
            "text/plain": [
              "<Figure size 4500x1800 with 0 Axes>"
            ]
          },
          "metadata": {},
          "output_type": "display_data"
        },
        {
          "data": {
            "text/plain": [
              "<Figure size 4500x1800 with 0 Axes>"
            ]
          },
          "metadata": {},
          "output_type": "display_data"
        },
        {
          "data": {
            "text/plain": [
              "<Figure size 4500x1800 with 0 Axes>"
            ]
          },
          "metadata": {},
          "output_type": "display_data"
        },
        {
          "data": {
            "text/plain": [
              "<Figure size 4500x1800 with 0 Axes>"
            ]
          },
          "metadata": {},
          "output_type": "display_data"
        },
        {
          "data": {
            "text/plain": [
              "<Figure size 4500x1800 with 0 Axes>"
            ]
          },
          "metadata": {},
          "output_type": "display_data"
        },
        {
          "data": {
            "text/plain": [
              "<Figure size 4500x1800 with 0 Axes>"
            ]
          },
          "metadata": {},
          "output_type": "display_data"
        },
        {
          "data": {
            "text/plain": [
              "<Figure size 4500x1800 with 0 Axes>"
            ]
          },
          "metadata": {},
          "output_type": "display_data"
        },
        {
          "data": {
            "text/plain": [
              "<Figure size 4500x1800 with 0 Axes>"
            ]
          },
          "metadata": {},
          "output_type": "display_data"
        },
        {
          "data": {
            "text/plain": [
              "<Figure size 4500x1800 with 0 Axes>"
            ]
          },
          "metadata": {},
          "output_type": "display_data"
        },
        {
          "data": {
            "text/plain": [
              "<Figure size 4500x1800 with 0 Axes>"
            ]
          },
          "metadata": {},
          "output_type": "display_data"
        },
        {
          "data": {
            "text/plain": [
              "<Figure size 4500x1800 with 0 Axes>"
            ]
          },
          "metadata": {},
          "output_type": "display_data"
        },
        {
          "data": {
            "text/plain": [
              "<Figure size 4500x1800 with 0 Axes>"
            ]
          },
          "metadata": {},
          "output_type": "display_data"
        },
        {
          "data": {
            "text/plain": [
              "<Figure size 4500x1800 with 0 Axes>"
            ]
          },
          "metadata": {},
          "output_type": "display_data"
        },
        {
          "data": {
            "text/plain": [
              "<Figure size 4500x1800 with 0 Axes>"
            ]
          },
          "metadata": {},
          "output_type": "display_data"
        },
        {
          "data": {
            "text/plain": [
              "<Figure size 4500x1800 with 0 Axes>"
            ]
          },
          "metadata": {},
          "output_type": "display_data"
        },
        {
          "data": {
            "text/plain": [
              "<Figure size 4500x1800 with 0 Axes>"
            ]
          },
          "metadata": {},
          "output_type": "display_data"
        },
        {
          "data": {
            "text/plain": [
              "<Figure size 4500x1800 with 0 Axes>"
            ]
          },
          "metadata": {},
          "output_type": "display_data"
        },
        {
          "data": {
            "text/plain": [
              "<Figure size 4500x1800 with 0 Axes>"
            ]
          },
          "metadata": {},
          "output_type": "display_data"
        },
        {
          "data": {
            "text/plain": [
              "<Figure size 4500x1800 with 0 Axes>"
            ]
          },
          "metadata": {},
          "output_type": "display_data"
        },
        {
          "data": {
            "text/plain": [
              "<Figure size 4500x1800 with 0 Axes>"
            ]
          },
          "metadata": {},
          "output_type": "display_data"
        },
        {
          "data": {
            "text/plain": [
              "<Figure size 4500x1800 with 0 Axes>"
            ]
          },
          "metadata": {},
          "output_type": "display_data"
        },
        {
          "data": {
            "text/plain": [
              "<Figure size 4500x1800 with 0 Axes>"
            ]
          },
          "metadata": {},
          "output_type": "display_data"
        },
        {
          "data": {
            "text/plain": [
              "<Figure size 4500x1800 with 0 Axes>"
            ]
          },
          "metadata": {},
          "output_type": "display_data"
        },
        {
          "data": {
            "text/plain": [
              "<Figure size 4500x1800 with 0 Axes>"
            ]
          },
          "metadata": {},
          "output_type": "display_data"
        },
        {
          "data": {
            "text/plain": [
              "<Figure size 4500x1800 with 0 Axes>"
            ]
          },
          "metadata": {},
          "output_type": "display_data"
        },
        {
          "data": {
            "text/plain": [
              "<Figure size 4500x1800 with 0 Axes>"
            ]
          },
          "metadata": {},
          "output_type": "display_data"
        },
        {
          "data": {
            "text/plain": [
              "<Figure size 4500x1800 with 0 Axes>"
            ]
          },
          "metadata": {},
          "output_type": "display_data"
        },
        {
          "data": {
            "text/plain": [
              "<Figure size 4500x1800 with 0 Axes>"
            ]
          },
          "metadata": {},
          "output_type": "display_data"
        },
        {
          "data": {
            "text/plain": [
              "<Figure size 4500x1800 with 0 Axes>"
            ]
          },
          "metadata": {},
          "output_type": "display_data"
        },
        {
          "data": {
            "text/plain": [
              "<Figure size 4500x1800 with 0 Axes>"
            ]
          },
          "metadata": {},
          "output_type": "display_data"
        },
        {
          "data": {
            "text/plain": [
              "<Figure size 4500x1800 with 0 Axes>"
            ]
          },
          "metadata": {},
          "output_type": "display_data"
        },
        {
          "data": {
            "text/plain": [
              "<Figure size 4500x1800 with 0 Axes>"
            ]
          },
          "metadata": {},
          "output_type": "display_data"
        },
        {
          "data": {
            "text/plain": [
              "<Figure size 4500x1800 with 0 Axes>"
            ]
          },
          "metadata": {},
          "output_type": "display_data"
        },
        {
          "data": {
            "text/plain": [
              "<Figure size 4500x1800 with 0 Axes>"
            ]
          },
          "metadata": {},
          "output_type": "display_data"
        },
        {
          "data": {
            "text/plain": [
              "<Figure size 4500x1800 with 0 Axes>"
            ]
          },
          "metadata": {},
          "output_type": "display_data"
        },
        {
          "data": {
            "text/plain": [
              "<Figure size 4500x1800 with 0 Axes>"
            ]
          },
          "metadata": {},
          "output_type": "display_data"
        },
        {
          "data": {
            "text/plain": [
              "<Figure size 4500x1800 with 0 Axes>"
            ]
          },
          "metadata": {},
          "output_type": "display_data"
        },
        {
          "data": {
            "text/plain": [
              "<Figure size 4500x1800 with 0 Axes>"
            ]
          },
          "metadata": {},
          "output_type": "display_data"
        },
        {
          "data": {
            "text/plain": [
              "<Figure size 4500x1800 with 0 Axes>"
            ]
          },
          "metadata": {},
          "output_type": "display_data"
        },
        {
          "data": {
            "text/plain": [
              "<Figure size 4500x1800 with 0 Axes>"
            ]
          },
          "metadata": {},
          "output_type": "display_data"
        },
        {
          "data": {
            "text/plain": [
              "<Figure size 4500x1800 with 0 Axes>"
            ]
          },
          "metadata": {},
          "output_type": "display_data"
        },
        {
          "data": {
            "text/plain": [
              "<Figure size 4500x1800 with 0 Axes>"
            ]
          },
          "metadata": {},
          "output_type": "display_data"
        },
        {
          "data": {
            "text/plain": [
              "<Figure size 4500x1800 with 0 Axes>"
            ]
          },
          "metadata": {},
          "output_type": "display_data"
        },
        {
          "data": {
            "text/plain": [
              "<Figure size 4500x1800 with 0 Axes>"
            ]
          },
          "metadata": {},
          "output_type": "display_data"
        },
        {
          "data": {
            "text/plain": [
              "<Figure size 4500x1800 with 0 Axes>"
            ]
          },
          "metadata": {},
          "output_type": "display_data"
        },
        {
          "data": {
            "text/plain": [
              "<Figure size 4500x1800 with 0 Axes>"
            ]
          },
          "metadata": {},
          "output_type": "display_data"
        },
        {
          "data": {
            "text/plain": [
              "<Figure size 4500x1800 with 0 Axes>"
            ]
          },
          "metadata": {},
          "output_type": "display_data"
        },
        {
          "data": {
            "text/plain": [
              "<Figure size 4500x1800 with 0 Axes>"
            ]
          },
          "metadata": {},
          "output_type": "display_data"
        },
        {
          "data": {
            "text/plain": [
              "<Figure size 4500x1800 with 0 Axes>"
            ]
          },
          "metadata": {},
          "output_type": "display_data"
        },
        {
          "data": {
            "text/plain": [
              "<Figure size 4500x1800 with 0 Axes>"
            ]
          },
          "metadata": {},
          "output_type": "display_data"
        },
        {
          "data": {
            "text/plain": [
              "<Figure size 4500x1800 with 0 Axes>"
            ]
          },
          "metadata": {},
          "output_type": "display_data"
        },
        {
          "data": {
            "text/plain": [
              "<Figure size 4500x1800 with 0 Axes>"
            ]
          },
          "metadata": {},
          "output_type": "display_data"
        },
        {
          "data": {
            "text/plain": [
              "<Figure size 4500x1800 with 0 Axes>"
            ]
          },
          "metadata": {},
          "output_type": "display_data"
        },
        {
          "data": {
            "text/plain": [
              "<Figure size 4500x1800 with 0 Axes>"
            ]
          },
          "metadata": {},
          "output_type": "display_data"
        },
        {
          "data": {
            "text/plain": [
              "<Figure size 4500x1800 with 0 Axes>"
            ]
          },
          "metadata": {},
          "output_type": "display_data"
        }
      ],
      "source": [
        "\n",
        "\n",
        "ON_GPU= True\n",
        "patch_size = 224\n",
        "output_size = patch_size*8\n",
        "\n",
        "# index = np.random.choice(df2.index)\n",
        "\n",
        "import glob\n",
        "# glob.glob(f\"/home/amrit/data/proj_data/MLG_project/DLBCL-Morph/outputs/images/**/*HE**.png\", recursive=True)\n",
        "\n",
        "start_index = 10\n",
        "end_index = len(df2.index)\n",
        "\n",
        "\n",
        "#PanNuke Dataset - H/E   'hovernet_fast-pannuke'   #19 different tissue types.  481 visual fields, 20K WSI at different magnifications, data sources https://paperswithcode.com/dataset/pannuke\n",
        "#CoNSeP Dataset -   'micronet_hovernet-consep'  41 H&E stained image tile   https://paperswithcode.com/dataset/consep\n",
        "#MoNuSAC Dataset - H/E   'hovernet_fast-monusac'  #  4 different organs (Lung, Prostate, Kidney, and Breast)  #https://monusac-2020.grand-challenge.org/Data/\n",
        "#Kumar Dataset- H&E staining    'hovernet_original_kumar'  #https://monuseg.grand-challenge.org/Data/\n",
        "\n",
        "\n",
        "model_name = \"hovernet_fast-pannuke\" #: #, \"hovernet_fast-monusac\"]\n",
        "# Tile prediction\n",
        "inst_segmentor = NucleusInstanceSegmentor(\n",
        "    pretrained_model=model_name , #\",  #hovernet_fast-pannuke\", hovernet_fast-monusac\n",
        "    num_loader_workers=4,\n",
        "    num_postproc_workers=4,\n",
        "    batch_size=8,\n",
        ")\n",
        "\n",
        "\n",
        "import pandas as pd\n",
        "\n",
        "# Create an empty list to store information for failed cases\n",
        "failed_cases = []\n",
        "\n",
        "for index in range(start_index,end_index) : #len(df2.index)):\n",
        "    try:\n",
        "        # index = np.random.choice(df2.index)\n",
        "        # index = 1626\n",
        "\n",
        "        print( \"index\", index)\n",
        "        print(df2.iloc[index])\n",
        "\n",
        "\n",
        "        df_index = df2['index'][index]\n",
        "        patient_id = df2['patient_id'][index]\n",
        "        stain = df2['stain'][index]\n",
        "        tma_id = df2['tma_id'][index]\n",
        "        xs\t,ys\t,xe\t,ye = df2[['xs'\t,'ys'\t,'xe'\t,'ye']].iloc[index].to_list()\n",
        "\n",
        "        print(patient_id, stain, tma_id, xs, ys, xe, ye, xe-xs, ye-ys)\n",
        "\n",
        "        svs_path = f\"/home/amrit/data/proj_data/MLG_project/DLBCL-Morph/TMA/{stain}/{tma_id}.svs\"\n",
        "        save_dir = f\"/home/amrit/data/proj_data/MLG_project/DLBCL-Morph/outputs/files/{stain}/{patient_id}/{df_index}/\"\n",
        "        parent_folder= f\"/home/amrit/data/proj_data/MLG_project/DLBCL-Morph/outputs/images/{patient_id}/\"\n",
        "\n",
        "        import os\n",
        "        try:\n",
        "            os.mkdir(parent_folder)\n",
        "        except:\n",
        "            pass\n",
        "\n",
        "        img_file_name = f\"{parent_folder}{patient_id}_{stain}_{tma_id}_{output_size}_{df_index}.png\"\n",
        "        kmeans_cluster_vis_file = f\"{parent_folder}{patient_id}_{stain}_{tma_id}_{output_size}_{df_index}_kmeans_cluster_vis.png\"\n",
        "        overlay_image_file_name = f\"{parent_folder}{patient_id}_{stain}_{tma_id}_{output_size}_{df_index}_overlay.npy\"\n",
        "        overlay_mask_file_name = f\"{parent_folder}{patient_id}_{stain}_{tma_id}_{output_size}_{df_index}_mask.npy\"\n",
        "        overlay_vis_file_name =  f\"{parent_folder}{patient_id}_{stain}_{tma_id}_{output_size}_{df_index}_vis.png\"\n",
        "\n",
        "        # slide = slideio.open_slide(svs_path,'SVS')\n",
        "        # scene = slide.get_scene(0)\n",
        "        # print(index , slide.num_scenes , slide.raw_metadata)\n",
        "\n",
        "        reader = WSIReader.open(svs_path)\n",
        "        info_dict = reader.info.as_dict()\n",
        "        print(info_dict)  # noqa: T203\n",
        "\n",
        "        buffer = 150\n",
        "        # Specify the bounds in terms of rectangle (left, top, right, bottom)\n",
        "        bounds = (xs - buffer,ys - buffer\t,xe  + buffer\t,ye + buffer)\n",
        "\n",
        "        # Read the region using wsi reader's read bounds at level 0\n",
        "        img_array = reader.read_bounds(bounds, resolution=0, units=\"level\")\n",
        "        print(img_array.shape)\n",
        "        # plt.imshow(img_array)\n",
        "        # plt.axis(\"off\")\n",
        "        # plt.show()\n",
        "\n",
        "        image_pil = Image.fromarray(img_array)\n",
        "        image_pil.save(img_file_name)\n",
        "\n",
        "        # plot_index = 1\n",
        "        # for x_index in range(0,img_array.shape[0],150):\n",
        "        #     plt.subplot(5,5, plot_index)\n",
        "        #     plt.imshow(img_array[x_index:x_index+patch_size,x_index:x_index+patch_size])\n",
        "        #     plot_index+= 1\n",
        "        # plt.show()\n",
        "\n",
        "\n",
        "        try:\n",
        "            shutil.rmtree(save_dir)\n",
        "        except:\n",
        "            pass\n",
        "\n",
        "        inst_segmentor.ioconfig.tile_shape = [output_size,output_size]\n",
        "        # inst_segmentor.ioconfig.patch_input_shape = [patch_size,patch_size]\n",
        "        # inst_segmentor.ioconfig.patch_output_shape = [patch_size,patch_size]\n",
        "        # inst_segmentor.ioconfig.margin = [patch_size,patch_size]\n",
        "\n",
        "        # inst_segmentor.ioconfig.highest_input_resolution = {'units': 'mpp', 'resolution': 0.1}\n",
        "\n",
        "        # inst_segmentor.ioconfig.patch_input_shape = [224,224]\n",
        "\n",
        "        # stain_norm_method = 'ruifrok'\n",
        "        stain_norm_method = \"None\"\n",
        "\n",
        "        if stain_norm_method != \"None\":\n",
        "            target_image = stain_norm_target()\n",
        "            # \"reinhard\", \"custom\", \"ruifrok\", \"macenko\" or \"vahadane\".\n",
        "            stain_normalizer = get_normalizer(stain_norm_method) \n",
        "            stain_normalizer.fit(target_image)\n",
        "\n",
        "            def stain_norm_func(img: np.ndarray) -> np.ndarray:\n",
        "                \"\"\"Helper function to perform stain normalization.\"\"\"\n",
        "                return stain_normalizer.transform(img)\n",
        "\n",
        "            inst_segmentor.model.preproc_func = stain_norm_func\n",
        "\n",
        "        tile_output = inst_segmentor.predict(\n",
        "            [img_file_name],\n",
        "            save_dir= save_dir,\n",
        "            mode=\"tile\",\n",
        "            on_gpu=ON_GPU,\n",
        "            crash_on_exception=True,\n",
        "        )\n",
        "\n",
        "        tile_preds = joblib.load(f\"{tile_output[0][1]}.dat\")\n",
        "        logger.info(f\"Number of detected nuclei: {len(tile_preds)}\")\n",
        "\n",
        "        # import json \n",
        "            \n",
        "        # with open(json_file_name, \"w\") as outfile: \n",
        "        # \tjson.dump(tile_preds, outfile)\n",
        "            \n",
        "        # Extracting the nucleus IDs and select the first one\n",
        "        nuc_id_list = list(tile_preds.keys())\n",
        "        selected_nuc_id = nuc_id_list[0]\n",
        "        logger.info(f\"Nucleus prediction structure for nucleus ID: {selected_nuc_id}\")\n",
        "        sample_nuc = tile_preds[selected_nuc_id]\n",
        "        sample_nuc_keys = list(sample_nuc)\n",
        "        logger.info(\n",
        "            \"Keys in the output dictionary: [%s, %s, %s, %s, %s]\",\n",
        "            sample_nuc_keys[0],\n",
        "            sample_nuc_keys[1],\n",
        "            sample_nuc_keys[2],\n",
        "            sample_nuc_keys[3],\n",
        "            sample_nuc_keys[4],\n",
        "        )\n",
        "        logger.info(\n",
        "            \"Bounding box: (%d, %d, %d, %d)\",\n",
        "            sample_nuc[\"box\"][0],\n",
        "            sample_nuc[\"box\"][1],\n",
        "            sample_nuc[\"box\"][2],\n",
        "            sample_nuc[\"box\"][3],\n",
        "        )\n",
        "        logger.info(\n",
        "            \"Centroid: (%d, %d)\",\n",
        "            sample_nuc[\"centroid\"][0],\n",
        "            sample_nuc[\"centroid\"][1],\n",
        "        )\n",
        "\n",
        "        tile_img = imread(img_file_name)\n",
        "\n",
        "        color_dict = {\n",
        "            0: (\"neoplastic epithelial\", (255, 0, 0)),\n",
        "            1: (\"Inflammatory\", (255, 255, 0)),\n",
        "            2: (\"Connective\", (0, 255, 0)),\n",
        "            3: (\"Dead\", (0, 0, 0)),\n",
        "            4: (\"non-neoplastic epithelial\", (0, 0, 255)),\n",
        "        }\n",
        "\n",
        "\n",
        "        # Filter dictionary cell types\n",
        "        count_dict = {0: 0,\n",
        "                    1:0,\n",
        "                    2:0,\n",
        "                    3:0,\n",
        "                    4:0,\n",
        "                    5:0}\n",
        "        selected_count_dict = {0: 0,\n",
        "                    1:0,\n",
        "                    2:0,\n",
        "                    3:0,\n",
        "                    4:0,\n",
        "                    5:0}\n",
        "\n",
        "        cell_prob_list = []\n",
        "        new_tile_preds = {}\n",
        "        for x in tile_preds:\n",
        "            cell_type = tile_preds[x]['type']\n",
        "            cell_prob = tile_preds[x]['prob']\n",
        "            cell_prob_list.append(cell_prob)\n",
        "\n",
        "            count_dict[cell_type] += 1\n",
        "            if cell_prob > 0.5: #cell_type != 0 and \n",
        "                new_tile_preds[x] = tile_preds[x]\n",
        "                selected_count_dict[cell_type] += 1\n",
        "\n",
        "\n",
        "        print(\"count_dict\" , count_dict)\n",
        "        print(\"selected_count_dict\" , selected_count_dict)\n",
        "\n",
        "        overlay_mask, overlay_image = overlay_prediction_contours(\n",
        "            canvas=tile_img,\n",
        "            inst_dict=tile_preds,\n",
        "            draw_dot=False,\n",
        "            type_colours=color_dict,\n",
        "            line_thickness=2,\n",
        "        )\n",
        "\n",
        "        # overlay_mask_selected, overlay_image_selected  = overlay_prediction_contours(\n",
        "        #     canvas=tile_img,\n",
        "        #     inst_dict=new_tile_preds,\n",
        "        #     draw_dot=False,\n",
        "        #     type_colours=color_dict,\n",
        "        #     line_thickness=2,\n",
        "        # )\n",
        "\n",
        "        # showing processed results alongside the original images\n",
        "        fig = plt.figure(figsize=(15,6))\n",
        "        ax1 = plt.subplot(1, 3, 1), plt.imshow(tile_img), plt.axis(\"off\")\n",
        "        ax3 = plt.subplot(1, 3, 2), plt.imshow(overlay_mask), plt.axis(\"off\")\n",
        "        ax2 = plt.subplot(1, 3, 3), plt.imshow(overlay_image), plt.axis(\"off\")\n",
        "        # ax3 = plt.subplot(1, 3, 3), plt.imshow(overlay_mask_selected), plt.axis(\"off\")\n",
        "\n",
        "        plt.title(f\"Stain_norm_method_{stain_norm_method}\")\n",
        "        plt.tight_layout()\n",
        "        plt.savefig(overlay_vis_file_name, dpi=200)\n",
        "        # plt.show()\n",
        "        plt.clf()\n",
        "\n",
        "        # np.save( overlay_image_file_name, overlay_image)\n",
        "        np.save(overlay_mask_file_name, overlay_mask)\n",
        "\n",
        "    except Exception as e:\n",
        "\n",
        "        failed_cases.append({'file_name': img_file_name, 'index': index, 'df2_index': df_index, 'patient_id': patient_id,\n",
        "                            \"stain\": stain, \"tma_id\": tma_id})\n",
        "        failed_df = pd.DataFrame(failed_cases)\n",
        "        failed_df.to_csv('failed_cases.csv', index=False)\n",
        "\n",
        "        print(\"***********************************************\")\n",
        "        print(\"***********************************************\")\n",
        "        print(\"***********************************************\")\n",
        "        print(\"***********************************************\")\n",
        "        print(f\"AAAAA Failed case: {index} \")\n",
        "        print(f\"AAAAA Failed case: {index} \")\n",
        "        print(f\"AAAAA Failed case: {index} \")\n",
        "        print(f\"AAAAA Failed case: {index} \")\n",
        "\n",
        "        print(\"***********************************************\")\n",
        "        print(\"***********************************************\")\n",
        "        print(\"***********************************************\")\n",
        "        print(\"***********************************************\")\n",
        "        print(\"***********************************************\")\n",
        "        print(\"***********************************************\")\n",
        "\n"
      ]
    },
    {
      "cell_type": "code",
      "execution_count": null,
      "metadata": {},
      "outputs": [],
      "source": []
    }
  ],
  "metadata": {
    "accelerator": "GPU",
    "celltoolbar": "Raw Cell Format",
    "colab": {
      "name": "08-nucleus-instance-segmentation.ipynb",
      "provenance": []
    },
    "interpreter": {
      "hash": "641317031b9f54126a387462bfafcc8a3ed3bbe28fae551a718f7a4af76cf9e8"
    },
    "kernelspec": {
      "display_name": "Python 3 (ipykernel)",
      "language": "python",
      "name": "python3"
    },
    "language_info": {
      "codemirror_mode": {
        "name": "ipython",
        "version": 3
      },
      "file_extension": ".py",
      "mimetype": "text/x-python",
      "name": "python",
      "nbconvert_exporter": "python",
      "pygments_lexer": "ipython3",
      "version": "3.10.13"
    }
  },
  "nbformat": 4,
  "nbformat_minor": 0
}
