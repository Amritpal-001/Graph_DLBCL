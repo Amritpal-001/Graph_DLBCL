{
 "cells": [
  {
   "cell_type": "markdown",
   "metadata": {},
   "source": [
    "# Constants\n"
   ]
  },
  {
   "cell_type": "code",
   "execution_count": 1,
   "metadata": {},
   "outputs": [],
   "source": [
    "\n",
    "import pandas as pd\n",
    "import os\n",
    "import shutil\n",
    "from os import path as osp\n",
    "\n",
    "import torch\n",
    "from tiatoolbox.utils.misc import select_device\n",
    "import random\n",
    "import numpy as np\n",
    "from pathlib import Path\n",
    "from datetime import datetime\n",
    "from sklearn.preprocessing import StandardScaler\n",
    "from tqdm import tqdm\n",
    "import joblib\n",
    "import json\n",
    "import glob\n",
    "\n",
    "# from src.intensity import add_features_and_create_new_dicts\n",
    "\n",
    "from src.featureextraction import get_cell_features, add_features_and_create_new_dicts\n",
    "from src.train import stratified_split, recur_find_ext, run_once, rm_n_mkdir ,reset_logging\n",
    "from src.graph_construct import create_graph_with_pooled_patch_nodes, get_pids_labels_for_key\n",
    "\n",
    "\n",
    "ON_GPU = False\n",
    "\n",
    "device = select_device(on_gpu=ON_GPU)\n",
    "\n",
    "SEED = 5\n",
    "random.seed(SEED)\n",
    "rng = np.random.default_rng(SEED)\n",
    "torch.manual_seed(SEED)\n",
    "torch.cuda.manual_seed(SEED)\n",
    "\n",
    "\n",
    "BASEDIR = '/home/amrit/data/proj_data/MLG_project/DLBCL-Morph'\n",
    "\n",
    "\n",
    "STAIN = 'MYC'\n",
    "STAIN = 'BCL2'\n",
    "\n",
    "\n",
    "FIDIR = f'{BASEDIR}/outputs'\n",
    "CLINPATH = f'{BASEDIR}/clinical_data_cleaned.csv'\n",
    "ANNPATH = f'{BASEDIR}/annotations_clean.csv'\n",
    "FEATSDIR = f'{BASEDIR}/outputs/files/{STAIN}'\n",
    "FEATSCALERPATH = f\"{FEATSDIR}/0_feat_scaler.npz\"\n",
    "PATCH_SIZE = 224\n",
    "OUTPUT_SIZE = PATCH_SIZE*8\n",
    "\n",
    "WORKSPACE_DIR = Path(BASEDIR)\n",
    "GRAPH_DIR = WORKSPACE_DIR / \"graphs\"\n",
    "LABELS_PATH = WORKSPACE_DIR / \"graphs/0_labels.txt\"\n",
    "\n",
    "\n",
    "# Graph construction\n",
    "# PATCH_SIZE = 300\n",
    "SKEW_NOISE = 0.0001\n",
    "MIN_CELLS_PER_PATCH = 10\n",
    "CONNECTIVITY_DISTANCE = 500\n",
    "\n",
    "\n",
    "GRAPHSDIR = f'{BASEDIR}/graphs'\n",
    "LABELSPATH = f'{BASEDIR}/graphs/0_labels.json'\n",
    "\n",
    "NUM_EPOCHS = 100\n",
    "NUM_NODE_FEATURES = 128\n",
    "NCLASSES = 3\n",
    "\n",
    "TRAIN_DIR = WORKSPACE_DIR / \"training\"\n",
    "SPLIT_PATH = TRAIN_DIR / \"splits.dat\"\n",
    "RUN_OUTPUT_DIR = TRAIN_DIR / f\"session_{datetime.now().strftime('%m_%d_%H_%M_%S')}\"\n",
    "RUN_OUTPUT_DIR.mkdir(parents=True, exist_ok=True)\n",
    "MODEL_DIR = RUN_OUTPUT_DIR / \"model\""
   ]
  },
  {
   "cell_type": "code",
   "execution_count": null,
   "metadata": {},
   "outputs": [],
   "source": []
  },
  {
   "cell_type": "markdown",
   "metadata": {},
   "source": [
    "# Extract features: 20 minutes"
   ]
  },
  {
   "cell_type": "code",
   "execution_count": 10,
   "metadata": {},
   "outputs": [],
   "source": [
    "   \n",
    "##########\n",
    "# read annotation csv, filter, and process intensity features\n",
    "df = pd.read_csv(ANNPATH)\n",
    "\n",
    "df = df[df['stain'] == STAIN]\n",
    "df['area'] = (df['xe'] - df['xs']) *  (df['ye'] - df['ys'])/10000\n",
    "df = df[df['area'] >= 150]  \n",
    "df = df[df['xs']  >=0 ]\n",
    "df = df[df['ys']  >=0 ]\n",
    "df = df[df['xe']  >=0 ]\n",
    "df = df[df['ye']  >=0 ]\n",
    "\n",
    "df = df.reset_index()\n",
    "##########\n",
    "\n",
    "###############\n",
    "# add intensity features\n",
    "start_index = 0\n",
    "end_index = len(df.index)\n",
    "\n",
    "datpaths = []\n",
    "imgpaths = []\n",
    "updatpaths = []\n",
    "\n",
    "# for index in range(start_index, 1):\n",
    "for index in range(start_index, end_index):\n",
    "    df_index = df['index'][index]\n",
    "    patient_id = df['patient_id'][index]\n",
    "    stain = df['stain'][index]\n",
    "    tma_id = df['tma_id'][index]\n",
    "    unique_id = str(patient_id) + '_' + stain + '_' + str(df_index)\n",
    "\n",
    "    img_file_name = f\"{FIDIR}/images/{patient_id}/{patient_id}_{stain}_{tma_id}_{OUTPUT_SIZE}_{df_index}.png\"\n",
    "    dat_file_name = f\"{FIDIR}/files/{stain}/{patient_id}/{df_index}/0.dat\"\n",
    "    updat_file_name = f\"{FIDIR}/files/{stain}/{patient_id}/{df_index}/{unique_id}.dat\"\n",
    "\n",
    "    datpaths.append(dat_file_name)\n",
    "    imgpaths.append(img_file_name)\n",
    "    updatpaths.append(updat_file_name)\n",
    "    \n"
   ]
  },
  {
   "cell_type": "code",
   "execution_count": 11,
   "metadata": {},
   "outputs": [
    {
     "data": {
      "text/plain": [
       "'/home/amrit/data/proj_data/MLG_project/DLBCL-Morph/outputs/files/BCL2/0_feat_scaler.npz'"
      ]
     },
     "execution_count": 11,
     "metadata": {},
     "output_type": "execute_result"
    }
   ],
   "source": [
    "FEATSCALERPATH"
   ]
  },
  {
   "cell_type": "code",
   "execution_count": 12,
   "metadata": {},
   "outputs": [
    {
     "name": "stderr",
     "output_type": "stream",
     "text": [
      "  5%|▍         | 18/385 [00:54<18:40,  3.05s/it]\n"
     ]
    },
    {
     "ename": "KeyboardInterrupt",
     "evalue": "",
     "output_type": "error",
     "traceback": [
      "\u001b[0;31m---------------------------------------------------------------------------\u001b[0m",
      "\u001b[0;31mKeyboardInterrupt\u001b[0m                         Traceback (most recent call last)",
      "\u001b[1;32m/home/amrit/pipeline/pipeline/projects/CSE8803 MLG/Graph_DLBCL/build_feats copy.ipynb Cell 7\u001b[0m line \u001b[0;36m5\n\u001b[1;32m      <a href='vscode-notebook-cell:/home/amrit/pipeline/pipeline/projects/CSE8803%20MLG/Graph_DLBCL/build_feats%20copy.ipynb#W3sZmlsZQ%3D%3D?line=0'>1</a>\u001b[0m \u001b[39m# 20 minutes\u001b[39;00m\n\u001b[1;32m      <a href='vscode-notebook-cell:/home/amrit/pipeline/pipeline/projects/CSE8803%20MLG/Graph_DLBCL/build_feats%20copy.ipynb#W3sZmlsZQ%3D%3D?line=1'>2</a>\u001b[0m \u001b[39m# shutil.rmtree(FEATSDIR)\u001b[39;00m\n\u001b[1;32m      <a href='vscode-notebook-cell:/home/amrit/pipeline/pipeline/projects/CSE8803%20MLG/Graph_DLBCL/build_feats%20copy.ipynb#W3sZmlsZQ%3D%3D?line=2'>3</a>\u001b[0m \u001b[39m# if not osp.exists(FEATSDIR):\u001b[39;00m\n\u001b[1;32m      <a href='vscode-notebook-cell:/home/amrit/pipeline/pipeline/projects/CSE8803%20MLG/Graph_DLBCL/build_feats%20copy.ipynb#W3sZmlsZQ%3D%3D?line=3'>4</a>\u001b[0m \u001b[39m#     os.makedirs(FEATSDIR)\u001b[39;00m\n\u001b[0;32m----> <a href='vscode-notebook-cell:/home/amrit/pipeline/pipeline/projects/CSE8803%20MLG/Graph_DLBCL/build_feats%20copy.ipynb#W3sZmlsZQ%3D%3D?line=4'>5</a>\u001b[0m add_features_and_create_new_dicts(datpaths, imgpaths, updatpaths)\n",
      "File \u001b[0;32m~/pipeline/pipeline/projects/CSE8803 MLG/Graph_DLBCL/src/featureextraction.py:233\u001b[0m, in \u001b[0;36madd_features_and_create_new_dicts\u001b[0;34m(datpaths, imgpaths, updatpaths)\u001b[0m\n\u001b[1;32m    230\u001b[0m \u001b[39m# celldata_list = celldata_list[:100]\u001b[39;00m\n\u001b[1;32m    232\u001b[0m image \u001b[39m=\u001b[39m cv2\u001b[39m.\u001b[39mimread(imgpath)\n\u001b[0;32m--> 233\u001b[0m saliencymap \u001b[39m=\u001b[39m get_saliency_map(image)\n\u001b[1;32m    235\u001b[0m cellfeat_list \u001b[39m=\u001b[39m joblib\u001b[39m.\u001b[39mParallel(\u001b[39m4\u001b[39m)(\n\u001b[1;32m    236\u001b[0m     joblib\u001b[39m.\u001b[39mdelayed(get_cell_features)(celldata, image, saliencymap)\n\u001b[1;32m    237\u001b[0m     \u001b[39mfor\u001b[39;00m _, celldata \u001b[39min\u001b[39;00m tqdm(celldata_list, disable\u001b[39m=\u001b[39m\u001b[39mTrue\u001b[39;00m)\n\u001b[1;32m    238\u001b[0m )\n\u001b[1;32m    239\u001b[0m \u001b[39m# cellfeat_list = [\u001b[39;00m\n\u001b[1;32m    240\u001b[0m \u001b[39m#     get_cell_features(celldata, image, saliencymap)\u001b[39;00m\n\u001b[1;32m    241\u001b[0m \u001b[39m#     for _, celldata in tqdm(celldata_list, disable=True)\u001b[39;00m\n\u001b[1;32m    242\u001b[0m \u001b[39m# ]\u001b[39;00m\n",
      "File \u001b[0;32m~/pipeline/pipeline/projects/CSE8803 MLG/Graph_DLBCL/src/featureextraction.py:223\u001b[0m, in \u001b[0;36mget_saliency_map\u001b[0;34m(image)\u001b[0m\n\u001b[1;32m    222\u001b[0m \u001b[39mdef\u001b[39;00m \u001b[39mget_saliency_map\u001b[39m(image):\n\u001b[0;32m--> 223\u001b[0m     _, saliencymap \u001b[39m=\u001b[39m saliency\u001b[39m.\u001b[39;49mcomputeSaliency(image)\n\u001b[1;32m    224\u001b[0m     \u001b[39mreturn\u001b[39;00m saliencymap\n",
      "\u001b[0;31mKeyboardInterrupt\u001b[0m: "
     ]
    }
   ],
   "source": [
    "# 20 minutes\n",
    "# shutil.rmtree(FEATSDIR)\n",
    "# if not osp.exists(FEATSDIR):\n",
    "#     os.makedirs(FEATSDIR)\n",
    "add_features_and_create_new_dicts(datpaths, imgpaths, updatpaths)"
   ]
  },
  {
   "cell_type": "code",
   "execution_count": null,
   "metadata": {},
   "outputs": [],
   "source": [
    "# 4 minutes\n",
    "gns = StandardScaler()\n",
    "for featpath in tqdm(updatpaths):\n",
    "    # print(featpath)\n",
    "    celldatadict = joblib.load(featpath)\n",
    "    cellsfeats = np.array([v['intensity_feats'] for k, v in celldatadict.items()])\n",
    "    gns.partial_fit(cellsfeats)\n",
    "\n",
    "np.savez(FEATSCALERPATH, mean=gns.mean_, var=gns.var_)\n",
    "\n",
    "# dd = np.load(FEATSCALERPATH)\n",
    "# print(dd['mean'], gns.mean_)\n",
    "# print(dd['var'], gns.var_)"
   ]
  },
  {
   "cell_type": "code",
   "execution_count": 11,
   "metadata": {},
   "outputs": [],
   "source": []
  },
  {
   "cell_type": "code",
   "execution_count": 97,
   "metadata": {},
   "outputs": [],
   "source": []
  },
  {
   "cell_type": "markdown",
   "metadata": {},
   "source": [
    "# Prepare graphs : 4 minutes"
   ]
  },
  {
   "cell_type": "code",
   "execution_count": 2,
   "metadata": {},
   "outputs": [
    {
     "name": "stderr",
     "output_type": "stream",
     "text": [
      "  0%|          | 0/319 [00:00<?, ?it/s]|2023-11-20|23:57:30.896| [WARNING] /home/amrit/anaconda3/envs/DL2/lib/python3.10/site-packages/umap/distances.py:1063: NumbaDeprecationWarning: The 'nopython' keyword argument was not supplied to the 'numba.jit' decorator. The implicit default value for this argument is currently False, but it will be changed to True in Numba 0.59.0. See https://numba.readthedocs.io/en/stable/reference/deprecation.html#deprecation-of-object-mode-fall-back-behaviour-when-using-jit for details.\n",
      "  @numba.jit()\n",
      "\n",
      "|2023-11-20|23:57:30.897| [WARNING] /home/amrit/anaconda3/envs/DL2/lib/python3.10/site-packages/umap/distances.py:1071: NumbaDeprecationWarning: The 'nopython' keyword argument was not supplied to the 'numba.jit' decorator. The implicit default value for this argument is currently False, but it will be changed to True in Numba 0.59.0. See https://numba.readthedocs.io/en/stable/reference/deprecation.html#deprecation-of-object-mode-fall-back-behaviour-when-using-jit for details.\n",
      "  @numba.jit()\n",
      "\n",
      "|2023-11-20|23:57:30.897| [WARNING] /home/amrit/anaconda3/envs/DL2/lib/python3.10/site-packages/umap/distances.py:1086: NumbaDeprecationWarning: The 'nopython' keyword argument was not supplied to the 'numba.jit' decorator. The implicit default value for this argument is currently False, but it will be changed to True in Numba 0.59.0. See https://numba.readthedocs.io/en/stable/reference/deprecation.html#deprecation-of-object-mode-fall-back-behaviour-when-using-jit for details.\n",
      "  @numba.jit()\n",
      "\n",
      "|2023-11-20|23:57:30.921| [WARNING] /home/amrit/anaconda3/envs/DL2/lib/python3.10/site-packages/umap/distances.py:1063: NumbaDeprecationWarning: The 'nopython' keyword argument was not supplied to the 'numba.jit' decorator. The implicit default value for this argument is currently False, but it will be changed to True in Numba 0.59.0. See https://numba.readthedocs.io/en/stable/reference/deprecation.html#deprecation-of-object-mode-fall-back-behaviour-when-using-jit for details.\n",
      "  @numba.jit()\n",
      "\n",
      "|2023-11-20|23:57:30.921| [WARNING] /home/amrit/anaconda3/envs/DL2/lib/python3.10/site-packages/umap/distances.py:1071: NumbaDeprecationWarning: The 'nopython' keyword argument was not supplied to the 'numba.jit' decorator. The implicit default value for this argument is currently False, but it will be changed to True in Numba 0.59.0. See https://numba.readthedocs.io/en/stable/reference/deprecation.html#deprecation-of-object-mode-fall-back-behaviour-when-using-jit for details.\n",
      "  @numba.jit()\n",
      "\n",
      "|2023-11-20|23:57:30.921| [WARNING] /home/amrit/anaconda3/envs/DL2/lib/python3.10/site-packages/umap/distances.py:1086: NumbaDeprecationWarning: The 'nopython' keyword argument was not supplied to the 'numba.jit' decorator. The implicit default value for this argument is currently False, but it will be changed to True in Numba 0.59.0. See https://numba.readthedocs.io/en/stable/reference/deprecation.html#deprecation-of-object-mode-fall-back-behaviour-when-using-jit for details.\n",
      "  @numba.jit()\n",
      "\n",
      "|2023-11-20|23:57:31.016| [WARNING] /home/amrit/anaconda3/envs/DL2/lib/python3.10/site-packages/umap/distances.py:1063: NumbaDeprecationWarning: The 'nopython' keyword argument was not supplied to the 'numba.jit' decorator. The implicit default value for this argument is currently False, but it will be changed to True in Numba 0.59.0. See https://numba.readthedocs.io/en/stable/reference/deprecation.html#deprecation-of-object-mode-fall-back-behaviour-when-using-jit for details.\n",
      "  @numba.jit()\n",
      "\n",
      "|2023-11-20|23:57:31.017| [WARNING] /home/amrit/anaconda3/envs/DL2/lib/python3.10/site-packages/umap/distances.py:1071: NumbaDeprecationWarning: The 'nopython' keyword argument was not supplied to the 'numba.jit' decorator. The implicit default value for this argument is currently False, but it will be changed to True in Numba 0.59.0. See https://numba.readthedocs.io/en/stable/reference/deprecation.html#deprecation-of-object-mode-fall-back-behaviour-when-using-jit for details.\n",
      "  @numba.jit()\n",
      "\n",
      "|2023-11-20|23:57:31.017| [WARNING] /home/amrit/anaconda3/envs/DL2/lib/python3.10/site-packages/umap/distances.py:1086: NumbaDeprecationWarning: The 'nopython' keyword argument was not supplied to the 'numba.jit' decorator. The implicit default value for this argument is currently False, but it will be changed to True in Numba 0.59.0. See https://numba.readthedocs.io/en/stable/reference/deprecation.html#deprecation-of-object-mode-fall-back-behaviour-when-using-jit for details.\n",
      "  @numba.jit()\n",
      "\n",
      "|2023-11-20|23:57:31.062| [WARNING] /home/amrit/anaconda3/envs/DL2/lib/python3.10/site-packages/umap/distances.py:1063: NumbaDeprecationWarning: The 'nopython' keyword argument was not supplied to the 'numba.jit' decorator. The implicit default value for this argument is currently False, but it will be changed to True in Numba 0.59.0. See https://numba.readthedocs.io/en/stable/reference/deprecation.html#deprecation-of-object-mode-fall-back-behaviour-when-using-jit for details.\n",
      "  @numba.jit()\n",
      "\n",
      "|2023-11-20|23:57:31.062| [WARNING] /home/amrit/anaconda3/envs/DL2/lib/python3.10/site-packages/umap/distances.py:1071: NumbaDeprecationWarning: The 'nopython' keyword argument was not supplied to the 'numba.jit' decorator. The implicit default value for this argument is currently False, but it will be changed to True in Numba 0.59.0. See https://numba.readthedocs.io/en/stable/reference/deprecation.html#deprecation-of-object-mode-fall-back-behaviour-when-using-jit for details.\n",
      "  @numba.jit()\n",
      "\n",
      "|2023-11-20|23:57:31.062| [WARNING] /home/amrit/anaconda3/envs/DL2/lib/python3.10/site-packages/umap/distances.py:1086: NumbaDeprecationWarning: The 'nopython' keyword argument was not supplied to the 'numba.jit' decorator. The implicit default value for this argument is currently False, but it will be changed to True in Numba 0.59.0. See https://numba.readthedocs.io/en/stable/reference/deprecation.html#deprecation-of-object-mode-fall-back-behaviour-when-using-jit for details.\n",
      "  @numba.jit()\n",
      "\n",
      "|2023-11-20|23:57:34.222| [WARNING] /home/amrit/anaconda3/envs/DL2/lib/python3.10/site-packages/umap/umap_.py:660: NumbaDeprecationWarning: The 'nopython' keyword argument was not supplied to the 'numba.jit' decorator. The implicit default value for this argument is currently False, but it will be changed to True in Numba 0.59.0. See https://numba.readthedocs.io/en/stable/reference/deprecation.html#deprecation-of-object-mode-fall-back-behaviour-when-using-jit for details.\n",
      "  @numba.jit()\n",
      "\n",
      "|2023-11-20|23:57:34.250| [WARNING] /home/amrit/anaconda3/envs/DL2/lib/python3.10/site-packages/umap/umap_.py:660: NumbaDeprecationWarning: The 'nopython' keyword argument was not supplied to the 'numba.jit' decorator. The implicit default value for this argument is currently False, but it will be changed to True in Numba 0.59.0. See https://numba.readthedocs.io/en/stable/reference/deprecation.html#deprecation-of-object-mode-fall-back-behaviour-when-using-jit for details.\n",
      "  @numba.jit()\n",
      "\n",
      "|2023-11-20|23:57:34.366| [WARNING] /home/amrit/anaconda3/envs/DL2/lib/python3.10/site-packages/umap/umap_.py:660: NumbaDeprecationWarning: The 'nopython' keyword argument was not supplied to the 'numba.jit' decorator. The implicit default value for this argument is currently False, but it will be changed to True in Numba 0.59.0. See https://numba.readthedocs.io/en/stable/reference/deprecation.html#deprecation-of-object-mode-fall-back-behaviour-when-using-jit for details.\n",
      "  @numba.jit()\n",
      "\n",
      "|2023-11-20|23:57:34.560| [WARNING] /home/amrit/anaconda3/envs/DL2/lib/python3.10/site-packages/umap/umap_.py:660: NumbaDeprecationWarning: The 'nopython' keyword argument was not supplied to the 'numba.jit' decorator. The implicit default value for this argument is currently False, but it will be changed to True in Numba 0.59.0. See https://numba.readthedocs.io/en/stable/reference/deprecation.html#deprecation-of-object-mode-fall-back-behaviour-when-using-jit for details.\n",
      "  @numba.jit()\n",
      "\n",
      "100%|██████████| 319/319 [01:10<00:00,  4.52it/s]\n"
     ]
    }
   ],
   "source": [
    "\n",
    "# Graph construction\n",
    "PATCH_SIZE = 300\n",
    "SKEW_NOISE = 0.0001\n",
    "MIN_CELLS_PER_PATCH = 10\n",
    "CONNECTIVITY_DISTANCE = 500\n",
    "\n",
    "\n",
    "# divide into quantiles\n",
    "df = pd.read_csv(CLINPATH)\n",
    "df_labels = get_pids_labels_for_key(df, key='OS', nclasses=3)\n",
    "\n",
    "# # save paths\n",
    "# featpaths = np.sort(glob.glob(f'{FEATSDIR}/**/*.dat', recursive=True)) #np.sort(glob.glob(f'{FEATSDIR}/*.dat'))\n",
    "# featpaths = [x if \"/0.dat\" not in x for x in featpaths]\n",
    "featpaths = np.sort(glob.glob(f'{FEATSDIR}/**/*.dat', recursive=True)) #np.sort(glob.glob(f'{FEATSDIR}/*.dat'))\n",
    "featpaths = [x for x in featpaths if (\"/0.dat\" not in x) and (\"/file_map.dat\" not in x)]\n",
    "featpaths\n",
    "pids = [int(osp.basename(featpath).split('_')[0]) for featpath in featpaths]\n",
    "df_featpaths = pd.DataFrame(zip(pids, featpaths), columns=['patient_id', 'featpath'])\n",
    "\n",
    "# merge to find datapoints with graph data and labels\n",
    "df_data = df_featpaths.merge(df_labels, on='patient_id')\n",
    "# df_data = df_data[:12]\n",
    "\n",
    "featpaths_data = df_data['featpath'].to_list()\n",
    "labels_data = df_data['OS_class'].to_list()\n",
    "outgraphpaths_data = [f\"{GRAPHSDIR}/{osp.basename(featpath).split('.')[0]}.json\" for featpath in featpaths_data]\n",
    "\n",
    "# save labels\n",
    "labels_dict = {osp.basename(graphpath): label for graphpath, label in zip(outgraphpaths_data, labels_data)}\n",
    "with open(LABELSPATH, 'w') as f:\n",
    "    json.dump(labels_dict, f)\n",
    "\n",
    "\n",
    "# read normalizer stats from file and pass to fn\n",
    "dd = np.load(FEATSCALERPATH)\n",
    "cell_feat_norm_stats = (dd['mean'], dd['var'])\n",
    "\n",
    "# create final graphs data\n",
    "# shutil.rmtree(GRAPHSDIR)\n",
    "# if not osp.exists(GRAPHSDIR):\n",
    "    # os.makedirs(GRAPHSDIR)\n",
    "create_graph_with_pooled_patch_nodes(\n",
    "    featpaths_data,\n",
    "    labels_data,\n",
    "    outgraphpaths_data,\n",
    "    PATCH_SIZE,\n",
    "    cell_feat_norm_stats=cell_feat_norm_stats,\n",
    "    MIN_CELLS_PER_PATCH= MIN_CELLS_PER_PATCH,\n",
    "    CONNECTIVITY_DISTANCE = CONNECTIVITY_DISTANCE\n",
    ")\n",
    "    # wont work in parallel mode\n",
    "    # print(np.mean(global_patch_stats), np.std(global_patch_stats))"
   ]
  },
  {
   "cell_type": "code",
   "execution_count": null,
   "metadata": {},
   "outputs": [],
   "source": []
  },
  {
   "cell_type": "markdown",
   "metadata": {},
   "source": [
    "# Train model"
   ]
  },
  {
   "cell_type": "code",
   "execution_count": 3,
   "metadata": {},
   "outputs": [
    {
     "data": {
      "text/plain": [
       "(320, 320)"
      ]
     },
     "execution_count": 3,
     "metadata": {},
     "output_type": "execute_result"
    }
   ],
   "source": [
    "wsi_paths = recur_find_ext(GRAPHSDIR, [\".json\"])\n",
    "wsi_names = [Path(v).stem for v in wsi_paths]\n",
    "assert len(wsi_paths) > 0, \"No files found.\"  # noqa: S101\n",
    "\n",
    "len(wsi_paths) , len(wsi_names)"
   ]
  },
  {
   "cell_type": "code",
   "execution_count": 4,
   "metadata": {},
   "outputs": [],
   "source": [
    "NUM_FOLDS = 1\n",
    "TEST_RATIO = 0.2\n",
    "TRAIN_RATIO = 0.8 * 0.7\n",
    "VALID_RATIO = 0.8 * 0.3\n",
    "\n",
    "if SPLIT_PATH and os.path.exists(SPLIT_PATH):\n",
    "    splits = joblib.load(SPLIT_PATH)\n",
    "else:\n",
    "    x = np.array(wsi_names)\n",
    "    with open(LABELSPATH, 'r') as f:\n",
    "        labels_dict = json.load(f)\n",
    "    print(labels_dict)\n",
    "    y = np.array([labels_dict[wsi_name+'.json'] for wsi_name in wsi_names])\n",
    "    splits = stratified_split(x, y, TRAIN_RATIO, VALID_RATIO, TEST_RATIO, NUM_FOLDS)\n",
    "    joblib.dump(splits, SPLIT_PATH)\n"
   ]
  },
  {
   "cell_type": "code",
   "execution_count": 5,
   "metadata": {},
   "outputs": [
    {
     "name": "stderr",
     "output_type": "stream",
     "text": [
      "100%|██████████| 7/7 [00:00<00:00, 15.54it/s]\n",
      "|2023-11-20|23:59:17.870| [INFO] train-EMA-loss: 0.914402\n",
      "|2023-11-20|23:59:18.214| [INFO] infer-train-accuracy: 0.454148\n",
      "|2023-11-20|23:59:18.415| [INFO] infer-valid-A-accuracy: 0.307692\n",
      "|2023-11-20|23:59:18.651| [INFO] infer-valid-B-accuracy: 0.406250\n",
      "|2023-11-20|23:59:18.909| [INFO] EPOCH: 017\n"
     ]
    },
    {
     "name": "stdout",
     "output_type": "stream",
     "text": [
      "best_score {'infer-train-accuracy': 0.4978165938864629, 'infer-valid-A-accuracy': 0.46153846153846156, 'infer-valid-B-accuracy': 0.421875}\n"
     ]
    },
    {
     "name": "stderr",
     "output_type": "stream",
     "text": [
      "100%|██████████| 7/7 [00:00<00:00, 14.91it/s]\n",
      "|2023-11-20|23:59:19.381| [INFO] train-EMA-loss: 0.974113\n",
      "|2023-11-20|23:59:19.759| [INFO] infer-train-accuracy: 0.480349\n",
      "|2023-11-20|23:59:19.977| [INFO] infer-valid-A-accuracy: 0.346154\n",
      "|2023-11-20|23:59:20.203| [INFO] infer-valid-B-accuracy: 0.390625\n",
      "|2023-11-20|23:59:20.445| [INFO] EPOCH: 018\n"
     ]
    },
    {
     "name": "stdout",
     "output_type": "stream",
     "text": [
      "best_score {'infer-train-accuracy': 0.4978165938864629, 'infer-valid-A-accuracy': 0.46153846153846156, 'infer-valid-B-accuracy': 0.421875}\n"
     ]
    },
    {
     "name": "stderr",
     "output_type": "stream",
     "text": [
      "100%|██████████| 7/7 [00:00<00:00, 15.24it/s]\n",
      "|2023-11-20|23:59:20.907| [INFO] train-EMA-loss: 0.853936\n",
      "|2023-11-20|23:59:21.234| [INFO] infer-train-accuracy: 0.458515\n",
      "|2023-11-20|23:59:21.483| [INFO] infer-valid-A-accuracy: 0.423077\n",
      "|2023-11-20|23:59:21.744| [INFO] infer-valid-B-accuracy: 0.406250\n",
      "|2023-11-20|23:59:22.009| [INFO] EPOCH: 019\n"
     ]
    },
    {
     "name": "stdout",
     "output_type": "stream",
     "text": [
      "best_score {'infer-train-accuracy': 0.4978165938864629, 'infer-valid-A-accuracy': 0.46153846153846156, 'infer-valid-B-accuracy': 0.421875}\n"
     ]
    },
    {
     "name": "stderr",
     "output_type": "stream",
     "text": [
      "100%|██████████| 7/7 [00:00<00:00, 14.77it/s]\n",
      "|2023-11-20|23:59:22.485| [INFO] train-EMA-loss: 0.839247\n",
      "|2023-11-20|23:59:22.827| [INFO] infer-train-accuracy: 0.480349\n",
      "|2023-11-20|23:59:23.026| [INFO] infer-valid-A-accuracy: 0.384615\n",
      "|2023-11-20|23:59:23.288| [INFO] infer-valid-B-accuracy: 0.390625\n",
      "|2023-11-20|23:59:23.527| [INFO] EPOCH: 020\n"
     ]
    },
    {
     "name": "stdout",
     "output_type": "stream",
     "text": [
      "best_score {'infer-train-accuracy': 0.4978165938864629, 'infer-valid-A-accuracy': 0.46153846153846156, 'infer-valid-B-accuracy': 0.421875}\n"
     ]
    },
    {
     "name": "stderr",
     "output_type": "stream",
     "text": [
      "100%|██████████| 7/7 [00:00<00:00, 15.93it/s]\n",
      "|2023-11-20|23:59:23.969| [INFO] train-EMA-loss: 0.978317\n",
      "|2023-11-20|23:59:24.336| [INFO] infer-train-accuracy: 0.480349\n",
      "|2023-11-20|23:59:24.549| [INFO] infer-valid-A-accuracy: 0.423077\n",
      "|2023-11-20|23:59:24.770| [INFO] infer-valid-B-accuracy: 0.390625\n",
      "|2023-11-20|23:59:25.016| [INFO] EPOCH: 021\n"
     ]
    },
    {
     "name": "stdout",
     "output_type": "stream",
     "text": [
      "best_score {'infer-train-accuracy': 0.4978165938864629, 'infer-valid-A-accuracy': 0.46153846153846156, 'infer-valid-B-accuracy': 0.421875}\n"
     ]
    },
    {
     "name": "stderr",
     "output_type": "stream",
     "text": [
      "100%|██████████| 7/7 [00:00<00:00, 15.53it/s]\n",
      "|2023-11-20|23:59:25.469| [INFO] train-EMA-loss: 1.007620\n",
      "|2023-11-20|23:59:25.817| [INFO] infer-train-accuracy: 0.462882\n",
      "|2023-11-20|23:59:26.021| [INFO] infer-valid-A-accuracy: 0.346154\n",
      "|2023-11-20|23:59:26.245| [INFO] infer-valid-B-accuracy: 0.406250\n",
      "|2023-11-20|23:59:26.481| [INFO] EPOCH: 022\n"
     ]
    },
    {
     "name": "stdout",
     "output_type": "stream",
     "text": [
      "best_score {'infer-train-accuracy': 0.4978165938864629, 'infer-valid-A-accuracy': 0.46153846153846156, 'infer-valid-B-accuracy': 0.421875}\n"
     ]
    },
    {
     "name": "stderr",
     "output_type": "stream",
     "text": [
      "100%|██████████| 7/7 [00:00<00:00, 15.70it/s]\n",
      "|2023-11-20|23:59:26.929| [INFO] train-EMA-loss: 0.947738\n",
      "|2023-11-20|23:59:27.230| [INFO] infer-train-accuracy: 0.497817\n",
      "|2023-11-20|23:59:27.437| [INFO] infer-valid-A-accuracy: 0.346154\n",
      "|2023-11-20|23:59:27.670| [INFO] infer-valid-B-accuracy: 0.421875\n",
      "|2023-11-20|23:59:27.905| [INFO] EPOCH: 023\n"
     ]
    },
    {
     "name": "stdout",
     "output_type": "stream",
     "text": [
      "best_score {'infer-train-accuracy': 0.4978165938864629, 'infer-valid-A-accuracy': 0.46153846153846156, 'infer-valid-B-accuracy': 0.421875}\n"
     ]
    },
    {
     "name": "stderr",
     "output_type": "stream",
     "text": [
      "100%|██████████| 7/7 [00:00<00:00, 15.05it/s]\n",
      "|2023-11-20|23:59:28.374| [INFO] train-EMA-loss: 0.909324\n",
      "|2023-11-20|23:59:28.700| [INFO] infer-train-accuracy: 0.524017\n",
      "|2023-11-20|23:59:28.909| [INFO] infer-valid-A-accuracy: 0.384615\n",
      "|2023-11-20|23:59:29.135| [INFO] infer-valid-B-accuracy: 0.406250\n",
      "|2023-11-20|23:59:29.374| [INFO] EPOCH: 024\n"
     ]
    },
    {
     "name": "stdout",
     "output_type": "stream",
     "text": [
      "best_score {'infer-train-accuracy': 0.5240174672489083, 'infer-valid-A-accuracy': 0.46153846153846156, 'infer-valid-B-accuracy': 0.421875}\n"
     ]
    },
    {
     "name": "stderr",
     "output_type": "stream",
     "text": [
      "100%|██████████| 7/7 [00:00<00:00, 15.11it/s]\n",
      "|2023-11-20|23:59:29.840| [INFO] train-EMA-loss: 0.755615\n",
      "|2023-11-20|23:59:30.191| [INFO] infer-train-accuracy: 0.502183\n",
      "|2023-11-20|23:59:30.392| [INFO] infer-valid-A-accuracy: 0.346154\n",
      "|2023-11-20|23:59:30.634| [INFO] infer-valid-B-accuracy: 0.375000\n",
      "|2023-11-20|23:59:30.886| [INFO] EPOCH: 025\n"
     ]
    },
    {
     "name": "stdout",
     "output_type": "stream",
     "text": [
      "best_score {'infer-train-accuracy': 0.5240174672489083, 'infer-valid-A-accuracy': 0.46153846153846156, 'infer-valid-B-accuracy': 0.421875}\n"
     ]
    },
    {
     "name": "stderr",
     "output_type": "stream",
     "text": [
      "100%|██████████| 7/7 [00:00<00:00, 14.75it/s]\n",
      "|2023-11-20|23:59:31.362| [INFO] train-EMA-loss: 0.930818\n",
      "|2023-11-20|23:59:31.705| [INFO] infer-train-accuracy: 0.524017\n",
      "|2023-11-20|23:59:31.917| [INFO] infer-valid-A-accuracy: 0.384615\n",
      "|2023-11-20|23:59:32.162| [INFO] infer-valid-B-accuracy: 0.406250\n",
      "|2023-11-20|23:59:32.411| [INFO] EPOCH: 026\n"
     ]
    },
    {
     "name": "stdout",
     "output_type": "stream",
     "text": [
      "best_score {'infer-train-accuracy': 0.5240174672489083, 'infer-valid-A-accuracy': 0.46153846153846156, 'infer-valid-B-accuracy': 0.421875}\n"
     ]
    },
    {
     "name": "stderr",
     "output_type": "stream",
     "text": [
      "100%|██████████| 7/7 [00:00<00:00, 14.45it/s]\n",
      "|2023-11-20|23:59:32.898| [INFO] train-EMA-loss: 0.846095\n",
      "|2023-11-20|23:59:33.258| [INFO] infer-train-accuracy: 0.545852\n",
      "|2023-11-20|23:59:33.462| [INFO] infer-valid-A-accuracy: 0.346154\n",
      "|2023-11-20|23:59:33.710| [INFO] infer-valid-B-accuracy: 0.359375\n",
      "|2023-11-20|23:59:33.975| [INFO] EPOCH: 027\n"
     ]
    },
    {
     "name": "stdout",
     "output_type": "stream",
     "text": [
      "best_score {'infer-train-accuracy': 0.5458515283842795, 'infer-valid-A-accuracy': 0.46153846153846156, 'infer-valid-B-accuracy': 0.421875}\n"
     ]
    },
    {
     "name": "stderr",
     "output_type": "stream",
     "text": [
      "100%|██████████| 7/7 [00:00<00:00, 13.05it/s]\n",
      "|2023-11-20|23:59:34.513| [INFO] train-EMA-loss: 0.938593\n",
      "|2023-11-20|23:59:34.864| [INFO] infer-train-accuracy: 0.572052\n",
      "|2023-11-20|23:59:35.078| [INFO] infer-valid-A-accuracy: 0.346154\n",
      "|2023-11-20|23:59:35.319| [INFO] infer-valid-B-accuracy: 0.437500\n",
      "|2023-11-20|23:59:35.567| [INFO] EPOCH: 028\n"
     ]
    },
    {
     "name": "stdout",
     "output_type": "stream",
     "text": [
      "best_score {'infer-train-accuracy': 0.5720524017467249, 'infer-valid-A-accuracy': 0.46153846153846156, 'infer-valid-B-accuracy': 0.4375}\n"
     ]
    },
    {
     "name": "stderr",
     "output_type": "stream",
     "text": [
      "100%|██████████| 7/7 [00:00<00:00, 14.75it/s]\n",
      "|2023-11-20|23:59:36.044| [INFO] train-EMA-loss: 0.703626\n",
      "|2023-11-20|23:59:36.376| [INFO] infer-train-accuracy: 0.589520\n",
      "|2023-11-20|23:59:36.599| [INFO] infer-valid-A-accuracy: 0.384615\n",
      "|2023-11-20|23:59:36.831| [INFO] infer-valid-B-accuracy: 0.468750\n",
      "|2023-11-20|23:59:37.072| [INFO] EPOCH: 029\n"
     ]
    },
    {
     "name": "stdout",
     "output_type": "stream",
     "text": [
      "best_score {'infer-train-accuracy': 0.5895196506550219, 'infer-valid-A-accuracy': 0.46153846153846156, 'infer-valid-B-accuracy': 0.46875}\n"
     ]
    },
    {
     "name": "stderr",
     "output_type": "stream",
     "text": [
      "100%|██████████| 7/7 [00:00<00:00, 14.29it/s]\n",
      "|2023-11-20|23:59:37.565| [INFO] train-EMA-loss: 0.749509\n",
      "|2023-11-20|23:59:37.881| [INFO] infer-train-accuracy: 0.606987\n",
      "|2023-11-20|23:59:38.142| [INFO] infer-valid-A-accuracy: 0.384615\n",
      "|2023-11-20|23:59:38.385| [INFO] infer-valid-B-accuracy: 0.406250\n",
      "|2023-11-20|23:59:38.633| [INFO] EPOCH: 030\n"
     ]
    },
    {
     "name": "stdout",
     "output_type": "stream",
     "text": [
      "best_score {'infer-train-accuracy': 0.6069868995633187, 'infer-valid-A-accuracy': 0.46153846153846156, 'infer-valid-B-accuracy': 0.46875}\n"
     ]
    },
    {
     "name": "stderr",
     "output_type": "stream",
     "text": [
      "100%|██████████| 7/7 [00:00<00:00, 15.28it/s]\n",
      "|2023-11-20|23:59:39.094| [INFO] train-EMA-loss: 0.751102\n",
      "|2023-11-20|23:59:39.426| [INFO] infer-train-accuracy: 0.550218\n",
      "|2023-11-20|23:59:39.628| [INFO] infer-valid-A-accuracy: 0.423077\n",
      "|2023-11-20|23:59:39.863| [INFO] infer-valid-B-accuracy: 0.406250\n",
      "|2023-11-20|23:59:40.108| [INFO] EPOCH: 031\n"
     ]
    },
    {
     "name": "stdout",
     "output_type": "stream",
     "text": [
      "best_score {'infer-train-accuracy': 0.6069868995633187, 'infer-valid-A-accuracy': 0.46153846153846156, 'infer-valid-B-accuracy': 0.46875}\n"
     ]
    },
    {
     "name": "stderr",
     "output_type": "stream",
     "text": [
      "100%|██████████| 7/7 [00:00<00:00, 14.08it/s]\n",
      "|2023-11-20|23:59:40.607| [INFO] train-EMA-loss: 0.871257\n",
      "|2023-11-20|23:59:40.935| [INFO] infer-train-accuracy: 0.620087\n",
      "|2023-11-20|23:59:41.137| [INFO] infer-valid-A-accuracy: 0.423077\n",
      "|2023-11-20|23:59:41.372| [INFO] infer-valid-B-accuracy: 0.421875\n",
      "|2023-11-20|23:59:41.621| [INFO] EPOCH: 032\n"
     ]
    },
    {
     "name": "stdout",
     "output_type": "stream",
     "text": [
      "best_score {'infer-train-accuracy': 0.6200873362445415, 'infer-valid-A-accuracy': 0.46153846153846156, 'infer-valid-B-accuracy': 0.46875}\n"
     ]
    },
    {
     "name": "stderr",
     "output_type": "stream",
     "text": [
      "100%|██████████| 7/7 [00:00<00:00, 15.48it/s]\n",
      "|2023-11-20|23:59:42.076| [INFO] train-EMA-loss: 0.645492\n",
      "|2023-11-20|23:59:42.436| [INFO] infer-train-accuracy: 0.615721\n",
      "|2023-11-20|23:59:42.662| [INFO] infer-valid-A-accuracy: 0.423077\n",
      "|2023-11-20|23:59:42.892| [INFO] infer-valid-B-accuracy: 0.437500\n",
      "|2023-11-20|23:59:43.162| [INFO] EPOCH: 033\n"
     ]
    },
    {
     "name": "stdout",
     "output_type": "stream",
     "text": [
      "best_score {'infer-train-accuracy': 0.6200873362445415, 'infer-valid-A-accuracy': 0.46153846153846156, 'infer-valid-B-accuracy': 0.46875}\n"
     ]
    },
    {
     "name": "stderr",
     "output_type": "stream",
     "text": [
      "100%|██████████| 7/7 [00:00<00:00, 15.04it/s]\n",
      "|2023-11-20|23:59:43.630| [INFO] train-EMA-loss: 0.818207\n",
      "|2023-11-20|23:59:43.978| [INFO] infer-train-accuracy: 0.615721\n",
      "|2023-11-20|23:59:44.205| [INFO] infer-valid-A-accuracy: 0.346154\n",
      "|2023-11-20|23:59:44.452| [INFO] infer-valid-B-accuracy: 0.484375\n",
      "|2023-11-20|23:59:44.944| [INFO] EPOCH: 034\n"
     ]
    },
    {
     "name": "stdout",
     "output_type": "stream",
     "text": [
      "best_score {'infer-train-accuracy': 0.6200873362445415, 'infer-valid-A-accuracy': 0.46153846153846156, 'infer-valid-B-accuracy': 0.484375}\n"
     ]
    },
    {
     "name": "stderr",
     "output_type": "stream",
     "text": [
      "100%|██████████| 7/7 [00:00<00:00, 15.03it/s]\n",
      "|2023-11-20|23:59:45.414| [INFO] train-EMA-loss: 0.740574\n",
      "|2023-11-20|23:59:45.791| [INFO] infer-train-accuracy: 0.646288\n",
      "|2023-11-20|23:59:45.998| [INFO] infer-valid-A-accuracy: 0.269231\n",
      "|2023-11-20|23:59:46.298| [INFO] infer-valid-B-accuracy: 0.437500\n",
      "|2023-11-20|23:59:46.598| [INFO] EPOCH: 035\n"
     ]
    },
    {
     "name": "stdout",
     "output_type": "stream",
     "text": [
      "best_score {'infer-train-accuracy': 0.6462882096069869, 'infer-valid-A-accuracy': 0.46153846153846156, 'infer-valid-B-accuracy': 0.484375}\n"
     ]
    },
    {
     "name": "stderr",
     "output_type": "stream",
     "text": [
      "100%|██████████| 7/7 [00:00<00:00, 12.45it/s]\n",
      "|2023-11-20|23:59:47.163| [INFO] train-EMA-loss: 0.723393\n",
      "|2023-11-20|23:59:47.553| [INFO] infer-train-accuracy: 0.646288\n",
      "|2023-11-20|23:59:47.768| [INFO] infer-valid-A-accuracy: 0.307692\n",
      "|2023-11-20|23:59:48.042| [INFO] infer-valid-B-accuracy: 0.453125\n",
      "|2023-11-20|23:59:48.366| [INFO] EPOCH: 036\n"
     ]
    },
    {
     "name": "stdout",
     "output_type": "stream",
     "text": [
      "best_score {'infer-train-accuracy': 0.6462882096069869, 'infer-valid-A-accuracy': 0.46153846153846156, 'infer-valid-B-accuracy': 0.484375}\n"
     ]
    },
    {
     "name": "stderr",
     "output_type": "stream",
     "text": [
      "100%|██████████| 7/7 [00:00<00:00, 13.24it/s]\n",
      "|2023-11-20|23:59:48.897| [INFO] train-EMA-loss: 0.898199\n",
      "|2023-11-20|23:59:49.263| [INFO] infer-train-accuracy: 0.606987\n",
      "|2023-11-20|23:59:49.486| [INFO] infer-valid-A-accuracy: 0.307692\n",
      "|2023-11-20|23:59:49.748| [INFO] infer-valid-B-accuracy: 0.453125\n",
      "|2023-11-20|23:59:50.008| [INFO] EPOCH: 037\n"
     ]
    },
    {
     "name": "stdout",
     "output_type": "stream",
     "text": [
      "best_score {'infer-train-accuracy': 0.6462882096069869, 'infer-valid-A-accuracy': 0.46153846153846156, 'infer-valid-B-accuracy': 0.484375}\n"
     ]
    },
    {
     "name": "stderr",
     "output_type": "stream",
     "text": [
      "100%|██████████| 7/7 [00:00<00:00, 15.38it/s]\n",
      "|2023-11-20|23:59:50.466| [INFO] train-EMA-loss: 0.684512\n",
      "|2023-11-20|23:59:50.780| [INFO] infer-train-accuracy: 0.611354\n",
      "|2023-11-20|23:59:50.993| [INFO] infer-valid-A-accuracy: 0.346154\n",
      "|2023-11-20|23:59:51.270| [INFO] infer-valid-B-accuracy: 0.453125\n",
      "|2023-11-20|23:59:51.521| [INFO] EPOCH: 038\n"
     ]
    },
    {
     "name": "stdout",
     "output_type": "stream",
     "text": [
      "best_score {'infer-train-accuracy': 0.6462882096069869, 'infer-valid-A-accuracy': 0.46153846153846156, 'infer-valid-B-accuracy': 0.484375}\n"
     ]
    },
    {
     "name": "stderr",
     "output_type": "stream",
     "text": [
      "100%|██████████| 7/7 [00:00<00:00, 15.24it/s]\n",
      "|2023-11-20|23:59:51.983| [INFO] train-EMA-loss: 0.597541\n",
      "|2023-11-20|23:59:52.321| [INFO] infer-train-accuracy: 0.641921\n",
      "|2023-11-20|23:59:52.545| [INFO] infer-valid-A-accuracy: 0.307692\n",
      "|2023-11-20|23:59:52.791| [INFO] infer-valid-B-accuracy: 0.421875\n",
      "|2023-11-20|23:59:53.043| [INFO] EPOCH: 039\n"
     ]
    },
    {
     "name": "stdout",
     "output_type": "stream",
     "text": [
      "best_score {'infer-train-accuracy': 0.6462882096069869, 'infer-valid-A-accuracy': 0.46153846153846156, 'infer-valid-B-accuracy': 0.484375}\n"
     ]
    },
    {
     "name": "stderr",
     "output_type": "stream",
     "text": [
      "100%|██████████| 7/7 [00:00<00:00, 13.99it/s]\n",
      "|2023-11-20|23:59:53.546| [INFO] train-EMA-loss: 0.634689\n",
      "|2023-11-20|23:59:53.861| [INFO] infer-train-accuracy: 0.650655\n",
      "|2023-11-20|23:59:54.065| [INFO] infer-valid-A-accuracy: 0.384615\n",
      "|2023-11-20|23:59:54.334| [INFO] infer-valid-B-accuracy: 0.468750\n",
      "|2023-11-20|23:59:54.588| [INFO] EPOCH: 040\n"
     ]
    },
    {
     "name": "stdout",
     "output_type": "stream",
     "text": [
      "best_score {'infer-train-accuracy': 0.6506550218340611, 'infer-valid-A-accuracy': 0.46153846153846156, 'infer-valid-B-accuracy': 0.484375}\n"
     ]
    },
    {
     "name": "stderr",
     "output_type": "stream",
     "text": [
      "100%|██████████| 7/7 [00:00<00:00, 15.89it/s]\n",
      "|2023-11-20|23:59:55.031| [INFO] train-EMA-loss: 0.589529\n",
      "|2023-11-20|23:59:55.377| [INFO] infer-train-accuracy: 0.729258\n",
      "|2023-11-20|23:59:55.594| [INFO] infer-valid-A-accuracy: 0.346154\n",
      "|2023-11-20|23:59:55.848| [INFO] infer-valid-B-accuracy: 0.500000\n",
      "|2023-11-20|23:59:56.111| [INFO] EPOCH: 041\n"
     ]
    },
    {
     "name": "stdout",
     "output_type": "stream",
     "text": [
      "best_score {'infer-train-accuracy': 0.7292576419213974, 'infer-valid-A-accuracy': 0.46153846153846156, 'infer-valid-B-accuracy': 0.5}\n"
     ]
    },
    {
     "name": "stderr",
     "output_type": "stream",
     "text": [
      "100%|██████████| 7/7 [00:00<00:00, 15.66it/s]\n",
      "|2023-11-20|23:59:56.560| [INFO] train-EMA-loss: 0.631289\n",
      "|2023-11-20|23:59:56.899| [INFO] infer-train-accuracy: 0.711790\n",
      "|2023-11-20|23:59:57.113| [INFO] infer-valid-A-accuracy: 0.423077\n",
      "|2023-11-20|23:59:57.349| [INFO] infer-valid-B-accuracy: 0.484375\n",
      "|2023-11-20|23:59:57.592| [INFO] EPOCH: 042\n"
     ]
    },
    {
     "name": "stdout",
     "output_type": "stream",
     "text": [
      "best_score {'infer-train-accuracy': 0.7292576419213974, 'infer-valid-A-accuracy': 0.46153846153846156, 'infer-valid-B-accuracy': 0.5}\n"
     ]
    },
    {
     "name": "stderr",
     "output_type": "stream",
     "text": [
      "100%|██████████| 7/7 [00:00<00:00, 15.16it/s]\n",
      "|2023-11-20|23:59:58.056| [INFO] train-EMA-loss: 0.748548\n",
      "|2023-11-20|23:59:58.410| [INFO] infer-train-accuracy: 0.694323\n",
      "|2023-11-20|23:59:58.661| [INFO] infer-valid-A-accuracy: 0.423077\n",
      "|2023-11-20|23:59:58.919| [INFO] infer-valid-B-accuracy: 0.453125\n",
      "|2023-11-20|23:59:59.182| [INFO] EPOCH: 043\n"
     ]
    },
    {
     "name": "stdout",
     "output_type": "stream",
     "text": [
      "best_score {'infer-train-accuracy': 0.7292576419213974, 'infer-valid-A-accuracy': 0.46153846153846156, 'infer-valid-B-accuracy': 0.5}\n"
     ]
    },
    {
     "name": "stderr",
     "output_type": "stream",
     "text": [
      "100%|██████████| 7/7 [00:00<00:00, 15.41it/s]\n",
      "|2023-11-20|23:59:59.638| [INFO] train-EMA-loss: 0.555861\n",
      "|2023-11-20|23:59:59.971| [INFO] infer-train-accuracy: 0.694323\n",
      "|2023-11-21|00:00:00.183| [INFO] infer-valid-A-accuracy: 0.384615\n",
      "|2023-11-21|00:00:00.430| [INFO] infer-valid-B-accuracy: 0.437500\n",
      "|2023-11-21|00:00:00.701| [INFO] EPOCH: 044\n"
     ]
    },
    {
     "name": "stdout",
     "output_type": "stream",
     "text": [
      "best_score {'infer-train-accuracy': 0.7292576419213974, 'infer-valid-A-accuracy': 0.46153846153846156, 'infer-valid-B-accuracy': 0.5}\n"
     ]
    },
    {
     "name": "stderr",
     "output_type": "stream",
     "text": [
      "100%|██████████| 7/7 [00:00<00:00, 14.24it/s]\n",
      "|2023-11-21|00:00:01.195| [INFO] train-EMA-loss: 0.662409\n",
      "|2023-11-21|00:00:01.554| [INFO] infer-train-accuracy: 0.729258\n",
      "|2023-11-21|00:00:01.778| [INFO] infer-valid-A-accuracy: 0.346154\n",
      "|2023-11-21|00:00:02.016| [INFO] infer-valid-B-accuracy: 0.484375\n",
      "|2023-11-21|00:00:02.267| [INFO] EPOCH: 045\n"
     ]
    },
    {
     "name": "stdout",
     "output_type": "stream",
     "text": [
      "best_score {'infer-train-accuracy': 0.7292576419213974, 'infer-valid-A-accuracy': 0.46153846153846156, 'infer-valid-B-accuracy': 0.5}\n"
     ]
    },
    {
     "name": "stderr",
     "output_type": "stream",
     "text": [
      "100%|██████████| 7/7 [00:00<00:00, 13.25it/s]\n",
      "|2023-11-21|00:00:02.797| [INFO] train-EMA-loss: 0.635997\n",
      "|2023-11-21|00:00:03.169| [INFO] infer-train-accuracy: 0.716157\n",
      "|2023-11-21|00:00:03.381| [INFO] infer-valid-A-accuracy: 0.423077\n",
      "|2023-11-21|00:00:03.630| [INFO] infer-valid-B-accuracy: 0.468750\n",
      "|2023-11-21|00:00:03.889| [INFO] EPOCH: 046\n"
     ]
    },
    {
     "name": "stdout",
     "output_type": "stream",
     "text": [
      "best_score {'infer-train-accuracy': 0.7292576419213974, 'infer-valid-A-accuracy': 0.46153846153846156, 'infer-valid-B-accuracy': 0.5}\n"
     ]
    },
    {
     "name": "stderr",
     "output_type": "stream",
     "text": [
      "100%|██████████| 7/7 [00:00<00:00, 14.42it/s]\n",
      "|2023-11-21|00:00:04.377| [INFO] train-EMA-loss: 0.658772\n",
      "|2023-11-21|00:00:04.726| [INFO] infer-train-accuracy: 0.742358\n",
      "|2023-11-21|00:00:04.932| [INFO] infer-valid-A-accuracy: 0.461538\n",
      "|2023-11-21|00:00:05.170| [INFO] infer-valid-B-accuracy: 0.453125\n"
     ]
    },
    {
     "ename": "KeyboardInterrupt",
     "evalue": "",
     "output_type": "error",
     "traceback": [
      "\u001b[0;31m---------------------------------------------------------------------------\u001b[0m",
      "\u001b[0;31mKeyboardInterrupt\u001b[0m                         Traceback (most recent call last)",
      "\u001b[1;32m/home/amrit/pipeline/pipeline/projects/CSE8803 MLG/Graph_DLBCL/build_feats copy.ipynb Cell 16\u001b[0m line \u001b[0;36m5\n\u001b[1;32m     <a href='vscode-notebook-cell:/home/amrit/pipeline/pipeline/projects/CSE8803%20MLG/Graph_DLBCL/build_feats%20copy.ipynb#X22sZmlsZQ%3D%3D?line=48'>49</a>\u001b[0m rm_n_mkdir(split_save_dir)\n\u001b[1;32m     <a href='vscode-notebook-cell:/home/amrit/pipeline/pipeline/projects/CSE8803%20MLG/Graph_DLBCL/build_feats%20copy.ipynb#X22sZmlsZQ%3D%3D?line=49'>50</a>\u001b[0m reset_logging(split_save_dir)\n\u001b[0;32m---> <a href='vscode-notebook-cell:/home/amrit/pipeline/pipeline/projects/CSE8803%20MLG/Graph_DLBCL/build_feats%20copy.ipynb#X22sZmlsZQ%3D%3D?line=50'>51</a>\u001b[0m run_once(\n\u001b[1;32m     <a href='vscode-notebook-cell:/home/amrit/pipeline/pipeline/projects/CSE8803%20MLG/Graph_DLBCL/build_feats%20copy.ipynb#X22sZmlsZQ%3D%3D?line=51'>52</a>\u001b[0m     new_split,\n\u001b[1;32m     <a href='vscode-notebook-cell:/home/amrit/pipeline/pipeline/projects/CSE8803%20MLG/Graph_DLBCL/build_feats%20copy.ipynb#X22sZmlsZQ%3D%3D?line=52'>53</a>\u001b[0m     NUM_EPOCHS,\n\u001b[1;32m     <a href='vscode-notebook-cell:/home/amrit/pipeline/pipeline/projects/CSE8803%20MLG/Graph_DLBCL/build_feats%20copy.ipynb#X22sZmlsZQ%3D%3D?line=53'>54</a>\u001b[0m     save_dir\u001b[39m=\u001b[39;49msplit_save_dir,\n\u001b[1;32m     <a href='vscode-notebook-cell:/home/amrit/pipeline/pipeline/projects/CSE8803%20MLG/Graph_DLBCL/build_feats%20copy.ipynb#X22sZmlsZQ%3D%3D?line=54'>55</a>\u001b[0m     arch_kwargs\u001b[39m=\u001b[39;49march_kwargs,\n\u001b[1;32m     <a href='vscode-notebook-cell:/home/amrit/pipeline/pipeline/projects/CSE8803%20MLG/Graph_DLBCL/build_feats%20copy.ipynb#X22sZmlsZQ%3D%3D?line=55'>56</a>\u001b[0m     loader_kwargs\u001b[39m=\u001b[39;49mloader_kwargs,\n\u001b[1;32m     <a href='vscode-notebook-cell:/home/amrit/pipeline/pipeline/projects/CSE8803%20MLG/Graph_DLBCL/build_feats%20copy.ipynb#X22sZmlsZQ%3D%3D?line=56'>57</a>\u001b[0m     optim_kwargs\u001b[39m=\u001b[39;49moptim_kwargs,\n\u001b[1;32m     <a href='vscode-notebook-cell:/home/amrit/pipeline/pipeline/projects/CSE8803%20MLG/Graph_DLBCL/build_feats%20copy.ipynb#X22sZmlsZQ%3D%3D?line=57'>58</a>\u001b[0m     on_gpu\u001b[39m=\u001b[39;49mON_GPU,\n\u001b[1;32m     <a href='vscode-notebook-cell:/home/amrit/pipeline/pipeline/projects/CSE8803%20MLG/Graph_DLBCL/build_feats%20copy.ipynb#X22sZmlsZQ%3D%3D?line=58'>59</a>\u001b[0m     GRAPH_DIR\u001b[39m=\u001b[39;49mGRAPH_DIR\n\u001b[1;32m     <a href='vscode-notebook-cell:/home/amrit/pipeline/pipeline/projects/CSE8803%20MLG/Graph_DLBCL/build_feats%20copy.ipynb#X22sZmlsZQ%3D%3D?line=59'>60</a>\u001b[0m )\n",
      "File \u001b[0;32m~/pipeline/pipeline/projects/CSE8803 MLG/Graph_DLBCL/src/train.py:190\u001b[0m, in \u001b[0;36mrun_once\u001b[0;34m(dataset_dict, num_epochs, save_dir, pretrained, loader_kwargs, arch_kwargs, optim_kwargs, on_gpu, GRAPH_DIR)\u001b[0m\n\u001b[1;32m    188\u001b[0m     old_epoch_stats\u001b[39m.\u001b[39mupdate(logging_dict)\n\u001b[1;32m    189\u001b[0m     new_stats[epoch] \u001b[39m=\u001b[39m old_epoch_stats\n\u001b[0;32m--> 190\u001b[0m     save_as_json(new_stats, save_dir\u001b[39m/\u001b[39;49m\u001b[39m\"\u001b[39;49m\u001b[39mstats.json\u001b[39;49m\u001b[39m\"\u001b[39;49m, exist_ok\u001b[39m=\u001b[39;49m\u001b[39mTrue\u001b[39;49;00m)\n\u001b[1;32m    192\u001b[0m plt\u001b[39m.\u001b[39mfigure()\n\u001b[1;32m    193\u001b[0m \u001b[39mfor\u001b[39;00m pkey \u001b[39min\u001b[39;00m new_stats[\u001b[39m0\u001b[39m]\u001b[39m.\u001b[39mkeys():\n",
      "File \u001b[0;32m~/anaconda3/envs/DL2/lib/python3.10/site-packages/tiatoolbox/utils/misc.py:732\u001b[0m, in \u001b[0;36msave_as_json\u001b[0;34m(data, save_path, parents, exist_ok)\u001b[0m\n\u001b[1;32m    730\u001b[0m     save_path\u001b[39m.\u001b[39mparent\u001b[39m.\u001b[39mmkdir(parents\u001b[39m=\u001b[39m\u001b[39mTrue\u001b[39;00m, exist_ok\u001b[39m=\u001b[39m\u001b[39mTrue\u001b[39;00m)\n\u001b[1;32m    731\u001b[0m \u001b[39mwith\u001b[39;00m \u001b[39mopen\u001b[39m(save_path, \u001b[39m\"\u001b[39m\u001b[39mw\u001b[39m\u001b[39m\"\u001b[39m) \u001b[39mas\u001b[39;00m handle:  \u001b[39m# skipcq: PTC-W6004\u001b[39;00m\n\u001b[0;32m--> 732\u001b[0m     json\u001b[39m.\u001b[39;49mdump(shadow_data, handle)\n",
      "File \u001b[0;32m~/anaconda3/envs/DL2/lib/python3.10/json/__init__.py:179\u001b[0m, in \u001b[0;36mdump\u001b[0;34m(obj, fp, skipkeys, ensure_ascii, check_circular, allow_nan, cls, indent, separators, default, sort_keys, **kw)\u001b[0m\n\u001b[1;32m    173\u001b[0m     iterable \u001b[39m=\u001b[39m \u001b[39mcls\u001b[39m(skipkeys\u001b[39m=\u001b[39mskipkeys, ensure_ascii\u001b[39m=\u001b[39mensure_ascii,\n\u001b[1;32m    174\u001b[0m         check_circular\u001b[39m=\u001b[39mcheck_circular, allow_nan\u001b[39m=\u001b[39mallow_nan, indent\u001b[39m=\u001b[39mindent,\n\u001b[1;32m    175\u001b[0m         separators\u001b[39m=\u001b[39mseparators,\n\u001b[1;32m    176\u001b[0m         default\u001b[39m=\u001b[39mdefault, sort_keys\u001b[39m=\u001b[39msort_keys, \u001b[39m*\u001b[39m\u001b[39m*\u001b[39mkw)\u001b[39m.\u001b[39miterencode(obj)\n\u001b[1;32m    177\u001b[0m \u001b[39m# could accelerate with writelines in some versions of Python, at\u001b[39;00m\n\u001b[1;32m    178\u001b[0m \u001b[39m# a debuggability cost\u001b[39;00m\n\u001b[0;32m--> 179\u001b[0m \u001b[39mfor\u001b[39;00m chunk \u001b[39min\u001b[39;00m iterable:\n\u001b[1;32m    180\u001b[0m     fp\u001b[39m.\u001b[39mwrite(chunk)\n",
      "File \u001b[0;32m~/anaconda3/envs/DL2/lib/python3.10/json/encoder.py:431\u001b[0m, in \u001b[0;36m_make_iterencode.<locals>._iterencode\u001b[0;34m(o, _current_indent_level)\u001b[0m\n\u001b[1;32m    429\u001b[0m     \u001b[39myield from\u001b[39;00m _iterencode_list(o, _current_indent_level)\n\u001b[1;32m    430\u001b[0m \u001b[39melif\u001b[39;00m \u001b[39misinstance\u001b[39m(o, \u001b[39mdict\u001b[39m):\n\u001b[0;32m--> 431\u001b[0m     \u001b[39myield from\u001b[39;00m _iterencode_dict(o, _current_indent_level)\n\u001b[1;32m    432\u001b[0m \u001b[39melse\u001b[39;00m:\n\u001b[1;32m    433\u001b[0m     \u001b[39mif\u001b[39;00m markers \u001b[39mis\u001b[39;00m \u001b[39mnot\u001b[39;00m \u001b[39mNone\u001b[39;00m:\n",
      "File \u001b[0;32m~/anaconda3/envs/DL2/lib/python3.10/json/encoder.py:383\u001b[0m, in \u001b[0;36m_make_iterencode.<locals>._iterencode_dict\u001b[0;34m(dct, _current_indent_level)\u001b[0m\n\u001b[1;32m    381\u001b[0m     \u001b[39myield\u001b[39;00m item_separator\n\u001b[1;32m    382\u001b[0m \u001b[39myield\u001b[39;00m _encoder(key)\n\u001b[0;32m--> 383\u001b[0m \u001b[39myield\u001b[39;00m _key_separator\n\u001b[1;32m    384\u001b[0m \u001b[39mif\u001b[39;00m \u001b[39misinstance\u001b[39m(value, \u001b[39mstr\u001b[39m):\n\u001b[1;32m    385\u001b[0m     \u001b[39myield\u001b[39;00m _encoder(value)\n",
      "\u001b[0;31mKeyboardInterrupt\u001b[0m: "
     ]
    }
   ],
   "source": [
    "# # we must define the function after training/loading\n",
    "# def nodes_preproc_func(node_features: np.ndarray) -> np.ndarray:\n",
    "#     \"\"\"Pre-processing function for nodes.\"\"\"\n",
    "#     return node_scaler.transform(node_features)\n",
    "nodes_preproc_func = None\n",
    "\n",
    "\n",
    "splits = joblib.load(SPLIT_PATH)\n",
    "loader_kwargs = {\n",
    "    \"num_workers\": 6,\n",
    "    \"batch_size\": 32,\n",
    "}\n",
    "# arch_kwargs = {\n",
    "#     \"dim_features\": NUM_NODE_FEATURES,\n",
    "#     \"dim_target\": NCLASSES,\n",
    "#     \"layers\": [32, 32, 16, 8],\n",
    "#     \"dropout\": 0.3,\n",
    "#     \"pooling\": \"mean\",\n",
    "#     \"conv\": \"EdgeConv\",\n",
    "#     \"aggr\": \"max\",\n",
    "# }\n",
    "\n",
    "\n",
    "arch_kwargs = {\n",
    "    \"dim_features\": NUM_NODE_FEATURES,\n",
    "    \"dim_target\": NCLASSES,\n",
    "    \"layers\": [64, 32, 8],\n",
    "    \"dropout\": 0.3,\n",
    "    \"pooling\": \"mean\",\n",
    "    \"conv\": \"EdgeConv\",\n",
    "    \"aggr\": \"max\",\n",
    "}\n",
    "optim_kwargs = {\n",
    "    \"lr\": 5.0e-4,\n",
    "    \"weight_decay\": 1.0e-4,\n",
    "}\n",
    "\n",
    "NUM_EPOCHS = 100\n",
    "# if not MODEL_DIR.exists() or True:\n",
    "for split_idx, split in enumerate(splits):\n",
    "        new_split = {\n",
    "            \"train\": split[\"train\"],\n",
    "            \"infer-train\": split[\"train\"],\n",
    "            \"infer-valid-A\": split[\"valid\"],\n",
    "            \"infer-valid-B\": split[\"test\"],\n",
    "        }\n",
    "        MODEL_DIR = Path(MODEL_DIR) \n",
    "        split_save_dir = MODEL_DIR / f\"{split_idx:02d}/\"\n",
    "        rm_n_mkdir(split_save_dir)\n",
    "        reset_logging(split_save_dir)\n",
    "        run_once(\n",
    "            new_split,\n",
    "            NUM_EPOCHS,\n",
    "            save_dir=split_save_dir,\n",
    "            arch_kwargs=arch_kwargs,\n",
    "            loader_kwargs=loader_kwargs,\n",
    "            optim_kwargs=optim_kwargs,\n",
    "            on_gpu=ON_GPU,\n",
    "            GRAPH_DIR=GRAPH_DIR\n",
    "        )"
   ]
  },
  {
   "cell_type": "code",
   "execution_count": null,
   "metadata": {},
   "outputs": [],
   "source": []
  }
 ],
 "metadata": {
  "kernelspec": {
   "display_name": "DL2",
   "language": "python",
   "name": "python3"
  },
  "language_info": {
   "codemirror_mode": {
    "name": "ipython",
    "version": 3
   },
   "file_extension": ".py",
   "mimetype": "text/x-python",
   "name": "python",
   "nbconvert_exporter": "python",
   "pygments_lexer": "ipython3",
   "version": "3.10.13"
  }
 },
 "nbformat": 4,
 "nbformat_minor": 2
}
