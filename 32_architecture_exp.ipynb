{
 "cells": [
  {
   "cell_type": "markdown",
   "metadata": {},
   "source": [
    "# Constants\n"
   ]
  },
  {
   "cell_type": "code",
   "execution_count": 11,
   "metadata": {},
   "outputs": [],
   "source": [
    "\n",
    "import pandas as pd\n",
    "import os\n",
    "import shutil\n",
    "from os import path as osp\n",
    "\n",
    "import torch\n",
    "from tiatoolbox.utils.misc import select_device\n",
    "import random\n",
    "import numpy as np\n",
    "from pathlib import Path\n",
    "from datetime import datetime\n",
    "from sklearn.preprocessing import StandardScaler\n",
    "from tqdm import tqdm\n",
    "import joblib\n",
    "import json\n",
    "import glob\n",
    "\n",
    "# from src.intensity import add_features_and_create_new_dicts\n",
    "\n",
    "from src.featureextraction import get_cell_features, add_features_and_create_new_dicts\n",
    "from src.train import stratified_split, recur_find_ext, run_once, rm_n_mkdir ,reset_logging\n",
    "from src.graph_construct import create_graph_with_pooled_patch_nodes, get_pids_labels_for_key\n",
    "\n",
    "\n",
    "ON_GPU = False\n",
    "device = select_device(on_gpu=ON_GPU)\n",
    "\n",
    "SEED = 5\n",
    "random.seed(SEED)\n",
    "rng = np.random.default_rng(SEED)\n",
    "torch.manual_seed(SEED)\n",
    "torch.cuda.manual_seed(SEED)\n",
    "\n",
    "\n",
    "BASEDIR = '/home/amrit/data/proj_data/MLG_project/DLBCL-Morph'\n",
    "\n",
    "\n",
    "STAIN = 'MYC'\n",
    "# STAIN = 'BCL2'\n",
    "\n",
    "\n",
    "FIDIR = f'{BASEDIR}/outputs'\n",
    "CLINPATH = f'{BASEDIR}/clinical_data_cleaned.csv'\n",
    "ANNPATH = f'{BASEDIR}/annotations_clean.csv'\n",
    "FEATSDIR = f'{BASEDIR}/outputs/files/{STAIN}'\n",
    "FEATSCALERPATH = f\"{FEATSDIR}/0_feat_scaler.npz\"\n",
    "PATCH_SIZE = 224\n",
    "OUTPUT_SIZE = PATCH_SIZE*8\n",
    "\n",
    "WORKSPACE_DIR = Path(BASEDIR)\n",
    "# GRAPH_DIR = WORKSPACE_DIR / f\"graphs{STAIN}\" \n",
    "# LABELS_PATH = WORKSPACE_DIR / \"graphs/0_labels.txt\"\n",
    "\n",
    "\n",
    "# Graph construction\n",
    "# PATCH_SIZE = 300\n",
    "SKEW_NOISE = 0.0001\n",
    "MIN_CELLS_PER_PATCH = 10\n",
    "CONNECTIVITY_DISTANCE = 500\n",
    "\n",
    "\n",
    "GRAPHSDIR = Path(f'{BASEDIR}/graphs/{STAIN}')\n",
    "LABELSPATH = f'{BASEDIR}/graphs/{STAIN}_labels.json'\n",
    "\n",
    "NUM_EPOCHS = 100\n",
    "NUM_NODE_FEATURES = 128\n",
    "NCLASSES = 3\n",
    "\n",
    "# pooling= \"mean\"\n",
    "# conv= \"EdgeConv\"\n",
    "# aggr= \"max\"\n",
    "# dropout  =  0.3\n",
    "# layers = [64, 32, 32]\n",
    "\n",
    "\n",
    "pooling= \"mean\"\n",
    "conv= \"EdgeConv\"\n",
    "aggr= \"max\"\n",
    "dropout  =  0.3\n",
    "layers = [64, 32, 32]\n",
    "\n",
    "\n",
    "pooling= \"mean\"\n",
    "conv= \"GINConv\"\n",
    "aggr= \"max\"\n",
    "dropout  =  0.3\n",
    "layers = [64, 32, 32]\n",
    "\n",
    "\n",
    "pooling= \"mean\"\n",
    "conv= \"GINConv\"\n",
    "aggr= \"max\"\n",
    "dropout  =  0.3\n",
    "layers = [64, 32, 32]\n",
    "\n",
    "arch_kwargs = {\n",
    "    \"dim_features\": NUM_NODE_FEATURES,\n",
    "    \"dim_target\": NCLASSES,\n",
    "    \"layers\": layers,\n",
    "    \"dropout\": dropout,\n",
    "    \"pooling\": pooling,\n",
    "    \"conv\": conv,\n",
    "    \"aggr\": aggr,\n",
    "}\n",
    "\n",
    "\n",
    "TRAIN_DIR = WORKSPACE_DIR / \"training\"\n",
    "SPLIT_PATH = TRAIN_DIR / f\"splits_{STAIN}.dat\"\n",
    "# RUN_OUTPUT_DIR = TRAIN_DIR / f\"session_{STAIN}_{conv}_{pooling}_{aggr}_{str(dropout)}_{str(layers)}_{datetime.now().strftime('%m_%d_%H_%M')}\"\n",
    "RUN_OUTPUT_DIR = TRAIN_DIR / f\"session_{STAIN}_{conv}_{pooling}_{aggr}_{str(dropout)}_{str(layers)}\"\n",
    "\n",
    "RUN_OUTPUT_DIR.mkdir(parents=True, exist_ok=True)\n",
    "MODEL_DIR = RUN_OUTPUT_DIR / \"model\""
   ]
  },
  {
   "cell_type": "code",
   "execution_count": 12,
   "metadata": {},
   "outputs": [
    {
     "data": {
      "text/plain": [
       "(319,\n",
       " 319,\n",
       " ['13901_MYC_532',\n",
       "  '13901_MYC_557',\n",
       "  '13902_MYC_513',\n",
       "  '13902_MYC_514',\n",
       "  '13903_MYC_535'])"
      ]
     },
     "execution_count": 12,
     "metadata": {},
     "output_type": "execute_result"
    }
   ],
   "source": [
    "wsi_paths = recur_find_ext(GRAPHSDIR, [\".json\"])\n",
    "wsi_names = [Path(v).stem for v in wsi_paths]\n",
    "assert len(wsi_paths) > 0, \"No files found.\"  # noqa: S101\n",
    "\n",
    "len(wsi_paths) , len(wsi_names) , wsi_names[:5]"
   ]
  },
  {
   "cell_type": "code",
   "execution_count": 13,
   "metadata": {},
   "outputs": [
    {
     "name": "stdout",
     "output_type": "stream",
     "text": [
      "{'13901_MYC_532.json': 0, '13901_MYC_557.json': 0, '13902_MYC_513.json': 2, '13902_MYC_514.json': 2, '13903_MYC_535.json': 2, '13903_MYC_560.json': 2, '13904_MYC_539.json': 1, '13904_MYC_550.json': 1, '13908_MYC_527.json': 1, '13908_MYC_555.json': 1, '13911_MYC_520.json': 2, '13911_MYC_533.json': 2, '13912_MYC_530.json': 0, '13913_MYC_536.json': 0, '13913_MYC_554.json': 0, '13914_MYC_534.json': 0, '13914_MYC_556.json': 0, '13915_MYC_516.json': 2, '13915_MYC_547.json': 2, '13917_MYC_526.json': 2, '13917_MYC_551.json': 2, '13919_MYC_518.json': 0, '13919_MYC_528.json': 0, '13920_MYC_549.json': 2, '13922_MYC_558.json': 2, '13923_MYC_525.json': 2, '13923_MYC_538.json': 2, '13924_MYC_515.json': 1, '13924_MYC_548.json': 1, '13952_MYC_2587.json': 1, '13952_MYC_2589.json': 1, '13953_MYC_2611.json': 2, '13953_MYC_2639.json': 2, '13954_MYC_2592.json': 2, '13955_MYC_2637.json': 1, '13957_MYC_2646.json': 1, '13958_MYC_2600.json': 2, '13958_MYC_2640.json': 2, '13959_MYC_2593.json': 1, '13959_MYC_2644.json': 1, '13960_MYC_2597.json': 1, '13961_MYC_2613.json': 0, '13961_MYC_2626.json': 0, '13962_MYC_2585.json': 1, '13962_MYC_2605.json': 1, '13963_MYC_2610.json': 0, '13963_MYC_2635.json': 0, '13964_MYC_2632.json': 2, '13965_MYC_2604.json': 2, '13965_MYC_2606.json': 2, '13966_MYC_2603.json': 2, '13966_MYC_2617.json': 2, '13971_MYC_2596.json': 1, '13971_MYC_2634.json': 1, '13972_MYC_2623.json': 2, '13972_MYC_2636.json': 2, '13973_MYC_2619.json': 2, '13973_MYC_2641.json': 2, '13974_MYC_2588.json': 2, '13974_MYC_2633.json': 2, '13976_MYC_2586.json': 1, '13976_MYC_2620.json': 1, '13977_MYC_2599.json': 2, '13977_MYC_2629.json': 2, '13978_MYC_2608.json': 2, '13978_MYC_2621.json': 2, '13979_MYC_2618.json': 1, '13979_MYC_2631.json': 1, '13980_MYC_2591.json': 1, '13980_MYC_2622.json': 1, '13981_MYC_2609.json': 2, '13981_MYC_2615.json': 2, '13983_MYC_2594.json': 2, '13983_MYC_2627.json': 2, '13986_MYC_2607.json': 1, '13986_MYC_2625.json': 1, '13988_MYC_2630.json': 2, '13989_MYC_2614.json': 0, '17643_MYC_2555.json': 1, '17643_MYC_2583.json': 1, '17648_MYC_2534.json': 1, '17648_MYC_2570.json': 1, '17649_MYC_2535.json': 2, '17649_MYC_2536.json': 2, '17650_MYC_2546.json': 2, '17650_MYC_2569.json': 2, '17653_MYC_2581.json': 0, '17654_MYC_2564.json': 2, '17654_MYC_2584.json': 2, '17656_MYC_2560.json': 2, '17656_MYC_2567.json': 2, '17657_MYC_2541.json': 2, '17657_MYC_2551.json': 2, '17658_MYC_2554.json': 2, '17658_MYC_2563.json': 2, '17660_MYC_2540.json': 2, '17660_MYC_2575.json': 2, '17662_MYC_2559.json': 0, '17662_MYC_2562.json': 0, '17664_MYC_2552.json': 2, '17664_MYC_2579.json': 2, '17666_MYC_2543.json': 0, '17666_MYC_2548.json': 0, '17667_MYC_2532.json': 2, '17667_MYC_2537.json': 2, '17669_MYC_2574.json': 2, '17670_MYC_2539.json': 1, '17670_MYC_2572.json': 1, '17673_MYC_2557.json': 2, '17673_MYC_2571.json': 2, '18828_MYC_2347.json': 2, '18828_MYC_2352.json': 2, '18829_MYC_2350.json': 2, '18829_MYC_2354.json': 2, '18830_MYC_2341.json': 2, '18830_MYC_2358.json': 2, '18831_MYC_2316.json': 2, '18831_MYC_2344.json': 2, '18831_MYC_2364.json': 2, '18833_MYC_2355.json': 1, '18834_MYC_2336.json': 1, '18834_MYC_2346.json': 1, '18835_MYC_2361.json': 1, '18835_MYC_2367.json': 1, '18836_MYC_2315.json': 2, '18836_MYC_2351.json': 2, '18837_MYC_2327.json': 0, '18837_MYC_2373.json': 0, '18838_MYC_2342.json': 1, '18838_MYC_2366.json': 1, '18839_MYC_2339.json': 0, '18840_MYC_2319.json': 1, '18840_MYC_2356.json': 1, '18841_MYC_2343.json': 2, '18843_MYC_2330.json': 1, '18843_MYC_2370.json': 1, '18844_MYC_2357.json': 1, '18845_MYC_2332.json': 2, '18845_MYC_2353.json': 2, '18846_MYC_2320.json': 2, '18846_MYC_2338.json': 2, '18847_MYC_2321.json': 2, '18847_MYC_2362.json': 2, '18848_MYC_2349.json': 1, '18848_MYC_2374.json': 1, '18849_MYC_2314.json': 0, '18849_MYC_2337.json': 0, '18851_MYC_2363.json': 0, '18851_MYC_2372.json': 0, '18852_MYC_2325.json': 0, '18852_MYC_2334.json': 0, '19667_MYC_2265.json': 1, '19667_MYC_2276.json': 1, '19669_MYC_2252.json': 2, '19669_MYC_2286.json': 2, '19670_MYC_2291.json': 1, '19670_MYC_2293.json': 1, '19672_MYC_2254.json': 2, '19672_MYC_2304.json': 2, '19673_MYC_2259.json': 1, '19673_MYC_2269.json': 1, '19674_MYC_2264.json': 0, '19674_MYC_2303.json': 0, '19675_MYC_2277.json': 2, '19675_MYC_2309.json': 2, '19676_MYC_2262.json': 1, '19676_MYC_2308.json': 1, '19677_MYC_2255.json': 0, '19678_MYC_2287.json': 1, '19679_MYC_2275.json': 1, '19679_MYC_2290.json': 1, '19681_MYC_2257.json': 1, '19681_MYC_2310.json': 1, '19682_MYC_2296.json': 0, '19682_MYC_2301.json': 0, '19683_MYC_2253.json': 1, '19683_MYC_2271.json': 1, '19684_MYC_2272.json': 2, '19684_MYC_2285.json': 2, '19685_MYC_2280.json': 2, '19685_MYC_2289.json': 2, '19687_MYC_2292.json': 2, '19687_MYC_2297.json': 2, '19688_MYC_2288.json': 1, '19688_MYC_2313.json': 1, '19689_MYC_2298.json': 2, '19689_MYC_2299.json': 2, '19690_MYC_2273.json': 1, '19690_MYC_2294.json': 1, '19691_MYC_2282.json': 1, '19691_MYC_2284.json': 1, '19692_MYC_2279.json': 0, '19692_MYC_2281.json': 0, '19693_MYC_2260.json': 0, '19693_MYC_2278.json': 0, '19694_MYC_2283.json': 1, '19694_MYC_2302.json': 1, '19695_MYC_2270.json': 1, '19695_MYC_2295.json': 1, '19697_MYC_2256.json': 1, '19697_MYC_2274.json': 1, '19698_MYC_2300.json': 1, '19698_MYC_2306.json': 1, '19700_MYC_2258.json': 0, '19700_MYC_2268.json': 0, '26786_MYC_1916.json': 1, '26786_MYC_1961.json': 1, '26787_MYC_1941.json': 0, '26787_MYC_1944.json': 0, '26788_MYC_1925.json': 2, '26788_MYC_1937.json': 2, '26789_MYC_1934.json': 2, '26789_MYC_1949.json': 2, '26790_MYC_1939.json': 1, '26790_MYC_1969.json': 1, '26791_MYC_1907.json': 0, '26791_MYC_1951.json': 0, '26792_MYC_1918.json': 0, '26793_MYC_1922.json': 1, '26793_MYC_1968.json': 1, '26794_MYC_1909.json': 1, '26794_MYC_1936.json': 1, '26795_MYC_1928.json': 2, '26795_MYC_1959.json': 2, '26796_MYC_1912.json': 2, '26796_MYC_1931.json': 2, '26797_MYC_1914.json': 0, '26798_MYC_1908.json': 0, '26798_MYC_1947.json': 0, '26799_MYC_1943.json': 0, '26799_MYC_1963.json': 0, '26800_MYC_1970.json': 0, '26801_MYC_1921.json': 0, '26801_MYC_1957.json': 0, '26802_MYC_1940.json': 0, '26802_MYC_1948.json': 0, '26803_MYC_1924.json': 0, '26803_MYC_1932.json': 0, '26804_MYC_1929.json': 2, '26804_MYC_1971.json': 2, '26805_MYC_1913.json': 2, '26805_MYC_1923.json': 2, '26806_MYC_1966.json': 0, '26808_MYC_1935.json': 1, '26808_MYC_1942.json': 1, '26809_MYC_1933.json': 0, '26809_MYC_1956.json': 0, '26810_MYC_1926.json': 0, '26810_MYC_1964.json': 0, '26811_MYC_1952.json': 0, '26812_MYC_1930.json': 1, '26812_MYC_1960.json': 1, '26813_MYC_629.json': 1, '26814_MYC_599.json': 1, '26816_MYC_605.json': 0, '26816_MYC_610.json': 0, '26817_MYC_617.json': 0, '26817_MYC_631.json': 0, '26818_MYC_583.json': 0, '26819_MYC_575.json': 1, '26819_MYC_634.json': 1, '26820_MYC_611.json': 0, '26820_MYC_618.json': 0, '26821_MYC_600.json': 0, '26821_MYC_603.json': 0, '26822_MYC_566.json': 1, '26822_MYC_628.json': 1, '26823_MYC_602.json': 0, '26823_MYC_626.json': 0, '26824_MYC_604.json': 0, '26825_MYC_580.json': 0, '26825_MYC_633.json': 0, '26826_MYC_582.json': 0, '26828_MYC_607.json': 0, '26828_MYC_616.json': 0, '26829_MYC_581.json': 0, '26830_MYC_563.json': 1, '26830_MYC_585.json': 1, '26831_MYC_591.json': 1, '26832_MYC_615.json': 0, '26832_MYC_622.json': 0, '26833_MYC_564.json': 0, '26833_MYC_567.json': 0, '26834_MYC_587.json': 1, '26834_MYC_635.json': 1, '26835_MYC_592.json': 0, '26836_MYC_570.json': 0, '26838_MYC_574.json': 1, '26838_MYC_578.json': 1, '26839_MYC_593.json': 0, '26839_MYC_624.json': 0, '26841_MYC_595.json': 0, '26841_MYC_608.json': 0, '26842_MYC_573.json': 1, '26842_MYC_586.json': 1, '26843_MYC_612.json': 1, '26843_MYC_614.json': 1, '26844_MYC_609.json': 0, '26845_MYC_565.json': 0, '26845_MYC_625.json': 0, '26846_MYC_571.json': 1, '26846_MYC_623.json': 1, '26847_MYC_568.json': 0, '26847_MYC_630.json': 0, '26848_MYC_584.json': 0, '26848_MYC_594.json': 0, '26849_MYC_598.json': 1, '26849_MYC_619.json': 1, '26850_MYC_576.json': 0, '26850_MYC_620.json': 0, '26851_MYC_589.json': 2, '26851_MYC_596.json': 2, '26853_MYC_579.json': 0, '26853_MYC_597.json': 0, '26857_MYC_561.json': 1, '26858_MYC_601.json': 1, '26858_MYC_606.json': 1, '26859_MYC_572.json': 2, '26859_MYC_627.json': 2}\n"
     ]
    },
    {
     "data": {
      "text/plain": [
       "['/home/amrit/data/proj_data/MLG_project/DLBCL-Morph/training/splits_MYC.dat']"
      ]
     },
     "execution_count": 13,
     "metadata": {},
     "output_type": "execute_result"
    }
   ],
   "source": [
    "NUM_FOLDS = 1\n",
    "TEST_RATIO = 0.2\n",
    "TRAIN_RATIO = 0.8 * 0.7\n",
    "VALID_RATIO = 0.8 * 0.3\n",
    "\n",
    "# if SPLIT_PATH and os.path.exists(SPLIT_PATH):\n",
    "#     splits = joblib.load(SPLIT_PATH)\n",
    "# else:\n",
    "x = np.array(wsi_names)\n",
    "with open(LABELSPATH, 'r') as f:\n",
    "    labels_dict = json.load(f)\n",
    "print(labels_dict)\n",
    "y = np.array([labels_dict[wsi_name+'.json'] for wsi_name in wsi_names])\n",
    "y[np.where(y==-1)] = 0\n",
    "splits = stratified_split(x, y, TRAIN_RATIO, VALID_RATIO, TEST_RATIO, NUM_FOLDS)\n",
    "joblib.dump(splits, SPLIT_PATH)\n"
   ]
  },
  {
   "cell_type": "code",
   "execution_count": 21,
   "metadata": {},
   "outputs": [],
   "source": []
  },
  {
   "cell_type": "code",
   "execution_count": 22,
   "metadata": {},
   "outputs": [
    {
     "name": "stderr",
     "output_type": "stream",
     "text": [
      "|2023-11-21|22:48:57.721| [INFO] EPOCH: 000\n"
     ]
    },
    {
     "name": "stdout",
     "output_type": "stream",
     "text": [
      "SlideGraphArch(\n",
      "  (first_h): Sequential(\n",
      "    (0): Linear(in_features=128, out_features=64, bias=True)\n",
      "    (1): BatchNorm1d(64, eps=1e-05, momentum=0.1, affine=True, track_running_stats=True)\n",
      "    (2): ReLU()\n",
      "  )\n",
      "  (nns): ModuleList(\n",
      "    (0): Sequential(\n",
      "      (0): Linear(in_features=64, out_features=32, bias=True)\n",
      "      (1): BatchNorm1d(32, eps=1e-05, momentum=0.1, affine=True, track_running_stats=True)\n",
      "      (2): ReLU()\n",
      "    )\n",
      "    (1): Sequential(\n",
      "      (0): Linear(in_features=32, out_features=32, bias=True)\n",
      "      (1): BatchNorm1d(32, eps=1e-05, momentum=0.1, affine=True, track_running_stats=True)\n",
      "      (2): ReLU()\n",
      "    )\n",
      "  )\n",
      "  (convs): ModuleList(\n",
      "    (0): GINConv(nn=Sequential(\n",
      "      (0): Linear(in_features=64, out_features=32, bias=True)\n",
      "      (1): BatchNorm1d(32, eps=1e-05, momentum=0.1, affine=True, track_running_stats=True)\n",
      "      (2): ReLU()\n",
      "    ))\n",
      "    (1): GINConv(nn=Sequential(\n",
      "      (0): Linear(in_features=32, out_features=32, bias=True)\n",
      "      (1): BatchNorm1d(32, eps=1e-05, momentum=0.1, affine=True, track_running_stats=True)\n",
      "      (2): ReLU()\n",
      "    ))\n",
      "  )\n",
      "  (linears): ModuleList(\n",
      "    (0): Linear(in_features=64, out_features=3, bias=True)\n",
      "    (1-2): 2 x Linear(in_features=32, out_features=3, bias=True)\n",
      "  )\n",
      ")\n"
     ]
    },
    {
     "name": "stderr",
     "output_type": "stream",
     "text": [
      "  0%|          | 0/5 [00:00<?, ?it/s]"
     ]
    },
    {
     "name": "stderr",
     "output_type": "stream",
     "text": [
      "100%|██████████| 5/5 [00:00<00:00, 14.82it/s]\n",
      "|2023-11-21|22:48:58.061| [INFO] train-EMA-loss: 1.287249\n",
      "|2023-11-21|22:48:58.342| [INFO] infer-train-accuracy: 0.371000\n",
      "|2023-11-21|22:48:58.606| [INFO] infer-valid-A-accuracy: 0.364000\n",
      "|2023-11-21|22:48:58.848| [INFO] infer-valid-B-accuracy: 0.312000\n",
      "|2023-11-21|22:48:59.079| [INFO] EPOCH: 001\n"
     ]
    },
    {
     "name": "stdout",
     "output_type": "stream",
     "text": [
      "best_score {'infer-train-accuracy': 0, 'infer-valid-A-accuracy': 0, 'infer-valid-B-accuracy': 0}\n"
     ]
    },
    {
     "name": "stderr",
     "output_type": "stream",
     "text": [
      "100%|██████████| 5/5 [00:00<00:00, 15.25it/s]\n",
      "|2023-11-21|22:48:59.409| [INFO] train-EMA-loss: 1.125715\n",
      "|2023-11-21|22:48:59.704| [INFO] infer-train-accuracy: 0.382000\n",
      "|2023-11-21|22:48:59.953| [INFO] infer-valid-A-accuracy: 0.364000\n",
      "|2023-11-21|22:49:00.186| [INFO] infer-valid-B-accuracy: 0.344000\n",
      "|2023-11-21|22:49:00.424| [INFO] EPOCH: 002\n"
     ]
    },
    {
     "name": "stdout",
     "output_type": "stream",
     "text": [
      "best_score {'infer-train-accuracy': 0.382, 'infer-valid-A-accuracy': 0.364, 'infer-valid-B-accuracy': 0.344}\n"
     ]
    },
    {
     "name": "stderr",
     "output_type": "stream",
     "text": [
      "100%|██████████| 5/5 [00:00<00:00, 15.64it/s]\n",
      "|2023-11-21|22:49:00.746| [INFO] train-EMA-loss: 1.089106\n",
      "|2023-11-21|22:49:01.029| [INFO] infer-train-accuracy: 0.399000\n",
      "|2023-11-21|22:49:01.270| [INFO] infer-valid-A-accuracy: 0.364000\n",
      "|2023-11-21|22:49:01.511| [INFO] infer-valid-B-accuracy: 0.375000\n",
      "Exception in thread QueueFeederThread:\n",
      "Traceback (most recent call last):\n",
      "  File \"/home/amrit/anaconda3/envs/DL2/lib/python3.10/multiprocessing/queues.py\", line 239, in _feed\n",
      "    reader_close()\n",
      "  File \"/home/amrit/anaconda3/envs/DL2/lib/python3.10/multiprocessing/connection.py\", line 177, in close\n",
      "    self._close()\n",
      "  File \"/home/amrit/anaconda3/envs/DL2/lib/python3.10/multiprocessing/connection.py\", line 361, in _close\n",
      "    _close(self._handle)\n",
      "OSError: [Errno 9] Bad file descriptor\n",
      "\n",
      "During handling of the above exception, another exception occurred:\n",
      "\n",
      "Traceback (most recent call last):\n",
      "  File \"/home/amrit/anaconda3/envs/DL2/lib/python3.10/threading.py\", line 1016, in _bootstrap_inner\n",
      "    self.run()\n",
      "  File \"/home/amrit/anaconda3/envs/DL2/lib/python3.10/threading.py\", line 953, in run\n",
      "    self._target(*self._args, **self._kwargs)\n",
      "  File \"/home/amrit/anaconda3/envs/DL2/lib/python3.10/multiprocessing/queues.py\", line 271, in _feed\n",
      "    queue_sem.release()\n",
      "ValueError: semaphore or lock released too many times\n",
      "|2023-11-21|22:49:17.037| [INFO] EPOCH: 003\n"
     ]
    },
    {
     "name": "stdout",
     "output_type": "stream",
     "text": [
      "best_score {'infer-train-accuracy': 0.399, 'infer-valid-A-accuracy': 0.364, 'infer-valid-B-accuracy': 0.375}\n"
     ]
    },
    {
     "name": "stderr",
     "output_type": "stream",
     "text": [
      "100%|██████████| 5/5 [00:00<00:00, 12.55it/s]\n",
      "|2023-11-21|22:49:17.438| [INFO] train-EMA-loss: 1.022800\n",
      "|2023-11-21|22:49:17.732| [INFO] infer-train-accuracy: 0.433000\n",
      "|2023-11-21|22:49:18.003| [INFO] infer-valid-A-accuracy: 0.364000\n",
      "|2023-11-21|22:49:18.246| [INFO] infer-valid-B-accuracy: 0.422000\n",
      "|2023-11-21|22:49:18.500| [INFO] EPOCH: 004\n"
     ]
    },
    {
     "name": "stdout",
     "output_type": "stream",
     "text": [
      "best_score {'infer-train-accuracy': 0.433, 'infer-valid-A-accuracy': 0.364, 'infer-valid-B-accuracy': 0.422}\n"
     ]
    },
    {
     "name": "stderr",
     "output_type": "stream",
     "text": [
      "100%|██████████| 5/5 [00:00<00:00, 14.23it/s]\n",
      "|2023-11-21|22:49:18.854| [INFO] train-EMA-loss: 1.076862\n",
      "|2023-11-21|22:49:19.168| [INFO] infer-train-accuracy: 0.466000\n",
      "|2023-11-21|22:49:19.412| [INFO] infer-valid-A-accuracy: 0.390000\n",
      "|2023-11-21|22:49:19.664| [INFO] infer-valid-B-accuracy: 0.438000\n",
      "|2023-11-21|22:49:19.922| [INFO] EPOCH: 005\n"
     ]
    },
    {
     "name": "stdout",
     "output_type": "stream",
     "text": [
      "best_score {'infer-train-accuracy': 0.466, 'infer-valid-A-accuracy': 0.39, 'infer-valid-B-accuracy': 0.438}\n"
     ]
    },
    {
     "name": "stderr",
     "output_type": "stream",
     "text": [
      "100%|██████████| 5/5 [00:00<00:00, 13.94it/s]\n",
      "|2023-11-21|22:49:20.283| [INFO] train-EMA-loss: 1.046431\n",
      "|2023-11-21|22:49:20.592| [INFO] infer-train-accuracy: 0.478000\n",
      "|2023-11-21|22:49:20.840| [INFO] infer-valid-A-accuracy: 0.377000\n",
      "|2023-11-21|22:49:21.090| [INFO] infer-valid-B-accuracy: 0.438000\n",
      "|2023-11-21|22:49:21.333| [INFO] EPOCH: 006\n"
     ]
    },
    {
     "name": "stdout",
     "output_type": "stream",
     "text": [
      "best_score {'infer-train-accuracy': 0.478, 'infer-valid-A-accuracy': 0.39, 'infer-valid-B-accuracy': 0.438}\n"
     ]
    },
    {
     "name": "stderr",
     "output_type": "stream",
     "text": [
      "100%|██████████| 5/5 [00:00<00:00, 13.69it/s]\n",
      "|2023-11-21|22:49:21.700| [INFO] train-EMA-loss: 0.961605\n",
      "|2023-11-21|22:49:22.000| [INFO] infer-train-accuracy: 0.472000\n",
      "|2023-11-21|22:49:22.266| [INFO] infer-valid-A-accuracy: 0.338000\n",
      "|2023-11-21|22:49:22.536| [INFO] infer-valid-B-accuracy: 0.438000\n",
      "|2023-11-21|22:49:22.781| [INFO] EPOCH: 007\n"
     ]
    },
    {
     "name": "stdout",
     "output_type": "stream",
     "text": [
      "best_score {'infer-train-accuracy': 0.478, 'infer-valid-A-accuracy': 0.39, 'infer-valid-B-accuracy': 0.438}\n"
     ]
    },
    {
     "name": "stderr",
     "output_type": "stream",
     "text": [
      "100%|██████████| 5/5 [00:00<00:00, 15.48it/s]\n",
      "|2023-11-21|22:49:23.106| [INFO] train-EMA-loss: 1.094200\n",
      "|2023-11-21|22:49:23.416| [INFO] infer-train-accuracy: 0.461000\n",
      "|2023-11-21|22:49:23.678| [INFO] infer-valid-A-accuracy: 0.364000\n",
      "|2023-11-21|22:49:23.921| [INFO] infer-valid-B-accuracy: 0.438000\n",
      "|2023-11-21|22:49:24.175| [INFO] EPOCH: 008\n"
     ]
    },
    {
     "name": "stdout",
     "output_type": "stream",
     "text": [
      "best_score {'infer-train-accuracy': 0.478, 'infer-valid-A-accuracy': 0.39, 'infer-valid-B-accuracy': 0.438}\n"
     ]
    },
    {
     "name": "stderr",
     "output_type": "stream",
     "text": [
      "100%|██████████| 5/5 [00:00<00:00, 15.80it/s]\n",
      "|2023-11-21|22:49:24.494| [INFO] train-EMA-loss: 1.007499\n",
      "|2023-11-21|22:49:24.756| [INFO] infer-train-accuracy: 0.466000\n",
      "|2023-11-21|22:49:25.020| [INFO] infer-valid-A-accuracy: 0.377000\n",
      "|2023-11-21|22:49:25.297| [INFO] infer-valid-B-accuracy: 0.453000\n",
      "|2023-11-21|22:49:25.581| [INFO] EPOCH: 009\n"
     ]
    },
    {
     "name": "stdout",
     "output_type": "stream",
     "text": [
      "best_score {'infer-train-accuracy': 0.478, 'infer-valid-A-accuracy': 0.39, 'infer-valid-B-accuracy': 0.453}\n"
     ]
    },
    {
     "name": "stderr",
     "output_type": "stream",
     "text": [
      "100%|██████████| 5/5 [00:00<00:00, 15.34it/s]\n",
      "|2023-11-21|22:49:25.909| [INFO] train-EMA-loss: 1.042159\n",
      "|2023-11-21|22:49:26.195| [INFO] infer-train-accuracy: 0.461000\n",
      "|2023-11-21|22:49:26.441| [INFO] infer-valid-A-accuracy: 0.416000\n",
      "|2023-11-21|22:49:26.701| [INFO] infer-valid-B-accuracy: 0.438000\n",
      "|2023-11-21|22:49:26.983| [INFO] EPOCH: 010\n"
     ]
    },
    {
     "name": "stdout",
     "output_type": "stream",
     "text": [
      "best_score {'infer-train-accuracy': 0.478, 'infer-valid-A-accuracy': 0.416, 'infer-valid-B-accuracy': 0.453}\n"
     ]
    },
    {
     "name": "stderr",
     "output_type": "stream",
     "text": [
      "100%|██████████| 5/5 [00:00<00:00, 14.85it/s]\n",
      "|2023-11-21|22:49:27.322| [INFO] train-EMA-loss: 0.968092\n",
      "|2023-11-21|22:49:27.589| [INFO] infer-train-accuracy: 0.472000\n",
      "|2023-11-21|22:49:27.825| [INFO] infer-valid-A-accuracy: 0.403000\n",
      "|2023-11-21|22:49:28.079| [INFO] infer-valid-B-accuracy: 0.422000\n",
      "|2023-11-21|22:49:28.357| [INFO] EPOCH: 011\n"
     ]
    },
    {
     "name": "stdout",
     "output_type": "stream",
     "text": [
      "best_score {'infer-train-accuracy': 0.478, 'infer-valid-A-accuracy': 0.416, 'infer-valid-B-accuracy': 0.453}\n"
     ]
    },
    {
     "name": "stderr",
     "output_type": "stream",
     "text": [
      "100%|██████████| 5/5 [00:00<00:00, 15.05it/s]\n",
      "|2023-11-21|22:49:28.691| [INFO] train-EMA-loss: 0.926133\n",
      "|2023-11-21|22:49:28.998| [INFO] infer-train-accuracy: 0.461000\n",
      "|2023-11-21|22:49:29.281| [INFO] infer-valid-A-accuracy: 0.390000\n",
      "|2023-11-21|22:49:29.526| [INFO] infer-valid-B-accuracy: 0.406000\n",
      "|2023-11-21|22:49:29.778| [INFO] EPOCH: 012\n"
     ]
    },
    {
     "name": "stdout",
     "output_type": "stream",
     "text": [
      "best_score {'infer-train-accuracy': 0.478, 'infer-valid-A-accuracy': 0.416, 'infer-valid-B-accuracy': 0.453}\n"
     ]
    },
    {
     "name": "stderr",
     "output_type": "stream",
     "text": [
      "100%|██████████| 5/5 [00:00<00:00, 15.75it/s]\n",
      "|2023-11-21|22:49:30.098| [INFO] train-EMA-loss: 0.959379\n",
      "|2023-11-21|22:49:30.384| [INFO] infer-train-accuracy: 0.449000\n",
      "|2023-11-21|22:49:30.650| [INFO] infer-valid-A-accuracy: 0.377000\n",
      "|2023-11-21|22:49:30.894| [INFO] infer-valid-B-accuracy: 0.469000\n",
      "|2023-11-21|22:49:31.147| [INFO] EPOCH: 013\n"
     ]
    },
    {
     "name": "stdout",
     "output_type": "stream",
     "text": [
      "best_score {'infer-train-accuracy': 0.478, 'infer-valid-A-accuracy': 0.416, 'infer-valid-B-accuracy': 0.469}\n"
     ]
    },
    {
     "name": "stderr",
     "output_type": "stream",
     "text": [
      "100%|██████████| 5/5 [00:00<00:00, 14.32it/s]\n",
      "|2023-11-21|22:49:31.498| [INFO] train-EMA-loss: 0.891400\n",
      "|2023-11-21|22:49:31.790| [INFO] infer-train-accuracy: 0.461000\n",
      "|2023-11-21|22:49:32.096| [INFO] infer-valid-A-accuracy: 0.377000\n",
      "|2023-11-21|22:49:32.343| [INFO] infer-valid-B-accuracy: 0.500000\n",
      "|2023-11-21|22:49:32.586| [INFO] EPOCH: 014\n"
     ]
    },
    {
     "name": "stdout",
     "output_type": "stream",
     "text": [
      "best_score {'infer-train-accuracy': 0.478, 'infer-valid-A-accuracy': 0.416, 'infer-valid-B-accuracy': 0.5}\n"
     ]
    },
    {
     "name": "stderr",
     "output_type": "stream",
     "text": [
      "100%|██████████| 5/5 [00:00<00:00, 14.17it/s]\n",
      "|2023-11-21|22:49:32.941| [INFO] train-EMA-loss: 0.880577\n",
      "|2023-11-21|22:49:33.228| [INFO] infer-train-accuracy: 0.461000\n",
      "|2023-11-21|22:49:33.513| [INFO] infer-valid-A-accuracy: 0.416000\n",
      "|2023-11-21|22:49:33.786| [INFO] infer-valid-B-accuracy: 0.469000\n",
      "|2023-11-21|22:49:34.036| [INFO] EPOCH: 015\n"
     ]
    },
    {
     "name": "stdout",
     "output_type": "stream",
     "text": [
      "best_score {'infer-train-accuracy': 0.478, 'infer-valid-A-accuracy': 0.416, 'infer-valid-B-accuracy': 0.5}\n"
     ]
    },
    {
     "name": "stderr",
     "output_type": "stream",
     "text": [
      "100%|██████████| 5/5 [00:00<00:00, 14.59it/s]\n",
      "|2023-11-21|22:49:34.382| [INFO] train-EMA-loss: 0.986056\n",
      "|2023-11-21|22:49:34.656| [INFO] infer-train-accuracy: 0.483000\n",
      "|2023-11-21|22:49:34.897| [INFO] infer-valid-A-accuracy: 0.390000\n",
      "|2023-11-21|22:49:35.141| [INFO] infer-valid-B-accuracy: 0.469000\n",
      "|2023-11-21|22:49:35.419| [INFO] EPOCH: 016\n"
     ]
    },
    {
     "name": "stdout",
     "output_type": "stream",
     "text": [
      "best_score {'infer-train-accuracy': 0.483, 'infer-valid-A-accuracy': 0.416, 'infer-valid-B-accuracy': 0.5}\n"
     ]
    },
    {
     "name": "stderr",
     "output_type": "stream",
     "text": [
      "100%|██████████| 5/5 [00:00<00:00, 14.83it/s]\n",
      "|2023-11-21|22:49:35.759| [INFO] train-EMA-loss: 1.058319\n",
      "|2023-11-21|22:49:36.039| [INFO] infer-train-accuracy: 0.483000\n",
      "|2023-11-21|22:49:36.291| [INFO] infer-valid-A-accuracy: 0.390000\n",
      "|2023-11-21|22:49:36.531| [INFO] infer-valid-B-accuracy: 0.469000\n",
      "|2023-11-21|22:49:36.791| [INFO] EPOCH: 017\n"
     ]
    },
    {
     "name": "stdout",
     "output_type": "stream",
     "text": [
      "best_score {'infer-train-accuracy': 0.483, 'infer-valid-A-accuracy': 0.416, 'infer-valid-B-accuracy': 0.5}\n"
     ]
    },
    {
     "name": "stderr",
     "output_type": "stream",
     "text": [
      "100%|██████████| 5/5 [00:00<00:00, 15.73it/s]\n",
      "|2023-11-21|22:49:37.111| [INFO] train-EMA-loss: 0.904570\n",
      "|2023-11-21|22:49:37.390| [INFO] infer-train-accuracy: 0.466000\n",
      "|2023-11-21|22:49:37.638| [INFO] infer-valid-A-accuracy: 0.416000\n",
      "|2023-11-21|22:49:37.897| [INFO] infer-valid-B-accuracy: 0.469000\n",
      "|2023-11-21|22:49:38.149| [INFO] EPOCH: 018\n"
     ]
    },
    {
     "name": "stdout",
     "output_type": "stream",
     "text": [
      "best_score {'infer-train-accuracy': 0.483, 'infer-valid-A-accuracy': 0.416, 'infer-valid-B-accuracy': 0.5}\n"
     ]
    },
    {
     "name": "stderr",
     "output_type": "stream",
     "text": [
      "100%|██████████| 5/5 [00:00<00:00, 15.18it/s]\n",
      "|2023-11-21|22:49:38.481| [INFO] train-EMA-loss: 0.930415\n",
      "|2023-11-21|22:49:38.758| [INFO] infer-train-accuracy: 0.494000\n",
      "|2023-11-21|22:49:39.014| [INFO] infer-valid-A-accuracy: 0.416000\n",
      "|2023-11-21|22:49:39.257| [INFO] infer-valid-B-accuracy: 0.453000\n",
      "|2023-11-21|22:49:39.504| [INFO] EPOCH: 019\n"
     ]
    },
    {
     "name": "stdout",
     "output_type": "stream",
     "text": [
      "best_score {'infer-train-accuracy': 0.494, 'infer-valid-A-accuracy': 0.416, 'infer-valid-B-accuracy': 0.5}\n"
     ]
    },
    {
     "name": "stderr",
     "output_type": "stream",
     "text": [
      "100%|██████████| 5/5 [00:00<00:00, 15.71it/s]\n",
      "|2023-11-21|22:49:39.825| [INFO] train-EMA-loss: 0.860453\n",
      "|2023-11-21|22:49:40.086| [INFO] infer-train-accuracy: 0.483000\n",
      "|2023-11-21|22:49:40.327| [INFO] infer-valid-A-accuracy: 0.403000\n",
      "|2023-11-21|22:49:40.572| [INFO] infer-valid-B-accuracy: 0.453000\n",
      "|2023-11-21|22:49:40.820| [INFO] EPOCH: 020\n"
     ]
    },
    {
     "name": "stdout",
     "output_type": "stream",
     "text": [
      "best_score {'infer-train-accuracy': 0.494, 'infer-valid-A-accuracy': 0.416, 'infer-valid-B-accuracy': 0.5}\n"
     ]
    },
    {
     "name": "stderr",
     "output_type": "stream",
     "text": [
      "100%|██████████| 5/5 [00:00<00:00, 15.25it/s]\n",
      "|2023-11-21|22:49:41.150| [INFO] train-EMA-loss: 0.836061\n",
      "|2023-11-21|22:49:41.449| [INFO] infer-train-accuracy: 0.500000\n",
      "|2023-11-21|22:49:41.696| [INFO] infer-valid-A-accuracy: 0.429000\n",
      "|2023-11-21|22:49:41.969| [INFO] infer-valid-B-accuracy: 0.484000\n",
      "|2023-11-21|22:49:42.236| [INFO] EPOCH: 021\n"
     ]
    },
    {
     "name": "stdout",
     "output_type": "stream",
     "text": [
      "best_score {'infer-train-accuracy': 0.5, 'infer-valid-A-accuracy': 0.429, 'infer-valid-B-accuracy': 0.5}\n"
     ]
    },
    {
     "name": "stderr",
     "output_type": "stream",
     "text": [
      "100%|██████████| 5/5 [00:00<00:00, 15.26it/s]\n",
      "|2023-11-21|22:49:42.566| [INFO] train-EMA-loss: 0.905533\n",
      "|2023-11-21|22:49:42.871| [INFO] infer-train-accuracy: 0.478000\n",
      "|2023-11-21|22:49:43.120| [INFO] infer-valid-A-accuracy: 0.377000\n",
      "|2023-11-21|22:49:43.398| [INFO] infer-valid-B-accuracy: 0.516000\n",
      "|2023-11-21|22:49:43.645| [INFO] EPOCH: 022\n"
     ]
    },
    {
     "name": "stdout",
     "output_type": "stream",
     "text": [
      "best_score {'infer-train-accuracy': 0.5, 'infer-valid-A-accuracy': 0.429, 'infer-valid-B-accuracy': 0.516}\n"
     ]
    },
    {
     "name": "stderr",
     "output_type": "stream",
     "text": [
      "100%|██████████| 5/5 [00:00<00:00, 15.64it/s]\n",
      "|2023-11-21|22:49:43.967| [INFO] train-EMA-loss: 0.784417\n",
      "|2023-11-21|22:49:44.267| [INFO] infer-train-accuracy: 0.483000\n",
      "|2023-11-21|22:49:44.521| [INFO] infer-valid-A-accuracy: 0.403000\n",
      "|2023-11-21|22:49:44.768| [INFO] infer-valid-B-accuracy: 0.531000\n",
      "|2023-11-21|22:49:45.018| [INFO] EPOCH: 023\n"
     ]
    },
    {
     "name": "stdout",
     "output_type": "stream",
     "text": [
      "best_score {'infer-train-accuracy': 0.5, 'infer-valid-A-accuracy': 0.429, 'infer-valid-B-accuracy': 0.531}\n"
     ]
    },
    {
     "name": "stderr",
     "output_type": "stream",
     "text": [
      "100%|██████████| 5/5 [00:00<00:00, 14.76it/s]\n",
      "|2023-11-21|22:49:45.359| [INFO] train-EMA-loss: 0.850697\n",
      "|2023-11-21|22:49:45.632| [INFO] infer-train-accuracy: 0.500000\n",
      "|2023-11-21|22:49:45.872| [INFO] infer-valid-A-accuracy: 0.390000\n",
      "|2023-11-21|22:49:46.110| [INFO] infer-valid-B-accuracy: 0.547000\n",
      "|2023-11-21|22:49:46.356| [INFO] EPOCH: 024\n"
     ]
    },
    {
     "name": "stdout",
     "output_type": "stream",
     "text": [
      "best_score {'infer-train-accuracy': 0.5, 'infer-valid-A-accuracy': 0.429, 'infer-valid-B-accuracy': 0.547}\n"
     ]
    },
    {
     "name": "stderr",
     "output_type": "stream",
     "text": [
      "100%|██████████| 5/5 [00:00<00:00, 14.28it/s]\n",
      "|2023-11-21|22:49:46.709| [INFO] train-EMA-loss: 0.864114\n",
      "|2023-11-21|22:49:46.994| [INFO] infer-train-accuracy: 0.483000\n",
      "|2023-11-21|22:49:47.264| [INFO] infer-valid-A-accuracy: 0.403000\n",
      "|2023-11-21|22:49:47.502| [INFO] infer-valid-B-accuracy: 0.547000\n",
      "|2023-11-21|22:49:47.749| [INFO] EPOCH: 025\n"
     ]
    },
    {
     "name": "stdout",
     "output_type": "stream",
     "text": [
      "best_score {'infer-train-accuracy': 0.5, 'infer-valid-A-accuracy': 0.429, 'infer-valid-B-accuracy': 0.547}\n"
     ]
    },
    {
     "name": "stderr",
     "output_type": "stream",
     "text": [
      "100%|██████████| 5/5 [00:00<00:00, 15.44it/s]\n",
      "|2023-11-21|22:49:48.075| [INFO] train-EMA-loss: 0.757644\n",
      "|2023-11-21|22:49:48.342| [INFO] infer-train-accuracy: 0.506000\n",
      "|2023-11-21|22:49:48.580| [INFO] infer-valid-A-accuracy: 0.416000\n",
      "|2023-11-21|22:49:48.856| [INFO] infer-valid-B-accuracy: 0.547000\n",
      "|2023-11-21|22:49:49.105| [INFO] EPOCH: 026\n"
     ]
    },
    {
     "name": "stdout",
     "output_type": "stream",
     "text": [
      "best_score {'infer-train-accuracy': 0.506, 'infer-valid-A-accuracy': 0.429, 'infer-valid-B-accuracy': 0.547}\n"
     ]
    },
    {
     "name": "stderr",
     "output_type": "stream",
     "text": [
      "100%|██████████| 5/5 [00:00<00:00, 14.96it/s]\n",
      "|2023-11-21|22:49:49.441| [INFO] train-EMA-loss: 0.780064\n",
      "|2023-11-21|22:49:49.719| [INFO] infer-train-accuracy: 0.517000\n",
      "|2023-11-21|22:49:49.960| [INFO] infer-valid-A-accuracy: 0.416000\n",
      "|2023-11-21|22:49:50.197| [INFO] infer-valid-B-accuracy: 0.547000\n",
      "|2023-11-21|22:49:50.449| [INFO] EPOCH: 027\n"
     ]
    },
    {
     "name": "stdout",
     "output_type": "stream",
     "text": [
      "best_score {'infer-train-accuracy': 0.517, 'infer-valid-A-accuracy': 0.429, 'infer-valid-B-accuracy': 0.547}\n"
     ]
    },
    {
     "name": "stderr",
     "output_type": "stream",
     "text": [
      "100%|██████████| 5/5 [00:00<00:00, 15.48it/s]\n",
      "|2023-11-21|22:49:50.774| [INFO] train-EMA-loss: 0.823947\n",
      "|2023-11-21|22:49:51.042| [INFO] infer-train-accuracy: 0.528000\n",
      "|2023-11-21|22:49:51.285| [INFO] infer-valid-A-accuracy: 0.390000\n",
      "|2023-11-21|22:49:51.544| [INFO] infer-valid-B-accuracy: 0.531000\n",
      "|2023-11-21|22:49:51.799| [INFO] EPOCH: 028\n"
     ]
    },
    {
     "name": "stdout",
     "output_type": "stream",
     "text": [
      "best_score {'infer-train-accuracy': 0.528, 'infer-valid-A-accuracy': 0.429, 'infer-valid-B-accuracy': 0.547}\n"
     ]
    },
    {
     "name": "stderr",
     "output_type": "stream",
     "text": [
      "100%|██████████| 5/5 [00:00<00:00, 15.53it/s]\n",
      "|2023-11-21|22:49:52.124| [INFO] train-EMA-loss: 0.931930\n",
      "|2023-11-21|22:49:52.421| [INFO] infer-train-accuracy: 0.517000\n",
      "|2023-11-21|22:49:52.679| [INFO] infer-valid-A-accuracy: 0.390000\n",
      "|2023-11-21|22:49:52.929| [INFO] infer-valid-B-accuracy: 0.547000\n",
      "|2023-11-21|22:49:53.176| [INFO] EPOCH: 029\n"
     ]
    },
    {
     "name": "stdout",
     "output_type": "stream",
     "text": [
      "best_score {'infer-train-accuracy': 0.528, 'infer-valid-A-accuracy': 0.429, 'infer-valid-B-accuracy': 0.547}\n"
     ]
    },
    {
     "name": "stderr",
     "output_type": "stream",
     "text": [
      "100%|██████████| 5/5 [00:00<00:00, 15.56it/s]\n",
      "|2023-11-21|22:49:53.500| [INFO] train-EMA-loss: 0.803501\n",
      "|2023-11-21|22:49:53.784| [INFO] infer-train-accuracy: 0.455000\n",
      "|2023-11-21|22:49:54.023| [INFO] infer-valid-A-accuracy: 0.364000\n",
      "|2023-11-21|22:49:54.256| [INFO] infer-valid-B-accuracy: 0.578000\n",
      "|2023-11-21|22:49:54.514| [INFO] EPOCH: 030\n"
     ]
    },
    {
     "name": "stdout",
     "output_type": "stream",
     "text": [
      "best_score {'infer-train-accuracy': 0.528, 'infer-valid-A-accuracy': 0.429, 'infer-valid-B-accuracy': 0.578}\n"
     ]
    },
    {
     "name": "stderr",
     "output_type": "stream",
     "text": [
      "100%|██████████| 5/5 [00:00<00:00, 14.94it/s]\n",
      "|2023-11-21|22:49:54.853| [INFO] train-EMA-loss: 0.794323\n",
      "|2023-11-21|22:49:55.141| [INFO] infer-train-accuracy: 0.416000\n",
      "|2023-11-21|22:49:55.385| [INFO] infer-valid-A-accuracy: 0.364000\n",
      "|2023-11-21|22:49:55.639| [INFO] infer-valid-B-accuracy: 0.516000\n",
      "|2023-11-21|22:49:55.941| [INFO] EPOCH: 031\n"
     ]
    },
    {
     "name": "stdout",
     "output_type": "stream",
     "text": [
      "best_score {'infer-train-accuracy': 0.528, 'infer-valid-A-accuracy': 0.429, 'infer-valid-B-accuracy': 0.578}\n"
     ]
    },
    {
     "name": "stderr",
     "output_type": "stream",
     "text": [
      "100%|██████████| 5/5 [00:00<00:00, 15.19it/s]\n",
      "|2023-11-21|22:49:56.273| [INFO] train-EMA-loss: 0.844709\n",
      "|2023-11-21|22:49:56.546| [INFO] infer-train-accuracy: 0.416000\n",
      "|2023-11-21|22:49:56.790| [INFO] infer-valid-A-accuracy: 0.338000\n",
      "|2023-11-21|22:49:57.029| [INFO] infer-valid-B-accuracy: 0.516000\n",
      "|2023-11-21|22:49:57.285| [INFO] EPOCH: 032\n"
     ]
    },
    {
     "name": "stdout",
     "output_type": "stream",
     "text": [
      "best_score {'infer-train-accuracy': 0.528, 'infer-valid-A-accuracy': 0.429, 'infer-valid-B-accuracy': 0.578}\n"
     ]
    },
    {
     "name": "stderr",
     "output_type": "stream",
     "text": [
      "100%|██████████| 5/5 [00:00<00:00, 15.21it/s]\n",
      "|2023-11-21|22:49:57.616| [INFO] train-EMA-loss: 0.794011\n",
      "|2023-11-21|22:49:57.894| [INFO] infer-train-accuracy: 0.438000\n",
      "|2023-11-21|22:49:58.151| [INFO] infer-valid-A-accuracy: 0.351000\n",
      "|2023-11-21|22:49:58.392| [INFO] infer-valid-B-accuracy: 0.484000\n",
      "|2023-11-21|22:49:58.644| [INFO] EPOCH: 033\n"
     ]
    },
    {
     "name": "stdout",
     "output_type": "stream",
     "text": [
      "best_score {'infer-train-accuracy': 0.528, 'infer-valid-A-accuracy': 0.429, 'infer-valid-B-accuracy': 0.578}\n"
     ]
    },
    {
     "name": "stderr",
     "output_type": "stream",
     "text": [
      "100%|██████████| 5/5 [00:00<00:00, 15.85it/s]\n",
      "|2023-11-21|22:49:58.961| [INFO] train-EMA-loss: 0.777624\n",
      "|2023-11-21|22:49:59.252| [INFO] infer-train-accuracy: 0.433000\n",
      "|2023-11-21|22:49:59.527| [INFO] infer-valid-A-accuracy: 0.338000\n",
      "|2023-11-21|22:49:59.790| [INFO] infer-valid-B-accuracy: 0.484000\n",
      "|2023-11-21|22:50:00.044| [INFO] EPOCH: 034\n"
     ]
    },
    {
     "name": "stdout",
     "output_type": "stream",
     "text": [
      "best_score {'infer-train-accuracy': 0.528, 'infer-valid-A-accuracy': 0.429, 'infer-valid-B-accuracy': 0.578}\n"
     ]
    },
    {
     "name": "stderr",
     "output_type": "stream",
     "text": [
      "100%|██████████| 5/5 [00:00<00:00, 15.43it/s]\n",
      "|2023-11-21|22:50:00.370| [INFO] train-EMA-loss: 0.883793\n",
      "|2023-11-21|22:50:00.654| [INFO] infer-train-accuracy: 0.483000\n",
      "|2023-11-21|22:50:00.918| [INFO] infer-valid-A-accuracy: 0.377000\n",
      "|2023-11-21|22:50:01.180| [INFO] infer-valid-B-accuracy: 0.469000\n",
      "|2023-11-21|22:50:01.441| [INFO] EPOCH: 035\n"
     ]
    },
    {
     "name": "stdout",
     "output_type": "stream",
     "text": [
      "best_score {'infer-train-accuracy': 0.528, 'infer-valid-A-accuracy': 0.429, 'infer-valid-B-accuracy': 0.578}\n"
     ]
    },
    {
     "name": "stderr",
     "output_type": "stream",
     "text": [
      "100%|██████████| 5/5 [00:00<00:00, 15.49it/s]\n",
      "|2023-11-21|22:50:01.767| [INFO] train-EMA-loss: 0.854918\n",
      "|2023-11-21|22:50:02.040| [INFO] infer-train-accuracy: 0.494000\n",
      "|2023-11-21|22:50:02.286| [INFO] infer-valid-A-accuracy: 0.416000\n",
      "|2023-11-21|22:50:02.541| [INFO] infer-valid-B-accuracy: 0.547000\n",
      "|2023-11-21|22:50:02.800| [INFO] EPOCH: 036\n"
     ]
    },
    {
     "name": "stdout",
     "output_type": "stream",
     "text": [
      "best_score {'infer-train-accuracy': 0.528, 'infer-valid-A-accuracy': 0.429, 'infer-valid-B-accuracy': 0.578}\n"
     ]
    },
    {
     "name": "stderr",
     "output_type": "stream",
     "text": [
      "100%|██████████| 5/5 [00:00<00:00, 15.50it/s]\n",
      "|2023-11-21|22:50:03.125| [INFO] train-EMA-loss: 0.750310\n",
      "|2023-11-21|22:50:03.420| [INFO] infer-train-accuracy: 0.483000\n",
      "|2023-11-21|22:50:03.669| [INFO] infer-valid-A-accuracy: 0.377000\n",
      "|2023-11-21|22:50:03.910| [INFO] infer-valid-B-accuracy: 0.516000\n",
      "|2023-11-21|22:50:04.169| [INFO] EPOCH: 037\n"
     ]
    },
    {
     "name": "stdout",
     "output_type": "stream",
     "text": [
      "best_score {'infer-train-accuracy': 0.528, 'infer-valid-A-accuracy': 0.429, 'infer-valid-B-accuracy': 0.578}\n"
     ]
    },
    {
     "name": "stderr",
     "output_type": "stream",
     "text": [
      "100%|██████████| 5/5 [00:00<00:00, 15.61it/s]\n",
      "|2023-11-21|22:50:04.492| [INFO] train-EMA-loss: 0.722216\n",
      "|2023-11-21|22:50:04.776| [INFO] infer-train-accuracy: 0.472000\n",
      "|2023-11-21|22:50:05.019| [INFO] infer-valid-A-accuracy: 0.364000\n",
      "|2023-11-21|22:50:05.270| [INFO] infer-valid-B-accuracy: 0.469000\n",
      "|2023-11-21|22:50:05.528| [INFO] EPOCH: 038\n"
     ]
    },
    {
     "name": "stdout",
     "output_type": "stream",
     "text": [
      "best_score {'infer-train-accuracy': 0.528, 'infer-valid-A-accuracy': 0.429, 'infer-valid-B-accuracy': 0.578}\n"
     ]
    },
    {
     "name": "stderr",
     "output_type": "stream",
     "text": [
      "100%|██████████| 5/5 [00:00<00:00, 15.29it/s]\n",
      "|2023-11-21|22:50:05.858| [INFO] train-EMA-loss: 0.748449\n",
      "|2023-11-21|22:50:06.172| [INFO] infer-train-accuracy: 0.506000\n",
      "|2023-11-21|22:50:06.419| [INFO] infer-valid-A-accuracy: 0.416000\n",
      "|2023-11-21|22:50:06.662| [INFO] infer-valid-B-accuracy: 0.547000\n",
      "|2023-11-21|22:50:06.925| [INFO] EPOCH: 039\n"
     ]
    },
    {
     "name": "stdout",
     "output_type": "stream",
     "text": [
      "best_score {'infer-train-accuracy': 0.528, 'infer-valid-A-accuracy': 0.429, 'infer-valid-B-accuracy': 0.578}\n"
     ]
    },
    {
     "name": "stderr",
     "output_type": "stream",
     "text": [
      "100%|██████████| 5/5 [00:00<00:00, 15.74it/s]\n",
      "|2023-11-21|22:50:07.245| [INFO] train-EMA-loss: 0.814842\n",
      "|2023-11-21|22:50:07.547| [INFO] infer-train-accuracy: 0.534000\n",
      "|2023-11-21|22:50:07.819| [INFO] infer-valid-A-accuracy: 0.377000\n",
      "|2023-11-21|22:50:08.078| [INFO] infer-valid-B-accuracy: 0.547000\n",
      "|2023-11-21|22:50:08.349| [INFO] EPOCH: 040\n"
     ]
    },
    {
     "name": "stdout",
     "output_type": "stream",
     "text": [
      "best_score {'infer-train-accuracy': 0.534, 'infer-valid-A-accuracy': 0.429, 'infer-valid-B-accuracy': 0.578}\n"
     ]
    },
    {
     "name": "stderr",
     "output_type": "stream",
     "text": [
      "100%|██████████| 5/5 [00:00<00:00, 14.27it/s]\n",
      "|2023-11-21|22:50:08.702| [INFO] train-EMA-loss: 0.703575\n",
      "|2023-11-21|22:50:08.989| [INFO] infer-train-accuracy: 0.534000\n",
      "|2023-11-21|22:50:09.266| [INFO] infer-valid-A-accuracy: 0.416000\n",
      "|2023-11-21|22:50:09.529| [INFO] infer-valid-B-accuracy: 0.562000\n",
      "|2023-11-21|22:50:09.803| [INFO] EPOCH: 041\n"
     ]
    },
    {
     "name": "stdout",
     "output_type": "stream",
     "text": [
      "best_score {'infer-train-accuracy': 0.534, 'infer-valid-A-accuracy': 0.429, 'infer-valid-B-accuracy': 0.578}\n"
     ]
    },
    {
     "name": "stderr",
     "output_type": "stream",
     "text": [
      "100%|██████████| 5/5 [00:00<00:00, 14.54it/s]\n",
      "|2023-11-21|22:50:10.149| [INFO] train-EMA-loss: 0.764203\n",
      "|2023-11-21|22:50:10.445| [INFO] infer-train-accuracy: 0.517000\n",
      "|2023-11-21|22:50:10.702| [INFO] infer-valid-A-accuracy: 0.416000\n",
      "|2023-11-21|22:50:10.956| [INFO] infer-valid-B-accuracy: 0.484000\n",
      "|2023-11-21|22:50:11.227| [INFO] EPOCH: 042\n"
     ]
    },
    {
     "name": "stdout",
     "output_type": "stream",
     "text": [
      "best_score {'infer-train-accuracy': 0.534, 'infer-valid-A-accuracy': 0.429, 'infer-valid-B-accuracy': 0.578}\n"
     ]
    },
    {
     "name": "stderr",
     "output_type": "stream",
     "text": [
      "100%|██████████| 5/5 [00:00<00:00, 15.45it/s]\n",
      "|2023-11-21|22:50:11.553| [INFO] train-EMA-loss: 0.658080\n",
      "|2023-11-21|22:50:11.853| [INFO] infer-train-accuracy: 0.528000\n",
      "|2023-11-21|22:50:12.125| [INFO] infer-valid-A-accuracy: 0.429000\n",
      "|2023-11-21|22:50:12.381| [INFO] infer-valid-B-accuracy: 0.516000\n",
      "|2023-11-21|22:50:12.652| [INFO] EPOCH: 043\n"
     ]
    },
    {
     "name": "stdout",
     "output_type": "stream",
     "text": [
      "best_score {'infer-train-accuracy': 0.534, 'infer-valid-A-accuracy': 0.429, 'infer-valid-B-accuracy': 0.578}\n"
     ]
    },
    {
     "name": "stderr",
     "output_type": "stream",
     "text": [
      "100%|██████████| 5/5 [00:00<00:00, 14.64it/s]\n",
      "|2023-11-21|22:50:12.995| [INFO] train-EMA-loss: 0.712190\n",
      "|2023-11-21|22:50:13.312| [INFO] infer-train-accuracy: 0.528000\n",
      "|2023-11-21|22:50:13.586| [INFO] infer-valid-A-accuracy: 0.377000\n",
      "|2023-11-21|22:50:13.842| [INFO] infer-valid-B-accuracy: 0.500000\n",
      "|2023-11-21|22:50:14.104| [INFO] EPOCH: 044\n"
     ]
    },
    {
     "name": "stdout",
     "output_type": "stream",
     "text": [
      "best_score {'infer-train-accuracy': 0.534, 'infer-valid-A-accuracy': 0.429, 'infer-valid-B-accuracy': 0.578}\n"
     ]
    },
    {
     "name": "stderr",
     "output_type": "stream",
     "text": [
      "100%|██████████| 5/5 [00:00<00:00, 14.80it/s]\n",
      "|2023-11-21|22:50:14.444| [INFO] train-EMA-loss: 0.673459\n",
      "|2023-11-21|22:50:14.743| [INFO] infer-train-accuracy: 0.500000\n",
      "|2023-11-21|22:50:15.027| [INFO] infer-valid-A-accuracy: 0.325000\n",
      "|2023-11-21|22:50:15.297| [INFO] infer-valid-B-accuracy: 0.469000\n",
      "|2023-11-21|22:50:15.561| [INFO] EPOCH: 045\n"
     ]
    },
    {
     "name": "stdout",
     "output_type": "stream",
     "text": [
      "best_score {'infer-train-accuracy': 0.534, 'infer-valid-A-accuracy': 0.429, 'infer-valid-B-accuracy': 0.578}\n"
     ]
    },
    {
     "name": "stderr",
     "output_type": "stream",
     "text": [
      "100%|██████████| 5/5 [00:00<00:00, 13.62it/s]\n",
      "|2023-11-21|22:50:15.930| [INFO] train-EMA-loss: 0.774346\n",
      "|2023-11-21|22:50:16.254| [INFO] infer-train-accuracy: 0.511000\n",
      "|2023-11-21|22:50:16.512| [INFO] infer-valid-A-accuracy: 0.390000\n",
      "|2023-11-21|22:50:16.766| [INFO] infer-valid-B-accuracy: 0.516000\n",
      "|2023-11-21|22:50:17.021| [INFO] EPOCH: 046\n"
     ]
    },
    {
     "name": "stdout",
     "output_type": "stream",
     "text": [
      "best_score {'infer-train-accuracy': 0.534, 'infer-valid-A-accuracy': 0.429, 'infer-valid-B-accuracy': 0.578}\n"
     ]
    },
    {
     "name": "stderr",
     "output_type": "stream",
     "text": [
      "100%|██████████| 5/5 [00:00<00:00, 15.21it/s]\n",
      "|2023-11-21|22:50:17.352| [INFO] train-EMA-loss: 0.573583\n",
      "|2023-11-21|22:50:17.655| [INFO] infer-train-accuracy: 0.528000\n",
      "|2023-11-21|22:50:17.944| [INFO] infer-valid-A-accuracy: 0.377000\n",
      "|2023-11-21|22:50:18.287| [INFO] infer-valid-B-accuracy: 0.500000\n",
      "|2023-11-21|22:50:18.551| [INFO] EPOCH: 047\n"
     ]
    },
    {
     "name": "stdout",
     "output_type": "stream",
     "text": [
      "best_score {'infer-train-accuracy': 0.534, 'infer-valid-A-accuracy': 0.429, 'infer-valid-B-accuracy': 0.578}\n"
     ]
    },
    {
     "name": "stderr",
     "output_type": "stream",
     "text": [
      "100%|██████████| 5/5 [00:00<00:00, 14.73it/s]\n",
      "|2023-11-21|22:50:18.894| [INFO] train-EMA-loss: 0.746716\n",
      "|2023-11-21|22:50:19.182| [INFO] infer-train-accuracy: 0.562000\n",
      "|2023-11-21|22:50:19.440| [INFO] infer-valid-A-accuracy: 0.390000\n",
      "|2023-11-21|22:50:19.717| [INFO] infer-valid-B-accuracy: 0.516000\n",
      "|2023-11-21|22:50:19.982| [INFO] EPOCH: 048\n"
     ]
    },
    {
     "name": "stdout",
     "output_type": "stream",
     "text": [
      "best_score {'infer-train-accuracy': 0.562, 'infer-valid-A-accuracy': 0.429, 'infer-valid-B-accuracy': 0.578}\n"
     ]
    },
    {
     "name": "stderr",
     "output_type": "stream",
     "text": [
      "100%|██████████| 5/5 [00:00<00:00, 15.12it/s]\n",
      "|2023-11-21|22:50:20.316| [INFO] train-EMA-loss: 0.559432\n",
      "|2023-11-21|22:50:20.621| [INFO] infer-train-accuracy: 0.539000\n",
      "|2023-11-21|22:50:20.884| [INFO] infer-valid-A-accuracy: 0.416000\n",
      "|2023-11-21|22:50:21.154| [INFO] infer-valid-B-accuracy: 0.500000\n",
      "|2023-11-21|22:50:21.416| [INFO] EPOCH: 049\n"
     ]
    },
    {
     "name": "stdout",
     "output_type": "stream",
     "text": [
      "best_score {'infer-train-accuracy': 0.562, 'infer-valid-A-accuracy': 0.429, 'infer-valid-B-accuracy': 0.578}\n"
     ]
    },
    {
     "name": "stderr",
     "output_type": "stream",
     "text": [
      "100%|██████████| 5/5 [00:00<00:00, 13.06it/s]\n",
      "|2023-11-21|22:50:21.801| [INFO] train-EMA-loss: 0.689153\n",
      "|2023-11-21|22:50:22.117| [INFO] infer-train-accuracy: 0.511000\n",
      "|2023-11-21|22:50:22.403| [INFO] infer-valid-A-accuracy: 0.377000\n",
      "|2023-11-21|22:50:22.652| [INFO] infer-valid-B-accuracy: 0.484000\n",
      "|2023-11-21|22:50:22.911| [INFO] EPOCH: 050\n"
     ]
    },
    {
     "name": "stdout",
     "output_type": "stream",
     "text": [
      "best_score {'infer-train-accuracy': 0.562, 'infer-valid-A-accuracy': 0.429, 'infer-valid-B-accuracy': 0.578}\n"
     ]
    },
    {
     "name": "stderr",
     "output_type": "stream",
     "text": [
      "100%|██████████| 5/5 [00:00<00:00, 15.53it/s]\n",
      "|2023-11-21|22:50:23.235| [INFO] train-EMA-loss: 0.581192\n",
      "|2023-11-21|22:50:23.539| [INFO] infer-train-accuracy: 0.528000\n",
      "|2023-11-21|22:50:23.794| [INFO] infer-valid-A-accuracy: 0.364000\n",
      "|2023-11-21|22:50:24.075| [INFO] infer-valid-B-accuracy: 0.516000\n",
      "|2023-11-21|22:50:24.338| [INFO] EPOCH: 051\n"
     ]
    },
    {
     "name": "stdout",
     "output_type": "stream",
     "text": [
      "best_score {'infer-train-accuracy': 0.562, 'infer-valid-A-accuracy': 0.429, 'infer-valid-B-accuracy': 0.578}\n"
     ]
    },
    {
     "name": "stderr",
     "output_type": "stream",
     "text": [
      "100%|██████████| 5/5 [00:00<00:00, 16.06it/s]\n",
      "|2023-11-21|22:50:24.652| [INFO] train-EMA-loss: 0.581480\n",
      "|2023-11-21|22:50:24.953| [INFO] infer-train-accuracy: 0.539000\n",
      "|2023-11-21|22:50:25.219| [INFO] infer-valid-A-accuracy: 0.390000\n",
      "|2023-11-21|22:50:25.471| [INFO] infer-valid-B-accuracy: 0.531000\n",
      "|2023-11-21|22:50:25.734| [INFO] EPOCH: 052\n"
     ]
    },
    {
     "name": "stdout",
     "output_type": "stream",
     "text": [
      "best_score {'infer-train-accuracy': 0.562, 'infer-valid-A-accuracy': 0.429, 'infer-valid-B-accuracy': 0.578}\n"
     ]
    },
    {
     "name": "stderr",
     "output_type": "stream",
     "text": [
      "100%|██████████| 5/5 [00:00<00:00, 14.79it/s]\n",
      "|2023-11-21|22:50:26.075| [INFO] train-EMA-loss: 0.564177\n",
      "|2023-11-21|22:50:26.389| [INFO] infer-train-accuracy: 0.511000\n",
      "|2023-11-21|22:50:26.662| [INFO] infer-valid-A-accuracy: 0.390000\n",
      "|2023-11-21|22:50:26.940| [INFO] infer-valid-B-accuracy: 0.516000\n",
      "|2023-11-21|22:50:27.204| [INFO] EPOCH: 053\n"
     ]
    },
    {
     "name": "stdout",
     "output_type": "stream",
     "text": [
      "best_score {'infer-train-accuracy': 0.562, 'infer-valid-A-accuracy': 0.429, 'infer-valid-B-accuracy': 0.578}\n"
     ]
    },
    {
     "name": "stderr",
     "output_type": "stream",
     "text": [
      "100%|██████████| 5/5 [00:00<00:00, 14.79it/s]\n",
      "|2023-11-21|22:50:27.544| [INFO] train-EMA-loss: 0.600604\n",
      "|2023-11-21|22:50:27.880| [INFO] infer-train-accuracy: 0.506000\n",
      "|2023-11-21|22:50:28.145| [INFO] infer-valid-A-accuracy: 0.390000\n",
      "|2023-11-21|22:50:28.440| [INFO] infer-valid-B-accuracy: 0.531000\n",
      "|2023-11-21|22:50:28.707| [INFO] EPOCH: 054\n"
     ]
    },
    {
     "name": "stdout",
     "output_type": "stream",
     "text": [
      "best_score {'infer-train-accuracy': 0.562, 'infer-valid-A-accuracy': 0.429, 'infer-valid-B-accuracy': 0.578}\n"
     ]
    },
    {
     "name": "stderr",
     "output_type": "stream",
     "text": [
      "100%|██████████| 5/5 [00:00<00:00, 13.96it/s]\n",
      "|2023-11-21|22:50:29.068| [INFO] train-EMA-loss: 0.650988\n",
      "|2023-11-21|22:50:29.358| [INFO] infer-train-accuracy: 0.506000\n",
      "|2023-11-21|22:50:29.642| [INFO] infer-valid-A-accuracy: 0.377000\n",
      "|2023-11-21|22:50:29.899| [INFO] infer-valid-B-accuracy: 0.531000\n",
      "|2023-11-21|22:50:30.173| [INFO] EPOCH: 055\n"
     ]
    },
    {
     "name": "stdout",
     "output_type": "stream",
     "text": [
      "best_score {'infer-train-accuracy': 0.562, 'infer-valid-A-accuracy': 0.429, 'infer-valid-B-accuracy': 0.578}\n"
     ]
    },
    {
     "name": "stderr",
     "output_type": "stream",
     "text": [
      "100%|██████████| 5/5 [00:00<00:00, 15.40it/s]\n",
      "|2023-11-21|22:50:30.500| [INFO] train-EMA-loss: 0.562544\n",
      "|2023-11-21|22:50:30.806| [INFO] infer-train-accuracy: 0.511000\n",
      "|2023-11-21|22:50:31.071| [INFO] infer-valid-A-accuracy: 0.377000\n",
      "|2023-11-21|22:50:31.337| [INFO] infer-valid-B-accuracy: 0.516000\n",
      "|2023-11-21|22:50:31.599| [INFO] EPOCH: 056\n"
     ]
    },
    {
     "name": "stdout",
     "output_type": "stream",
     "text": [
      "best_score {'infer-train-accuracy': 0.562, 'infer-valid-A-accuracy': 0.429, 'infer-valid-B-accuracy': 0.578}\n"
     ]
    },
    {
     "name": "stderr",
     "output_type": "stream",
     "text": [
      "100%|██████████| 5/5 [00:00<00:00, 14.68it/s]\n",
      "|2023-11-21|22:50:31.942| [INFO] train-EMA-loss: 0.752059\n",
      "|2023-11-21|22:50:32.263| [INFO] infer-train-accuracy: 0.551000\n",
      "|2023-11-21|22:50:32.560| [INFO] infer-valid-A-accuracy: 0.390000\n",
      "|2023-11-21|22:50:32.851| [INFO] infer-valid-B-accuracy: 0.547000\n",
      "|2023-11-21|22:50:33.118| [INFO] EPOCH: 057\n"
     ]
    },
    {
     "name": "stdout",
     "output_type": "stream",
     "text": [
      "best_score {'infer-train-accuracy': 0.562, 'infer-valid-A-accuracy': 0.429, 'infer-valid-B-accuracy': 0.578}\n"
     ]
    },
    {
     "name": "stderr",
     "output_type": "stream",
     "text": [
      "100%|██████████| 5/5 [00:00<00:00, 15.06it/s]\n",
      "|2023-11-21|22:50:33.452| [INFO] train-EMA-loss: 0.481915\n",
      "|2023-11-21|22:50:33.751| [INFO] infer-train-accuracy: 0.556000\n",
      "|2023-11-21|22:50:34.004| [INFO] infer-valid-A-accuracy: 0.390000\n",
      "|2023-11-21|22:50:34.274| [INFO] infer-valid-B-accuracy: 0.516000\n",
      "|2023-11-21|22:50:34.533| [INFO] EPOCH: 058\n"
     ]
    },
    {
     "name": "stdout",
     "output_type": "stream",
     "text": [
      "best_score {'infer-train-accuracy': 0.562, 'infer-valid-A-accuracy': 0.429, 'infer-valid-B-accuracy': 0.578}\n"
     ]
    },
    {
     "name": "stderr",
     "output_type": "stream",
     "text": [
      "100%|██████████| 5/5 [00:00<00:00, 15.86it/s]\n",
      "|2023-11-21|22:50:34.850| [INFO] train-EMA-loss: 0.611259\n",
      "|2023-11-21|22:50:35.616| [INFO] infer-train-accuracy: 0.534000\n",
      "|2023-11-21|22:50:35.872| [INFO] infer-valid-A-accuracy: 0.403000\n",
      "|2023-11-21|22:50:36.111| [INFO] infer-valid-B-accuracy: 0.562000\n",
      "|2023-11-21|22:50:36.374| [INFO] EPOCH: 059\n"
     ]
    },
    {
     "name": "stdout",
     "output_type": "stream",
     "text": [
      "best_score {'infer-train-accuracy': 0.562, 'infer-valid-A-accuracy': 0.429, 'infer-valid-B-accuracy': 0.578}\n"
     ]
    },
    {
     "name": "stderr",
     "output_type": "stream",
     "text": [
      "100%|██████████| 5/5 [00:00<00:00, 15.17it/s]\n",
      "|2023-11-21|22:50:36.706| [INFO] train-EMA-loss: 0.514122\n",
      "|2023-11-21|22:50:36.984| [INFO] infer-train-accuracy: 0.556000\n",
      "|2023-11-21|22:50:37.236| [INFO] infer-valid-A-accuracy: 0.390000\n",
      "|2023-11-21|22:50:37.487| [INFO] infer-valid-B-accuracy: 0.547000\n",
      "|2023-11-21|22:50:37.746| [INFO] EPOCH: 060\n"
     ]
    },
    {
     "name": "stdout",
     "output_type": "stream",
     "text": [
      "best_score {'infer-train-accuracy': 0.562, 'infer-valid-A-accuracy': 0.429, 'infer-valid-B-accuracy': 0.578}\n"
     ]
    },
    {
     "name": "stderr",
     "output_type": "stream",
     "text": [
      "100%|██████████| 5/5 [00:00<00:00, 15.72it/s]\n",
      "|2023-11-21|22:50:38.067| [INFO] train-EMA-loss: 0.534105\n",
      "|2023-11-21|22:50:38.334| [INFO] infer-train-accuracy: 0.551000\n",
      "|2023-11-21|22:50:38.565| [INFO] infer-valid-A-accuracy: 0.364000\n",
      "|2023-11-21|22:50:38.811| [INFO] infer-valid-B-accuracy: 0.547000\n",
      "|2023-11-21|22:50:39.071| [INFO] EPOCH: 061\n"
     ]
    },
    {
     "name": "stdout",
     "output_type": "stream",
     "text": [
      "best_score {'infer-train-accuracy': 0.562, 'infer-valid-A-accuracy': 0.429, 'infer-valid-B-accuracy': 0.578}\n"
     ]
    },
    {
     "name": "stderr",
     "output_type": "stream",
     "text": [
      "100%|██████████| 5/5 [00:00<00:00, 15.52it/s]\n",
      "|2023-11-21|22:50:39.395| [INFO] train-EMA-loss: 0.550127\n",
      "|2023-11-21|22:50:39.661| [INFO] infer-train-accuracy: 0.562000\n",
      "|2023-11-21|22:50:39.901| [INFO] infer-valid-A-accuracy: 0.390000\n",
      "|2023-11-21|22:50:40.164| [INFO] infer-valid-B-accuracy: 0.531000\n",
      "|2023-11-21|22:50:40.428| [INFO] EPOCH: 062\n"
     ]
    },
    {
     "name": "stdout",
     "output_type": "stream",
     "text": [
      "best_score {'infer-train-accuracy': 0.562, 'infer-valid-A-accuracy': 0.429, 'infer-valid-B-accuracy': 0.578}\n"
     ]
    },
    {
     "name": "stderr",
     "output_type": "stream",
     "text": [
      "100%|██████████| 5/5 [00:00<00:00, 15.09it/s]\n",
      "|2023-11-21|22:50:40.761| [INFO] train-EMA-loss: 0.513059\n",
      "|2023-11-21|22:50:41.045| [INFO] infer-train-accuracy: 0.545000\n",
      "|2023-11-21|22:50:41.286| [INFO] infer-valid-A-accuracy: 0.403000\n",
      "|2023-11-21|22:50:41.531| [INFO] infer-valid-B-accuracy: 0.531000\n",
      "|2023-11-21|22:50:41.790| [INFO] EPOCH: 063\n"
     ]
    },
    {
     "name": "stdout",
     "output_type": "stream",
     "text": [
      "best_score {'infer-train-accuracy': 0.562, 'infer-valid-A-accuracy': 0.429, 'infer-valid-B-accuracy': 0.578}\n"
     ]
    },
    {
     "name": "stderr",
     "output_type": "stream",
     "text": [
      "100%|██████████| 5/5 [00:00<00:00, 15.57it/s]\n",
      "|2023-11-21|22:50:42.113| [INFO] train-EMA-loss: 0.591798\n",
      "|2023-11-21|22:50:42.400| [INFO] infer-train-accuracy: 0.517000\n",
      "|2023-11-21|22:50:42.635| [INFO] infer-valid-A-accuracy: 0.403000\n",
      "|2023-11-21|22:50:42.901| [INFO] infer-valid-B-accuracy: 0.516000\n",
      "|2023-11-21|22:50:43.163| [INFO] EPOCH: 064\n"
     ]
    },
    {
     "name": "stdout",
     "output_type": "stream",
     "text": [
      "best_score {'infer-train-accuracy': 0.562, 'infer-valid-A-accuracy': 0.429, 'infer-valid-B-accuracy': 0.578}\n"
     ]
    },
    {
     "name": "stderr",
     "output_type": "stream",
     "text": [
      "100%|██████████| 5/5 [00:00<00:00, 15.69it/s]\n",
      "|2023-11-21|22:50:43.485| [INFO] train-EMA-loss: 0.543974\n",
      "|2023-11-21|22:50:43.762| [INFO] infer-train-accuracy: 0.534000\n",
      "|2023-11-21|22:50:43.989| [INFO] infer-valid-A-accuracy: 0.377000\n",
      "|2023-11-21|22:50:44.224| [INFO] infer-valid-B-accuracy: 0.547000\n",
      "|2023-11-21|22:50:44.492| [INFO] EPOCH: 065\n"
     ]
    },
    {
     "name": "stdout",
     "output_type": "stream",
     "text": [
      "best_score {'infer-train-accuracy': 0.562, 'infer-valid-A-accuracy': 0.429, 'infer-valid-B-accuracy': 0.578}\n"
     ]
    },
    {
     "name": "stderr",
     "output_type": "stream",
     "text": [
      "100%|██████████| 5/5 [00:00<00:00, 16.22it/s]\n",
      "|2023-11-21|22:50:44.803| [INFO] train-EMA-loss: 0.459230\n",
      "|2023-11-21|22:50:45.079| [INFO] infer-train-accuracy: 0.517000\n",
      "|2023-11-21|22:50:45.328| [INFO] infer-valid-A-accuracy: 0.403000\n",
      "|2023-11-21|22:50:45.572| [INFO] infer-valid-B-accuracy: 0.516000\n",
      "|2023-11-21|22:50:45.831| [INFO] EPOCH: 066\n"
     ]
    },
    {
     "name": "stdout",
     "output_type": "stream",
     "text": [
      "best_score {'infer-train-accuracy': 0.562, 'infer-valid-A-accuracy': 0.429, 'infer-valid-B-accuracy': 0.578}\n"
     ]
    },
    {
     "name": "stderr",
     "output_type": "stream",
     "text": [
      "100%|██████████| 5/5 [00:00<00:00, 15.95it/s]\n",
      "|2023-11-21|22:50:46.147| [INFO] train-EMA-loss: 0.441967\n",
      "|2023-11-21|22:50:46.454| [INFO] infer-train-accuracy: 0.556000\n",
      "|2023-11-21|22:50:46.692| [INFO] infer-valid-A-accuracy: 0.377000\n",
      "|2023-11-21|22:50:46.948| [INFO] infer-valid-B-accuracy: 0.516000\n",
      "|2023-11-21|22:50:47.205| [INFO] EPOCH: 067\n"
     ]
    },
    {
     "name": "stdout",
     "output_type": "stream",
     "text": [
      "best_score {'infer-train-accuracy': 0.562, 'infer-valid-A-accuracy': 0.429, 'infer-valid-B-accuracy': 0.578}\n"
     ]
    },
    {
     "name": "stderr",
     "output_type": "stream",
     "text": [
      "100%|██████████| 5/5 [00:00<00:00, 15.26it/s]\n",
      "|2023-11-21|22:50:47.535| [INFO] train-EMA-loss: 0.470846\n",
      "|2023-11-21|22:50:47.832| [INFO] infer-train-accuracy: 0.562000\n",
      "|2023-11-21|22:50:48.076| [INFO] infer-valid-A-accuracy: 0.364000\n",
      "|2023-11-21|22:50:48.328| [INFO] infer-valid-B-accuracy: 0.531000\n",
      "|2023-11-21|22:50:48.592| [INFO] EPOCH: 068\n"
     ]
    },
    {
     "name": "stdout",
     "output_type": "stream",
     "text": [
      "best_score {'infer-train-accuracy': 0.562, 'infer-valid-A-accuracy': 0.429, 'infer-valid-B-accuracy': 0.578}\n"
     ]
    },
    {
     "name": "stderr",
     "output_type": "stream",
     "text": [
      "100%|██████████| 5/5 [00:00<00:00, 15.70it/s]\n",
      "|2023-11-21|22:50:48.912| [INFO] train-EMA-loss: 0.475260\n",
      "|2023-11-21|22:50:49.185| [INFO] infer-train-accuracy: 0.579000\n",
      "|2023-11-21|22:50:49.414| [INFO] infer-valid-A-accuracy: 0.364000\n",
      "|2023-11-21|22:50:49.648| [INFO] infer-valid-B-accuracy: 0.594000\n",
      "|2023-11-21|22:50:49.912| [INFO] EPOCH: 069\n"
     ]
    },
    {
     "name": "stdout",
     "output_type": "stream",
     "text": [
      "best_score {'infer-train-accuracy': 0.579, 'infer-valid-A-accuracy': 0.429, 'infer-valid-B-accuracy': 0.594}\n"
     ]
    },
    {
     "name": "stderr",
     "output_type": "stream",
     "text": [
      "100%|██████████| 5/5 [00:00<00:00, 15.95it/s]\n",
      "|2023-11-21|22:50:50.229| [INFO] train-EMA-loss: 0.379092\n",
      "|2023-11-21|22:50:50.531| [INFO] infer-train-accuracy: 0.596000\n",
      "|2023-11-21|22:50:50.770| [INFO] infer-valid-A-accuracy: 0.390000\n",
      "|2023-11-21|22:50:51.010| [INFO] infer-valid-B-accuracy: 0.500000\n",
      "|2023-11-21|22:50:51.271| [INFO] EPOCH: 070\n"
     ]
    },
    {
     "name": "stdout",
     "output_type": "stream",
     "text": [
      "best_score {'infer-train-accuracy': 0.596, 'infer-valid-A-accuracy': 0.429, 'infer-valid-B-accuracy': 0.594}\n"
     ]
    },
    {
     "name": "stderr",
     "output_type": "stream",
     "text": [
      "100%|██████████| 5/5 [00:00<00:00, 15.79it/s]\n",
      "|2023-11-21|22:50:51.589| [INFO] train-EMA-loss: 0.462299\n",
      "|2023-11-21|22:50:51.852| [INFO] infer-train-accuracy: 0.590000\n",
      "|2023-11-21|22:50:52.103| [INFO] infer-valid-A-accuracy: 0.377000\n",
      "|2023-11-21|22:50:52.350| [INFO] infer-valid-B-accuracy: 0.500000\n",
      "|2023-11-21|22:50:52.616| [INFO] EPOCH: 071\n"
     ]
    },
    {
     "name": "stdout",
     "output_type": "stream",
     "text": [
      "best_score {'infer-train-accuracy': 0.596, 'infer-valid-A-accuracy': 0.429, 'infer-valid-B-accuracy': 0.594}\n"
     ]
    },
    {
     "name": "stderr",
     "output_type": "stream",
     "text": [
      "100%|██████████| 5/5 [00:00<00:00, 15.66it/s]\n",
      "|2023-11-21|22:50:52.937| [INFO] train-EMA-loss: 0.391048\n",
      "|2023-11-21|22:50:53.201| [INFO] infer-train-accuracy: 0.607000\n",
      "|2023-11-21|22:50:53.429| [INFO] infer-valid-A-accuracy: 0.377000\n",
      "|2023-11-21|22:50:53.656| [INFO] infer-valid-B-accuracy: 0.547000\n",
      "|2023-11-21|22:50:53.917| [INFO] EPOCH: 072\n"
     ]
    },
    {
     "name": "stdout",
     "output_type": "stream",
     "text": [
      "best_score {'infer-train-accuracy': 0.607, 'infer-valid-A-accuracy': 0.429, 'infer-valid-B-accuracy': 0.594}\n"
     ]
    },
    {
     "name": "stderr",
     "output_type": "stream",
     "text": [
      "100%|██████████| 5/5 [00:00<00:00, 15.45it/s]\n",
      "|2023-11-21|22:50:54.243| [INFO] train-EMA-loss: 0.452002\n",
      "|2023-11-21|22:50:54.502| [INFO] infer-train-accuracy: 0.590000\n",
      "|2023-11-21|22:50:54.733| [INFO] infer-valid-A-accuracy: 0.377000\n",
      "|2023-11-21|22:50:54.971| [INFO] infer-valid-B-accuracy: 0.531000\n",
      "|2023-11-21|22:50:55.238| [INFO] EPOCH: 073\n"
     ]
    },
    {
     "name": "stdout",
     "output_type": "stream",
     "text": [
      "best_score {'infer-train-accuracy': 0.607, 'infer-valid-A-accuracy': 0.429, 'infer-valid-B-accuracy': 0.594}\n"
     ]
    },
    {
     "name": "stderr",
     "output_type": "stream",
     "text": [
      "100%|██████████| 5/5 [00:00<00:00, 15.05it/s]\n",
      "|2023-11-21|22:50:55.572| [INFO] train-EMA-loss: 0.426827\n",
      "|2023-11-21|22:50:55.864| [INFO] infer-train-accuracy: 0.590000\n",
      "|2023-11-21|22:50:56.093| [INFO] infer-valid-A-accuracy: 0.364000\n",
      "|2023-11-21|22:50:56.370| [INFO] infer-valid-B-accuracy: 0.578000\n",
      "|2023-11-21|22:50:56.634| [INFO] EPOCH: 074\n"
     ]
    },
    {
     "name": "stdout",
     "output_type": "stream",
     "text": [
      "best_score {'infer-train-accuracy': 0.607, 'infer-valid-A-accuracy': 0.429, 'infer-valid-B-accuracy': 0.594}\n"
     ]
    },
    {
     "name": "stderr",
     "output_type": "stream",
     "text": [
      "100%|██████████| 5/5 [00:00<00:00, 16.34it/s]\n",
      "|2023-11-21|22:50:56.942| [INFO] train-EMA-loss: 0.386209\n",
      "|2023-11-21|22:50:57.229| [INFO] infer-train-accuracy: 0.590000\n",
      "|2023-11-21|22:50:57.466| [INFO] infer-valid-A-accuracy: 0.377000\n",
      "|2023-11-21|22:50:57.690| [INFO] infer-valid-B-accuracy: 0.531000\n",
      "|2023-11-21|22:50:57.951| [INFO] EPOCH: 075\n"
     ]
    },
    {
     "name": "stdout",
     "output_type": "stream",
     "text": [
      "best_score {'infer-train-accuracy': 0.607, 'infer-valid-A-accuracy': 0.429, 'infer-valid-B-accuracy': 0.594}\n"
     ]
    },
    {
     "name": "stderr",
     "output_type": "stream",
     "text": [
      "100%|██████████| 5/5 [00:00<00:00, 16.26it/s]\n",
      "|2023-11-21|22:50:58.261| [INFO] train-EMA-loss: 0.503436\n",
      "|2023-11-21|22:50:58.526| [INFO] infer-train-accuracy: 0.624000\n",
      "|2023-11-21|22:50:58.775| [INFO] infer-valid-A-accuracy: 0.390000\n",
      "|2023-11-21|22:50:59.008| [INFO] infer-valid-B-accuracy: 0.500000\n",
      "|2023-11-21|22:50:59.278| [INFO] EPOCH: 076\n"
     ]
    },
    {
     "name": "stdout",
     "output_type": "stream",
     "text": [
      "best_score {'infer-train-accuracy': 0.624, 'infer-valid-A-accuracy': 0.429, 'infer-valid-B-accuracy': 0.594}\n"
     ]
    },
    {
     "name": "stderr",
     "output_type": "stream",
     "text": [
      "100%|██████████| 5/5 [00:00<00:00, 15.71it/s]\n",
      "|2023-11-21|22:50:59.599| [INFO] train-EMA-loss: 0.539814\n",
      "|2023-11-21|22:50:59.854| [INFO] infer-train-accuracy: 0.640000\n",
      "|2023-11-21|22:51:00.089| [INFO] infer-valid-A-accuracy: 0.403000\n",
      "|2023-11-21|22:51:00.358| [INFO] infer-valid-B-accuracy: 0.547000\n",
      "|2023-11-21|22:51:00.653| [INFO] EPOCH: 077\n"
     ]
    },
    {
     "name": "stdout",
     "output_type": "stream",
     "text": [
      "best_score {'infer-train-accuracy': 0.64, 'infer-valid-A-accuracy': 0.429, 'infer-valid-B-accuracy': 0.594}\n"
     ]
    },
    {
     "name": "stderr",
     "output_type": "stream",
     "text": [
      "100%|██████████| 5/5 [00:00<00:00, 16.28it/s]\n",
      "|2023-11-21|22:51:00.962| [INFO] train-EMA-loss: 0.396364\n",
      "|2023-11-21|22:51:01.242| [INFO] infer-train-accuracy: 0.612000\n",
      "|2023-11-21|22:51:01.496| [INFO] infer-valid-A-accuracy: 0.403000\n",
      "|2023-11-21|22:51:01.741| [INFO] infer-valid-B-accuracy: 0.578000\n",
      "|2023-11-21|22:51:02.008| [INFO] EPOCH: 078\n"
     ]
    },
    {
     "name": "stdout",
     "output_type": "stream",
     "text": [
      "best_score {'infer-train-accuracy': 0.64, 'infer-valid-A-accuracy': 0.429, 'infer-valid-B-accuracy': 0.594}\n"
     ]
    },
    {
     "name": "stderr",
     "output_type": "stream",
     "text": [
      "100%|██████████| 5/5 [00:00<00:00, 15.43it/s]\n",
      "|2023-11-21|22:51:02.334| [INFO] train-EMA-loss: 0.366870\n",
      "|2023-11-21|22:51:02.615| [INFO] infer-train-accuracy: 0.596000\n",
      "|2023-11-21|22:51:02.854| [INFO] infer-valid-A-accuracy: 0.377000\n",
      "|2023-11-21|22:51:03.095| [INFO] infer-valid-B-accuracy: 0.484000\n",
      "|2023-11-21|22:51:03.364| [INFO] EPOCH: 079\n"
     ]
    },
    {
     "name": "stdout",
     "output_type": "stream",
     "text": [
      "best_score {'infer-train-accuracy': 0.64, 'infer-valid-A-accuracy': 0.429, 'infer-valid-B-accuracy': 0.594}\n"
     ]
    },
    {
     "name": "stderr",
     "output_type": "stream",
     "text": [
      "100%|██████████| 5/5 [00:00<00:00, 16.31it/s]\n",
      "|2023-11-21|22:51:03.673| [INFO] train-EMA-loss: 0.435576\n",
      "|2023-11-21|22:51:03.949| [INFO] infer-train-accuracy: 0.607000\n",
      "|2023-11-21|22:51:04.200| [INFO] infer-valid-A-accuracy: 0.390000\n",
      "|2023-11-21|22:51:04.485| [INFO] infer-valid-B-accuracy: 0.547000\n",
      "|2023-11-21|22:51:04.754| [INFO] EPOCH: 080\n"
     ]
    },
    {
     "name": "stdout",
     "output_type": "stream",
     "text": [
      "best_score {'infer-train-accuracy': 0.64, 'infer-valid-A-accuracy': 0.429, 'infer-valid-B-accuracy': 0.594}\n"
     ]
    },
    {
     "name": "stderr",
     "output_type": "stream",
     "text": [
      "100%|██████████| 5/5 [00:00<00:00, 15.90it/s]\n",
      "|2023-11-21|22:51:05.071| [INFO] train-EMA-loss: 0.345988\n",
      "|2023-11-21|22:51:05.350| [INFO] infer-train-accuracy: 0.674000\n",
      "|2023-11-21|22:51:05.593| [INFO] infer-valid-A-accuracy: 0.416000\n",
      "|2023-11-21|22:51:05.822| [INFO] infer-valid-B-accuracy: 0.516000\n",
      "|2023-11-21|22:51:06.087| [INFO] EPOCH: 081\n"
     ]
    },
    {
     "name": "stdout",
     "output_type": "stream",
     "text": [
      "best_score {'infer-train-accuracy': 0.674, 'infer-valid-A-accuracy': 0.429, 'infer-valid-B-accuracy': 0.594}\n"
     ]
    },
    {
     "name": "stderr",
     "output_type": "stream",
     "text": [
      "100%|██████████| 5/5 [00:00<00:00, 16.23it/s]\n",
      "|2023-11-21|22:51:06.397| [INFO] train-EMA-loss: 0.364926\n",
      "|2023-11-21|22:51:06.690| [INFO] infer-train-accuracy: 0.702000\n",
      "|2023-11-21|22:51:06.927| [INFO] infer-valid-A-accuracy: 0.403000\n",
      "|2023-11-21|22:51:07.172| [INFO] infer-valid-B-accuracy: 0.516000\n",
      "|2023-11-21|22:51:07.451| [INFO] EPOCH: 082\n"
     ]
    },
    {
     "name": "stdout",
     "output_type": "stream",
     "text": [
      "best_score {'infer-train-accuracy': 0.702, 'infer-valid-A-accuracy': 0.429, 'infer-valid-B-accuracy': 0.594}\n"
     ]
    },
    {
     "name": "stderr",
     "output_type": "stream",
     "text": [
      "100%|██████████| 5/5 [00:00<00:00, 16.38it/s]\n",
      "|2023-11-21|22:51:07.758| [INFO] train-EMA-loss: 0.371483\n",
      "|2023-11-21|22:51:08.034| [INFO] infer-train-accuracy: 0.669000\n",
      "|2023-11-21|22:51:08.288| [INFO] infer-valid-A-accuracy: 0.429000\n",
      "|2023-11-21|22:51:08.517| [INFO] infer-valid-B-accuracy: 0.516000\n",
      "|2023-11-21|22:51:08.789| [INFO] EPOCH: 083\n"
     ]
    },
    {
     "name": "stdout",
     "output_type": "stream",
     "text": [
      "best_score {'infer-train-accuracy': 0.702, 'infer-valid-A-accuracy': 0.429, 'infer-valid-B-accuracy': 0.594}\n"
     ]
    },
    {
     "name": "stderr",
     "output_type": "stream",
     "text": [
      "100%|██████████| 5/5 [00:00<00:00, 16.03it/s]\n",
      "|2023-11-21|22:51:09.103| [INFO] train-EMA-loss: 0.343149\n",
      "|2023-11-21|22:51:09.392| [INFO] infer-train-accuracy: 0.685000\n",
      "|2023-11-21|22:51:09.628| [INFO] infer-valid-A-accuracy: 0.429000\n",
      "|2023-11-21|22:51:09.878| [INFO] infer-valid-B-accuracy: 0.516000\n",
      "|2023-11-21|22:51:10.149| [INFO] EPOCH: 084\n"
     ]
    },
    {
     "name": "stdout",
     "output_type": "stream",
     "text": [
      "best_score {'infer-train-accuracy': 0.702, 'infer-valid-A-accuracy': 0.429, 'infer-valid-B-accuracy': 0.594}\n"
     ]
    },
    {
     "name": "stderr",
     "output_type": "stream",
     "text": [
      "100%|██████████| 5/5 [00:00<00:00, 16.35it/s]\n",
      "|2023-11-21|22:51:10.457| [INFO] train-EMA-loss: 0.331771\n",
      "|2023-11-21|22:51:10.736| [INFO] infer-train-accuracy: 0.607000\n",
      "|2023-11-21|22:51:10.972| [INFO] infer-valid-A-accuracy: 0.364000\n",
      "|2023-11-21|22:51:11.211| [INFO] infer-valid-B-accuracy: 0.516000\n",
      "|2023-11-21|22:51:11.504| [INFO] EPOCH: 085\n"
     ]
    },
    {
     "name": "stdout",
     "output_type": "stream",
     "text": [
      "best_score {'infer-train-accuracy': 0.702, 'infer-valid-A-accuracy': 0.429, 'infer-valid-B-accuracy': 0.594}\n"
     ]
    },
    {
     "name": "stderr",
     "output_type": "stream",
     "text": [
      "100%|██████████| 5/5 [00:00<00:00, 16.11it/s]\n",
      "|2023-11-21|22:51:11.816| [INFO] train-EMA-loss: 0.338799\n",
      "|2023-11-21|22:51:12.112| [INFO] infer-train-accuracy: 0.618000\n",
      "|2023-11-21|22:51:12.355| [INFO] infer-valid-A-accuracy: 0.377000\n",
      "|2023-11-21|22:51:12.650| [INFO] infer-valid-B-accuracy: 0.531000\n",
      "|2023-11-21|22:51:12.931| [INFO] EPOCH: 086\n"
     ]
    },
    {
     "name": "stdout",
     "output_type": "stream",
     "text": [
      "best_score {'infer-train-accuracy': 0.702, 'infer-valid-A-accuracy': 0.429, 'infer-valid-B-accuracy': 0.594}\n"
     ]
    },
    {
     "name": "stderr",
     "output_type": "stream",
     "text": [
      "100%|██████████| 5/5 [00:00<00:00, 15.41it/s]\n",
      "|2023-11-21|22:51:13.258| [INFO] train-EMA-loss: 0.437416\n",
      "|2023-11-21|22:51:13.530| [INFO] infer-train-accuracy: 0.646000\n",
      "|2023-11-21|22:51:13.766| [INFO] infer-valid-A-accuracy: 0.416000\n",
      "|2023-11-21|22:51:14.026| [INFO] infer-valid-B-accuracy: 0.547000\n",
      "|2023-11-21|22:51:14.297| [INFO] EPOCH: 087\n"
     ]
    },
    {
     "name": "stdout",
     "output_type": "stream",
     "text": [
      "best_score {'infer-train-accuracy': 0.702, 'infer-valid-A-accuracy': 0.429, 'infer-valid-B-accuracy': 0.594}\n"
     ]
    },
    {
     "name": "stderr",
     "output_type": "stream",
     "text": [
      "100%|██████████| 5/5 [00:00<00:00, 16.09it/s]\n",
      "|2023-11-21|22:51:14.610| [INFO] train-EMA-loss: 0.364142\n",
      "|2023-11-21|22:51:14.876| [INFO] infer-train-accuracy: 0.652000\n",
      "|2023-11-21|22:51:15.125| [INFO] infer-valid-A-accuracy: 0.442000\n",
      "|2023-11-21|22:51:15.394| [INFO] infer-valid-B-accuracy: 0.547000\n",
      "|2023-11-21|22:51:15.669| [INFO] EPOCH: 088\n"
     ]
    },
    {
     "name": "stdout",
     "output_type": "stream",
     "text": [
      "best_score {'infer-train-accuracy': 0.702, 'infer-valid-A-accuracy': 0.442, 'infer-valid-B-accuracy': 0.594}\n"
     ]
    },
    {
     "name": "stderr",
     "output_type": "stream",
     "text": [
      "100%|██████████| 5/5 [00:00<00:00, 16.32it/s]\n",
      "|2023-11-21|22:51:15.978| [INFO] train-EMA-loss: 0.453168\n",
      "|2023-11-21|22:51:16.256| [INFO] infer-train-accuracy: 0.624000\n",
      "|2023-11-21|22:51:16.496| [INFO] infer-valid-A-accuracy: 0.403000\n",
      "|2023-11-21|22:51:16.736| [INFO] infer-valid-B-accuracy: 0.547000\n",
      "|2023-11-21|22:51:16.997| [INFO] EPOCH: 089\n"
     ]
    },
    {
     "name": "stdout",
     "output_type": "stream",
     "text": [
      "best_score {'infer-train-accuracy': 0.702, 'infer-valid-A-accuracy': 0.442, 'infer-valid-B-accuracy': 0.594}\n"
     ]
    },
    {
     "name": "stderr",
     "output_type": "stream",
     "text": [
      "100%|██████████| 5/5 [00:00<00:00, 16.16it/s]\n",
      "|2023-11-21|22:51:17.308| [INFO] train-EMA-loss: 0.317033\n",
      "|2023-11-21|22:51:17.576| [INFO] infer-train-accuracy: 0.629000\n",
      "|2023-11-21|22:51:17.823| [INFO] infer-valid-A-accuracy: 0.403000\n",
      "|2023-11-21|22:51:18.084| [INFO] infer-valid-B-accuracy: 0.531000\n",
      "|2023-11-21|22:51:18.348| [INFO] EPOCH: 090\n"
     ]
    },
    {
     "name": "stdout",
     "output_type": "stream",
     "text": [
      "best_score {'infer-train-accuracy': 0.702, 'infer-valid-A-accuracy': 0.442, 'infer-valid-B-accuracy': 0.594}\n"
     ]
    },
    {
     "name": "stderr",
     "output_type": "stream",
     "text": [
      "100%|██████████| 5/5 [00:00<00:00, 16.46it/s]\n",
      "|2023-11-21|22:51:18.654| [INFO] train-EMA-loss: 0.387162\n",
      "|2023-11-21|22:51:18.946| [INFO] infer-train-accuracy: 0.629000\n",
      "|2023-11-21|22:51:19.202| [INFO] infer-valid-A-accuracy: 0.455000\n",
      "|2023-11-21|22:51:19.452| [INFO] infer-valid-B-accuracy: 0.547000\n",
      "|2023-11-21|22:51:19.712| [INFO] EPOCH: 091\n"
     ]
    },
    {
     "name": "stdout",
     "output_type": "stream",
     "text": [
      "best_score {'infer-train-accuracy': 0.702, 'infer-valid-A-accuracy': 0.455, 'infer-valid-B-accuracy': 0.594}\n"
     ]
    },
    {
     "name": "stderr",
     "output_type": "stream",
     "text": [
      "100%|██████████| 5/5 [00:00<00:00, 16.36it/s]\n",
      "|2023-11-21|22:51:20.021| [INFO] train-EMA-loss: 0.308109\n",
      "|2023-11-21|22:51:20.291| [INFO] infer-train-accuracy: 0.652000\n",
      "|2023-11-21|22:51:20.535| [INFO] infer-valid-A-accuracy: 0.455000\n",
      "|2023-11-21|22:51:20.786| [INFO] infer-valid-B-accuracy: 0.484000\n",
      "|2023-11-21|22:51:21.047| [INFO] EPOCH: 092\n"
     ]
    },
    {
     "name": "stdout",
     "output_type": "stream",
     "text": [
      "best_score {'infer-train-accuracy': 0.702, 'infer-valid-A-accuracy': 0.455, 'infer-valid-B-accuracy': 0.594}\n"
     ]
    },
    {
     "name": "stderr",
     "output_type": "stream",
     "text": [
      "100%|██████████| 5/5 [00:00<00:00, 15.99it/s]\n",
      "|2023-11-21|22:51:21.363| [INFO] train-EMA-loss: 0.322163\n",
      "|2023-11-21|22:51:21.649| [INFO] infer-train-accuracy: 0.657000\n",
      "|2023-11-21|22:51:21.892| [INFO] infer-valid-A-accuracy: 0.442000\n",
      "|2023-11-21|22:51:22.131| [INFO] infer-valid-B-accuracy: 0.562000\n",
      "|2023-11-21|22:51:22.389| [INFO] EPOCH: 093\n"
     ]
    },
    {
     "name": "stdout",
     "output_type": "stream",
     "text": [
      "best_score {'infer-train-accuracy': 0.702, 'infer-valid-A-accuracy': 0.455, 'infer-valid-B-accuracy': 0.594}\n"
     ]
    },
    {
     "name": "stderr",
     "output_type": "stream",
     "text": [
      "100%|██████████| 5/5 [00:00<00:00, 15.91it/s]\n",
      "|2023-11-21|22:51:22.705| [INFO] train-EMA-loss: 0.312749\n",
      "|2023-11-21|22:51:22.989| [INFO] infer-train-accuracy: 0.674000\n",
      "|2023-11-21|22:51:23.241| [INFO] infer-valid-A-accuracy: 0.455000\n",
      "|2023-11-21|22:51:23.475| [INFO] infer-valid-B-accuracy: 0.578000\n",
      "|2023-11-21|22:51:23.766| [INFO] EPOCH: 094\n"
     ]
    },
    {
     "name": "stdout",
     "output_type": "stream",
     "text": [
      "best_score {'infer-train-accuracy': 0.702, 'infer-valid-A-accuracy': 0.455, 'infer-valid-B-accuracy': 0.594}\n"
     ]
    },
    {
     "name": "stderr",
     "output_type": "stream",
     "text": [
      "100%|██████████| 5/5 [00:00<00:00, 16.08it/s]\n",
      "|2023-11-21|22:51:24.079| [INFO] train-EMA-loss: 0.421097\n",
      "|2023-11-21|22:51:24.376| [INFO] infer-train-accuracy: 0.663000\n",
      "|2023-11-21|22:51:24.625| [INFO] infer-valid-A-accuracy: 0.403000\n",
      "|2023-11-21|22:51:24.856| [INFO] infer-valid-B-accuracy: 0.500000\n",
      "|2023-11-21|22:51:25.118| [INFO] EPOCH: 095\n"
     ]
    },
    {
     "name": "stdout",
     "output_type": "stream",
     "text": [
      "best_score {'infer-train-accuracy': 0.702, 'infer-valid-A-accuracy': 0.455, 'infer-valid-B-accuracy': 0.594}\n"
     ]
    },
    {
     "name": "stderr",
     "output_type": "stream",
     "text": [
      "100%|██████████| 5/5 [00:00<00:00, 16.36it/s]\n",
      "|2023-11-21|22:51:25.426| [INFO] train-EMA-loss: 0.464752\n",
      "|2023-11-21|22:51:25.698| [INFO] infer-train-accuracy: 0.691000\n",
      "|2023-11-21|22:51:25.957| [INFO] infer-valid-A-accuracy: 0.416000\n",
      "|2023-11-21|22:51:26.207| [INFO] infer-valid-B-accuracy: 0.531000\n",
      "|2023-11-21|22:51:26.485| [INFO] EPOCH: 096\n"
     ]
    },
    {
     "name": "stdout",
     "output_type": "stream",
     "text": [
      "best_score {'infer-train-accuracy': 0.702, 'infer-valid-A-accuracy': 0.455, 'infer-valid-B-accuracy': 0.594}\n"
     ]
    },
    {
     "name": "stderr",
     "output_type": "stream",
     "text": [
      "100%|██████████| 5/5 [00:00<00:00, 15.85it/s]\n",
      "|2023-11-21|22:51:26.803| [INFO] train-EMA-loss: 0.461504\n",
      "|2023-11-21|22:51:27.076| [INFO] infer-train-accuracy: 0.607000\n",
      "|2023-11-21|22:51:27.340| [INFO] infer-valid-A-accuracy: 0.429000\n",
      "|2023-11-21|22:51:27.583| [INFO] infer-valid-B-accuracy: 0.531000\n",
      "|2023-11-21|22:51:27.846| [INFO] EPOCH: 097\n"
     ]
    },
    {
     "name": "stdout",
     "output_type": "stream",
     "text": [
      "best_score {'infer-train-accuracy': 0.702, 'infer-valid-A-accuracy': 0.455, 'infer-valid-B-accuracy': 0.594}\n"
     ]
    },
    {
     "name": "stderr",
     "output_type": "stream",
     "text": [
      "100%|██████████| 5/5 [00:00<00:00, 16.67it/s]\n",
      "|2023-11-21|22:51:28.148| [INFO] train-EMA-loss: 0.375741\n",
      "|2023-11-21|22:51:28.436| [INFO] infer-train-accuracy: 0.584000\n",
      "|2023-11-21|22:51:28.692| [INFO] infer-valid-A-accuracy: 0.390000\n",
      "|2023-11-21|22:51:28.949| [INFO] infer-valid-B-accuracy: 0.469000\n",
      "|2023-11-21|22:51:29.211| [INFO] EPOCH: 098\n"
     ]
    },
    {
     "name": "stdout",
     "output_type": "stream",
     "text": [
      "best_score {'infer-train-accuracy': 0.702, 'infer-valid-A-accuracy': 0.455, 'infer-valid-B-accuracy': 0.594}\n"
     ]
    },
    {
     "name": "stderr",
     "output_type": "stream",
     "text": [
      "100%|██████████| 5/5 [00:00<00:00, 16.40it/s]\n",
      "|2023-11-21|22:51:29.518| [INFO] train-EMA-loss: 0.465398\n",
      "|2023-11-21|22:51:29.794| [INFO] infer-train-accuracy: 0.624000\n",
      "|2023-11-21|22:51:30.044| [INFO] infer-valid-A-accuracy: 0.403000\n",
      "|2023-11-21|22:51:30.291| [INFO] infer-valid-B-accuracy: 0.484000\n",
      "|2023-11-21|22:51:30.554| [INFO] EPOCH: 099\n"
     ]
    },
    {
     "name": "stdout",
     "output_type": "stream",
     "text": [
      "best_score {'infer-train-accuracy': 0.702, 'infer-valid-A-accuracy': 0.455, 'infer-valid-B-accuracy': 0.594}\n"
     ]
    },
    {
     "name": "stderr",
     "output_type": "stream",
     "text": [
      "100%|██████████| 5/5 [00:00<00:00, 16.63it/s]\n",
      "|2023-11-21|22:51:30.857| [INFO] train-EMA-loss: 0.285522\n",
      "|2023-11-21|22:51:31.141| [INFO] infer-train-accuracy: 0.629000\n",
      "|2023-11-21|22:51:31.392| [INFO] infer-valid-A-accuracy: 0.390000\n",
      "|2023-11-21|22:51:31.637| [INFO] infer-valid-B-accuracy: 0.516000\n"
     ]
    },
    {
     "name": "stdout",
     "output_type": "stream",
     "text": [
      "best_score {'infer-train-accuracy': 0.702, 'infer-valid-A-accuracy': 0.455, 'infer-valid-B-accuracy': 0.594}\n"
     ]
    }
   ],
   "source": [
    "# # we must define the function after training/loading\n",
    "# def nodes_preproc_func(node_features: np.ndarray) -> np.ndarray:\n",
    "#     \"\"\"Pre-processing function for nodes.\"\"\"\n",
    "#     return node_scaler.transform(node_features)\n",
    "nodes_preproc_func = None\n",
    "\n",
    "\n",
    "splits = joblib.load(SPLIT_PATH)\n",
    "loader_kwargs = {\n",
    "    \"num_workers\": 6,\n",
    "    \"batch_size\": 32,\n",
    "}\n",
    "\n",
    "optim_kwargs = {\n",
    "    \"lr\": 5.0e-4,\n",
    "    \"weight_decay\": 1.0e-4,\n",
    "}\n",
    "\n",
    "NUM_EPOCHS = 100\n",
    "# if not MODEL_DIR.exists() or True:\n",
    "for split_idx, split in enumerate(splits):\n",
    "        new_split = {\n",
    "            \"train\": split[\"train\"],\n",
    "            \"infer-train\": split[\"train\"],\n",
    "            \"infer-valid-A\": split[\"valid\"],\n",
    "            \"infer-valid-B\": split[\"test\"],\n",
    "        }\n",
    "        MODEL_DIR = Path(MODEL_DIR) \n",
    "        split_save_dir = MODEL_DIR / f\"{split_idx:02d}/\"\n",
    "        rm_n_mkdir(split_save_dir)\n",
    "        reset_logging(split_save_dir)\n",
    "        run_once(\n",
    "            new_split,\n",
    "            NUM_EPOCHS,\n",
    "            save_dir=split_save_dir,\n",
    "            arch_kwargs=arch_kwargs,\n",
    "            loader_kwargs=loader_kwargs,\n",
    "            optim_kwargs=optim_kwargs,\n",
    "            on_gpu=ON_GPU,\n",
    "            GRAPH_DIR=GRAPHSDIR\n",
    "        )"
   ]
  },
  {
   "cell_type": "code",
   "execution_count": null,
   "metadata": {},
   "outputs": [],
   "source": []
  },
  {
   "cell_type": "code",
   "execution_count": null,
   "metadata": {},
   "outputs": [],
   "source": []
  }
 ],
 "metadata": {
  "kernelspec": {
   "display_name": "DL2",
   "language": "python",
   "name": "python3"
  },
  "language_info": {
   "codemirror_mode": {
    "name": "ipython",
    "version": 3
   },
   "file_extension": ".py",
   "mimetype": "text/x-python",
   "name": "python",
   "nbconvert_exporter": "python",
   "pygments_lexer": "ipython3",
   "version": "3.10.13"
  }
 },
 "nbformat": 4,
 "nbformat_minor": 2
}
