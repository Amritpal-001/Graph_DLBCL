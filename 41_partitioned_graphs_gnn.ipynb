{
  "cells": [
    {
      "cell_type": "code",
      "execution_count": 15,
      "metadata": {
        "colab": {
          "base_uri": "https://localhost:8080/"
        },
        "id": "TqYRAhLKBjCF",
        "outputId": "9b881216-6ddf-4cd2-a517-55400fa7878c"
      },
      "outputs": [],
      "source": [
        "# !pip install torch-geometric\n",
        "# !pip install torchmetrics"
      ]
    },
    {
      "cell_type": "code",
      "execution_count": 17,
      "metadata": {
        "id": "DUsXrazyA_qA"
      },
      "outputs": [
        {
          "ename": "OSError",
          "evalue": "/home/amrit/anaconda3/envs/DL2/lib/python3.10/site-packages/torchaudio/lib/libtorchaudio.so: undefined symbol: _ZN3c104cuda9SetDeviceEi",
          "output_type": "error",
          "traceback": [
            "\u001b[0;31m---------------------------------------------------------------------------\u001b[0m",
            "\u001b[0;31mOSError\u001b[0m                                   Traceback (most recent call last)",
            "\u001b[1;32m/home/amrit/pipeline/pipeline/projects/CSE8803 MLG/Graph_DLBCL/41_partitioned_graphs_gnn.ipynb Cell 2\u001b[0m line \u001b[0;36m5\n\u001b[1;32m      <a href='vscode-notebook-cell:/home/amrit/pipeline/pipeline/projects/CSE8803%20MLG/Graph_DLBCL/41_partitioned_graphs_gnn.ipynb#W1sZmlsZQ%3D%3D?line=2'>3</a>\u001b[0m \u001b[39mimport\u001b[39;00m \u001b[39mtorch_geometric\u001b[39;00m\n\u001b[1;32m      <a href='vscode-notebook-cell:/home/amrit/pipeline/pipeline/projects/CSE8803%20MLG/Graph_DLBCL/41_partitioned_graphs_gnn.ipynb#W1sZmlsZQ%3D%3D?line=3'>4</a>\u001b[0m \u001b[39mimport\u001b[39;00m \u001b[39mjson\u001b[39;00m\n\u001b[0;32m----> <a href='vscode-notebook-cell:/home/amrit/pipeline/pipeline/projects/CSE8803%20MLG/Graph_DLBCL/41_partitioned_graphs_gnn.ipynb#W1sZmlsZQ%3D%3D?line=4'>5</a>\u001b[0m \u001b[39mimport\u001b[39;00m \u001b[39mtorchmetrics\u001b[39;00m\n\u001b[1;32m      <a href='vscode-notebook-cell:/home/amrit/pipeline/pipeline/projects/CSE8803%20MLG/Graph_DLBCL/41_partitioned_graphs_gnn.ipynb#W1sZmlsZQ%3D%3D?line=5'>6</a>\u001b[0m \u001b[39mimport\u001b[39;00m \u001b[39mtorch\u001b[39;00m\n",
            "File \u001b[0;32m~/anaconda3/envs/DL2/lib/python3.10/site-packages/torchmetrics/__init__.py:22\u001b[0m\n\u001b[1;32m     19\u001b[0m     \u001b[39mif\u001b[39;00m \u001b[39mnot\u001b[39;00m \u001b[39mhasattr\u001b[39m(PIL, \u001b[39m\"\u001b[39m\u001b[39mPILLOW_VERSION\u001b[39m\u001b[39m\"\u001b[39m):\n\u001b[1;32m     20\u001b[0m         PIL\u001b[39m.\u001b[39mPILLOW_VERSION \u001b[39m=\u001b[39m PIL\u001b[39m.\u001b[39m__version__\n\u001b[0;32m---> 22\u001b[0m \u001b[39mfrom\u001b[39;00m \u001b[39mtorchmetrics\u001b[39;00m \u001b[39mimport\u001b[39;00m functional  \u001b[39m# noqa: E402\u001b[39;00m\n\u001b[1;32m     23\u001b[0m \u001b[39mfrom\u001b[39;00m \u001b[39mtorchmetrics\u001b[39;00m\u001b[39m.\u001b[39;00m\u001b[39maggregation\u001b[39;00m \u001b[39mimport\u001b[39;00m (  \u001b[39m# noqa: E402\u001b[39;00m\n\u001b[1;32m     24\u001b[0m     CatMetric,\n\u001b[1;32m     25\u001b[0m     MaxMetric,\n\u001b[0;32m   (...)\u001b[0m\n\u001b[1;32m     30\u001b[0m     SumMetric,\n\u001b[1;32m     31\u001b[0m )\n\u001b[1;32m     32\u001b[0m \u001b[39mfrom\u001b[39;00m \u001b[39mtorchmetrics\u001b[39;00m\u001b[39m.\u001b[39;00m\u001b[39maudio\u001b[39;00m\u001b[39m.\u001b[39;00m\u001b[39m_deprecated\u001b[39;00m \u001b[39mimport\u001b[39;00m _PermutationInvariantTraining \u001b[39mas\u001b[39;00m PermutationInvariantTraining  \u001b[39m# noqa: E402\u001b[39;00m\n",
            "File \u001b[0;32m~/anaconda3/envs/DL2/lib/python3.10/site-packages/torchmetrics/functional/__init__.py:14\u001b[0m\n\u001b[1;32m      1\u001b[0m \u001b[39m# Copyright The Lightning team.\u001b[39;00m\n\u001b[1;32m      2\u001b[0m \u001b[39m#\u001b[39;00m\n\u001b[1;32m      3\u001b[0m \u001b[39m# Licensed under the Apache License, Version 2.0 (the \"License\");\u001b[39;00m\n\u001b[0;32m   (...)\u001b[0m\n\u001b[1;32m     12\u001b[0m \u001b[39m# See the License for the specific language governing permissions and\u001b[39;00m\n\u001b[1;32m     13\u001b[0m \u001b[39m# limitations under the License.\u001b[39;00m\n\u001b[0;32m---> 14\u001b[0m \u001b[39mfrom\u001b[39;00m \u001b[39mtorchmetrics\u001b[39;00m\u001b[39m.\u001b[39;00m\u001b[39mfunctional\u001b[39;00m\u001b[39m.\u001b[39;00m\u001b[39maudio\u001b[39;00m\u001b[39m.\u001b[39;00m\u001b[39m_deprecated\u001b[39;00m \u001b[39mimport\u001b[39;00m _permutation_invariant_training \u001b[39mas\u001b[39;00m permutation_invariant_training\n\u001b[1;32m     15\u001b[0m \u001b[39mfrom\u001b[39;00m \u001b[39mtorchmetrics\u001b[39;00m\u001b[39m.\u001b[39;00m\u001b[39mfunctional\u001b[39;00m\u001b[39m.\u001b[39;00m\u001b[39maudio\u001b[39;00m\u001b[39m.\u001b[39;00m\u001b[39m_deprecated\u001b[39;00m \u001b[39mimport\u001b[39;00m _pit_permutate \u001b[39mas\u001b[39;00m pit_permutate\n\u001b[1;32m     16\u001b[0m \u001b[39mfrom\u001b[39;00m \u001b[39mtorchmetrics\u001b[39;00m\u001b[39m.\u001b[39;00m\u001b[39mfunctional\u001b[39;00m\u001b[39m.\u001b[39;00m\u001b[39maudio\u001b[39;00m\u001b[39m.\u001b[39;00m\u001b[39m_deprecated\u001b[39;00m \u001b[39mimport\u001b[39;00m (\n\u001b[1;32m     17\u001b[0m     _scale_invariant_signal_distortion_ratio \u001b[39mas\u001b[39;00m scale_invariant_signal_distortion_ratio,\n\u001b[1;32m     18\u001b[0m )\n",
            "File \u001b[0;32m~/anaconda3/envs/DL2/lib/python3.10/site-packages/torchmetrics/functional/audio/__init__.py:14\u001b[0m\n\u001b[1;32m      1\u001b[0m \u001b[39m# Copyright The Lightning team.\u001b[39;00m\n\u001b[1;32m      2\u001b[0m \u001b[39m#\u001b[39;00m\n\u001b[1;32m      3\u001b[0m \u001b[39m# Licensed under the Apache License, Version 2.0 (the \"License\");\u001b[39;00m\n\u001b[0;32m   (...)\u001b[0m\n\u001b[1;32m     12\u001b[0m \u001b[39m# See the License for the specific language governing permissions and\u001b[39;00m\n\u001b[1;32m     13\u001b[0m \u001b[39m# limitations under the License.\u001b[39;00m\n\u001b[0;32m---> 14\u001b[0m \u001b[39mfrom\u001b[39;00m \u001b[39mtorchmetrics\u001b[39;00m\u001b[39m.\u001b[39;00m\u001b[39mfunctional\u001b[39;00m\u001b[39m.\u001b[39;00m\u001b[39maudio\u001b[39;00m\u001b[39m.\u001b[39;00m\u001b[39mpit\u001b[39;00m \u001b[39mimport\u001b[39;00m permutation_invariant_training, pit_permutate\n\u001b[1;32m     15\u001b[0m \u001b[39mfrom\u001b[39;00m \u001b[39mtorchmetrics\u001b[39;00m\u001b[39m.\u001b[39;00m\u001b[39mfunctional\u001b[39;00m\u001b[39m.\u001b[39;00m\u001b[39maudio\u001b[39;00m\u001b[39m.\u001b[39;00m\u001b[39msdr\u001b[39;00m \u001b[39mimport\u001b[39;00m (\n\u001b[1;32m     16\u001b[0m     scale_invariant_signal_distortion_ratio,\n\u001b[1;32m     17\u001b[0m     signal_distortion_ratio,\n\u001b[1;32m     18\u001b[0m     source_aggregated_signal_distortion_ratio,\n\u001b[1;32m     19\u001b[0m )\n\u001b[1;32m     20\u001b[0m \u001b[39mfrom\u001b[39;00m \u001b[39mtorchmetrics\u001b[39;00m\u001b[39m.\u001b[39;00m\u001b[39mfunctional\u001b[39;00m\u001b[39m.\u001b[39;00m\u001b[39maudio\u001b[39;00m\u001b[39m.\u001b[39;00m\u001b[39msnr\u001b[39;00m \u001b[39mimport\u001b[39;00m (\n\u001b[1;32m     21\u001b[0m     complex_scale_invariant_signal_noise_ratio,\n\u001b[1;32m     22\u001b[0m     scale_invariant_signal_noise_ratio,\n\u001b[1;32m     23\u001b[0m     signal_noise_ratio,\n\u001b[1;32m     24\u001b[0m )\n",
            "File \u001b[0;32m~/anaconda3/envs/DL2/lib/python3.10/site-packages/torchmetrics/functional/audio/pit.py:22\u001b[0m\n\u001b[1;32m     19\u001b[0m \u001b[39mfrom\u001b[39;00m \u001b[39mtorch\u001b[39;00m \u001b[39mimport\u001b[39;00m Tensor\n\u001b[1;32m     20\u001b[0m \u001b[39mfrom\u001b[39;00m \u001b[39mtyping_extensions\u001b[39;00m \u001b[39mimport\u001b[39;00m Literal\n\u001b[0;32m---> 22\u001b[0m \u001b[39mfrom\u001b[39;00m \u001b[39mtorchmetrics\u001b[39;00m\u001b[39m.\u001b[39;00m\u001b[39mutilities\u001b[39;00m \u001b[39mimport\u001b[39;00m rank_zero_warn\n\u001b[1;32m     23\u001b[0m \u001b[39mfrom\u001b[39;00m \u001b[39mtorchmetrics\u001b[39;00m\u001b[39m.\u001b[39;00m\u001b[39mutilities\u001b[39;00m\u001b[39m.\u001b[39;00m\u001b[39mimports\u001b[39;00m \u001b[39mimport\u001b[39;00m _SCIPY_AVAILABLE\n\u001b[1;32m     25\u001b[0m \u001b[39m# _ps_dict: cache of permutations\u001b[39;00m\n\u001b[1;32m     26\u001b[0m \u001b[39m# it's necessary to cache it, otherwise it will consume a large amount of time\u001b[39;00m\n",
            "File \u001b[0;32m~/anaconda3/envs/DL2/lib/python3.10/site-packages/torchmetrics/utilities/__init__.py:14\u001b[0m\n\u001b[1;32m      1\u001b[0m \u001b[39m# Copyright The Lightning team.\u001b[39;00m\n\u001b[1;32m      2\u001b[0m \u001b[39m#\u001b[39;00m\n\u001b[1;32m      3\u001b[0m \u001b[39m# Licensed under the Apache License, Version 2.0 (the \"License\");\u001b[39;00m\n\u001b[0;32m   (...)\u001b[0m\n\u001b[1;32m     12\u001b[0m \u001b[39m# See the License for the specific language governing permissions and\u001b[39;00m\n\u001b[1;32m     13\u001b[0m \u001b[39m# limitations under the License.\u001b[39;00m\n\u001b[0;32m---> 14\u001b[0m \u001b[39mfrom\u001b[39;00m \u001b[39mtorchmetrics\u001b[39;00m\u001b[39m.\u001b[39;00m\u001b[39mutilities\u001b[39;00m\u001b[39m.\u001b[39;00m\u001b[39mchecks\u001b[39;00m \u001b[39mimport\u001b[39;00m check_forward_full_state_property\n\u001b[1;32m     15\u001b[0m \u001b[39mfrom\u001b[39;00m \u001b[39mtorchmetrics\u001b[39;00m\u001b[39m.\u001b[39;00m\u001b[39mutilities\u001b[39;00m\u001b[39m.\u001b[39;00m\u001b[39mdata\u001b[39;00m \u001b[39mimport\u001b[39;00m (\n\u001b[1;32m     16\u001b[0m     dim_zero_cat,\n\u001b[1;32m     17\u001b[0m     dim_zero_max,\n\u001b[0;32m   (...)\u001b[0m\n\u001b[1;32m     20\u001b[0m     dim_zero_sum,\n\u001b[1;32m     21\u001b[0m )\n\u001b[1;32m     22\u001b[0m \u001b[39mfrom\u001b[39;00m \u001b[39mtorchmetrics\u001b[39;00m\u001b[39m.\u001b[39;00m\u001b[39mutilities\u001b[39;00m\u001b[39m.\u001b[39;00m\u001b[39mdistributed\u001b[39;00m \u001b[39mimport\u001b[39;00m class_reduce, reduce\n",
            "File \u001b[0;32m~/anaconda3/envs/DL2/lib/python3.10/site-packages/torchmetrics/utilities/checks.py:25\u001b[0m\n\u001b[1;32m     22\u001b[0m \u001b[39mimport\u001b[39;00m \u001b[39mtorch\u001b[39;00m\n\u001b[1;32m     23\u001b[0m \u001b[39mfrom\u001b[39;00m \u001b[39mtorch\u001b[39;00m \u001b[39mimport\u001b[39;00m Tensor\n\u001b[0;32m---> 25\u001b[0m \u001b[39mfrom\u001b[39;00m \u001b[39mtorchmetrics\u001b[39;00m\u001b[39m.\u001b[39;00m\u001b[39mmetric\u001b[39;00m \u001b[39mimport\u001b[39;00m Metric\n\u001b[1;32m     26\u001b[0m \u001b[39mfrom\u001b[39;00m \u001b[39mtorchmetrics\u001b[39;00m\u001b[39m.\u001b[39;00m\u001b[39mutilities\u001b[39;00m\u001b[39m.\u001b[39;00m\u001b[39mdata\u001b[39;00m \u001b[39mimport\u001b[39;00m select_topk, to_onehot\n\u001b[1;32m     27\u001b[0m \u001b[39mfrom\u001b[39;00m \u001b[39mtorchmetrics\u001b[39;00m\u001b[39m.\u001b[39;00m\u001b[39mutilities\u001b[39;00m\u001b[39m.\u001b[39;00m\u001b[39menums\u001b[39;00m \u001b[39mimport\u001b[39;00m DataType\n",
            "File \u001b[0;32m~/anaconda3/envs/DL2/lib/python3.10/site-packages/torchmetrics/metric.py:30\u001b[0m\n\u001b[1;32m     27\u001b[0m \u001b[39mfrom\u001b[39;00m \u001b[39mtorch\u001b[39;00m \u001b[39mimport\u001b[39;00m Tensor\n\u001b[1;32m     28\u001b[0m \u001b[39mfrom\u001b[39;00m \u001b[39mtorch\u001b[39;00m\u001b[39m.\u001b[39;00m\u001b[39mnn\u001b[39;00m \u001b[39mimport\u001b[39;00m Module\n\u001b[0;32m---> 30\u001b[0m \u001b[39mfrom\u001b[39;00m \u001b[39mtorchmetrics\u001b[39;00m\u001b[39m.\u001b[39;00m\u001b[39mutilities\u001b[39;00m\u001b[39m.\u001b[39;00m\u001b[39mdata\u001b[39;00m \u001b[39mimport\u001b[39;00m (\n\u001b[1;32m     31\u001b[0m     _flatten,\n\u001b[1;32m     32\u001b[0m     _squeeze_if_scalar,\n\u001b[1;32m     33\u001b[0m     dim_zero_cat,\n\u001b[1;32m     34\u001b[0m     dim_zero_max,\n\u001b[1;32m     35\u001b[0m     dim_zero_mean,\n\u001b[1;32m     36\u001b[0m     dim_zero_min,\n\u001b[1;32m     37\u001b[0m     dim_zero_sum,\n\u001b[1;32m     38\u001b[0m )\n\u001b[1;32m     39\u001b[0m \u001b[39mfrom\u001b[39;00m \u001b[39mtorchmetrics\u001b[39;00m\u001b[39m.\u001b[39;00m\u001b[39mutilities\u001b[39;00m\u001b[39m.\u001b[39;00m\u001b[39mdistributed\u001b[39;00m \u001b[39mimport\u001b[39;00m gather_all_tensors\n\u001b[1;32m     40\u001b[0m \u001b[39mfrom\u001b[39;00m \u001b[39mtorchmetrics\u001b[39;00m\u001b[39m.\u001b[39;00m\u001b[39mutilities\u001b[39;00m\u001b[39m.\u001b[39;00m\u001b[39mexceptions\u001b[39;00m \u001b[39mimport\u001b[39;00m TorchMetricsUserError\n",
            "File \u001b[0;32m~/anaconda3/envs/DL2/lib/python3.10/site-packages/torchmetrics/utilities/data.py:22\u001b[0m\n\u001b[1;32m     19\u001b[0m \u001b[39mfrom\u001b[39;00m \u001b[39mtorch\u001b[39;00m \u001b[39mimport\u001b[39;00m Tensor\n\u001b[1;32m     21\u001b[0m \u001b[39mfrom\u001b[39;00m \u001b[39mtorchmetrics\u001b[39;00m\u001b[39m.\u001b[39;00m\u001b[39mutilities\u001b[39;00m\u001b[39m.\u001b[39;00m\u001b[39mexceptions\u001b[39;00m \u001b[39mimport\u001b[39;00m TorchMetricsUserWarning\n\u001b[0;32m---> 22\u001b[0m \u001b[39mfrom\u001b[39;00m \u001b[39mtorchmetrics\u001b[39;00m\u001b[39m.\u001b[39;00m\u001b[39mutilities\u001b[39;00m\u001b[39m.\u001b[39;00m\u001b[39mimports\u001b[39;00m \u001b[39mimport\u001b[39;00m _TORCH_GREATER_EQUAL_1_12, _XLA_AVAILABLE\n\u001b[1;32m     23\u001b[0m \u001b[39mfrom\u001b[39;00m \u001b[39mtorchmetrics\u001b[39;00m\u001b[39m.\u001b[39;00m\u001b[39mutilities\u001b[39;00m\u001b[39m.\u001b[39;00m\u001b[39mprints\u001b[39;00m \u001b[39mimport\u001b[39;00m rank_zero_warn\n\u001b[1;32m     25\u001b[0m METRIC_EPS \u001b[39m=\u001b[39m \u001b[39m1e-6\u001b[39m\n",
            "File \u001b[0;32m~/anaconda3/envs/DL2/lib/python3.10/site-packages/torchmetrics/utilities/imports.py:54\u001b[0m\n\u001b[1;32m     52\u001b[0m _GAMMATONE_AVAILABLE: \u001b[39mbool\u001b[39m \u001b[39m=\u001b[39m package_available(\u001b[39m\"\u001b[39m\u001b[39mgammatone\u001b[39m\u001b[39m\"\u001b[39m)\n\u001b[1;32m     53\u001b[0m _TORCHAUDIO_AVAILABLE: \u001b[39mbool\u001b[39m \u001b[39m=\u001b[39m package_available(\u001b[39m\"\u001b[39m\u001b[39mtorchaudio\u001b[39m\u001b[39m\"\u001b[39m)\n\u001b[0;32m---> 54\u001b[0m _TORCHAUDIO_GREATER_EQUAL_0_10: Optional[\u001b[39mbool\u001b[39m] \u001b[39m=\u001b[39m compare_version(\u001b[39m\"\u001b[39;49m\u001b[39mtorchaudio\u001b[39;49m\u001b[39m\"\u001b[39;49m, operator\u001b[39m.\u001b[39;49mge, \u001b[39m\"\u001b[39;49m\u001b[39m0.10.0\u001b[39;49m\u001b[39m\"\u001b[39;49m)\n\u001b[1;32m     55\u001b[0m _SACREBLEU_AVAILABLE: \u001b[39mbool\u001b[39m \u001b[39m=\u001b[39m package_available(\u001b[39m\"\u001b[39m\u001b[39msacrebleu\u001b[39m\u001b[39m\"\u001b[39m)\n\u001b[1;32m     56\u001b[0m _REGEX_AVAILABLE: \u001b[39mbool\u001b[39m \u001b[39m=\u001b[39m package_available(\u001b[39m\"\u001b[39m\u001b[39mregex\u001b[39m\u001b[39m\"\u001b[39m)\n",
            "File \u001b[0;32m~/anaconda3/envs/DL2/lib/python3.10/site-packages/lightning_utilities/core/imports.py:77\u001b[0m, in \u001b[0;36mcompare_version\u001b[0;34m(package, op, version, use_base_version)\u001b[0m\n\u001b[1;32m     68\u001b[0m \u001b[39m\u001b[39m\u001b[39m\"\"\"Compare package version with some requirements.\u001b[39;00m\n\u001b[1;32m     69\u001b[0m \n\u001b[1;32m     70\u001b[0m \u001b[39m>>> compare_version(\"torch\", operator.ge, \"0.1\")\u001b[39;00m\n\u001b[0;32m   (...)\u001b[0m\n\u001b[1;32m     74\u001b[0m \n\u001b[1;32m     75\u001b[0m \u001b[39m\"\"\"\u001b[39;00m\n\u001b[1;32m     76\u001b[0m \u001b[39mtry\u001b[39;00m:\n\u001b[0;32m---> 77\u001b[0m     pkg \u001b[39m=\u001b[39m importlib\u001b[39m.\u001b[39;49mimport_module(package)\n\u001b[1;32m     78\u001b[0m \u001b[39mexcept\u001b[39;00m (\u001b[39mImportError\u001b[39;00m, pkg_resources\u001b[39m.\u001b[39mDistributionNotFound):\n\u001b[1;32m     79\u001b[0m     \u001b[39mreturn\u001b[39;00m \u001b[39mFalse\u001b[39;00m\n",
            "File \u001b[0;32m~/anaconda3/envs/DL2/lib/python3.10/importlib/__init__.py:126\u001b[0m, in \u001b[0;36mimport_module\u001b[0;34m(name, package)\u001b[0m\n\u001b[1;32m    124\u001b[0m             \u001b[39mbreak\u001b[39;00m\n\u001b[1;32m    125\u001b[0m         level \u001b[39m+\u001b[39m\u001b[39m=\u001b[39m \u001b[39m1\u001b[39m\n\u001b[0;32m--> 126\u001b[0m \u001b[39mreturn\u001b[39;00m _bootstrap\u001b[39m.\u001b[39;49m_gcd_import(name[level:], package, level)\n",
            "File \u001b[0;32m~/anaconda3/envs/DL2/lib/python3.10/site-packages/torchaudio/__init__.py:1\u001b[0m\n\u001b[0;32m----> 1\u001b[0m \u001b[39mfrom\u001b[39;00m \u001b[39m.\u001b[39;00m \u001b[39mimport\u001b[39;00m (  \u001b[39m# noqa: F401\u001b[39;00m\n\u001b[1;32m      2\u001b[0m     _extension,\n\u001b[1;32m      3\u001b[0m     compliance,\n\u001b[1;32m      4\u001b[0m     datasets,\n\u001b[1;32m      5\u001b[0m     functional,\n\u001b[1;32m      6\u001b[0m     io,\n\u001b[1;32m      7\u001b[0m     kaldi_io,\n\u001b[1;32m      8\u001b[0m     models,\n\u001b[1;32m      9\u001b[0m     pipelines,\n\u001b[1;32m     10\u001b[0m     sox_effects,\n\u001b[1;32m     11\u001b[0m     transforms,\n\u001b[1;32m     12\u001b[0m     utils,\n\u001b[1;32m     13\u001b[0m )\n\u001b[1;32m     14\u001b[0m \u001b[39mfrom\u001b[39;00m \u001b[39m.\u001b[39;00m\u001b[39m_backend\u001b[39;00m\u001b[39m.\u001b[39;00m\u001b[39mcommon\u001b[39;00m \u001b[39mimport\u001b[39;00m AudioMetaData  \u001b[39m# noqa\u001b[39;00m\n\u001b[1;32m     16\u001b[0m \u001b[39mtry\u001b[39;00m:\n",
            "File \u001b[0;32m~/anaconda3/envs/DL2/lib/python3.10/site-packages/torchaudio/_extension/__init__.py:45\u001b[0m\n\u001b[1;32m     43\u001b[0m _IS_ALIGN_AVAILABLE \u001b[39m=\u001b[39m \u001b[39mFalse\u001b[39;00m\n\u001b[1;32m     44\u001b[0m \u001b[39mif\u001b[39;00m _IS_TORCHAUDIO_EXT_AVAILABLE:\n\u001b[0;32m---> 45\u001b[0m     _load_lib(\u001b[39m\"\u001b[39;49m\u001b[39mlibtorchaudio\u001b[39;49m\u001b[39m\"\u001b[39;49m)\n\u001b[1;32m     47\u001b[0m     \u001b[39mimport\u001b[39;00m \u001b[39mtorchaudio\u001b[39;00m\u001b[39m.\u001b[39;00m\u001b[39mlib\u001b[39;00m\u001b[39m.\u001b[39;00m\u001b[39m_torchaudio\u001b[39;00m  \u001b[39m# noqa\u001b[39;00m\n\u001b[1;32m     49\u001b[0m     _check_cuda_version()\n",
            "File \u001b[0;32m~/anaconda3/envs/DL2/lib/python3.10/site-packages/torchaudio/_extension/utils.py:64\u001b[0m, in \u001b[0;36m_load_lib\u001b[0;34m(lib)\u001b[0m\n\u001b[1;32m     62\u001b[0m \u001b[39mif\u001b[39;00m \u001b[39mnot\u001b[39;00m path\u001b[39m.\u001b[39mexists():\n\u001b[1;32m     63\u001b[0m     \u001b[39mreturn\u001b[39;00m \u001b[39mFalse\u001b[39;00m\n\u001b[0;32m---> 64\u001b[0m torch\u001b[39m.\u001b[39;49mops\u001b[39m.\u001b[39;49mload_library(path)\n\u001b[1;32m     65\u001b[0m torch\u001b[39m.\u001b[39mclasses\u001b[39m.\u001b[39mload_library(path)\n\u001b[1;32m     66\u001b[0m \u001b[39mreturn\u001b[39;00m \u001b[39mTrue\u001b[39;00m\n",
            "File \u001b[0;32m~/anaconda3/envs/DL2/lib/python3.10/site-packages/torch/_ops.py:643\u001b[0m, in \u001b[0;36m_Ops.load_library\u001b[0;34m(self, path)\u001b[0m\n\u001b[1;32m    638\u001b[0m path \u001b[39m=\u001b[39m _utils_internal\u001b[39m.\u001b[39mresolve_library_path(path)\n\u001b[1;32m    639\u001b[0m \u001b[39mwith\u001b[39;00m dl_open_guard():\n\u001b[1;32m    640\u001b[0m     \u001b[39m# Import the shared library into the process, thus running its\u001b[39;00m\n\u001b[1;32m    641\u001b[0m     \u001b[39m# static (global) initialization code in order to register custom\u001b[39;00m\n\u001b[1;32m    642\u001b[0m     \u001b[39m# operators with the JIT.\u001b[39;00m\n\u001b[0;32m--> 643\u001b[0m     ctypes\u001b[39m.\u001b[39;49mCDLL(path)\n\u001b[1;32m    644\u001b[0m \u001b[39mself\u001b[39m\u001b[39m.\u001b[39mloaded_libraries\u001b[39m.\u001b[39madd(path)\n",
            "File \u001b[0;32m~/anaconda3/envs/DL2/lib/python3.10/ctypes/__init__.py:374\u001b[0m, in \u001b[0;36mCDLL.__init__\u001b[0;34m(self, name, mode, handle, use_errno, use_last_error, winmode)\u001b[0m\n\u001b[1;32m    371\u001b[0m \u001b[39mself\u001b[39m\u001b[39m.\u001b[39m_FuncPtr \u001b[39m=\u001b[39m _FuncPtr\n\u001b[1;32m    373\u001b[0m \u001b[39mif\u001b[39;00m handle \u001b[39mis\u001b[39;00m \u001b[39mNone\u001b[39;00m:\n\u001b[0;32m--> 374\u001b[0m     \u001b[39mself\u001b[39m\u001b[39m.\u001b[39m_handle \u001b[39m=\u001b[39m _dlopen(\u001b[39mself\u001b[39;49m\u001b[39m.\u001b[39;49m_name, mode)\n\u001b[1;32m    375\u001b[0m \u001b[39melse\u001b[39;00m:\n\u001b[1;32m    376\u001b[0m     \u001b[39mself\u001b[39m\u001b[39m.\u001b[39m_handle \u001b[39m=\u001b[39m handle\n",
            "\u001b[0;31mOSError\u001b[0m: /home/amrit/anaconda3/envs/DL2/lib/python3.10/site-packages/torchaudio/lib/libtorchaudio.so: undefined symbol: _ZN3c104cuda9SetDeviceEi"
          ]
        }
      ],
      "source": [
        "import os\n",
        "import numpy\n",
        "import torch_geometric\n",
        "import json\n",
        "import torchmetrics\n",
        "import torch"
      ]
    },
    {
      "cell_type": "code",
      "execution_count": 4,
      "metadata": {},
      "outputs": [],
      "source": [
        "\n",
        "import pandas as pd\n",
        "import os\n",
        "import shutil\n",
        "from os import path as osp\n",
        "\n",
        "import torch\n",
        "from tiatoolbox.utils.misc import select_device\n",
        "import random\n",
        "import numpy as np\n",
        "from pathlib import Path\n",
        "from datetime import datetime\n",
        "from sklearn.preprocessing import StandardScaler\n",
        "from tqdm import tqdm\n",
        "import joblib\n",
        "import json\n",
        "import glob\n",
        "\n",
        "# from src.intensity import add_features_and_create_new_dicts\n",
        "\n",
        "from src.featureextraction import get_cell_features, add_features_and_create_new_dicts\n",
        "from src.train import stratified_split, recur_find_ext, run_once, rm_n_mkdir ,reset_logging\n",
        "from src.graph_construct import create_graph_with_pooled_patch_nodes, get_pids_labels_for_key, create_graph_with_pooled_patch_nodes_with_survival_data\n",
        "\n",
        "\n",
        "ON_GPU = False\n",
        "device = select_device(on_gpu=ON_GPU)\n",
        "\n",
        "SEED = 5\n",
        "random.seed(SEED)\n",
        "rng = np.random.default_rng(SEED)\n",
        "torch.manual_seed(SEED)\n",
        "torch.cuda.manual_seed(SEED)\n",
        "\n",
        "\n",
        "BASEDIR = '/home/amrit/data/proj_data/MLG_project/DLBCL-Morph'\n",
        "\n",
        "\n",
        "STAIN = 'MYC'\n",
        "# STAIN = 'BCL2'\n",
        "# STAIN = 'HE'\n",
        "\n",
        "FIDIR = f'{BASEDIR}/outputs'\n",
        "CLINPATH = f'{BASEDIR}/clinical_data_cleaned.csv'\n",
        "ANNPATH = f'{BASEDIR}/annotations_clean.csv'\n",
        "FEATSDIR = f'{BASEDIR}/outputs/files/{STAIN}'\n",
        "FEATSCALERPATH = f\"{FEATSDIR}/0_feat_scaler.npz\"\n",
        "PATCH_SIZE = 224\n",
        "OUTPUT_SIZE = PATCH_SIZE*8\n",
        "\n",
        "WORKSPACE_DIR = Path(BASEDIR)\n",
        "# GRAPH_DIR = WORKSPACE_DIR / f\"graphs{STAIN}\" \n",
        "# LABELS_PATH = WORKSPACE_DIR / \"graphs/0_labels.txt\"\n",
        "\n",
        "\n",
        "# Graph construction\n",
        "# PATCH_SIZE = 300\n",
        "SKEW_NOISE = 0.0001\n",
        "MIN_CELLS_PER_PATCH = 10\n",
        "CONNECTIVITY_DISTANCE = 500\n",
        "\n",
        "LABEL_TYPE = 'multilabel' #'OS' #\n",
        "LABEL_TYPE = 'OS' #'OS' #\n",
        "\n",
        "\n",
        "GRAPHSDIR = Path(f'{BASEDIR}/graphs/{STAIN}')\n",
        "LABELSPATH = f'{BASEDIR}/graphs/{STAIN}_labels.json'\n",
        "\n",
        "NUM_EPOCHS = 100\n",
        "NUM_NODE_FEATURES = 128\n",
        "NCLASSES = 3\n",
        "\n",
        "TRAIN_DIR = WORKSPACE_DIR / \"training\"\n",
        "SPLIT_PATH = TRAIN_DIR / f\"splits_{STAIN}_{LABEL_TYPE}.dat\"\n",
        "# RUN_OUTPUT_DIR = TRAIN_DIR / f\"session_{STAIN}_{datetime.now().strftime('%m_%d_%H_%M')}\"\n"
      ]
    },
    {
      "cell_type": "code",
      "execution_count": 9,
      "metadata": {
        "colab": {
          "base_uri": "https://localhost:8080/"
        },
        "id": "bsIw0jbfBoa8",
        "outputId": "cab5fe3b-eb7e-4d4b-f073-51c136a450b2"
      },
      "outputs": [],
      "source": [
        "from torch_geometric.data import Data\n",
        "from torch_geometric.loader import DataLoader\n",
        "\n",
        "data_list = []\n",
        "for file in os.listdir(GRAPHSDIR):\n",
        "  # print(file)\n",
        "  with open(GRAPHSDIR / file, 'r') as f:\n",
        "    j = json.load(f)\n",
        "    x = torch.tensor(j[\"x\"])\n",
        "    edge_index = torch.tensor(j[\"edge_index\"])\n",
        "    y = torch.tensor(j[\"y\"])\n",
        "    data = Data(x=x, edge_index=edge_index, y=y)\n",
        "    data_list.append(data)\n",
        "\n",
        "\n"
      ]
    },
    {
      "cell_type": "code",
      "execution_count": 10,
      "metadata": {},
      "outputs": [
        {
          "name": "stdout",
          "output_type": "stream",
          "text": [
            "192\n",
            "64\n",
            "63\n"
          ]
        }
      ],
      "source": [
        "\n",
        "    \n",
        "train_set, validation_set, test_set = torch.utils.data.random_split(data_list, [0.6, 0.2, 0.2])\n",
        "train_loader = DataLoader(train_set, batch_size=32, shuffle=True)\n",
        "validation_loader = DataLoader(validation_set, batch_size=32, shuffle=True)\n",
        "test_loader = DataLoader(test_set, batch_size=32, shuffle=True)\n",
        "print(len(train_set))\n",
        "print(len(validation_set))\n",
        "print(len(test_set))"
      ]
    },
    {
      "cell_type": "code",
      "execution_count": 11,
      "metadata": {
        "id": "cV2Rpx70CZ37"
      },
      "outputs": [],
      "source": [
        "from torch.nn import Linear\n",
        "import torch.nn.functional as F\n",
        "from torch_geometric.nn import GCNConv\n",
        "from torch_geometric.nn import GATConv\n",
        "from torch_geometric.nn import global_mean_pool\n",
        "\n",
        "\n",
        "class GraphConvModel(torch.nn.Module):\n",
        "    def __init__(self):\n",
        "        super(GraphConvModel, self).__init__()\n",
        "\n",
        "        self.gat1 = GATConv(128, 256, add_self_loops=True)\n",
        "        self.gat2 = GATConv(256, 256, add_self_loops=True)\n",
        "        self.gat3 = GATConv(256, 256, add_self_loops=True)\n",
        "        self.lin1 = Linear(256, 3)\n",
        "\n",
        "    def forward(self, x, edge_index, batch):\n",
        "        x = self.gat1(x, edge_index)\n",
        "        x = x.relu()\n",
        "        x = F.dropout(x, p=0.5, training=self.training)\n",
        "        x = self.gat2(x, edge_index)\n",
        "        x = x.relu()\n",
        "        x = F.dropout(x, p=0.5, training=self.training)\n",
        "        x = self.gat3(x, edge_index)\n",
        "        x = global_mean_pool(x, batch)\n",
        "        x = self.lin1(x)\n",
        "        return x"
      ]
    },
    {
      "cell_type": "code",
      "execution_count": 12,
      "metadata": {
        "colab": {
          "base_uri": "https://localhost:8080/"
        },
        "id": "xTRnw_i2HShE",
        "outputId": "9b0bb788-cca7-467b-caeb-dcb400796871"
      },
      "outputs": [
        {
          "name": "stdout",
          "output_type": "stream",
          "text": [
            "GraphConvModel(\n",
            "  (gat1): GATConv(128, 256, heads=1)\n",
            "  (gat2): GATConv(256, 256, heads=1)\n",
            "  (gat3): GATConv(256, 256, heads=1)\n",
            "  (lin1): Linear(in_features=256, out_features=3, bias=True)\n",
            ")\n"
          ]
        }
      ],
      "source": [
        "model = GraphConvModel()\n",
        "print(model)"
      ]
    },
    {
      "cell_type": "code",
      "execution_count": 13,
      "metadata": {
        "id": "9aMZ6W83Hbp2"
      },
      "outputs": [
        {
          "ename": "ModuleNotFoundError",
          "evalue": "No module named 'torchmetrics'",
          "output_type": "error",
          "traceback": [
            "\u001b[0;31m---------------------------------------------------------------------------\u001b[0m",
            "\u001b[0;31mModuleNotFoundError\u001b[0m                       Traceback (most recent call last)",
            "\u001b[1;32m/home/amrit/pipeline/pipeline/projects/CSE8803 MLG/Graph_DLBCL/41_partitioned_graphs_gnn.ipynb Cell 8\u001b[0m line \u001b[0;36m1\n\u001b[0;32m----> <a href='vscode-notebook-cell:/home/amrit/pipeline/pipeline/projects/CSE8803%20MLG/Graph_DLBCL/41_partitioned_graphs_gnn.ipynb#W5sZmlsZQ%3D%3D?line=0'>1</a>\u001b[0m \u001b[39mfrom\u001b[39;00m \u001b[39mtorchmetrics\u001b[39;00m\u001b[39m.\u001b[39;00m\u001b[39mclassification\u001b[39;00m \u001b[39mimport\u001b[39;00m MulticlassAUROC\n\u001b[1;32m      <a href='vscode-notebook-cell:/home/amrit/pipeline/pipeline/projects/CSE8803%20MLG/Graph_DLBCL/41_partitioned_graphs_gnn.ipynb#W5sZmlsZQ%3D%3D?line=1'>2</a>\u001b[0m \u001b[39mfrom\u001b[39;00m \u001b[39mtorchmetrics\u001b[39;00m\u001b[39m.\u001b[39;00m\u001b[39mclassification\u001b[39;00m \u001b[39mimport\u001b[39;00m MulticlassAccuracy\n\u001b[1;32m      <a href='vscode-notebook-cell:/home/amrit/pipeline/pipeline/projects/CSE8803%20MLG/Graph_DLBCL/41_partitioned_graphs_gnn.ipynb#W5sZmlsZQ%3D%3D?line=2'>3</a>\u001b[0m \u001b[39mfrom\u001b[39;00m \u001b[39mtorchmetrics\u001b[39;00m\u001b[39m.\u001b[39;00m\u001b[39mclassification\u001b[39;00m \u001b[39mimport\u001b[39;00m MulticlassF1Score\n",
            "\u001b[0;31mModuleNotFoundError\u001b[0m: No module named 'torchmetrics'"
          ]
        }
      ],
      "source": [
        "from torchmetrics.classification import MulticlassAUROC\n",
        "from torchmetrics.classification import MulticlassAccuracy\n",
        "from torchmetrics.classification import MulticlassF1Score\n",
        "from torchmetrics.classification import MulticlassRecall\n",
        "from torchmetrics.classification import MulticlassSpecificity\n",
        "\n",
        "def graph_test(model, loss_fn, loader):\n",
        "      \"\"\"\n",
        "      model: pytorch GNN model\n",
        "      loss_fn: loss function\n",
        "      loader: DataLoader\n",
        "      device: device used to bind the model and tensor\n",
        "      return loss, weighted auroc, weighted accuracy\n",
        "      \"\"\"\n",
        "      model.eval()\n",
        "      total_loss = 0.0\n",
        "      auroc_score = 0.0\n",
        "      acc_score = 0.0\n",
        "\n",
        "      pred = None\n",
        "      target = None\n",
        "      total_nodes_n = 0\n",
        "      with torch.no_grad():\n",
        "            for data in loader:\n",
        "                  out = model(data.x, data.edge_index, data.batch)\n",
        "                  loss = loss_fn(out, data.y)  # Compute the loss solely based on the training nodes.\n",
        "                  total_loss += loss\n",
        "                  if (pred is None):\n",
        "                      pred = out\n",
        "                  else:\n",
        "                      pred = torch.cat((pred, out), 0)\n",
        "                  if (target is None):\n",
        "                      target = data.y\n",
        "                  else:\n",
        "                      target = torch.cat((target, data.y), 0)\n",
        "\n",
        "      pred = pred\n",
        "      target = target\n",
        "      aucroc_metric = MulticlassAUROC(average=None, num_classes=pred.shape[1])\n",
        "      acc_metric = MulticlassAccuracy(average=None, num_classes=pred.shape[1])\n",
        "      f1_metric = MulticlassF1Score(average='weighted', num_classes=pred.shape[1])\n",
        "      sensitivity_metric = MulticlassRecall(average='weighted', num_classes=pred.shape[1])\n",
        "      specificity_metric = MulticlassSpecificity(average='weighted', num_classes=pred.shape[1])\n",
        "      f1_metric.update(pred, target)\n",
        "      f1_score = f1_metric.compute()\n",
        "      sensitivity_metric.update(pred, target)\n",
        "      sensitivity_score = sensitivity_metric.compute()\n",
        "      specificity_metric.update(pred, target)\n",
        "      specificity_score = specificity_metric.compute()\n",
        "      aucroc_metric.update(pred, target)\n",
        "      aucroc_classes = aucroc_metric.compute()\n",
        "      acc_metric.update(pred, target)\n",
        "      acc_classes = acc_metric.compute()\n",
        "      freqs = torch.bincount(target, minlength=pred.shape[1])\n",
        "      freqs = freqs / target.shape[0]\n",
        "      auroc_score = torch.sum(aucroc_classes * freqs)\n",
        "      acc_score = torch.sum(acc_classes * freqs)\n",
        "      return total_loss / len(loader), auroc_score, acc_score, f1_score, sensitivity_score, specificity_score"
      ]
    },
    {
      "cell_type": "code",
      "execution_count": null,
      "metadata": {
        "colab": {
          "base_uri": "https://localhost:8080/"
        },
        "id": "ZfNoMVS6LBIh",
        "outputId": "12f40be7-a522-4ac9-f8ef-052f5935429e"
      },
      "outputs": [],
      "source": [
        "learning_rate = 2e-3\n",
        "epoch_num = 400\n",
        "optimizer = torch.optim.Adam(model.parameters(), lr=learning_rate)\n",
        "loss_fn = torch.nn.CrossEntropyLoss()\n",
        "\n",
        "def train():\n",
        "    model.train()\n",
        "    total_loss = 0.0\n",
        "    for data in train_loader:  # Iterate in batches over the training dataset.\n",
        "        out = model(data.x, data.edge_index, data.batch)  # Perform a single forward pass.\n",
        "        loss = loss_fn(out, data.y)  # Compute the loss.\n",
        "        #print(out)\n",
        "        #print(data.y)\n",
        "        total_loss += loss\n",
        "        loss.backward()  # Derive gradients.\n",
        "        optimizer.step()  # Update parameters based on gradients.\n",
        "        optimizer.zero_grad()  # Clear gradients.\n",
        "    return total_loss / len(train_loader)\n",
        "\n",
        "for epoch in range(epoch_num):\n",
        "    train_loss = train()\n",
        "    train_loss, train_auroc, train_acc, train_f1, train_sensitivity, train_specifity = graph_test(model, loss_fn, train_loader)\n",
        "    validation_loss, validation_auroc, validation_acc, validation_f1, validation_sensitivity, validation_specifity = graph_test(model, loss_fn, validation_loader)\n",
        "    print(f'Epoch: {epoch:03d}, Train Loss: {train_loss:.5f}, Train Auc: {train_auroc:.4f}, Train Acc: {train_acc:.4f}, Train F1: {train_f1:.4f}, Train Sensitivity: {train_sensitivity:.4f}, Train Specificity: {train_specifity:.4f}, Valid Auc: {validation_auroc:.4f}, Valid Acc: {validation_acc:.4f}, Valid F1: {validation_f1:.4f}, Valid Sensitivity: {validation_sensitivity:.4f}, Valid Specificity: {validation_specifity:.4f}')"
      ]
    },
    {
      "cell_type": "code",
      "execution_count": null,
      "metadata": {
        "id": "VkdCC50n9KOc"
      },
      "outputs": [],
      "source": [
        "torch.save(model, 'model2.pt')"
      ]
    },
    {
      "cell_type": "code",
      "execution_count": null,
      "metadata": {
        "colab": {
          "base_uri": "https://localhost:8080/"
        },
        "id": "2chsMQi09cZn",
        "outputId": "117ed47f-0a29-402b-a8ef-b84cc2280980"
      },
      "outputs": [],
      "source": [
        "pred = None\n",
        "target = None\n",
        "for data in test_loader:\n",
        "    out = model(data.x, data.edge_index, data.batch)\n",
        "    #loss = loss_fn(out, data.y)  # Compute the loss solely based on the training nodes.\n",
        "    #total_loss += loss\n",
        "    if (pred is None):\n",
        "        pred = out\n",
        "    else:\n",
        "        pred = torch.cat((pred, out), 0)\n",
        "    if (target is None):\n",
        "        target = data.y\n",
        "    else:\n",
        "        target = torch.cat((target, data.y), 0)\n",
        "acc_metric = MulticlassAccuracy(average=None, num_classes=pred.shape[1])\n",
        "acc_metric.update(pred, target)\n",
        "acc_classes = acc_metric.compute()\n",
        "freqs = torch.bincount(target, minlength=pred.shape[1])\n",
        "freqs = freqs / target.shape[0]\n",
        "acc_score = torch.sum(acc_classes * freqs)\n",
        "print(acc_score)"
      ]
    },
    {
      "cell_type": "code",
      "execution_count": null,
      "metadata": {
        "colab": {
          "base_uri": "https://localhost:8080/"
        },
        "id": "e9WhSheBn9VX",
        "outputId": "fba533d1-dde3-4a93-a12a-a62b6e6435d7"
      },
      "outputs": [],
      "source": [
        "test_loss, test_auroc, test_acc, test_f1, test_sensitivity, test_specifity = graph_test(model, loss_fn, test_loader)\n",
        "print(test_loss)\n",
        "print(test_auroc)\n",
        "print(test_acc)\n",
        "print(test_f1)\n",
        "print(test_sensitivity)\n",
        "print(test_specifity)"
      ]
    }
  ],
  "metadata": {
    "colab": {
      "provenance": []
    },
    "kernelspec": {
      "display_name": "Python 3",
      "name": "python3"
    },
    "language_info": {
      "codemirror_mode": {
        "name": "ipython",
        "version": 3
      },
      "file_extension": ".py",
      "mimetype": "text/x-python",
      "name": "python",
      "nbconvert_exporter": "python",
      "pygments_lexer": "ipython3",
      "version": "3.10.13"
    }
  },
  "nbformat": 4,
  "nbformat_minor": 0
}
