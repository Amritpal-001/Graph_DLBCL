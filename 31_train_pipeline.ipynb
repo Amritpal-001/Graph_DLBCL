{
 "cells": [
  {
   "cell_type": "markdown",
   "metadata": {},
   "source": [
    "# Constants\n"
   ]
  },
  {
   "cell_type": "code",
   "execution_count": 70,
   "metadata": {},
   "outputs": [],
   "source": [
    "\n",
    "import pandas as pd\n",
    "import os\n",
    "import shutil\n",
    "from os import path as osp\n",
    "\n",
    "import torch\n",
    "from tiatoolbox.utils.misc import select_device\n",
    "import random\n",
    "import numpy as np\n",
    "from pathlib import Path\n",
    "from datetime import datetime\n",
    "from sklearn.preprocessing import StandardScaler\n",
    "from tqdm import tqdm\n",
    "import joblib\n",
    "import json\n",
    "import glob\n",
    "\n",
    "# from src.intensity import add_features_and_create_new_dicts\n",
    "\n",
    "from src.featureextraction import get_cell_features, add_features_and_create_new_dicts\n",
    "from src.train import stratified_split, recur_find_ext, run_once, rm_n_mkdir ,reset_logging\n",
    "from src.graph_construct import create_graph_with_pooled_patch_nodes, get_pids_labels_for_key\n",
    "\n",
    "\n",
    "ON_GPU = False\n",
    "device = select_device(on_gpu=ON_GPU)\n",
    "\n",
    "SEED = 5\n",
    "random.seed(SEED)\n",
    "rng = np.random.default_rng(SEED)\n",
    "torch.manual_seed(SEED)\n",
    "torch.cuda.manual_seed(SEED)\n",
    "\n",
    "\n",
    "BASEDIR = '/home/amrit/data/proj_data/MLG_project/DLBCL-Morph'\n",
    "\n",
    "\n",
    "STAIN = 'MYC'\n",
    "# STAIN = 'BCL2'\n",
    "\n",
    "\n",
    "FIDIR = f'{BASEDIR}/outputs'\n",
    "CLINPATH = f'{BASEDIR}/clinical_data_cleaned.csv'\n",
    "ANNPATH = f'{BASEDIR}/annotations_clean.csv'\n",
    "FEATSDIR = f'{BASEDIR}/outputs/files/{STAIN}'\n",
    "FEATSCALERPATH = f\"{FEATSDIR}/0_feat_scaler.npz\"\n",
    "PATCH_SIZE = 224\n",
    "OUTPUT_SIZE = PATCH_SIZE*8\n",
    "\n",
    "WORKSPACE_DIR = Path(BASEDIR)\n",
    "# GRAPH_DIR = WORKSPACE_DIR / f\"graphs{STAIN}\" \n",
    "# LABELS_PATH = WORKSPACE_DIR / \"graphs/0_labels.txt\"\n",
    "\n",
    "\n",
    "# Graph construction\n",
    "# PATCH_SIZE = 300\n",
    "SKEW_NOISE = 0.0001\n",
    "MIN_CELLS_PER_PATCH = 10\n",
    "CONNECTIVITY_DISTANCE = 500\n",
    "\n",
    "\n",
    "GRAPHSDIR = Path(f'{BASEDIR}/graphs/{STAIN}')\n",
    "LABELSPATH = f'{BASEDIR}/graphs/{STAIN}_labels.json'\n",
    "\n",
    "NUM_EPOCHS = 100\n",
    "NUM_NODE_FEATURES = 128\n",
    "NCLASSES = 3\n",
    "\n",
    "TRAIN_DIR = WORKSPACE_DIR / \"training\"\n",
    "SPLIT_PATH = TRAIN_DIR / f\"splits_{STAIN}.dat\"\n",
    "RUN_OUTPUT_DIR = TRAIN_DIR / f\"session_{STAIN}_{datetime.now().strftime('%m_%d_%H_%M')}\"\n",
    "RUN_OUTPUT_DIR.mkdir(parents=True, exist_ok=True)\n",
    "MODEL_DIR = RUN_OUTPUT_DIR / \"model\""
   ]
  },
  {
   "cell_type": "code",
   "execution_count": null,
   "metadata": {},
   "outputs": [],
   "source": []
  },
  {
   "cell_type": "markdown",
   "metadata": {},
   "source": [
    "# Extract features: 20 + 4 minutes"
   ]
  },
  {
   "cell_type": "code",
   "execution_count": 71,
   "metadata": {},
   "outputs": [],
   "source": [
    "# read annotation csv, filter, and process intensity features\n",
    "df = pd.read_csv(ANNPATH)\n",
    "\n",
    "df = df[df['stain'] == STAIN]\n",
    "df['area'] = (df['xe'] - df['xs']) *  (df['ye'] - df['ys'])/10000\n",
    "df = df[df['area'] >= 150]  \n",
    "df = df[df['xs']  >=0 ]\n",
    "df = df[df['ys']  >=0 ]\n",
    "df = df[df['xe']  >=0 ]\n",
    "df = df[df['ye']  >=0 ]\n",
    "\n",
    "df = df.reset_index()\n",
    "##########\n",
    "\n",
    "###############\n",
    "# add intensity features\n",
    "start_index = 0\n",
    "end_index = len(df.index)\n",
    "\n",
    "datpaths = []\n",
    "imgpaths = []\n",
    "updatpaths = []\n",
    "\n",
    "# for index in range(start_index, 1):\n",
    "for index in range(start_index, end_index):\n",
    "    df_index = df['index'][index]\n",
    "    patient_id = df['patient_id'][index]\n",
    "    stain = df['stain'][index]\n",
    "    tma_id = df['tma_id'][index]\n",
    "    unique_id = str(patient_id) + '_' + stain + '_' + str(df_index)\n",
    "\n",
    "    img_file_name = f\"{FIDIR}/images/{patient_id}/{patient_id}_{stain}_{tma_id}_{OUTPUT_SIZE}_{df_index}.png\"\n",
    "    dat_file_name = f\"{FIDIR}/files/{stain}/{patient_id}/{df_index}/0.dat\"\n",
    "    updat_file_name = f\"{FIDIR}/files/{stain}/{patient_id}/{df_index}/{unique_id}.dat\"\n",
    "\n",
    "    datpaths.append(dat_file_name)\n",
    "    imgpaths.append(img_file_name)\n",
    "    updatpaths.append(updat_file_name)\n",
    "    \n"
   ]
  },
  {
   "cell_type": "code",
   "execution_count": 72,
   "metadata": {},
   "outputs": [
    {
     "data": {
      "text/plain": [
       "['/home/amrit/data/proj_data/MLG_project/DLBCL-Morph/outputs/files/MYC/13902/513/13902_MYC_513.dat',\n",
       " '/home/amrit/data/proj_data/MLG_project/DLBCL-Morph/outputs/files/MYC/13902/514/13902_MYC_514.dat',\n",
       " '/home/amrit/data/proj_data/MLG_project/DLBCL-Morph/outputs/files/MYC/13924/515/13924_MYC_515.dat']"
      ]
     },
     "execution_count": 72,
     "metadata": {},
     "output_type": "execute_result"
    }
   ],
   "source": [
    "updatpaths[:3]"
   ]
  },
  {
   "cell_type": "code",
   "execution_count": 73,
   "metadata": {},
   "outputs": [
    {
     "name": "stderr",
     "output_type": "stream",
     "text": [
      " 91%|█████████▏| 333/364 [19:32<02:00,  3.89s/it]"
     ]
    },
    {
     "name": "stdout",
     "output_type": "stream",
     "text": [
      "updatpath: /home/amrit/data/proj_data/MLG_project/DLBCL-Morph/outputs/files/MYC/13981/2615/13981_MYC_2615.dat\n",
      "datpath: /home/amrit/data/proj_data/MLG_project/DLBCL-Morph/outputs/files/MYC/13981/2615/0.dat\n",
      "imgpath: /home/amrit/data/proj_data/MLG_project/DLBCL-Morph/outputs/images/13981/13981_MYC_TA234_1792_2615.png\n",
      "valid_cells_frac 0.9998890614599512 = 1-1/9014\n"
     ]
    },
    {
     "name": "stderr",
     "output_type": "stream",
     "text": [
      "100%|██████████| 364/364 [21:24<00:00,  3.53s/it]\n"
     ]
    }
   ],
   "source": [
    "# 16 minutes\n",
    "# shutil.rmtree(FEATSDIR)\n",
    "# if not osp.exists(FEATSDIR):\n",
    "#     os.makedirs(FEATSDIR)\n",
    "add_features_and_create_new_dicts(datpaths, imgpaths, updatpaths)"
   ]
  },
  {
   "cell_type": "code",
   "execution_count": 75,
   "metadata": {},
   "outputs": [
    {
     "name": "stderr",
     "output_type": "stream",
     "text": [
      "100%|██████████| 364/364 [03:32<00:00,  1.71it/s]\n"
     ]
    }
   ],
   "source": [
    "# 4 minutes\n",
    "gns = StandardScaler()\n",
    "for featpath in tqdm(updatpaths):\n",
    "    try:\n",
    "        celldatadict = joblib.load(featpath)\n",
    "        cellsfeats = np.array([v['intensity_feats'] for k, v in celldatadict.items()])\n",
    "        gns.partial_fit(cellsfeats)\n",
    "    except:\n",
    "        print(featpath)\n",
    "\n",
    "np.savez(FEATSCALERPATH, mean=gns.mean_, var=gns.var_)\n",
    "\n",
    "# dd = np.load(FEATSCALERPATH)\n",
    "# print(dd['mean'], gns.mean_)\n",
    "# print(dd['var'], gns.var_)"
   ]
  },
  {
   "cell_type": "code",
   "execution_count": 76,
   "metadata": {},
   "outputs": [
    {
     "data": {
      "text/plain": [
       "'/home/amrit/data/proj_data/MLG_project/DLBCL-Morph/outputs/files/MYC/0_feat_scaler.npz'"
      ]
     },
     "execution_count": 76,
     "metadata": {},
     "output_type": "execute_result"
    }
   ],
   "source": [
    "FEATSCALERPATH"
   ]
  },
  {
   "cell_type": "markdown",
   "metadata": {},
   "source": [
    "# Prepare graphs : 4 minutes"
   ]
  },
  {
   "cell_type": "code",
   "execution_count": 66,
   "metadata": {},
   "outputs": [
    {
     "data": {
      "text/plain": [
       "'/home/amrit/data/proj_data/MLG_project/DLBCL-Morph/outputs/files/MYC'"
      ]
     },
     "execution_count": 66,
     "metadata": {},
     "output_type": "execute_result"
    }
   ],
   "source": [
    "FEATSDIR"
   ]
  },
  {
   "cell_type": "code",
   "execution_count": 77,
   "metadata": {},
   "outputs": [
    {
     "data": {
      "text/html": [
       "<div>\n",
       "<style scoped>\n",
       "    .dataframe tbody tr th:only-of-type {\n",
       "        vertical-align: middle;\n",
       "    }\n",
       "\n",
       "    .dataframe tbody tr th {\n",
       "        vertical-align: top;\n",
       "    }\n",
       "\n",
       "    .dataframe thead th {\n",
       "        text-align: right;\n",
       "    }\n",
       "</style>\n",
       "<table border=\"1\" class=\"dataframe\">\n",
       "  <thead>\n",
       "    <tr style=\"text-align: right;\">\n",
       "      <th></th>\n",
       "      <th>patient_id</th>\n",
       "      <th>featpath</th>\n",
       "    </tr>\n",
       "  </thead>\n",
       "  <tbody>\n",
       "    <tr>\n",
       "      <th>0</th>\n",
       "      <td>13901</td>\n",
       "      <td>/home/amrit/data/proj_data/MLG_project/DLBCL-M...</td>\n",
       "    </tr>\n",
       "    <tr>\n",
       "      <th>1</th>\n",
       "      <td>13901</td>\n",
       "      <td>/home/amrit/data/proj_data/MLG_project/DLBCL-M...</td>\n",
       "    </tr>\n",
       "    <tr>\n",
       "      <th>2</th>\n",
       "      <td>13902</td>\n",
       "      <td>/home/amrit/data/proj_data/MLG_project/DLBCL-M...</td>\n",
       "    </tr>\n",
       "    <tr>\n",
       "      <th>3</th>\n",
       "      <td>13902</td>\n",
       "      <td>/home/amrit/data/proj_data/MLG_project/DLBCL-M...</td>\n",
       "    </tr>\n",
       "    <tr>\n",
       "      <th>4</th>\n",
       "      <td>13903</td>\n",
       "      <td>/home/amrit/data/proj_data/MLG_project/DLBCL-M...</td>\n",
       "    </tr>\n",
       "    <tr>\n",
       "      <th>...</th>\n",
       "      <td>...</td>\n",
       "      <td>...</td>\n",
       "    </tr>\n",
       "    <tr>\n",
       "      <th>359</th>\n",
       "      <td>26857</td>\n",
       "      <td>/home/amrit/data/proj_data/MLG_project/DLBCL-M...</td>\n",
       "    </tr>\n",
       "    <tr>\n",
       "      <th>360</th>\n",
       "      <td>26858</td>\n",
       "      <td>/home/amrit/data/proj_data/MLG_project/DLBCL-M...</td>\n",
       "    </tr>\n",
       "    <tr>\n",
       "      <th>361</th>\n",
       "      <td>26858</td>\n",
       "      <td>/home/amrit/data/proj_data/MLG_project/DLBCL-M...</td>\n",
       "    </tr>\n",
       "    <tr>\n",
       "      <th>362</th>\n",
       "      <td>26859</td>\n",
       "      <td>/home/amrit/data/proj_data/MLG_project/DLBCL-M...</td>\n",
       "    </tr>\n",
       "    <tr>\n",
       "      <th>363</th>\n",
       "      <td>26859</td>\n",
       "      <td>/home/amrit/data/proj_data/MLG_project/DLBCL-M...</td>\n",
       "    </tr>\n",
       "  </tbody>\n",
       "</table>\n",
       "<p>364 rows × 2 columns</p>\n",
       "</div>"
      ],
      "text/plain": [
       "     patient_id                                           featpath\n",
       "0         13901  /home/amrit/data/proj_data/MLG_project/DLBCL-M...\n",
       "1         13901  /home/amrit/data/proj_data/MLG_project/DLBCL-M...\n",
       "2         13902  /home/amrit/data/proj_data/MLG_project/DLBCL-M...\n",
       "3         13902  /home/amrit/data/proj_data/MLG_project/DLBCL-M...\n",
       "4         13903  /home/amrit/data/proj_data/MLG_project/DLBCL-M...\n",
       "..          ...                                                ...\n",
       "359       26857  /home/amrit/data/proj_data/MLG_project/DLBCL-M...\n",
       "360       26858  /home/amrit/data/proj_data/MLG_project/DLBCL-M...\n",
       "361       26858  /home/amrit/data/proj_data/MLG_project/DLBCL-M...\n",
       "362       26859  /home/amrit/data/proj_data/MLG_project/DLBCL-M...\n",
       "363       26859  /home/amrit/data/proj_data/MLG_project/DLBCL-M...\n",
       "\n",
       "[364 rows x 2 columns]"
      ]
     },
     "metadata": {},
     "output_type": "display_data"
    },
    {
     "name": "stderr",
     "output_type": "stream",
     "text": [
      "  0%|          | 0/319 [00:00<?, ?it/s]|2023-11-21|22:13:33.434| [WARNING] /home/amrit/anaconda3/envs/DL2/lib/python3.10/site-packages/umap/distances.py:1063: NumbaDeprecationWarning: The 'nopython' keyword argument was not supplied to the 'numba.jit' decorator. The implicit default value for this argument is currently False, but it will be changed to True in Numba 0.59.0. See https://numba.readthedocs.io/en/stable/reference/deprecation.html#deprecation-of-object-mode-fall-back-behaviour-when-using-jit for details.\n",
      "  @numba.jit()\n",
      "\n",
      "|2023-11-21|22:13:33.435| [WARNING] /home/amrit/anaconda3/envs/DL2/lib/python3.10/site-packages/umap/distances.py:1071: NumbaDeprecationWarning: The 'nopython' keyword argument was not supplied to the 'numba.jit' decorator. The implicit default value for this argument is currently False, but it will be changed to True in Numba 0.59.0. See https://numba.readthedocs.io/en/stable/reference/deprecation.html#deprecation-of-object-mode-fall-back-behaviour-when-using-jit for details.\n",
      "  @numba.jit()\n",
      "\n",
      "|2023-11-21|22:13:33.435| [WARNING] /home/amrit/anaconda3/envs/DL2/lib/python3.10/site-packages/umap/distances.py:1086: NumbaDeprecationWarning: The 'nopython' keyword argument was not supplied to the 'numba.jit' decorator. The implicit default value for this argument is currently False, but it will be changed to True in Numba 0.59.0. See https://numba.readthedocs.io/en/stable/reference/deprecation.html#deprecation-of-object-mode-fall-back-behaviour-when-using-jit for details.\n",
      "  @numba.jit()\n",
      "\n",
      "|2023-11-21|22:13:33.436| [WARNING] /home/amrit/anaconda3/envs/DL2/lib/python3.10/site-packages/umap/distances.py:1063: NumbaDeprecationWarning: The 'nopython' keyword argument was not supplied to the 'numba.jit' decorator. The implicit default value for this argument is currently False, but it will be changed to True in Numba 0.59.0. See https://numba.readthedocs.io/en/stable/reference/deprecation.html#deprecation-of-object-mode-fall-back-behaviour-when-using-jit for details.\n",
      "  @numba.jit()\n",
      "\n",
      "|2023-11-21|22:13:33.436| [WARNING] /home/amrit/anaconda3/envs/DL2/lib/python3.10/site-packages/umap/distances.py:1071: NumbaDeprecationWarning: The 'nopython' keyword argument was not supplied to the 'numba.jit' decorator. The implicit default value for this argument is currently False, but it will be changed to True in Numba 0.59.0. See https://numba.readthedocs.io/en/stable/reference/deprecation.html#deprecation-of-object-mode-fall-back-behaviour-when-using-jit for details.\n",
      "  @numba.jit()\n",
      "\n",
      "|2023-11-21|22:13:33.436| [WARNING] /home/amrit/anaconda3/envs/DL2/lib/python3.10/site-packages/umap/distances.py:1086: NumbaDeprecationWarning: The 'nopython' keyword argument was not supplied to the 'numba.jit' decorator. The implicit default value for this argument is currently False, but it will be changed to True in Numba 0.59.0. See https://numba.readthedocs.io/en/stable/reference/deprecation.html#deprecation-of-object-mode-fall-back-behaviour-when-using-jit for details.\n",
      "  @numba.jit()\n",
      "\n",
      "|2023-11-21|22:13:33.441| [WARNING] /home/amrit/anaconda3/envs/DL2/lib/python3.10/site-packages/umap/distances.py:1063: NumbaDeprecationWarning: The 'nopython' keyword argument was not supplied to the 'numba.jit' decorator. The implicit default value for this argument is currently False, but it will be changed to True in Numba 0.59.0. See https://numba.readthedocs.io/en/stable/reference/deprecation.html#deprecation-of-object-mode-fall-back-behaviour-when-using-jit for details.\n",
      "  @numba.jit()\n",
      "\n",
      "|2023-11-21|22:13:33.441| [WARNING] /home/amrit/anaconda3/envs/DL2/lib/python3.10/site-packages/umap/distances.py:1071: NumbaDeprecationWarning: The 'nopython' keyword argument was not supplied to the 'numba.jit' decorator. The implicit default value for this argument is currently False, but it will be changed to True in Numba 0.59.0. See https://numba.readthedocs.io/en/stable/reference/deprecation.html#deprecation-of-object-mode-fall-back-behaviour-when-using-jit for details.\n",
      "  @numba.jit()\n",
      "\n",
      "|2023-11-21|22:13:33.441| [WARNING] /home/amrit/anaconda3/envs/DL2/lib/python3.10/site-packages/umap/distances.py:1086: NumbaDeprecationWarning: The 'nopython' keyword argument was not supplied to the 'numba.jit' decorator. The implicit default value for this argument is currently False, but it will be changed to True in Numba 0.59.0. See https://numba.readthedocs.io/en/stable/reference/deprecation.html#deprecation-of-object-mode-fall-back-behaviour-when-using-jit for details.\n",
      "  @numba.jit()\n",
      "\n",
      "|2023-11-21|22:13:33.528| [WARNING] /home/amrit/anaconda3/envs/DL2/lib/python3.10/site-packages/umap/distances.py:1063: NumbaDeprecationWarning: The 'nopython' keyword argument was not supplied to the 'numba.jit' decorator. The implicit default value for this argument is currently False, but it will be changed to True in Numba 0.59.0. See https://numba.readthedocs.io/en/stable/reference/deprecation.html#deprecation-of-object-mode-fall-back-behaviour-when-using-jit for details.\n",
      "  @numba.jit()\n",
      "\n",
      "|2023-11-21|22:13:33.528| [WARNING] /home/amrit/anaconda3/envs/DL2/lib/python3.10/site-packages/umap/distances.py:1071: NumbaDeprecationWarning: The 'nopython' keyword argument was not supplied to the 'numba.jit' decorator. The implicit default value for this argument is currently False, but it will be changed to True in Numba 0.59.0. See https://numba.readthedocs.io/en/stable/reference/deprecation.html#deprecation-of-object-mode-fall-back-behaviour-when-using-jit for details.\n",
      "  @numba.jit()\n",
      "\n",
      "|2023-11-21|22:13:33.528| [WARNING] /home/amrit/anaconda3/envs/DL2/lib/python3.10/site-packages/umap/distances.py:1086: NumbaDeprecationWarning: The 'nopython' keyword argument was not supplied to the 'numba.jit' decorator. The implicit default value for this argument is currently False, but it will be changed to True in Numba 0.59.0. See https://numba.readthedocs.io/en/stable/reference/deprecation.html#deprecation-of-object-mode-fall-back-behaviour-when-using-jit for details.\n",
      "  @numba.jit()\n",
      "\n",
      "|2023-11-21|22:13:36.852| [WARNING] /home/amrit/anaconda3/envs/DL2/lib/python3.10/site-packages/umap/umap_.py:660: NumbaDeprecationWarning: The 'nopython' keyword argument was not supplied to the 'numba.jit' decorator. The implicit default value for this argument is currently False, but it will be changed to True in Numba 0.59.0. See https://numba.readthedocs.io/en/stable/reference/deprecation.html#deprecation-of-object-mode-fall-back-behaviour-when-using-jit for details.\n",
      "  @numba.jit()\n",
      "\n",
      "|2023-11-21|22:13:36.861| [WARNING] /home/amrit/anaconda3/envs/DL2/lib/python3.10/site-packages/umap/umap_.py:660: NumbaDeprecationWarning: The 'nopython' keyword argument was not supplied to the 'numba.jit' decorator. The implicit default value for this argument is currently False, but it will be changed to True in Numba 0.59.0. See https://numba.readthedocs.io/en/stable/reference/deprecation.html#deprecation-of-object-mode-fall-back-behaviour-when-using-jit for details.\n",
      "  @numba.jit()\n",
      "\n",
      "|2023-11-21|22:13:36.888| [WARNING] /home/amrit/anaconda3/envs/DL2/lib/python3.10/site-packages/umap/umap_.py:660: NumbaDeprecationWarning: The 'nopython' keyword argument was not supplied to the 'numba.jit' decorator. The implicit default value for this argument is currently False, but it will be changed to True in Numba 0.59.0. See https://numba.readthedocs.io/en/stable/reference/deprecation.html#deprecation-of-object-mode-fall-back-behaviour-when-using-jit for details.\n",
      "  @numba.jit()\n",
      "\n",
      "|2023-11-21|22:13:37.059| [WARNING] /home/amrit/anaconda3/envs/DL2/lib/python3.10/site-packages/umap/umap_.py:660: NumbaDeprecationWarning: The 'nopython' keyword argument was not supplied to the 'numba.jit' decorator. The implicit default value for this argument is currently False, but it will be changed to True in Numba 0.59.0. See https://numba.readthedocs.io/en/stable/reference/deprecation.html#deprecation-of-object-mode-fall-back-behaviour-when-using-jit for details.\n",
      "  @numba.jit()\n",
      "\n",
      "100%|██████████| 319/319 [01:08<00:00,  4.68it/s]\n"
     ]
    }
   ],
   "source": [
    "\n",
    "# Graph construction\n",
    "PATCH_SIZE = 300\n",
    "SKEW_NOISE = 0.0001\n",
    "MIN_CELLS_PER_PATCH = 10\n",
    "CONNECTIVITY_DISTANCE = 500\n",
    "\n",
    "\n",
    "# divide into quantiles\n",
    "df = pd.read_csv(CLINPATH)\n",
    "df_labels = get_pids_labels_for_key(df, key='OS', nclasses=3)\n",
    "\n",
    "# # save paths\n",
    "# featpaths = np.sort(glob.glob(f'{FEATSDIR}/**/*.dat', recursive=True)) #np.sort(glob.glob(f'{FEATSDIR}/*.dat'))\n",
    "# featpaths = [x if \"/0.dat\" not in x for x in featpaths]\n",
    "featpaths = np.sort(glob.glob(f'{FEATSDIR}/**/*.dat', recursive=True)) #np.sort(glob.glob(f'{FEATSDIR}/*.dat'))\n",
    "featpaths = [x for x in featpaths if (\"/0.dat\" not in x) and (\"/file_map.dat\" not in x)]\n",
    "featpaths\n",
    "pids = [int(osp.basename(featpath).split('_')[0]) for featpath in featpaths]\n",
    "df_featpaths = pd.DataFrame(zip(pids, featpaths), columns=['patient_id', 'featpath'])\n",
    "\n",
    "# merge to find datapoints with graph data and labels\n",
    "df_data = df_featpaths.merge(df_labels, on='patient_id')\n",
    "# df_data = df_data[:12]\n",
    "\n",
    "featpaths_data = df_data['featpath'].to_list()\n",
    "labels_data = df_data['OS_class'].to_list()\n",
    "display(df_featpaths)\n",
    "\n",
    "outgraphpaths_data = [f\"{GRAPHSDIR}/{osp.basename(featpath).split('.')[0]}.json\" for featpath in featpaths_data]\n",
    "\n",
    "# save labels\n",
    "labels_dict = {osp.basename(graphpath): label for graphpath, label in zip(outgraphpaths_data, labels_data)}\n",
    "with open(LABELSPATH, 'w') as f:\n",
    "    json.dump(labels_dict, f)\n",
    "\n",
    "\n",
    "# read normalizer stats from file and pass to fn\n",
    "dd = np.load(FEATSCALERPATH)\n",
    "cell_feat_norm_stats = (dd['mean'], dd['var'])\n",
    "\n",
    "# create final graphs data\n",
    "shutil.rmtree(GRAPHSDIR)\n",
    "if not osp.exists(GRAPHSDIR):\n",
    "    os.makedirs(GRAPHSDIR)\n",
    "    create_graph_with_pooled_patch_nodes(\n",
    "        featpaths_data,\n",
    "        labels_data,\n",
    "        outgraphpaths_data,\n",
    "        PATCH_SIZE,\n",
    "        cell_feat_norm_stats=cell_feat_norm_stats,\n",
    "        MIN_CELLS_PER_PATCH= MIN_CELLS_PER_PATCH,\n",
    "        CONNECTIVITY_DISTANCE = CONNECTIVITY_DISTANCE\n",
    "    )\n",
    "    # wont work in parallel mode\n",
    "    # print(np.mean(global_patch_stats), np.std(global_patch_stats))"
   ]
  },
  {
   "cell_type": "code",
   "execution_count": 79,
   "metadata": {},
   "outputs": [
    {
     "data": {
      "text/plain": [
       "319"
      ]
     },
     "execution_count": 79,
     "metadata": {},
     "output_type": "execute_result"
    }
   ],
   "source": [
    "len(labels_data)"
   ]
  },
  {
   "cell_type": "markdown",
   "metadata": {},
   "source": [
    "# Create data splits"
   ]
  },
  {
   "cell_type": "code",
   "execution_count": 28,
   "metadata": {},
   "outputs": [
    {
     "data": {
      "text/plain": [
       "'/home/amrit/data/proj_data/MLG_project/DLBCL-Morph/graphs/BCL2'"
      ]
     },
     "execution_count": 28,
     "metadata": {},
     "output_type": "execute_result"
    }
   ],
   "source": [
    "GRAPHSDIR"
   ]
  },
  {
   "cell_type": "code",
   "execution_count": 80,
   "metadata": {},
   "outputs": [
    {
     "data": {
      "text/plain": [
       "(319,\n",
       " 319,\n",
       " ['13901_MYC_532',\n",
       "  '13901_MYC_557',\n",
       "  '13902_MYC_513',\n",
       "  '13902_MYC_514',\n",
       "  '13903_MYC_535'])"
      ]
     },
     "execution_count": 80,
     "metadata": {},
     "output_type": "execute_result"
    }
   ],
   "source": [
    "wsi_paths = recur_find_ext(GRAPHSDIR, [\".json\"])\n",
    "wsi_names = [Path(v).stem for v in wsi_paths]\n",
    "assert len(wsi_paths) > 0, \"No files found.\"  # noqa: S101\n",
    "\n",
    "len(wsi_paths) , len(wsi_names) , wsi_names[:5]"
   ]
  },
  {
   "cell_type": "code",
   "execution_count": 81,
   "metadata": {},
   "outputs": [
    {
     "name": "stdout",
     "output_type": "stream",
     "text": [
      "{'13901_MYC_532.json': 0, '13901_MYC_557.json': 0, '13902_MYC_513.json': 2, '13902_MYC_514.json': 2, '13903_MYC_535.json': 2, '13903_MYC_560.json': 2, '13904_MYC_539.json': 1, '13904_MYC_550.json': 1, '13908_MYC_527.json': 1, '13908_MYC_555.json': 1, '13911_MYC_520.json': 2, '13911_MYC_533.json': 2, '13912_MYC_530.json': 0, '13913_MYC_536.json': 0, '13913_MYC_554.json': 0, '13914_MYC_534.json': 0, '13914_MYC_556.json': 0, '13915_MYC_516.json': 2, '13915_MYC_547.json': 2, '13917_MYC_526.json': 2, '13917_MYC_551.json': 2, '13919_MYC_518.json': 0, '13919_MYC_528.json': 0, '13920_MYC_549.json': 2, '13922_MYC_558.json': 2, '13923_MYC_525.json': 2, '13923_MYC_538.json': 2, '13924_MYC_515.json': 1, '13924_MYC_548.json': 1, '13952_MYC_2587.json': 1, '13952_MYC_2589.json': 1, '13953_MYC_2611.json': 2, '13953_MYC_2639.json': 2, '13954_MYC_2592.json': 2, '13955_MYC_2637.json': 1, '13957_MYC_2646.json': 1, '13958_MYC_2600.json': 2, '13958_MYC_2640.json': 2, '13959_MYC_2593.json': 1, '13959_MYC_2644.json': 1, '13960_MYC_2597.json': 1, '13961_MYC_2613.json': 0, '13961_MYC_2626.json': 0, '13962_MYC_2585.json': 1, '13962_MYC_2605.json': 1, '13963_MYC_2610.json': 0, '13963_MYC_2635.json': 0, '13964_MYC_2632.json': 2, '13965_MYC_2604.json': 2, '13965_MYC_2606.json': 2, '13966_MYC_2603.json': 2, '13966_MYC_2617.json': 2, '13971_MYC_2596.json': 1, '13971_MYC_2634.json': 1, '13972_MYC_2623.json': 2, '13972_MYC_2636.json': 2, '13973_MYC_2619.json': 2, '13973_MYC_2641.json': 2, '13974_MYC_2588.json': 2, '13974_MYC_2633.json': 2, '13976_MYC_2586.json': 1, '13976_MYC_2620.json': 1, '13977_MYC_2599.json': 2, '13977_MYC_2629.json': 2, '13978_MYC_2608.json': 2, '13978_MYC_2621.json': 2, '13979_MYC_2618.json': 1, '13979_MYC_2631.json': 1, '13980_MYC_2591.json': 1, '13980_MYC_2622.json': 1, '13981_MYC_2609.json': 2, '13981_MYC_2615.json': 2, '13983_MYC_2594.json': 2, '13983_MYC_2627.json': 2, '13986_MYC_2607.json': 1, '13986_MYC_2625.json': 1, '13988_MYC_2630.json': 2, '13989_MYC_2614.json': 0, '17643_MYC_2555.json': 1, '17643_MYC_2583.json': 1, '17648_MYC_2534.json': 1, '17648_MYC_2570.json': 1, '17649_MYC_2535.json': 2, '17649_MYC_2536.json': 2, '17650_MYC_2546.json': 2, '17650_MYC_2569.json': 2, '17653_MYC_2581.json': 0, '17654_MYC_2564.json': 2, '17654_MYC_2584.json': 2, '17656_MYC_2560.json': 2, '17656_MYC_2567.json': 2, '17657_MYC_2541.json': 2, '17657_MYC_2551.json': 2, '17658_MYC_2554.json': 2, '17658_MYC_2563.json': 2, '17660_MYC_2540.json': 2, '17660_MYC_2575.json': 2, '17662_MYC_2559.json': 0, '17662_MYC_2562.json': 0, '17664_MYC_2552.json': 2, '17664_MYC_2579.json': 2, '17666_MYC_2543.json': 0, '17666_MYC_2548.json': 0, '17667_MYC_2532.json': 2, '17667_MYC_2537.json': 2, '17669_MYC_2574.json': 2, '17670_MYC_2539.json': 1, '17670_MYC_2572.json': 1, '17673_MYC_2557.json': 2, '17673_MYC_2571.json': 2, '18828_MYC_2347.json': 2, '18828_MYC_2352.json': 2, '18829_MYC_2350.json': 2, '18829_MYC_2354.json': 2, '18830_MYC_2341.json': 2, '18830_MYC_2358.json': 2, '18831_MYC_2316.json': 2, '18831_MYC_2344.json': 2, '18831_MYC_2364.json': 2, '18833_MYC_2355.json': 1, '18834_MYC_2336.json': 1, '18834_MYC_2346.json': 1, '18835_MYC_2361.json': 1, '18835_MYC_2367.json': 1, '18836_MYC_2315.json': 2, '18836_MYC_2351.json': 2, '18837_MYC_2327.json': 0, '18837_MYC_2373.json': 0, '18838_MYC_2342.json': 1, '18838_MYC_2366.json': 1, '18839_MYC_2339.json': 0, '18840_MYC_2319.json': 1, '18840_MYC_2356.json': 1, '18841_MYC_2343.json': 2, '18843_MYC_2330.json': 1, '18843_MYC_2370.json': 1, '18844_MYC_2357.json': 1, '18845_MYC_2332.json': 2, '18845_MYC_2353.json': 2, '18846_MYC_2320.json': 2, '18846_MYC_2338.json': 2, '18847_MYC_2321.json': 2, '18847_MYC_2362.json': 2, '18848_MYC_2349.json': 1, '18848_MYC_2374.json': 1, '18849_MYC_2314.json': 0, '18849_MYC_2337.json': 0, '18851_MYC_2363.json': 0, '18851_MYC_2372.json': 0, '18852_MYC_2325.json': 0, '18852_MYC_2334.json': 0, '19667_MYC_2265.json': 1, '19667_MYC_2276.json': 1, '19669_MYC_2252.json': 2, '19669_MYC_2286.json': 2, '19670_MYC_2291.json': 1, '19670_MYC_2293.json': 1, '19672_MYC_2254.json': 2, '19672_MYC_2304.json': 2, '19673_MYC_2259.json': 1, '19673_MYC_2269.json': 1, '19674_MYC_2264.json': 0, '19674_MYC_2303.json': 0, '19675_MYC_2277.json': 2, '19675_MYC_2309.json': 2, '19676_MYC_2262.json': 1, '19676_MYC_2308.json': 1, '19677_MYC_2255.json': 0, '19678_MYC_2287.json': 1, '19679_MYC_2275.json': 1, '19679_MYC_2290.json': 1, '19681_MYC_2257.json': 1, '19681_MYC_2310.json': 1, '19682_MYC_2296.json': 0, '19682_MYC_2301.json': 0, '19683_MYC_2253.json': 1, '19683_MYC_2271.json': 1, '19684_MYC_2272.json': 2, '19684_MYC_2285.json': 2, '19685_MYC_2280.json': 2, '19685_MYC_2289.json': 2, '19687_MYC_2292.json': 2, '19687_MYC_2297.json': 2, '19688_MYC_2288.json': 1, '19688_MYC_2313.json': 1, '19689_MYC_2298.json': 2, '19689_MYC_2299.json': 2, '19690_MYC_2273.json': 1, '19690_MYC_2294.json': 1, '19691_MYC_2282.json': 1, '19691_MYC_2284.json': 1, '19692_MYC_2279.json': 0, '19692_MYC_2281.json': 0, '19693_MYC_2260.json': 0, '19693_MYC_2278.json': 0, '19694_MYC_2283.json': 1, '19694_MYC_2302.json': 1, '19695_MYC_2270.json': 1, '19695_MYC_2295.json': 1, '19697_MYC_2256.json': 1, '19697_MYC_2274.json': 1, '19698_MYC_2300.json': 1, '19698_MYC_2306.json': 1, '19700_MYC_2258.json': 0, '19700_MYC_2268.json': 0, '26786_MYC_1916.json': 1, '26786_MYC_1961.json': 1, '26787_MYC_1941.json': 0, '26787_MYC_1944.json': 0, '26788_MYC_1925.json': 2, '26788_MYC_1937.json': 2, '26789_MYC_1934.json': 2, '26789_MYC_1949.json': 2, '26790_MYC_1939.json': 1, '26790_MYC_1969.json': 1, '26791_MYC_1907.json': 0, '26791_MYC_1951.json': 0, '26792_MYC_1918.json': 0, '26793_MYC_1922.json': 1, '26793_MYC_1968.json': 1, '26794_MYC_1909.json': 1, '26794_MYC_1936.json': 1, '26795_MYC_1928.json': 2, '26795_MYC_1959.json': 2, '26796_MYC_1912.json': 2, '26796_MYC_1931.json': 2, '26797_MYC_1914.json': 0, '26798_MYC_1908.json': 0, '26798_MYC_1947.json': 0, '26799_MYC_1943.json': 0, '26799_MYC_1963.json': 0, '26800_MYC_1970.json': 0, '26801_MYC_1921.json': 0, '26801_MYC_1957.json': 0, '26802_MYC_1940.json': 0, '26802_MYC_1948.json': 0, '26803_MYC_1924.json': 0, '26803_MYC_1932.json': 0, '26804_MYC_1929.json': 2, '26804_MYC_1971.json': 2, '26805_MYC_1913.json': 2, '26805_MYC_1923.json': 2, '26806_MYC_1966.json': 0, '26808_MYC_1935.json': 1, '26808_MYC_1942.json': 1, '26809_MYC_1933.json': 0, '26809_MYC_1956.json': 0, '26810_MYC_1926.json': 0, '26810_MYC_1964.json': 0, '26811_MYC_1952.json': 0, '26812_MYC_1930.json': 1, '26812_MYC_1960.json': 1, '26813_MYC_629.json': 1, '26814_MYC_599.json': 1, '26816_MYC_605.json': 0, '26816_MYC_610.json': 0, '26817_MYC_617.json': 0, '26817_MYC_631.json': 0, '26818_MYC_583.json': 0, '26819_MYC_575.json': 1, '26819_MYC_634.json': 1, '26820_MYC_611.json': 0, '26820_MYC_618.json': 0, '26821_MYC_600.json': 0, '26821_MYC_603.json': 0, '26822_MYC_566.json': 1, '26822_MYC_628.json': 1, '26823_MYC_602.json': 0, '26823_MYC_626.json': 0, '26824_MYC_604.json': 0, '26825_MYC_580.json': 0, '26825_MYC_633.json': 0, '26826_MYC_582.json': 0, '26828_MYC_607.json': 0, '26828_MYC_616.json': 0, '26829_MYC_581.json': 0, '26830_MYC_563.json': 1, '26830_MYC_585.json': 1, '26831_MYC_591.json': 1, '26832_MYC_615.json': 0, '26832_MYC_622.json': 0, '26833_MYC_564.json': 0, '26833_MYC_567.json': 0, '26834_MYC_587.json': 1, '26834_MYC_635.json': 1, '26835_MYC_592.json': 0, '26836_MYC_570.json': 0, '26838_MYC_574.json': 1, '26838_MYC_578.json': 1, '26839_MYC_593.json': 0, '26839_MYC_624.json': 0, '26841_MYC_595.json': 0, '26841_MYC_608.json': 0, '26842_MYC_573.json': 1, '26842_MYC_586.json': 1, '26843_MYC_612.json': 1, '26843_MYC_614.json': 1, '26844_MYC_609.json': 0, '26845_MYC_565.json': 0, '26845_MYC_625.json': 0, '26846_MYC_571.json': 1, '26846_MYC_623.json': 1, '26847_MYC_568.json': 0, '26847_MYC_630.json': 0, '26848_MYC_584.json': 0, '26848_MYC_594.json': 0, '26849_MYC_598.json': 1, '26849_MYC_619.json': 1, '26850_MYC_576.json': 0, '26850_MYC_620.json': 0, '26851_MYC_589.json': 2, '26851_MYC_596.json': 2, '26853_MYC_579.json': 0, '26853_MYC_597.json': 0, '26857_MYC_561.json': 1, '26858_MYC_601.json': 1, '26858_MYC_606.json': 1, '26859_MYC_572.json': 2, '26859_MYC_627.json': 2}\n"
     ]
    },
    {
     "data": {
      "text/plain": [
       "['/home/amrit/data/proj_data/MLG_project/DLBCL-Morph/training/splits_MYC.dat']"
      ]
     },
     "execution_count": 81,
     "metadata": {},
     "output_type": "execute_result"
    }
   ],
   "source": [
    "NUM_FOLDS = 1\n",
    "TEST_RATIO = 0.2\n",
    "TRAIN_RATIO = 0.8 * 0.7\n",
    "VALID_RATIO = 0.8 * 0.3\n",
    "\n",
    "# if SPLIT_PATH and os.path.exists(SPLIT_PATH):\n",
    "#     splits = joblib.load(SPLIT_PATH)\n",
    "# else:\n",
    "x = np.array(wsi_names)\n",
    "with open(LABELSPATH, 'r') as f:\n",
    "    labels_dict = json.load(f)\n",
    "print(labels_dict)\n",
    "y = np.array([labels_dict[wsi_name+'.json'] for wsi_name in wsi_names])\n",
    "y[np.where(y==-1)] = 0\n",
    "splits = stratified_split(x, y, TRAIN_RATIO, VALID_RATIO, TEST_RATIO, NUM_FOLDS)\n",
    "joblib.dump(splits, SPLIT_PATH)\n"
   ]
  },
  {
   "cell_type": "code",
   "execution_count": 82,
   "metadata": {},
   "outputs": [
    {
     "data": {
      "text/plain": [
       "array([0, 0, 2, 2, 2, 2, 1, 1, 1, 1, 2, 2, 0, 0, 0, 0, 0, 2, 2, 2, 2, 0,\n",
       "       0, 2, 2, 2, 2, 1, 1, 1, 1, 2, 2, 2, 1, 1, 2, 2, 1, 1, 1, 0, 0, 1,\n",
       "       1, 0, 0, 2, 2, 2, 2, 2, 1, 1, 2, 2, 2, 2, 2, 2, 1, 1, 2, 2, 2, 2,\n",
       "       1, 1, 1, 1, 2, 2, 2, 2, 1, 1, 2, 0, 1, 1, 1, 1, 2, 2, 2, 2, 0, 2,\n",
       "       2, 2, 2, 2, 2, 2, 2, 2, 2, 0, 0, 2, 2, 0, 0, 2, 2, 2, 1, 1, 2, 2,\n",
       "       2, 2, 2, 2, 2, 2, 2, 2, 2, 1, 1, 1, 1, 1, 2, 2, 0, 0, 1, 1, 0, 1,\n",
       "       1, 2, 1, 1, 1, 2, 2, 2, 2, 2, 2, 1, 1, 0, 0, 0, 0, 0, 0, 1, 1, 2,\n",
       "       2, 1, 1, 2, 2, 1, 1, 0, 0, 2, 2, 1, 1, 0, 1, 1, 1, 1, 1, 0, 0, 1,\n",
       "       1, 2, 2, 2, 2, 2, 2, 1, 1, 2, 2, 1, 1, 1, 1, 0, 0, 0, 0, 1, 1, 1,\n",
       "       1, 1, 1, 1, 1, 0, 0, 1, 1, 0, 0, 2, 2, 2, 2, 1, 1, 0, 0, 0, 1, 1,\n",
       "       1, 1, 2, 2, 2, 2, 0, 0, 0, 0, 0, 0, 0, 0, 0, 0, 0, 0, 2, 2, 2, 2,\n",
       "       0, 1, 1, 0, 0, 0, 0, 0, 1, 1, 1, 1, 0, 0, 0, 0, 0, 1, 1, 0, 0, 0,\n",
       "       0, 1, 1, 0, 0, 0, 0, 0, 0, 0, 0, 0, 1, 1, 1, 0, 0, 0, 0, 1, 1, 0,\n",
       "       0, 1, 1, 0, 0, 0, 0, 1, 1, 1, 1, 0, 0, 0, 1, 1, 0, 0, 0, 0, 1, 1,\n",
       "       0, 0, 2, 2, 0, 0, 1, 1, 1, 2, 2])"
      ]
     },
     "execution_count": 82,
     "metadata": {},
     "output_type": "execute_result"
    }
   ],
   "source": [
    "y"
   ]
  },
  {
   "cell_type": "code",
   "execution_count": null,
   "metadata": {},
   "outputs": [],
   "source": []
  },
  {
   "cell_type": "code",
   "execution_count": null,
   "metadata": {},
   "outputs": [],
   "source": []
  },
  {
   "cell_type": "code",
   "execution_count": 83,
   "metadata": {},
   "outputs": [],
   "source": [
    "from src.utils import load_json, rm_n_mkdir, mkdir, recur_find_ext\n",
    "from src.dset import SlideGraphDataset, stratified_split, StratifiedSampler\n",
    "import warnings\n",
    "warnings.filterwarnings(\"ignore\")\n",
    "\n",
    "nodes_preproc_func = None\n",
    "\n",
    "def sample_data(  # noqa: C901, PLR0912, PLR0915\n",
    "    dataset_dict: dict,\n",
    "    GRAPH_DIR = None) -> list:\n",
    "    \n",
    "    for subset_name, subset in dataset_dict.items():\n",
    "        ds = SlideGraphDataset(subset, mode=\"train\", preproc=nodes_preproc_func, graph_dir=GRAPH_DIR)\n",
    "    \n",
    "    return ds\n",
    "\n",
    "splits = joblib.load(SPLIT_PATH)\n",
    "\n",
    "for split_idx, split in enumerate(splits):\n",
    "    new_split = {\n",
    "                \"train\": split[\"train\"],\n",
    "                \"infer-train\": split[\"train\"],\n",
    "                \"infer-valid-A\": split[\"valid\"],\n",
    "                \"infer-valid-B\": split[\"test\"],\n",
    "            }\n",
    "    ds = sample_data(new_split, GRAPHSDIR)\n",
    "\n",
    "sample = ds.__getitem__(3)"
   ]
  },
  {
   "cell_type": "code",
   "execution_count": 84,
   "metadata": {},
   "outputs": [
    {
     "data": {
      "text/plain": [
       "Data(x=[73, 128], edge_index=[2, 382], y=1, coordinates=[73, 2])"
      ]
     },
     "metadata": {},
     "output_type": "display_data"
    },
    {
     "data": {
      "text/plain": [
       "tensor([[-0.3422,  0.7238, -0.0408,  ...,  1.4282,  1.5008,  2.8769],\n",
       "        [-0.6838,  0.5138, -0.5111,  ...,  0.8528,  0.8395,  2.9245],\n",
       "        [-0.4224,  0.4728, -0.3540,  ...,  1.3297,  1.3726,  3.8084],\n",
       "        ...,\n",
       "        [-0.2560,  0.6157, -0.5808,  ...,  1.5298,  1.6022,  3.3516],\n",
       "        [-0.4646,  0.7058, -0.5871,  ...,  1.3005,  1.3412,  2.8971],\n",
       "        [-0.4629,  0.6778, -0.4312,  ...,  1.5494,  1.5737,  3.9638]],\n",
       "       dtype=torch.float64)"
      ]
     },
     "metadata": {},
     "output_type": "display_data"
    },
    {
     "data": {
      "text/plain": [
       "tensor([[ 0,  0,  0,  0,  1,  1,  1,  2,  2,  2,  2,  3,  3,  3,  3,  4,  4,  4,\n",
       "          4,  4,  5,  5,  5,  5,  5,  6,  6,  6,  6,  6,  6,  7,  7,  7,  7,  7,\n",
       "          7,  8,  8,  8,  8,  8,  9,  9,  9,  9,  9, 10, 10, 10, 10, 11, 11, 11,\n",
       "         11, 11, 12, 12, 12, 12, 12, 13, 13, 13, 13, 13, 13, 13, 14, 14, 14, 14,\n",
       "         14, 14, 14, 15, 15, 15, 15, 15, 15, 16, 16, 16, 16, 17, 17, 17, 17, 17,\n",
       "         18, 18, 18, 18, 19, 19, 19, 19, 19, 20, 20, 20, 20, 20, 20, 20, 20, 21,\n",
       "         21, 21, 21, 21, 22, 22, 22, 22, 22, 23, 23, 23, 23, 23, 23, 24, 24, 24,\n",
       "         24, 24, 24, 24, 25, 25, 25, 25, 25, 26, 26, 26, 26, 27, 27, 27, 28, 28,\n",
       "         28, 28, 28, 28, 28, 29, 29, 29, 29, 29, 29, 30, 30, 30, 30, 30, 30, 31,\n",
       "         31, 31, 31, 31, 31, 32, 32, 32, 32, 32, 32, 32, 33, 33, 33, 33, 33, 33,\n",
       "         34, 34, 34, 34, 34, 35, 35, 35, 35, 36, 36, 36, 36, 37, 37, 37, 37, 37,\n",
       "         37, 38, 38, 38, 38, 38, 38, 39, 39, 39, 39, 39, 39, 39, 40, 40, 40, 40,\n",
       "         40, 40, 41, 41, 41, 41, 42, 42, 42, 42, 42, 42, 43, 43, 43, 43, 43, 43,\n",
       "         43, 43, 44, 44, 44, 45, 45, 45, 45, 46, 46, 46, 46, 46, 46, 47, 47, 47,\n",
       "         47, 47, 47, 48, 48, 48, 48, 48, 49, 49, 49, 49, 49, 49, 49, 50, 50, 50,\n",
       "         50, 50, 50, 50, 51, 51, 51, 51, 51, 52, 52, 52, 52, 52, 52, 53, 53, 53,\n",
       "         53, 54, 54, 54, 54, 55, 55, 55, 55, 55, 56, 56, 56, 56, 56, 56, 57, 57,\n",
       "         57, 57, 57, 57, 58, 58, 58, 58, 58, 58, 59, 59, 59, 59, 59, 59, 60, 60,\n",
       "         60, 60, 60, 60, 60, 61, 61, 61, 61, 62, 62, 62, 62, 63, 63, 63, 63, 64,\n",
       "         64, 64, 64, 65, 65, 65, 65, 65, 65, 66, 66, 66, 66, 66, 67, 67, 67, 67,\n",
       "         67, 67, 68, 68, 68, 68, 68, 69, 69, 69, 69, 70, 70, 70, 70, 71, 71, 71,\n",
       "         71, 72, 72, 72],\n",
       "        [ 1,  4,  5,  6,  0,  2,  6,  1,  3,  6,  7,  2,  7,  8,  9,  0,  5, 10,\n",
       "         11, 12,  0,  4,  6, 12, 13,  0,  1,  2,  5,  7, 13,  2,  3,  6,  8, 13,\n",
       "         14,  3,  7,  9, 14, 15,  3,  8, 15, 16, 17,  4, 11, 18, 19,  4, 10, 12,\n",
       "         19, 20,  4,  5, 11, 13, 20,  5,  6,  7, 12, 14, 20, 21,  7,  8, 13, 15,\n",
       "         21, 22, 23,  8,  9, 14, 16, 23, 24,  9, 15, 17, 24,  9, 16, 24, 25, 26,\n",
       "         10, 19, 27, 28, 10, 11, 18, 20, 28, 11, 12, 13, 19, 21, 28, 29, 30, 13,\n",
       "         14, 20, 22, 30, 14, 21, 23, 30, 31, 14, 15, 22, 24, 31, 32, 15, 16, 17,\n",
       "         23, 25, 32, 33, 17, 24, 26, 33, 34, 17, 25, 34, 35, 18, 28, 36, 18, 19,\n",
       "         20, 27, 29, 36, 37, 20, 28, 30, 37, 38, 39, 20, 21, 22, 29, 31, 39, 22,\n",
       "         23, 30, 32, 39, 40, 23, 24, 31, 33, 40, 41, 42, 24, 25, 32, 34, 42, 43,\n",
       "         25, 26, 33, 35, 43, 26, 34, 43, 44, 27, 28, 37, 45, 28, 29, 36, 38, 45,\n",
       "         46, 29, 37, 39, 46, 47, 48, 29, 30, 31, 38, 40, 48, 49, 31, 32, 39, 41,\n",
       "         49, 50, 32, 40, 42, 50, 32, 33, 41, 43, 50, 51, 33, 34, 35, 42, 44, 51,\n",
       "         52, 53, 35, 43, 53, 36, 37, 46, 54, 37, 38, 45, 47, 54, 55, 38, 46, 48,\n",
       "         55, 56, 57, 38, 39, 47, 49, 57, 39, 40, 48, 50, 57, 58, 59, 40, 41, 42,\n",
       "         49, 51, 59, 60, 42, 43, 50, 52, 60, 43, 51, 53, 60, 61, 62, 43, 44, 52,\n",
       "         62, 45, 46, 55, 63, 46, 47, 54, 56, 63, 47, 55, 57, 63, 64, 65, 47, 48,\n",
       "         49, 56, 58, 65, 49, 57, 59, 65, 66, 67, 49, 50, 58, 60, 67, 68, 50, 51,\n",
       "         52, 59, 61, 68, 69, 52, 60, 62, 69, 52, 53, 61, 69, 54, 55, 56, 64, 56,\n",
       "         63, 65, 70, 56, 57, 58, 64, 66, 70, 58, 65, 67, 70, 71, 58, 59, 66, 68,\n",
       "         71, 72, 59, 60, 67, 69, 72, 60, 61, 62, 68, 64, 65, 66, 71, 66, 67, 70,\n",
       "         72, 67, 68, 71]])"
      ]
     },
     "metadata": {},
     "output_type": "display_data"
    },
    {
     "data": {
      "text/plain": [
       "tensor(1)"
      ]
     },
     "metadata": {},
     "output_type": "display_data"
    },
    {
     "data": {
      "text/plain": [
       "tensor([[ 258.1287, 1120.5666],\n",
       "        [ 214.6071, 1364.1682],\n",
       "        [ 202.5461, 1628.5665],\n",
       "        [ 244.8567, 1953.5732],\n",
       "        [ 501.5717,  756.0352],\n",
       "        [ 472.8767, 1063.9933],\n",
       "        [ 448.5676, 1355.8731],\n",
       "        [ 444.8090, 1653.3079],\n",
       "        [ 463.7815, 1955.0860],\n",
       "        [ 474.5978, 2236.8770],\n",
       "        [ 758.0824,  524.7156],\n",
       "        [ 743.2552,  771.1221],\n",
       "        [ 731.7738, 1048.6695],\n",
       "        [ 753.5197, 1359.7750],\n",
       "        [ 757.3856, 1656.0150],\n",
       "        [ 766.4515, 1962.2483],\n",
       "        [ 764.1809, 2245.5292],\n",
       "        [ 774.0712, 2531.1890],\n",
       "        [1053.9456,  464.3224],\n",
       "        [1042.0817,  739.2097],\n",
       "        [1058.4759, 1073.2831],\n",
       "        [1044.9298, 1360.5932],\n",
       "        [1060.9097, 1647.9690],\n",
       "        [1042.7322, 1945.6238],\n",
       "        [1051.6896, 2244.1999],\n",
       "        [1058.7076, 2556.3594],\n",
       "        [1089.5511, 2760.4148],\n",
       "        [1342.5973,  452.9947],\n",
       "        [1357.7719,  740.3242],\n",
       "        [1367.3723, 1059.0892],\n",
       "        [1347.7761, 1353.0263],\n",
       "        [1348.9655, 1648.7305],\n",
       "        [1348.5987, 1965.1770],\n",
       "        [1346.1115, 2278.4042],\n",
       "        [1346.8411, 2539.9393],\n",
       "        [1352.7918, 2796.8030],\n",
       "        [1636.7345,  455.8849],\n",
       "        [1662.7667,  752.3473],\n",
       "        [1655.6418, 1047.8480],\n",
       "        [1657.8157, 1370.2548],\n",
       "        [1642.8152, 1666.4952],\n",
       "        [1642.1098, 1954.7456],\n",
       "        [1650.1848, 2231.9897],\n",
       "        [1640.6209, 2553.5933],\n",
       "        [1647.2444, 2825.6748],\n",
       "        [1947.4953,  461.2043],\n",
       "        [1930.0681,  765.2232],\n",
       "        [1959.0106, 1039.8691],\n",
       "        [1948.8323, 1365.3018],\n",
       "        [1960.1178, 1634.6732],\n",
       "        [1951.0182, 1964.0632],\n",
       "        [1944.7029, 2253.4142],\n",
       "        [1965.6792, 2536.9880],\n",
       "        [1958.6055, 2799.5097],\n",
       "        [2190.7105,  517.3470],\n",
       "        [2246.7963,  763.0643],\n",
       "        [2272.1723, 1049.6372],\n",
       "        [2252.2582, 1360.8496],\n",
       "        [2265.4141, 1642.5942],\n",
       "        [2244.6326, 1936.6275],\n",
       "        [2251.1608, 2248.4948],\n",
       "        [2242.4902, 2557.3246],\n",
       "        [2178.5171, 2750.0789],\n",
       "        [2477.6292,  763.9227],\n",
       "        [2533.3072, 1050.1998],\n",
       "        [2553.6584, 1359.4432],\n",
       "        [2564.0313, 1633.8494],\n",
       "        [2547.1140, 1941.8997],\n",
       "        [2524.1160, 2253.0453],\n",
       "        [2495.3402, 2472.1119],\n",
       "        [2769.1475, 1346.6169],\n",
       "        [2757.4577, 1648.2938],\n",
       "        [2764.1368, 1960.0113]], dtype=torch.float64)"
      ]
     },
     "metadata": {},
     "output_type": "display_data"
    }
   ],
   "source": [
    "display(sample['graph'])\n",
    "display(sample['graph']['x'])\n",
    "display(sample['graph']['edge_index'])\n",
    "display(sample['graph']['y'])\n",
    "display(sample['graph']['coordinates'])\n"
   ]
  },
  {
   "cell_type": "markdown",
   "metadata": {},
   "source": [
    "# Train model"
   ]
  },
  {
   "cell_type": "code",
   "execution_count": 86,
   "metadata": {},
   "outputs": [
    {
     "name": "stderr",
     "output_type": "stream",
     "text": [
      "|2023-11-21|22:18:44.574| [INFO] EPOCH: 000\n"
     ]
    },
    {
     "name": "stdout",
     "output_type": "stream",
     "text": [
      "SlideGraphArch(\n",
      "  (first_h): Sequential(\n",
      "    (0): Linear(in_features=128, out_features=64, bias=True)\n",
      "    (1): BatchNorm1d(64, eps=1e-05, momentum=0.1, affine=True, track_running_stats=True)\n",
      "    (2): ReLU()\n",
      "  )\n",
      "  (nns): ModuleList(\n",
      "    (0): Sequential(\n",
      "      (0): Linear(in_features=128, out_features=32, bias=True)\n",
      "      (1): BatchNorm1d(32, eps=1e-05, momentum=0.1, affine=True, track_running_stats=True)\n",
      "      (2): ReLU()\n",
      "    )\n",
      "    (1): Sequential(\n",
      "      (0): Linear(in_features=64, out_features=32, bias=True)\n",
      "      (1): BatchNorm1d(32, eps=1e-05, momentum=0.1, affine=True, track_running_stats=True)\n",
      "      (2): ReLU()\n",
      "    )\n",
      "  )\n",
      "  (convs): ModuleList(\n",
      "    (0): EdgeConv(nn=Sequential(\n",
      "      (0): Linear(in_features=128, out_features=32, bias=True)\n",
      "      (1): BatchNorm1d(32, eps=1e-05, momentum=0.1, affine=True, track_running_stats=True)\n",
      "      (2): ReLU()\n",
      "    ))\n",
      "    (1): EdgeConv(nn=Sequential(\n",
      "      (0): Linear(in_features=64, out_features=32, bias=True)\n",
      "      (1): BatchNorm1d(32, eps=1e-05, momentum=0.1, affine=True, track_running_stats=True)\n",
      "      (2): ReLU()\n",
      "    ))\n",
      "  )\n",
      "  (linears): ModuleList(\n",
      "    (0): Linear(in_features=64, out_features=3, bias=True)\n",
      "    (1-2): 2 x Linear(in_features=32, out_features=3, bias=True)\n",
      "  )\n",
      ")\n"
     ]
    },
    {
     "name": "stderr",
     "output_type": "stream",
     "text": [
      "100%|██████████| 5/5 [00:00<00:00, 13.16it/s]\n",
      "|2023-11-21|22:18:44.957| [INFO] train-EMA-loss: 1.412522\n",
      "|2023-11-21|22:18:45.263| [INFO] infer-train-accuracy: 0.292135\n",
      "|2023-11-21|22:18:45.513| [INFO] infer-valid-A-accuracy: 0.259740\n",
      "|2023-11-21|22:18:45.733| [INFO] infer-valid-B-accuracy: 0.265625\n",
      "|2023-11-21|22:18:45.961| [INFO] EPOCH: 001\n"
     ]
    },
    {
     "name": "stdout",
     "output_type": "stream",
     "text": [
      "best_score {'infer-train-accuracy': 0, 'infer-valid-A-accuracy': 0, 'infer-valid-B-accuracy': 0}\n"
     ]
    },
    {
     "name": "stderr",
     "output_type": "stream",
     "text": [
      "100%|██████████| 5/5 [00:00<00:00, 13.25it/s]\n",
      "|2023-11-21|22:18:46.341| [INFO] train-EMA-loss: 1.287859\n",
      "|2023-11-21|22:18:46.648| [INFO] infer-train-accuracy: 0.331461\n",
      "|2023-11-21|22:18:46.873| [INFO] infer-valid-A-accuracy: 0.324675\n",
      "|2023-11-21|22:18:47.125| [INFO] infer-valid-B-accuracy: 0.359375\n",
      "|2023-11-21|22:18:47.343| [INFO] EPOCH: 002\n"
     ]
    },
    {
     "name": "stdout",
     "output_type": "stream",
     "text": [
      "best_score {'infer-train-accuracy': 0.33146067415730335, 'infer-valid-A-accuracy': 0.3246753246753247, 'infer-valid-B-accuracy': 0.359375}\n"
     ]
    },
    {
     "name": "stderr",
     "output_type": "stream",
     "text": [
      "100%|██████████| 5/5 [00:00<00:00, 13.29it/s]\n",
      "|2023-11-21|22:18:47.722| [INFO] train-EMA-loss: 1.316919\n",
      "|2023-11-21|22:18:48.019| [INFO] infer-train-accuracy: 0.331461\n",
      "|2023-11-21|22:18:48.274| [INFO] infer-valid-A-accuracy: 0.324675\n",
      "|2023-11-21|22:18:48.492| [INFO] infer-valid-B-accuracy: 0.375000\n",
      "|2023-11-21|22:18:48.721| [INFO] EPOCH: 003\n"
     ]
    },
    {
     "name": "stdout",
     "output_type": "stream",
     "text": [
      "best_score {'infer-train-accuracy': 0.33146067415730335, 'infer-valid-A-accuracy': 0.3246753246753247, 'infer-valid-B-accuracy': 0.375}\n"
     ]
    },
    {
     "name": "stderr",
     "output_type": "stream",
     "text": [
      "100%|██████████| 5/5 [00:00<00:00, 14.51it/s]\n",
      "|2023-11-21|22:18:49.068| [INFO] train-EMA-loss: 1.199722\n",
      "|2023-11-21|22:18:49.323| [INFO] infer-train-accuracy: 0.359551\n",
      "|2023-11-21|22:18:49.557| [INFO] infer-valid-A-accuracy: 0.311688\n",
      "|2023-11-21|22:18:49.768| [INFO] infer-valid-B-accuracy: 0.421875\n",
      "|2023-11-21|22:18:49.995| [INFO] EPOCH: 004\n"
     ]
    },
    {
     "name": "stdout",
     "output_type": "stream",
     "text": [
      "best_score {'infer-train-accuracy': 0.3595505617977528, 'infer-valid-A-accuracy': 0.3246753246753247, 'infer-valid-B-accuracy': 0.421875}\n"
     ]
    },
    {
     "name": "stderr",
     "output_type": "stream",
     "text": [
      "100%|██████████| 5/5 [00:00<00:00, 14.60it/s]\n",
      "|2023-11-21|22:18:50.340| [INFO] train-EMA-loss: 1.076015\n",
      "|2023-11-21|22:18:50.623| [INFO] infer-train-accuracy: 0.410112\n",
      "|2023-11-21|22:18:50.859| [INFO] infer-valid-A-accuracy: 0.337662\n",
      "|2023-11-21|22:18:51.090| [INFO] infer-valid-B-accuracy: 0.390625\n",
      "|2023-11-21|22:18:51.322| [INFO] EPOCH: 005\n"
     ]
    },
    {
     "name": "stdout",
     "output_type": "stream",
     "text": [
      "best_score {'infer-train-accuracy': 0.4101123595505618, 'infer-valid-A-accuracy': 0.33766233766233766, 'infer-valid-B-accuracy': 0.421875}\n"
     ]
    },
    {
     "name": "stderr",
     "output_type": "stream",
     "text": [
      "100%|██████████| 5/5 [00:00<00:00, 14.32it/s]\n",
      "|2023-11-21|22:18:51.673| [INFO] train-EMA-loss: 1.068852\n",
      "|2023-11-21|22:18:51.953| [INFO] infer-train-accuracy: 0.432584\n",
      "|2023-11-21|22:18:52.184| [INFO] infer-valid-A-accuracy: 0.324675\n",
      "|2023-11-21|22:18:52.444| [INFO] infer-valid-B-accuracy: 0.406250\n",
      "|2023-11-21|22:18:52.671| [INFO] EPOCH: 006\n"
     ]
    },
    {
     "name": "stdout",
     "output_type": "stream",
     "text": [
      "best_score {'infer-train-accuracy': 0.43258426966292135, 'infer-valid-A-accuracy': 0.33766233766233766, 'infer-valid-B-accuracy': 0.421875}\n"
     ]
    },
    {
     "name": "stderr",
     "output_type": "stream",
     "text": [
      "100%|██████████| 5/5 [00:00<00:00, 14.06it/s]\n",
      "|2023-11-21|22:18:53.029| [INFO] train-EMA-loss: 1.029049\n",
      "|2023-11-21|22:18:53.315| [INFO] infer-train-accuracy: 0.410112\n",
      "|2023-11-21|22:18:53.548| [INFO] infer-valid-A-accuracy: 0.376623\n",
      "|2023-11-21|22:18:53.766| [INFO] infer-valid-B-accuracy: 0.390625\n",
      "|2023-11-21|22:18:53.990| [INFO] EPOCH: 007\n"
     ]
    },
    {
     "name": "stdout",
     "output_type": "stream",
     "text": [
      "best_score {'infer-train-accuracy': 0.43258426966292135, 'infer-valid-A-accuracy': 0.37662337662337664, 'infer-valid-B-accuracy': 0.421875}\n"
     ]
    },
    {
     "name": "stderr",
     "output_type": "stream",
     "text": [
      "100%|██████████| 5/5 [00:00<00:00, 14.42it/s]\n",
      "|2023-11-21|22:18:54.339| [INFO] train-EMA-loss: 1.056033\n",
      "|2023-11-21|22:18:54.644| [INFO] infer-train-accuracy: 0.438202\n",
      "|2023-11-21|22:18:54.875| [INFO] infer-valid-A-accuracy: 0.389610\n",
      "|2023-11-21|22:18:55.123| [INFO] infer-valid-B-accuracy: 0.343750\n",
      "|2023-11-21|22:18:55.354| [INFO] EPOCH: 008\n"
     ]
    },
    {
     "name": "stdout",
     "output_type": "stream",
     "text": [
      "best_score {'infer-train-accuracy': 0.43820224719101125, 'infer-valid-A-accuracy': 0.38961038961038963, 'infer-valid-B-accuracy': 0.421875}\n"
     ]
    },
    {
     "name": "stderr",
     "output_type": "stream",
     "text": [
      "100%|██████████| 5/5 [00:00<00:00, 15.11it/s]\n",
      "|2023-11-21|22:18:55.687| [INFO] train-EMA-loss: 1.002699\n",
      "|2023-11-21|22:18:55.963| [INFO] infer-train-accuracy: 0.449438\n",
      "|2023-11-21|22:18:56.197| [INFO] infer-valid-A-accuracy: 0.363636\n",
      "|2023-11-21|22:18:56.430| [INFO] infer-valid-B-accuracy: 0.406250\n",
      "|2023-11-21|22:18:56.660| [INFO] EPOCH: 009\n"
     ]
    },
    {
     "name": "stdout",
     "output_type": "stream",
     "text": [
      "best_score {'infer-train-accuracy': 0.449438202247191, 'infer-valid-A-accuracy': 0.38961038961038963, 'infer-valid-B-accuracy': 0.421875}\n"
     ]
    },
    {
     "name": "stderr",
     "output_type": "stream",
     "text": [
      "100%|██████████| 5/5 [00:00<00:00, 14.89it/s]\n",
      "|2023-11-21|22:18:56.998| [INFO] train-EMA-loss: 0.942328\n",
      "|2023-11-21|22:18:57.292| [INFO] infer-train-accuracy: 0.466292\n",
      "|2023-11-21|22:18:57.543| [INFO] infer-valid-A-accuracy: 0.337662\n",
      "|2023-11-21|22:18:57.789| [INFO] infer-valid-B-accuracy: 0.453125\n",
      "|2023-11-21|22:18:58.011| [INFO] EPOCH: 010\n"
     ]
    },
    {
     "name": "stdout",
     "output_type": "stream",
     "text": [
      "best_score {'infer-train-accuracy': 0.46629213483146065, 'infer-valid-A-accuracy': 0.38961038961038963, 'infer-valid-B-accuracy': 0.453125}\n"
     ]
    },
    {
     "name": "stderr",
     "output_type": "stream",
     "text": [
      "100%|██████████| 5/5 [00:00<00:00, 15.14it/s]\n",
      "|2023-11-21|22:18:58.344| [INFO] train-EMA-loss: 0.912594\n",
      "|2023-11-21|22:18:58.601| [INFO] infer-train-accuracy: 0.466292\n",
      "|2023-11-21|22:18:58.850| [INFO] infer-valid-A-accuracy: 0.311688\n",
      "|2023-11-21|22:18:59.075| [INFO] infer-valid-B-accuracy: 0.421875\n",
      "|2023-11-21|22:18:59.300| [INFO] EPOCH: 011\n"
     ]
    },
    {
     "name": "stdout",
     "output_type": "stream",
     "text": [
      "best_score {'infer-train-accuracy': 0.46629213483146065, 'infer-valid-A-accuracy': 0.38961038961038963, 'infer-valid-B-accuracy': 0.453125}\n"
     ]
    },
    {
     "name": "stderr",
     "output_type": "stream",
     "text": [
      "100%|██████████| 5/5 [00:00<00:00, 14.93it/s]\n",
      "|2023-11-21|22:18:59.637| [INFO] train-EMA-loss: 1.043258\n",
      "|2023-11-21|22:18:59.912| [INFO] infer-train-accuracy: 0.466292\n",
      "|2023-11-21|22:19:00.153| [INFO] infer-valid-A-accuracy: 0.311688\n",
      "|2023-11-21|22:19:00.383| [INFO] infer-valid-B-accuracy: 0.421875\n",
      "|2023-11-21|22:19:00.611| [INFO] EPOCH: 012\n"
     ]
    },
    {
     "name": "stdout",
     "output_type": "stream",
     "text": [
      "best_score {'infer-train-accuracy': 0.46629213483146065, 'infer-valid-A-accuracy': 0.38961038961038963, 'infer-valid-B-accuracy': 0.453125}\n"
     ]
    },
    {
     "name": "stderr",
     "output_type": "stream",
     "text": [
      "100%|██████████| 5/5 [00:00<00:00, 14.45it/s]\n",
      "|2023-11-21|22:19:00.959| [INFO] train-EMA-loss: 1.016418\n",
      "|2023-11-21|22:19:01.232| [INFO] infer-train-accuracy: 0.471910\n",
      "|2023-11-21|22:19:01.465| [INFO] infer-valid-A-accuracy: 0.376623\n",
      "|2023-11-21|22:19:01.697| [INFO] infer-valid-B-accuracy: 0.437500\n",
      "|2023-11-21|22:19:01.926| [INFO] EPOCH: 013\n"
     ]
    },
    {
     "name": "stdout",
     "output_type": "stream",
     "text": [
      "best_score {'infer-train-accuracy': 0.47191011235955055, 'infer-valid-A-accuracy': 0.38961038961038963, 'infer-valid-B-accuracy': 0.453125}\n"
     ]
    },
    {
     "name": "stderr",
     "output_type": "stream",
     "text": [
      "100%|██████████| 5/5 [00:00<00:00, 14.58it/s]\n",
      "|2023-11-21|22:19:02.271| [INFO] train-EMA-loss: 0.971039\n",
      "|2023-11-21|22:19:02.545| [INFO] infer-train-accuracy: 0.483146\n",
      "|2023-11-21|22:19:02.811| [INFO] infer-valid-A-accuracy: 0.389610\n",
      "|2023-11-21|22:19:03.041| [INFO] infer-valid-B-accuracy: 0.453125\n",
      "|2023-11-21|22:19:03.270| [INFO] EPOCH: 014\n"
     ]
    },
    {
     "name": "stdout",
     "output_type": "stream",
     "text": [
      "best_score {'infer-train-accuracy': 0.48314606741573035, 'infer-valid-A-accuracy': 0.38961038961038963, 'infer-valid-B-accuracy': 0.453125}\n"
     ]
    },
    {
     "name": "stderr",
     "output_type": "stream",
     "text": [
      "100%|██████████| 5/5 [00:00<00:00, 14.35it/s]\n",
      "|2023-11-21|22:19:03.620| [INFO] train-EMA-loss: 1.063868\n",
      "|2023-11-21|22:19:03.907| [INFO] infer-train-accuracy: 0.494382\n",
      "|2023-11-21|22:19:04.140| [INFO] infer-valid-A-accuracy: 0.415584\n",
      "|2023-11-21|22:19:04.371| [INFO] infer-valid-B-accuracy: 0.484375\n",
      "|2023-11-21|22:19:04.601| [INFO] EPOCH: 015\n"
     ]
    },
    {
     "name": "stdout",
     "output_type": "stream",
     "text": [
      "best_score {'infer-train-accuracy': 0.4943820224719101, 'infer-valid-A-accuracy': 0.4155844155844156, 'infer-valid-B-accuracy': 0.484375}\n"
     ]
    },
    {
     "name": "stderr",
     "output_type": "stream",
     "text": [
      "100%|██████████| 5/5 [00:00<00:00, 14.26it/s]\n",
      "|2023-11-21|22:19:04.954| [INFO] train-EMA-loss: 0.994110\n",
      "|2023-11-21|22:19:05.232| [INFO] infer-train-accuracy: 0.528090\n",
      "|2023-11-21|22:19:05.457| [INFO] infer-valid-A-accuracy: 0.415584\n",
      "|2023-11-21|22:19:05.688| [INFO] infer-valid-B-accuracy: 0.453125\n",
      "|2023-11-21|22:19:05.922| [INFO] EPOCH: 016\n"
     ]
    },
    {
     "name": "stdout",
     "output_type": "stream",
     "text": [
      "best_score {'infer-train-accuracy': 0.5280898876404494, 'infer-valid-A-accuracy': 0.4155844155844156, 'infer-valid-B-accuracy': 0.484375}\n"
     ]
    },
    {
     "name": "stderr",
     "output_type": "stream",
     "text": [
      "100%|██████████| 5/5 [00:00<00:00, 14.54it/s]\n",
      "|2023-11-21|22:19:06.268| [INFO] train-EMA-loss: 0.940581\n",
      "|2023-11-21|22:19:06.570| [INFO] infer-train-accuracy: 0.511236\n",
      "|2023-11-21|22:19:06.809| [INFO] infer-valid-A-accuracy: 0.376623\n",
      "|2023-11-21|22:19:07.038| [INFO] infer-valid-B-accuracy: 0.406250\n",
      "|2023-11-21|22:19:07.276| [INFO] EPOCH: 017\n"
     ]
    },
    {
     "name": "stdout",
     "output_type": "stream",
     "text": [
      "best_score {'infer-train-accuracy': 0.5280898876404494, 'infer-valid-A-accuracy': 0.4155844155844156, 'infer-valid-B-accuracy': 0.484375}\n"
     ]
    },
    {
     "name": "stderr",
     "output_type": "stream",
     "text": [
      "100%|██████████| 5/5 [00:00<00:00, 14.63it/s]\n",
      "|2023-11-21|22:19:07.620| [INFO] train-EMA-loss: 0.960933\n",
      "|2023-11-21|22:19:07.898| [INFO] infer-train-accuracy: 0.528090\n",
      "|2023-11-21|22:19:08.147| [INFO] infer-valid-A-accuracy: 0.376623\n",
      "|2023-11-21|22:19:08.369| [INFO] infer-valid-B-accuracy: 0.421875\n",
      "|2023-11-21|22:19:08.614| [INFO] EPOCH: 018\n"
     ]
    },
    {
     "name": "stdout",
     "output_type": "stream",
     "text": [
      "best_score {'infer-train-accuracy': 0.5280898876404494, 'infer-valid-A-accuracy': 0.4155844155844156, 'infer-valid-B-accuracy': 0.484375}\n"
     ]
    },
    {
     "name": "stderr",
     "output_type": "stream",
     "text": [
      "100%|██████████| 5/5 [00:00<00:00, 14.31it/s]\n",
      "|2023-11-21|22:19:08.966| [INFO] train-EMA-loss: 0.871624\n",
      "|2023-11-21|22:19:09.244| [INFO] infer-train-accuracy: 0.539326\n",
      "|2023-11-21|22:19:09.493| [INFO] infer-valid-A-accuracy: 0.428571\n",
      "|2023-11-21|22:19:09.747| [INFO] infer-valid-B-accuracy: 0.406250\n",
      "|2023-11-21|22:19:09.991| [INFO] EPOCH: 019\n"
     ]
    },
    {
     "name": "stdout",
     "output_type": "stream",
     "text": [
      "best_score {'infer-train-accuracy': 0.5393258426966292, 'infer-valid-A-accuracy': 0.42857142857142855, 'infer-valid-B-accuracy': 0.484375}\n"
     ]
    },
    {
     "name": "stderr",
     "output_type": "stream",
     "text": [
      "100%|██████████| 5/5 [00:00<00:00, 13.89it/s]\n",
      "|2023-11-21|22:19:10.353| [INFO] train-EMA-loss: 0.933296\n",
      "|2023-11-21|22:19:10.649| [INFO] infer-train-accuracy: 0.516854\n",
      "|2023-11-21|22:19:10.930| [INFO] infer-valid-A-accuracy: 0.467532\n",
      "|2023-11-21|22:19:11.175| [INFO] infer-valid-B-accuracy: 0.375000\n",
      "|2023-11-21|22:19:11.415| [INFO] EPOCH: 020\n"
     ]
    },
    {
     "name": "stdout",
     "output_type": "stream",
     "text": [
      "best_score {'infer-train-accuracy': 0.5393258426966292, 'infer-valid-A-accuracy': 0.4675324675324675, 'infer-valid-B-accuracy': 0.484375}\n"
     ]
    },
    {
     "name": "stderr",
     "output_type": "stream",
     "text": [
      "100%|██████████| 5/5 [00:00<00:00, 13.35it/s]\n",
      "|2023-11-21|22:19:11.792| [INFO] train-EMA-loss: 0.920589\n",
      "|2023-11-21|22:19:12.106| [INFO] infer-train-accuracy: 0.511236\n",
      "|2023-11-21|22:19:12.604| [INFO] infer-valid-A-accuracy: 0.441558\n",
      "|2023-11-21|22:19:12.835| [INFO] infer-valid-B-accuracy: 0.390625\n",
      "|2023-11-21|22:19:13.080| [INFO] EPOCH: 021\n"
     ]
    },
    {
     "name": "stdout",
     "output_type": "stream",
     "text": [
      "best_score {'infer-train-accuracy': 0.5393258426966292, 'infer-valid-A-accuracy': 0.4675324675324675, 'infer-valid-B-accuracy': 0.484375}\n"
     ]
    },
    {
     "name": "stderr",
     "output_type": "stream",
     "text": [
      "100%|██████████| 5/5 [00:00<00:00, 13.40it/s]\n",
      "|2023-11-21|22:19:13.455| [INFO] train-EMA-loss: 0.890336\n",
      "|2023-11-21|22:19:13.755| [INFO] infer-train-accuracy: 0.477528\n",
      "|2023-11-21|22:19:14.007| [INFO] infer-valid-A-accuracy: 0.389610\n",
      "|2023-11-21|22:19:14.266| [INFO] infer-valid-B-accuracy: 0.437500\n",
      "|2023-11-21|22:19:14.503| [INFO] EPOCH: 022\n"
     ]
    },
    {
     "name": "stdout",
     "output_type": "stream",
     "text": [
      "best_score {'infer-train-accuracy': 0.5393258426966292, 'infer-valid-A-accuracy': 0.4675324675324675, 'infer-valid-B-accuracy': 0.484375}\n"
     ]
    },
    {
     "name": "stderr",
     "output_type": "stream",
     "text": [
      "100%|██████████| 5/5 [00:00<00:00, 12.98it/s]\n",
      "|2023-11-21|22:19:14.891| [INFO] train-EMA-loss: 0.990945\n",
      "|2023-11-21|22:19:15.178| [INFO] infer-train-accuracy: 0.438202\n",
      "|2023-11-21|22:19:15.427| [INFO] infer-valid-A-accuracy: 0.389610\n",
      "|2023-11-21|22:19:15.662| [INFO] infer-valid-B-accuracy: 0.390625\n",
      "|2023-11-21|22:19:15.894| [INFO] EPOCH: 023\n"
     ]
    },
    {
     "name": "stdout",
     "output_type": "stream",
     "text": [
      "best_score {'infer-train-accuracy': 0.5393258426966292, 'infer-valid-A-accuracy': 0.4675324675324675, 'infer-valid-B-accuracy': 0.484375}\n"
     ]
    },
    {
     "name": "stderr",
     "output_type": "stream",
     "text": [
      "100%|██████████| 5/5 [00:00<00:00, 13.12it/s]\n",
      "|2023-11-21|22:19:16.278| [INFO] train-EMA-loss: 0.897034\n",
      "|2023-11-21|22:19:16.601| [INFO] infer-train-accuracy: 0.455056\n",
      "|2023-11-21|22:19:16.846| [INFO] infer-valid-A-accuracy: 0.402597\n",
      "|2023-11-21|22:19:17.087| [INFO] infer-valid-B-accuracy: 0.375000\n",
      "|2023-11-21|22:19:17.323| [INFO] EPOCH: 024\n"
     ]
    },
    {
     "name": "stdout",
     "output_type": "stream",
     "text": [
      "best_score {'infer-train-accuracy': 0.5393258426966292, 'infer-valid-A-accuracy': 0.4675324675324675, 'infer-valid-B-accuracy': 0.484375}\n"
     ]
    },
    {
     "name": "stderr",
     "output_type": "stream",
     "text": [
      "100%|██████████| 5/5 [00:00<00:00, 13.41it/s]\n",
      "|2023-11-21|22:19:17.698| [INFO] train-EMA-loss: 0.830818\n",
      "|2023-11-21|22:19:17.988| [INFO] infer-train-accuracy: 0.494382\n",
      "|2023-11-21|22:19:18.241| [INFO] infer-valid-A-accuracy: 0.441558\n",
      "|2023-11-21|22:19:18.497| [INFO] infer-valid-B-accuracy: 0.406250\n",
      "|2023-11-21|22:19:18.736| [INFO] EPOCH: 025\n"
     ]
    },
    {
     "name": "stdout",
     "output_type": "stream",
     "text": [
      "best_score {'infer-train-accuracy': 0.5393258426966292, 'infer-valid-A-accuracy': 0.4675324675324675, 'infer-valid-B-accuracy': 0.484375}\n"
     ]
    },
    {
     "name": "stderr",
     "output_type": "stream",
     "text": [
      "100%|██████████| 5/5 [00:00<00:00, 11.92it/s]\n",
      "|2023-11-21|22:19:19.159| [INFO] train-EMA-loss: 0.909901\n",
      "|2023-11-21|22:19:19.444| [INFO] infer-train-accuracy: 0.516854\n",
      "|2023-11-21|22:19:19.671| [INFO] infer-valid-A-accuracy: 0.415584\n",
      "|2023-11-21|22:19:19.906| [INFO] infer-valid-B-accuracy: 0.421875\n",
      "|2023-11-21|22:19:20.145| [INFO] EPOCH: 026\n"
     ]
    },
    {
     "name": "stdout",
     "output_type": "stream",
     "text": [
      "best_score {'infer-train-accuracy': 0.5393258426966292, 'infer-valid-A-accuracy': 0.4675324675324675, 'infer-valid-B-accuracy': 0.484375}\n"
     ]
    },
    {
     "name": "stderr",
     "output_type": "stream",
     "text": [
      "100%|██████████| 5/5 [00:00<00:00, 13.58it/s]\n",
      "|2023-11-21|22:19:20.516| [INFO] train-EMA-loss: 0.801234\n",
      "|2023-11-21|22:19:20.794| [INFO] infer-train-accuracy: 0.528090\n",
      "|2023-11-21|22:19:21.036| [INFO] infer-valid-A-accuracy: 0.415584\n",
      "|2023-11-21|22:19:21.288| [INFO] infer-valid-B-accuracy: 0.421875\n",
      "|2023-11-21|22:19:21.525| [INFO] EPOCH: 027\n"
     ]
    },
    {
     "name": "stdout",
     "output_type": "stream",
     "text": [
      "best_score {'infer-train-accuracy': 0.5393258426966292, 'infer-valid-A-accuracy': 0.4675324675324675, 'infer-valid-B-accuracy': 0.484375}\n"
     ]
    },
    {
     "name": "stderr",
     "output_type": "stream",
     "text": [
      "100%|██████████| 5/5 [00:00<00:00, 14.09it/s]\n",
      "|2023-11-21|22:19:21.882| [INFO] train-EMA-loss: 0.856835\n",
      "|2023-11-21|22:19:22.168| [INFO] infer-train-accuracy: 0.539326\n",
      "|2023-11-21|22:19:22.437| [INFO] infer-valid-A-accuracy: 0.415584\n",
      "|2023-11-21|22:19:22.671| [INFO] infer-valid-B-accuracy: 0.406250\n",
      "|2023-11-21|22:19:22.914| [INFO] EPOCH: 028\n"
     ]
    },
    {
     "name": "stdout",
     "output_type": "stream",
     "text": [
      "best_score {'infer-train-accuracy': 0.5393258426966292, 'infer-valid-A-accuracy': 0.4675324675324675, 'infer-valid-B-accuracy': 0.484375}\n"
     ]
    },
    {
     "name": "stderr",
     "output_type": "stream",
     "text": [
      "100%|██████████| 5/5 [00:00<00:00, 14.00it/s]\n",
      "|2023-11-21|22:19:23.273| [INFO] train-EMA-loss: 0.861836\n",
      "|2023-11-21|22:19:23.576| [INFO] infer-train-accuracy: 0.589888\n",
      "|2023-11-21|22:19:23.808| [INFO] infer-valid-A-accuracy: 0.415584\n",
      "|2023-11-21|22:19:24.055| [INFO] infer-valid-B-accuracy: 0.421875\n",
      "|2023-11-21|22:19:24.292| [INFO] EPOCH: 029\n"
     ]
    },
    {
     "name": "stdout",
     "output_type": "stream",
     "text": [
      "best_score {'infer-train-accuracy': 0.5898876404494382, 'infer-valid-A-accuracy': 0.4675324675324675, 'infer-valid-B-accuracy': 0.484375}\n"
     ]
    },
    {
     "name": "stderr",
     "output_type": "stream",
     "text": [
      "100%|██████████| 5/5 [00:00<00:00, 13.82it/s]\n",
      "|2023-11-21|22:19:24.656| [INFO] train-EMA-loss: 0.787352\n",
      "|2023-11-21|22:19:24.953| [INFO] infer-train-accuracy: 0.617978\n",
      "|2023-11-21|22:19:25.188| [INFO] infer-valid-A-accuracy: 0.454545\n",
      "|2023-11-21|22:19:25.428| [INFO] infer-valid-B-accuracy: 0.453125\n",
      "|2023-11-21|22:19:25.667| [INFO] EPOCH: 030\n"
     ]
    },
    {
     "name": "stdout",
     "output_type": "stream",
     "text": [
      "best_score {'infer-train-accuracy': 0.6179775280898876, 'infer-valid-A-accuracy': 0.4675324675324675, 'infer-valid-B-accuracy': 0.484375}\n"
     ]
    },
    {
     "name": "stderr",
     "output_type": "stream",
     "text": [
      "100%|██████████| 5/5 [00:00<00:00, 14.14it/s]\n",
      "|2023-11-21|22:19:26.022| [INFO] train-EMA-loss: 0.749992\n",
      "|2023-11-21|22:19:26.321| [INFO] infer-train-accuracy: 0.606742\n",
      "|2023-11-21|22:19:26.575| [INFO] infer-valid-A-accuracy: 0.441558\n",
      "|2023-11-21|22:19:26.829| [INFO] infer-valid-B-accuracy: 0.468750\n",
      "|2023-11-21|22:19:27.092| [INFO] EPOCH: 031\n"
     ]
    },
    {
     "name": "stdout",
     "output_type": "stream",
     "text": [
      "best_score {'infer-train-accuracy': 0.6179775280898876, 'infer-valid-A-accuracy': 0.4675324675324675, 'infer-valid-B-accuracy': 0.484375}\n"
     ]
    },
    {
     "name": "stderr",
     "output_type": "stream",
     "text": [
      "100%|██████████| 5/5 [00:00<00:00, 13.58it/s]\n",
      "|2023-11-21|22:19:27.464| [INFO] train-EMA-loss: 0.906091\n",
      "|2023-11-21|22:19:27.760| [INFO] infer-train-accuracy: 0.612360\n",
      "|2023-11-21|22:19:27.993| [INFO] infer-valid-A-accuracy: 0.454545\n",
      "|2023-11-21|22:19:28.223| [INFO] infer-valid-B-accuracy: 0.453125\n",
      "|2023-11-21|22:19:28.464| [INFO] EPOCH: 032\n"
     ]
    },
    {
     "name": "stdout",
     "output_type": "stream",
     "text": [
      "best_score {'infer-train-accuracy': 0.6179775280898876, 'infer-valid-A-accuracy': 0.4675324675324675, 'infer-valid-B-accuracy': 0.484375}\n"
     ]
    },
    {
     "name": "stderr",
     "output_type": "stream",
     "text": [
      "100%|██████████| 5/5 [00:00<00:00, 14.18it/s]\n",
      "|2023-11-21|22:19:28.819| [INFO] train-EMA-loss: 0.707840\n",
      "|2023-11-21|22:19:29.128| [INFO] infer-train-accuracy: 0.612360\n",
      "|2023-11-21|22:19:29.370| [INFO] infer-valid-A-accuracy: 0.441558\n",
      "|2023-11-21|22:19:29.607| [INFO] infer-valid-B-accuracy: 0.484375\n",
      "|2023-11-21|22:19:29.855| [INFO] EPOCH: 033\n"
     ]
    },
    {
     "name": "stdout",
     "output_type": "stream",
     "text": [
      "best_score {'infer-train-accuracy': 0.6179775280898876, 'infer-valid-A-accuracy': 0.4675324675324675, 'infer-valid-B-accuracy': 0.484375}\n"
     ]
    },
    {
     "name": "stderr",
     "output_type": "stream",
     "text": [
      "100%|██████████| 5/5 [00:00<00:00, 14.28it/s]\n",
      "|2023-11-21|22:19:30.207| [INFO] train-EMA-loss: 0.652586\n",
      "|2023-11-21|22:19:30.509| [INFO] infer-train-accuracy: 0.567416\n",
      "|2023-11-21|22:19:30.770| [INFO] infer-valid-A-accuracy: 0.415584\n",
      "|2023-11-21|22:19:31.040| [INFO] infer-valid-B-accuracy: 0.484375\n",
      "|2023-11-21|22:19:31.288| [INFO] EPOCH: 034\n"
     ]
    },
    {
     "name": "stdout",
     "output_type": "stream",
     "text": [
      "best_score {'infer-train-accuracy': 0.6179775280898876, 'infer-valid-A-accuracy': 0.4675324675324675, 'infer-valid-B-accuracy': 0.484375}\n"
     ]
    },
    {
     "name": "stderr",
     "output_type": "stream",
     "text": [
      "100%|██████████| 5/5 [00:00<00:00, 13.85it/s]\n",
      "|2023-11-21|22:19:31.651| [INFO] train-EMA-loss: 0.732901\n",
      "|2023-11-21|22:19:31.948| [INFO] infer-train-accuracy: 0.550562\n",
      "|2023-11-21|22:19:32.184| [INFO] infer-valid-A-accuracy: 0.415584\n",
      "|2023-11-21|22:19:32.417| [INFO] infer-valid-B-accuracy: 0.453125\n",
      "|2023-11-21|22:19:32.667| [INFO] EPOCH: 035\n"
     ]
    },
    {
     "name": "stdout",
     "output_type": "stream",
     "text": [
      "best_score {'infer-train-accuracy': 0.6179775280898876, 'infer-valid-A-accuracy': 0.4675324675324675, 'infer-valid-B-accuracy': 0.484375}\n"
     ]
    },
    {
     "name": "stderr",
     "output_type": "stream",
     "text": [
      "100%|██████████| 5/5 [00:00<00:00, 14.66it/s]\n",
      "|2023-11-21|22:19:33.010| [INFO] train-EMA-loss: 0.803430\n",
      "|2023-11-21|22:19:33.308| [INFO] infer-train-accuracy: 0.539326\n",
      "|2023-11-21|22:19:33.554| [INFO] infer-valid-A-accuracy: 0.415584\n",
      "|2023-11-21|22:19:33.807| [INFO] infer-valid-B-accuracy: 0.468750\n",
      "|2023-11-21|22:19:34.056| [INFO] EPOCH: 036\n"
     ]
    },
    {
     "name": "stdout",
     "output_type": "stream",
     "text": [
      "best_score {'infer-train-accuracy': 0.6179775280898876, 'infer-valid-A-accuracy': 0.4675324675324675, 'infer-valid-B-accuracy': 0.484375}\n"
     ]
    },
    {
     "name": "stderr",
     "output_type": "stream",
     "text": [
      "100%|██████████| 5/5 [00:00<00:00, 14.22it/s]\n",
      "|2023-11-21|22:19:34.410| [INFO] train-EMA-loss: 0.751699\n",
      "|2023-11-21|22:19:34.677| [INFO] infer-train-accuracy: 0.561798\n",
      "|2023-11-21|22:19:34.926| [INFO] infer-valid-A-accuracy: 0.428571\n",
      "|2023-11-21|22:19:35.164| [INFO] infer-valid-B-accuracy: 0.484375\n",
      "|2023-11-21|22:19:35.435| [INFO] EPOCH: 037\n"
     ]
    },
    {
     "name": "stdout",
     "output_type": "stream",
     "text": [
      "best_score {'infer-train-accuracy': 0.6179775280898876, 'infer-valid-A-accuracy': 0.4675324675324675, 'infer-valid-B-accuracy': 0.484375}\n"
     ]
    },
    {
     "name": "stderr",
     "output_type": "stream",
     "text": [
      "100%|██████████| 5/5 [00:00<00:00, 13.91it/s]\n",
      "|2023-11-21|22:19:35.797| [INFO] train-EMA-loss: 0.680445\n",
      "|2023-11-21|22:19:36.082| [INFO] infer-train-accuracy: 0.606742\n",
      "|2023-11-21|22:19:36.322| [INFO] infer-valid-A-accuracy: 0.441558\n",
      "|2023-11-21|22:19:36.572| [INFO] infer-valid-B-accuracy: 0.468750\n",
      "|2023-11-21|22:19:36.816| [INFO] EPOCH: 038\n"
     ]
    },
    {
     "name": "stdout",
     "output_type": "stream",
     "text": [
      "best_score {'infer-train-accuracy': 0.6179775280898876, 'infer-valid-A-accuracy': 0.4675324675324675, 'infer-valid-B-accuracy': 0.484375}\n"
     ]
    },
    {
     "name": "stderr",
     "output_type": "stream",
     "text": [
      "100%|██████████| 5/5 [00:00<00:00, 14.13it/s]\n",
      "|2023-11-21|22:19:37.172| [INFO] train-EMA-loss: 0.867608\n",
      "|2023-11-21|22:19:37.451| [INFO] infer-train-accuracy: 0.640449\n",
      "|2023-11-21|22:19:37.714| [INFO] infer-valid-A-accuracy: 0.441558\n",
      "|2023-11-21|22:19:37.960| [INFO] infer-valid-B-accuracy: 0.437500\n",
      "|2023-11-21|22:19:38.208| [INFO] EPOCH: 039\n"
     ]
    },
    {
     "name": "stdout",
     "output_type": "stream",
     "text": [
      "best_score {'infer-train-accuracy': 0.6404494382022472, 'infer-valid-A-accuracy': 0.4675324675324675, 'infer-valid-B-accuracy': 0.484375}\n"
     ]
    },
    {
     "name": "stderr",
     "output_type": "stream",
     "text": [
      "100%|██████████| 5/5 [00:00<00:00, 14.20it/s]\n",
      "|2023-11-21|22:19:38.562| [INFO] train-EMA-loss: 0.731144\n",
      "|2023-11-21|22:19:38.839| [INFO] infer-train-accuracy: 0.651685\n",
      "|2023-11-21|22:19:39.104| [INFO] infer-valid-A-accuracy: 0.454545\n",
      "|2023-11-21|22:19:39.355| [INFO] infer-valid-B-accuracy: 0.484375\n",
      "|2023-11-21|22:19:39.614| [INFO] EPOCH: 040\n"
     ]
    },
    {
     "name": "stdout",
     "output_type": "stream",
     "text": [
      "best_score {'infer-train-accuracy': 0.651685393258427, 'infer-valid-A-accuracy': 0.4675324675324675, 'infer-valid-B-accuracy': 0.484375}\n"
     ]
    },
    {
     "name": "stderr",
     "output_type": "stream",
     "text": [
      "100%|██████████| 5/5 [00:00<00:00, 13.03it/s]\n",
      "|2023-11-21|22:19:40.002| [INFO] train-EMA-loss: 0.663794\n",
      "|2023-11-21|22:19:40.297| [INFO] infer-train-accuracy: 0.657303\n",
      "|2023-11-21|22:19:40.537| [INFO] infer-valid-A-accuracy: 0.467532\n",
      "|2023-11-21|22:19:40.789| [INFO] infer-valid-B-accuracy: 0.500000\n",
      "|2023-11-21|22:19:41.046| [INFO] EPOCH: 041\n"
     ]
    },
    {
     "name": "stdout",
     "output_type": "stream",
     "text": [
      "best_score {'infer-train-accuracy': 0.6573033707865169, 'infer-valid-A-accuracy': 0.4675324675324675, 'infer-valid-B-accuracy': 0.5}\n"
     ]
    },
    {
     "name": "stderr",
     "output_type": "stream",
     "text": [
      "100%|██████████| 5/5 [00:00<00:00, 12.79it/s]\n",
      "|2023-11-21|22:19:41.439| [INFO] train-EMA-loss: 0.713569\n",
      "|2023-11-21|22:19:41.747| [INFO] infer-train-accuracy: 0.651685\n",
      "|2023-11-21|22:19:42.000| [INFO] infer-valid-A-accuracy: 0.467532\n",
      "|2023-11-21|22:19:42.292| [INFO] infer-valid-B-accuracy: 0.484375\n",
      "|2023-11-21|22:19:42.593| [INFO] EPOCH: 042\n"
     ]
    },
    {
     "name": "stdout",
     "output_type": "stream",
     "text": [
      "best_score {'infer-train-accuracy': 0.6573033707865169, 'infer-valid-A-accuracy': 0.4675324675324675, 'infer-valid-B-accuracy': 0.5}\n"
     ]
    },
    {
     "name": "stderr",
     "output_type": "stream",
     "text": [
      "100%|██████████| 5/5 [00:00<00:00, 12.27it/s]\n",
      "|2023-11-21|22:19:43.003| [INFO] train-EMA-loss: 0.737546\n",
      "|2023-11-21|22:19:43.379| [INFO] infer-train-accuracy: 0.634831\n",
      "|2023-11-21|22:19:43.672| [INFO] infer-valid-A-accuracy: 0.441558\n",
      "|2023-11-21|22:19:43.928| [INFO] infer-valid-B-accuracy: 0.484375\n",
      "|2023-11-21|22:19:44.216| [INFO] EPOCH: 043\n"
     ]
    },
    {
     "name": "stdout",
     "output_type": "stream",
     "text": [
      "best_score {'infer-train-accuracy': 0.6573033707865169, 'infer-valid-A-accuracy': 0.4675324675324675, 'infer-valid-B-accuracy': 0.5}\n"
     ]
    },
    {
     "name": "stderr",
     "output_type": "stream",
     "text": [
      "100%|██████████| 5/5 [00:00<00:00, 13.85it/s]\n",
      "|2023-11-21|22:19:44.579| [INFO] train-EMA-loss: 0.601063\n",
      "|2023-11-21|22:19:44.853| [INFO] infer-train-accuracy: 0.612360\n",
      "|2023-11-21|22:19:45.088| [INFO] infer-valid-A-accuracy: 0.454545\n",
      "|2023-11-21|22:19:45.336| [INFO] infer-valid-B-accuracy: 0.484375\n",
      "|2023-11-21|22:19:45.576| [INFO] EPOCH: 044\n"
     ]
    },
    {
     "name": "stdout",
     "output_type": "stream",
     "text": [
      "best_score {'infer-train-accuracy': 0.6573033707865169, 'infer-valid-A-accuracy': 0.4675324675324675, 'infer-valid-B-accuracy': 0.5}\n"
     ]
    },
    {
     "name": "stderr",
     "output_type": "stream",
     "text": [
      "100%|██████████| 5/5 [00:00<00:00, 14.06it/s]\n",
      "|2023-11-21|22:19:45.935| [INFO] train-EMA-loss: 0.661597\n",
      "|2023-11-21|22:19:46.237| [INFO] infer-train-accuracy: 0.651685\n",
      "|2023-11-21|22:19:46.478| [INFO] infer-valid-A-accuracy: 0.480519\n",
      "|2023-11-21|22:19:46.733| [INFO] infer-valid-B-accuracy: 0.500000\n",
      "|2023-11-21|22:19:46.977| [INFO] EPOCH: 045\n"
     ]
    },
    {
     "name": "stdout",
     "output_type": "stream",
     "text": [
      "best_score {'infer-train-accuracy': 0.6573033707865169, 'infer-valid-A-accuracy': 0.4805194805194805, 'infer-valid-B-accuracy': 0.5}\n"
     ]
    },
    {
     "name": "stderr",
     "output_type": "stream",
     "text": [
      "100%|██████████| 5/5 [00:00<00:00, 14.11it/s]\n",
      "|2023-11-21|22:19:47.335| [INFO] train-EMA-loss: 0.693302\n",
      "|2023-11-21|22:19:47.647| [INFO] infer-train-accuracy: 0.719101\n",
      "|2023-11-21|22:19:47.901| [INFO] infer-valid-A-accuracy: 0.454545\n",
      "|2023-11-21|22:19:48.150| [INFO] infer-valid-B-accuracy: 0.531250\n",
      "|2023-11-21|22:19:48.397| [INFO] EPOCH: 046\n"
     ]
    },
    {
     "name": "stdout",
     "output_type": "stream",
     "text": [
      "best_score {'infer-train-accuracy': 0.7191011235955056, 'infer-valid-A-accuracy': 0.4805194805194805, 'infer-valid-B-accuracy': 0.53125}\n"
     ]
    },
    {
     "name": "stderr",
     "output_type": "stream",
     "text": [
      "100%|██████████| 5/5 [00:00<00:00, 13.39it/s]\n",
      "|2023-11-21|22:19:48.773| [INFO] train-EMA-loss: 0.699756\n",
      "|2023-11-21|22:19:49.059| [INFO] infer-train-accuracy: 0.713483\n",
      "|2023-11-21|22:19:49.310| [INFO] infer-valid-A-accuracy: 0.454545\n",
      "|2023-11-21|22:19:49.548| [INFO] infer-valid-B-accuracy: 0.593750\n",
      "|2023-11-21|22:19:49.791| [INFO] EPOCH: 047\n"
     ]
    },
    {
     "name": "stdout",
     "output_type": "stream",
     "text": [
      "best_score {'infer-train-accuracy': 0.7191011235955056, 'infer-valid-A-accuracy': 0.4805194805194805, 'infer-valid-B-accuracy': 0.59375}\n"
     ]
    },
    {
     "name": "stderr",
     "output_type": "stream",
     "text": [
      "100%|██████████| 5/5 [00:00<00:00, 14.34it/s]\n",
      "|2023-11-21|22:19:50.142| [INFO] train-EMA-loss: 0.754259\n",
      "|2023-11-21|22:19:50.431| [INFO] infer-train-accuracy: 0.719101\n",
      "|2023-11-21|22:19:50.686| [INFO] infer-valid-A-accuracy: 0.545455\n",
      "|2023-11-21|22:19:50.924| [INFO] infer-valid-B-accuracy: 0.546875\n",
      "|2023-11-21|22:19:51.168| [INFO] EPOCH: 048\n"
     ]
    },
    {
     "name": "stdout",
     "output_type": "stream",
     "text": [
      "best_score {'infer-train-accuracy': 0.7191011235955056, 'infer-valid-A-accuracy': 0.5454545454545454, 'infer-valid-B-accuracy': 0.59375}\n"
     ]
    },
    {
     "name": "stderr",
     "output_type": "stream",
     "text": [
      "100%|██████████| 5/5 [00:00<00:00, 12.93it/s]\n",
      "|2023-11-21|22:19:51.557| [INFO] train-EMA-loss: 0.602137\n",
      "|2023-11-21|22:19:51.848| [INFO] infer-train-accuracy: 0.696629\n",
      "|2023-11-21|22:19:52.108| [INFO] infer-valid-A-accuracy: 0.493506\n",
      "|2023-11-21|22:19:52.352| [INFO] infer-valid-B-accuracy: 0.515625\n",
      "|2023-11-21|22:19:52.598| [INFO] EPOCH: 049\n"
     ]
    },
    {
     "name": "stdout",
     "output_type": "stream",
     "text": [
      "best_score {'infer-train-accuracy': 0.7191011235955056, 'infer-valid-A-accuracy': 0.5454545454545454, 'infer-valid-B-accuracy': 0.59375}\n"
     ]
    },
    {
     "name": "stderr",
     "output_type": "stream",
     "text": [
      "100%|██████████| 5/5 [00:00<00:00, 14.18it/s]\n",
      "|2023-11-21|22:19:52.953| [INFO] train-EMA-loss: 0.569719\n",
      "|2023-11-21|22:19:53.262| [INFO] infer-train-accuracy: 0.747191\n",
      "|2023-11-21|22:19:53.513| [INFO] infer-valid-A-accuracy: 0.428571\n",
      "|2023-11-21|22:19:53.752| [INFO] infer-valid-B-accuracy: 0.531250\n",
      "|2023-11-21|22:19:54.004| [INFO] EPOCH: 050\n"
     ]
    },
    {
     "name": "stdout",
     "output_type": "stream",
     "text": [
      "best_score {'infer-train-accuracy': 0.7471910112359551, 'infer-valid-A-accuracy': 0.5454545454545454, 'infer-valid-B-accuracy': 0.59375}\n"
     ]
    },
    {
     "name": "stderr",
     "output_type": "stream",
     "text": [
      "100%|██████████| 5/5 [00:00<00:00, 14.20it/s]\n",
      "|2023-11-21|22:19:54.359| [INFO] train-EMA-loss: 0.761059\n",
      "|2023-11-21|22:19:54.693| [INFO] infer-train-accuracy: 0.735955\n",
      "|2023-11-21|22:19:54.944| [INFO] infer-valid-A-accuracy: 0.454545\n",
      "|2023-11-21|22:19:55.215| [INFO] infer-valid-B-accuracy: 0.484375\n",
      "|2023-11-21|22:19:55.480| [INFO] EPOCH: 051\n"
     ]
    },
    {
     "name": "stdout",
     "output_type": "stream",
     "text": [
      "best_score {'infer-train-accuracy': 0.7471910112359551, 'infer-valid-A-accuracy': 0.5454545454545454, 'infer-valid-B-accuracy': 0.59375}\n"
     ]
    },
    {
     "name": "stderr",
     "output_type": "stream",
     "text": [
      "100%|██████████| 5/5 [00:00<00:00, 13.47it/s]\n",
      "|2023-11-21|22:19:55.853| [INFO] train-EMA-loss: 0.509479\n",
      "|2023-11-21|22:19:56.186| [INFO] infer-train-accuracy: 0.707865\n",
      "|2023-11-21|22:19:56.433| [INFO] infer-valid-A-accuracy: 0.467532\n",
      "|2023-11-21|22:19:56.677| [INFO] infer-valid-B-accuracy: 0.500000\n",
      "|2023-11-21|22:19:56.983| [INFO] EPOCH: 052\n"
     ]
    },
    {
     "name": "stdout",
     "output_type": "stream",
     "text": [
      "best_score {'infer-train-accuracy': 0.7471910112359551, 'infer-valid-A-accuracy': 0.5454545454545454, 'infer-valid-B-accuracy': 0.59375}\n"
     ]
    },
    {
     "name": "stderr",
     "output_type": "stream",
     "text": [
      "100%|██████████| 5/5 [00:00<00:00, 13.42it/s]\n",
      "|2023-11-21|22:19:57.358| [INFO] train-EMA-loss: 0.589309\n",
      "|2023-11-21|22:19:57.677| [INFO] infer-train-accuracy: 0.735955\n",
      "|2023-11-21|22:19:57.948| [INFO] infer-valid-A-accuracy: 0.493506\n",
      "|2023-11-21|22:19:58.206| [INFO] infer-valid-B-accuracy: 0.546875\n",
      "|2023-11-21|22:19:58.457| [INFO] EPOCH: 053\n"
     ]
    },
    {
     "name": "stdout",
     "output_type": "stream",
     "text": [
      "best_score {'infer-train-accuracy': 0.7471910112359551, 'infer-valid-A-accuracy': 0.5454545454545454, 'infer-valid-B-accuracy': 0.59375}\n"
     ]
    },
    {
     "name": "stderr",
     "output_type": "stream",
     "text": [
      "100%|██████████| 5/5 [00:00<00:00, 14.04it/s]\n",
      "|2023-11-21|22:19:58.817| [INFO] train-EMA-loss: 0.528684\n",
      "|2023-11-21|22:19:59.091| [INFO] infer-train-accuracy: 0.797753\n",
      "|2023-11-21|22:19:59.333| [INFO] infer-valid-A-accuracy: 0.480519\n",
      "|2023-11-21|22:19:59.622| [INFO] infer-valid-B-accuracy: 0.578125\n",
      "|2023-11-21|22:19:59.871| [INFO] EPOCH: 054\n"
     ]
    },
    {
     "name": "stdout",
     "output_type": "stream",
     "text": [
      "best_score {'infer-train-accuracy': 0.797752808988764, 'infer-valid-A-accuracy': 0.5454545454545454, 'infer-valid-B-accuracy': 0.59375}\n"
     ]
    },
    {
     "name": "stderr",
     "output_type": "stream",
     "text": [
      "100%|██████████| 5/5 [00:00<00:00, 13.79it/s]\n",
      "|2023-11-21|22:20:00.235| [INFO] train-EMA-loss: 0.547880\n",
      "|2023-11-21|22:20:00.557| [INFO] infer-train-accuracy: 0.786517\n",
      "|2023-11-21|22:20:00.820| [INFO] infer-valid-A-accuracy: 0.480519\n",
      "|2023-11-21|22:20:01.090| [INFO] infer-valid-B-accuracy: 0.562500\n",
      "|2023-11-21|22:20:01.339| [INFO] EPOCH: 055\n"
     ]
    },
    {
     "name": "stdout",
     "output_type": "stream",
     "text": [
      "best_score {'infer-train-accuracy': 0.797752808988764, 'infer-valid-A-accuracy': 0.5454545454545454, 'infer-valid-B-accuracy': 0.59375}\n"
     ]
    },
    {
     "name": "stderr",
     "output_type": "stream",
     "text": [
      "100%|██████████| 5/5 [00:00<00:00, 13.84it/s]\n",
      "|2023-11-21|22:20:01.702| [INFO] train-EMA-loss: 0.618047\n",
      "|2023-11-21|22:20:02.015| [INFO] infer-train-accuracy: 0.747191\n",
      "|2023-11-21|22:20:02.261| [INFO] infer-valid-A-accuracy: 0.506494\n",
      "|2023-11-21|22:20:02.536| [INFO] infer-valid-B-accuracy: 0.500000\n",
      "|2023-11-21|22:20:02.792| [INFO] EPOCH: 056\n"
     ]
    },
    {
     "name": "stdout",
     "output_type": "stream",
     "text": [
      "best_score {'infer-train-accuracy': 0.797752808988764, 'infer-valid-A-accuracy': 0.5454545454545454, 'infer-valid-B-accuracy': 0.59375}\n"
     ]
    },
    {
     "name": "stderr",
     "output_type": "stream",
     "text": [
      "100%|██████████| 5/5 [00:00<00:00, 13.24it/s]\n",
      "|2023-11-21|22:20:03.171| [INFO] train-EMA-loss: 0.678077\n",
      "|2023-11-21|22:20:03.469| [INFO] infer-train-accuracy: 0.769663\n",
      "|2023-11-21|22:20:03.741| [INFO] infer-valid-A-accuracy: 0.493506\n",
      "|2023-11-21|22:20:03.988| [INFO] infer-valid-B-accuracy: 0.500000\n",
      "|2023-11-21|22:20:04.240| [INFO] EPOCH: 057\n"
     ]
    },
    {
     "name": "stdout",
     "output_type": "stream",
     "text": [
      "best_score {'infer-train-accuracy': 0.797752808988764, 'infer-valid-A-accuracy': 0.5454545454545454, 'infer-valid-B-accuracy': 0.59375}\n"
     ]
    },
    {
     "name": "stderr",
     "output_type": "stream",
     "text": [
      "100%|██████████| 5/5 [00:00<00:00, 13.76it/s]\n",
      "|2023-11-21|22:20:04.606| [INFO] train-EMA-loss: 0.650715\n",
      "|2023-11-21|22:20:04.878| [INFO] infer-train-accuracy: 0.814607\n",
      "|2023-11-21|22:20:05.174| [INFO] infer-valid-A-accuracy: 0.480519\n",
      "|2023-11-21|22:20:05.452| [INFO] infer-valid-B-accuracy: 0.593750\n",
      "|2023-11-21|22:20:05.703| [INFO] EPOCH: 058\n"
     ]
    },
    {
     "name": "stdout",
     "output_type": "stream",
     "text": [
      "best_score {'infer-train-accuracy': 0.8146067415730337, 'infer-valid-A-accuracy': 0.5454545454545454, 'infer-valid-B-accuracy': 0.59375}\n"
     ]
    },
    {
     "name": "stderr",
     "output_type": "stream",
     "text": [
      "100%|██████████| 5/5 [00:00<00:00, 12.59it/s]\n",
      "|2023-11-21|22:20:06.103| [INFO] train-EMA-loss: 0.561082\n",
      "|2023-11-21|22:20:06.410| [INFO] infer-train-accuracy: 0.803371\n",
      "|2023-11-21|22:20:06.683| [INFO] infer-valid-A-accuracy: 0.441558\n",
      "|2023-11-21|22:20:06.980| [INFO] infer-valid-B-accuracy: 0.546875\n",
      "|2023-11-21|22:20:07.237| [INFO] EPOCH: 059\n"
     ]
    },
    {
     "name": "stdout",
     "output_type": "stream",
     "text": [
      "best_score {'infer-train-accuracy': 0.8146067415730337, 'infer-valid-A-accuracy': 0.5454545454545454, 'infer-valid-B-accuracy': 0.59375}\n"
     ]
    },
    {
     "name": "stderr",
     "output_type": "stream",
     "text": [
      "100%|██████████| 5/5 [00:00<00:00, 11.22it/s]\n",
      "|2023-11-21|22:20:07.684| [INFO] train-EMA-loss: 0.541945\n",
      "|2023-11-21|22:20:07.972| [INFO] infer-train-accuracy: 0.825843\n",
      "|2023-11-21|22:20:08.225| [INFO] infer-valid-A-accuracy: 0.467532\n",
      "|2023-11-21|22:20:08.477| [INFO] infer-valid-B-accuracy: 0.578125\n",
      "|2023-11-21|22:20:08.758| [INFO] EPOCH: 060\n"
     ]
    },
    {
     "name": "stdout",
     "output_type": "stream",
     "text": [
      "best_score {'infer-train-accuracy': 0.8258426966292135, 'infer-valid-A-accuracy': 0.5454545454545454, 'infer-valid-B-accuracy': 0.59375}\n"
     ]
    },
    {
     "name": "stderr",
     "output_type": "stream",
     "text": [
      "100%|██████████| 5/5 [00:00<00:00, 11.45it/s]\n",
      "|2023-11-21|22:20:09.199| [INFO] train-EMA-loss: 0.522056\n",
      "|2023-11-21|22:20:09.545| [INFO] infer-train-accuracy: 0.865169\n",
      "|2023-11-21|22:20:09.807| [INFO] infer-valid-A-accuracy: 0.441558\n",
      "|2023-11-21|22:20:10.052| [INFO] infer-valid-B-accuracy: 0.609375\n",
      "|2023-11-21|22:20:10.305| [INFO] EPOCH: 061\n"
     ]
    },
    {
     "name": "stdout",
     "output_type": "stream",
     "text": [
      "best_score {'infer-train-accuracy': 0.8651685393258427, 'infer-valid-A-accuracy': 0.5454545454545454, 'infer-valid-B-accuracy': 0.609375}\n"
     ]
    },
    {
     "name": "stderr",
     "output_type": "stream",
     "text": [
      "100%|██████████| 5/5 [00:00<00:00, 13.30it/s]\n",
      "|2023-11-21|22:20:10.684| [INFO] train-EMA-loss: 0.494602\n",
      "|2023-11-21|22:20:10.996| [INFO] infer-train-accuracy: 0.820225\n",
      "|2023-11-21|22:20:11.256| [INFO] infer-valid-A-accuracy: 0.467532\n",
      "|2023-11-21|22:20:11.505| [INFO] infer-valid-B-accuracy: 0.562500\n",
      "|2023-11-21|22:20:11.762| [INFO] EPOCH: 062\n"
     ]
    },
    {
     "name": "stdout",
     "output_type": "stream",
     "text": [
      "best_score {'infer-train-accuracy': 0.8651685393258427, 'infer-valid-A-accuracy': 0.5454545454545454, 'infer-valid-B-accuracy': 0.609375}\n"
     ]
    },
    {
     "name": "stderr",
     "output_type": "stream",
     "text": [
      "100%|██████████| 5/5 [00:00<00:00, 13.30it/s]\n",
      "|2023-11-21|22:20:12.140| [INFO] train-EMA-loss: 0.468457\n",
      "|2023-11-21|22:20:12.441| [INFO] infer-train-accuracy: 0.831461\n",
      "|2023-11-21|22:20:12.697| [INFO] infer-valid-A-accuracy: 0.467532\n",
      "|2023-11-21|22:20:12.980| [INFO] infer-valid-B-accuracy: 0.546875\n",
      "|2023-11-21|22:20:13.233| [INFO] EPOCH: 063\n"
     ]
    },
    {
     "name": "stdout",
     "output_type": "stream",
     "text": [
      "best_score {'infer-train-accuracy': 0.8651685393258427, 'infer-valid-A-accuracy': 0.5454545454545454, 'infer-valid-B-accuracy': 0.609375}\n"
     ]
    },
    {
     "name": "stderr",
     "output_type": "stream",
     "text": [
      "100%|██████████| 5/5 [00:00<00:00, 13.30it/s]\n",
      "|2023-11-21|22:20:13.612| [INFO] train-EMA-loss: 0.430225\n",
      "|2023-11-21|22:20:13.913| [INFO] infer-train-accuracy: 0.848315\n",
      "|2023-11-21|22:20:14.186| [INFO] infer-valid-A-accuracy: 0.454545\n",
      "|2023-11-21|22:20:14.478| [INFO] infer-valid-B-accuracy: 0.625000\n",
      "|2023-11-21|22:20:14.733| [INFO] EPOCH: 064\n"
     ]
    },
    {
     "name": "stdout",
     "output_type": "stream",
     "text": [
      "best_score {'infer-train-accuracy': 0.8651685393258427, 'infer-valid-A-accuracy': 0.5454545454545454, 'infer-valid-B-accuracy': 0.625}\n"
     ]
    },
    {
     "name": "stderr",
     "output_type": "stream",
     "text": [
      "100%|██████████| 5/5 [00:00<00:00, 13.35it/s]\n",
      "|2023-11-21|22:20:15.111| [INFO] train-EMA-loss: 0.501409\n",
      "|2023-11-21|22:20:15.408| [INFO] infer-train-accuracy: 0.848315\n",
      "|2023-11-21|22:20:15.711| [INFO] infer-valid-A-accuracy: 0.467532\n",
      "|2023-11-21|22:20:15.977| [INFO] infer-valid-B-accuracy: 0.578125\n",
      "|2023-11-21|22:20:16.230| [INFO] EPOCH: 065\n"
     ]
    },
    {
     "name": "stdout",
     "output_type": "stream",
     "text": [
      "best_score {'infer-train-accuracy': 0.8651685393258427, 'infer-valid-A-accuracy': 0.5454545454545454, 'infer-valid-B-accuracy': 0.625}\n"
     ]
    },
    {
     "name": "stderr",
     "output_type": "stream",
     "text": [
      "100%|██████████| 5/5 [00:00<00:00, 14.36it/s]\n",
      "|2023-11-21|22:20:16.580| [INFO] train-EMA-loss: 0.446351\n",
      "|2023-11-21|22:20:16.872| [INFO] infer-train-accuracy: 0.882022\n",
      "|2023-11-21|22:20:17.124| [INFO] infer-valid-A-accuracy: 0.428571\n",
      "|2023-11-21|22:20:17.373| [INFO] infer-valid-B-accuracy: 0.562500\n",
      "|2023-11-21|22:20:17.633| [INFO] EPOCH: 066\n"
     ]
    },
    {
     "name": "stdout",
     "output_type": "stream",
     "text": [
      "best_score {'infer-train-accuracy': 0.8820224719101124, 'infer-valid-A-accuracy': 0.5454545454545454, 'infer-valid-B-accuracy': 0.625}\n"
     ]
    },
    {
     "name": "stderr",
     "output_type": "stream",
     "text": [
      "100%|██████████| 5/5 [00:00<00:00, 13.61it/s]\n",
      "|2023-11-21|22:20:18.002| [INFO] train-EMA-loss: 0.484162\n",
      "|2023-11-21|22:20:18.325| [INFO] infer-train-accuracy: 0.887640\n",
      "|2023-11-21|22:20:18.623| [INFO] infer-valid-A-accuracy: 0.428571\n",
      "|2023-11-21|22:20:18.880| [INFO] infer-valid-B-accuracy: 0.562500\n",
      "|2023-11-21|22:20:19.158| [INFO] EPOCH: 067\n"
     ]
    },
    {
     "name": "stdout",
     "output_type": "stream",
     "text": [
      "best_score {'infer-train-accuracy': 0.8876404494382022, 'infer-valid-A-accuracy': 0.5454545454545454, 'infer-valid-B-accuracy': 0.625}\n"
     ]
    },
    {
     "name": "stderr",
     "output_type": "stream",
     "text": [
      "100%|██████████| 5/5 [00:00<00:00, 14.47it/s]\n",
      "|2023-11-21|22:20:19.507| [INFO] train-EMA-loss: 0.376287\n",
      "|2023-11-21|22:20:19.804| [INFO] infer-train-accuracy: 0.887640\n",
      "|2023-11-21|22:20:20.061| [INFO] infer-valid-A-accuracy: 0.493506\n",
      "|2023-11-21|22:20:20.320| [INFO] infer-valid-B-accuracy: 0.562500\n",
      "|2023-11-21|22:20:20.601| [INFO] EPOCH: 068\n"
     ]
    },
    {
     "name": "stdout",
     "output_type": "stream",
     "text": [
      "best_score {'infer-train-accuracy': 0.8876404494382022, 'infer-valid-A-accuracy': 0.5454545454545454, 'infer-valid-B-accuracy': 0.625}\n"
     ]
    },
    {
     "name": "stderr",
     "output_type": "stream",
     "text": [
      "100%|██████████| 5/5 [00:00<00:00, 14.41it/s]\n",
      "|2023-11-21|22:20:20.950| [INFO] train-EMA-loss: 0.426878\n",
      "|2023-11-21|22:20:21.248| [INFO] infer-train-accuracy: 0.898876\n",
      "|2023-11-21|22:20:21.494| [INFO] infer-valid-A-accuracy: 0.493506\n",
      "|2023-11-21|22:20:21.756| [INFO] infer-valid-B-accuracy: 0.546875\n",
      "|2023-11-21|22:20:22.037| [INFO] EPOCH: 069\n"
     ]
    },
    {
     "name": "stdout",
     "output_type": "stream",
     "text": [
      "best_score {'infer-train-accuracy': 0.898876404494382, 'infer-valid-A-accuracy': 0.5454545454545454, 'infer-valid-B-accuracy': 0.625}\n"
     ]
    },
    {
     "name": "stderr",
     "output_type": "stream",
     "text": [
      "100%|██████████| 5/5 [00:00<00:00, 13.21it/s]\n",
      "|2023-11-21|22:20:22.418| [INFO] train-EMA-loss: 0.426453\n",
      "|2023-11-21|22:20:22.723| [INFO] infer-train-accuracy: 0.904494\n",
      "|2023-11-21|22:20:22.973| [INFO] infer-valid-A-accuracy: 0.467532\n",
      "|2023-11-21|22:20:23.220| [INFO] infer-valid-B-accuracy: 0.593750\n",
      "|2023-11-21|22:20:23.491| [INFO] EPOCH: 070\n"
     ]
    },
    {
     "name": "stdout",
     "output_type": "stream",
     "text": [
      "best_score {'infer-train-accuracy': 0.9044943820224719, 'infer-valid-A-accuracy': 0.5454545454545454, 'infer-valid-B-accuracy': 0.625}\n"
     ]
    },
    {
     "name": "stderr",
     "output_type": "stream",
     "text": [
      "100%|██████████| 5/5 [00:00<00:00, 14.45it/s]\n",
      "|2023-11-21|22:20:23.840| [INFO] train-EMA-loss: 0.382934\n",
      "|2023-11-21|22:20:24.159| [INFO] infer-train-accuracy: 0.859551\n",
      "|2023-11-21|22:20:24.413| [INFO] infer-valid-A-accuracy: 0.493506\n",
      "|2023-11-21|22:20:24.673| [INFO] infer-valid-B-accuracy: 0.562500\n",
      "|2023-11-21|22:20:24.943| [INFO] EPOCH: 071\n"
     ]
    },
    {
     "name": "stdout",
     "output_type": "stream",
     "text": [
      "best_score {'infer-train-accuracy': 0.9044943820224719, 'infer-valid-A-accuracy': 0.5454545454545454, 'infer-valid-B-accuracy': 0.625}\n"
     ]
    },
    {
     "name": "stderr",
     "output_type": "stream",
     "text": [
      "100%|██████████| 5/5 [00:00<00:00, 14.30it/s]\n",
      "|2023-11-21|22:20:25.295| [INFO] train-EMA-loss: 0.442765\n",
      "|2023-11-21|22:20:25.584| [INFO] infer-train-accuracy: 0.910112\n",
      "|2023-11-21|22:20:25.831| [INFO] infer-valid-A-accuracy: 0.441558\n",
      "|2023-11-21|22:20:26.089| [INFO] infer-valid-B-accuracy: 0.578125\n",
      "|2023-11-21|22:20:26.353| [INFO] EPOCH: 072\n"
     ]
    },
    {
     "name": "stdout",
     "output_type": "stream",
     "text": [
      "best_score {'infer-train-accuracy': 0.9101123595505618, 'infer-valid-A-accuracy': 0.5454545454545454, 'infer-valid-B-accuracy': 0.625}\n"
     ]
    },
    {
     "name": "stderr",
     "output_type": "stream",
     "text": [
      "100%|██████████| 5/5 [00:00<00:00, 14.24it/s]\n",
      "|2023-11-21|22:20:26.707| [INFO] train-EMA-loss: 0.297395\n",
      "|2023-11-21|22:20:26.999| [INFO] infer-train-accuracy: 0.893258\n",
      "|2023-11-21|22:20:27.295| [INFO] infer-valid-A-accuracy: 0.454545\n",
      "|2023-11-21|22:20:27.538| [INFO] infer-valid-B-accuracy: 0.593750\n",
      "|2023-11-21|22:20:27.805| [INFO] EPOCH: 073\n"
     ]
    },
    {
     "name": "stdout",
     "output_type": "stream",
     "text": [
      "best_score {'infer-train-accuracy': 0.9101123595505618, 'infer-valid-A-accuracy': 0.5454545454545454, 'infer-valid-B-accuracy': 0.625}\n"
     ]
    },
    {
     "name": "stderr",
     "output_type": "stream",
     "text": [
      "100%|██████████| 5/5 [00:00<00:00, 14.49it/s]\n",
      "|2023-11-21|22:20:28.152| [INFO] train-EMA-loss: 0.363401\n",
      "|2023-11-21|22:20:28.442| [INFO] infer-train-accuracy: 0.893258\n",
      "|2023-11-21|22:20:28.710| [INFO] infer-valid-A-accuracy: 0.480519\n",
      "|2023-11-21|22:20:28.960| [INFO] infer-valid-B-accuracy: 0.546875\n",
      "|2023-11-21|22:20:29.425| [INFO] EPOCH: 074\n"
     ]
    },
    {
     "name": "stdout",
     "output_type": "stream",
     "text": [
      "best_score {'infer-train-accuracy': 0.9101123595505618, 'infer-valid-A-accuracy': 0.5454545454545454, 'infer-valid-B-accuracy': 0.625}\n"
     ]
    },
    {
     "name": "stderr",
     "output_type": "stream",
     "text": [
      "100%|██████████| 5/5 [00:00<00:00, 13.91it/s]\n",
      "|2023-11-21|22:20:29.788| [INFO] train-EMA-loss: 0.318591\n",
      "|2023-11-21|22:20:30.105| [INFO] infer-train-accuracy: 0.893258\n",
      "|2023-11-21|22:20:30.382| [INFO] infer-valid-A-accuracy: 0.506494\n",
      "|2023-11-21|22:20:30.643| [INFO] infer-valid-B-accuracy: 0.546875\n",
      "|2023-11-21|22:20:30.901| [INFO] EPOCH: 075\n"
     ]
    },
    {
     "name": "stdout",
     "output_type": "stream",
     "text": [
      "best_score {'infer-train-accuracy': 0.9101123595505618, 'infer-valid-A-accuracy': 0.5454545454545454, 'infer-valid-B-accuracy': 0.625}\n"
     ]
    },
    {
     "name": "stderr",
     "output_type": "stream",
     "text": [
      "100%|██████████| 5/5 [00:00<00:00, 13.64it/s]\n",
      "|2023-11-21|22:20:31.270| [INFO] train-EMA-loss: 0.355178\n",
      "|2023-11-21|22:20:31.568| [INFO] infer-train-accuracy: 0.859551\n",
      "|2023-11-21|22:20:31.831| [INFO] infer-valid-A-accuracy: 0.467532\n",
      "|2023-11-21|22:20:32.125| [INFO] infer-valid-B-accuracy: 0.468750\n",
      "|2023-11-21|22:20:32.406| [INFO] EPOCH: 076\n"
     ]
    },
    {
     "name": "stdout",
     "output_type": "stream",
     "text": [
      "best_score {'infer-train-accuracy': 0.9101123595505618, 'infer-valid-A-accuracy': 0.5454545454545454, 'infer-valid-B-accuracy': 0.625}\n"
     ]
    },
    {
     "name": "stderr",
     "output_type": "stream",
     "text": [
      "100%|██████████| 5/5 [00:00<00:00, 13.17it/s]\n",
      "|2023-11-21|22:20:32.787| [INFO] train-EMA-loss: 0.308997\n",
      "|2023-11-21|22:20:33.103| [INFO] infer-train-accuracy: 0.842697\n",
      "|2023-11-21|22:20:33.368| [INFO] infer-valid-A-accuracy: 0.493506\n",
      "|2023-11-21|22:20:33.619| [INFO] infer-valid-B-accuracy: 0.500000\n",
      "|2023-11-21|22:20:33.896| [INFO] EPOCH: 077\n"
     ]
    },
    {
     "name": "stdout",
     "output_type": "stream",
     "text": [
      "best_score {'infer-train-accuracy': 0.9101123595505618, 'infer-valid-A-accuracy': 0.5454545454545454, 'infer-valid-B-accuracy': 0.625}\n"
     ]
    },
    {
     "name": "stderr",
     "output_type": "stream",
     "text": [
      "100%|██████████| 5/5 [00:00<00:00, 11.24it/s]\n",
      "|2023-11-21|22:20:34.343| [INFO] train-EMA-loss: 0.430614\n",
      "|2023-11-21|22:20:34.637| [INFO] infer-train-accuracy: 0.825843\n",
      "|2023-11-21|22:20:34.912| [INFO] infer-valid-A-accuracy: 0.454545\n",
      "|2023-11-21|22:20:35.172| [INFO] infer-valid-B-accuracy: 0.484375\n",
      "|2023-11-21|22:20:35.456| [INFO] EPOCH: 078\n"
     ]
    },
    {
     "name": "stdout",
     "output_type": "stream",
     "text": [
      "best_score {'infer-train-accuracy': 0.9101123595505618, 'infer-valid-A-accuracy': 0.5454545454545454, 'infer-valid-B-accuracy': 0.625}\n"
     ]
    },
    {
     "name": "stderr",
     "output_type": "stream",
     "text": [
      "100%|██████████| 5/5 [00:00<00:00, 14.24it/s]\n",
      "|2023-11-21|22:20:35.810| [INFO] train-EMA-loss: 0.430253\n",
      "|2023-11-21|22:20:36.155| [INFO] infer-train-accuracy: 0.865169\n",
      "|2023-11-21|22:20:36.404| [INFO] infer-valid-A-accuracy: 0.545455\n",
      "|2023-11-21|22:20:36.704| [INFO] infer-valid-B-accuracy: 0.500000\n",
      "|2023-11-21|22:20:36.979| [INFO] EPOCH: 079\n"
     ]
    },
    {
     "name": "stdout",
     "output_type": "stream",
     "text": [
      "best_score {'infer-train-accuracy': 0.9101123595505618, 'infer-valid-A-accuracy': 0.5454545454545454, 'infer-valid-B-accuracy': 0.625}\n"
     ]
    },
    {
     "name": "stderr",
     "output_type": "stream",
     "text": [
      "100%|██████████| 5/5 [00:00<00:00, 13.49it/s]\n",
      "|2023-11-21|22:20:37.352| [INFO] train-EMA-loss: 0.290489\n",
      "|2023-11-21|22:20:37.650| [INFO] infer-train-accuracy: 0.797753\n",
      "|2023-11-21|22:20:37.913| [INFO] infer-valid-A-accuracy: 0.467532\n",
      "|2023-11-21|22:20:38.181| [INFO] infer-valid-B-accuracy: 0.468750\n",
      "|2023-11-21|22:20:38.445| [INFO] EPOCH: 080\n"
     ]
    },
    {
     "name": "stdout",
     "output_type": "stream",
     "text": [
      "best_score {'infer-train-accuracy': 0.9101123595505618, 'infer-valid-A-accuracy': 0.5454545454545454, 'infer-valid-B-accuracy': 0.625}\n"
     ]
    },
    {
     "name": "stderr",
     "output_type": "stream",
     "text": [
      "100%|██████████| 5/5 [00:00<00:00, 14.21it/s]\n",
      "|2023-11-21|22:20:38.800| [INFO] train-EMA-loss: 0.450375\n",
      "|2023-11-21|22:20:39.101| [INFO] infer-train-accuracy: 0.820225\n",
      "|2023-11-21|22:20:39.350| [INFO] infer-valid-A-accuracy: 0.454545\n",
      "|2023-11-21|22:20:39.602| [INFO] infer-valid-B-accuracy: 0.468750\n",
      "|2023-11-21|22:20:39.862| [INFO] EPOCH: 081\n"
     ]
    },
    {
     "name": "stdout",
     "output_type": "stream",
     "text": [
      "best_score {'infer-train-accuracy': 0.9101123595505618, 'infer-valid-A-accuracy': 0.5454545454545454, 'infer-valid-B-accuracy': 0.625}\n"
     ]
    },
    {
     "name": "stderr",
     "output_type": "stream",
     "text": [
      "100%|██████████| 5/5 [00:00<00:00, 12.61it/s]\n",
      "|2023-11-21|22:20:40.261| [INFO] train-EMA-loss: 0.424954\n",
      "|2023-11-21|22:20:40.555| [INFO] infer-train-accuracy: 0.893258\n",
      "|2023-11-21|22:20:40.844| [INFO] infer-valid-A-accuracy: 0.493506\n",
      "|2023-11-21|22:20:41.098| [INFO] infer-valid-B-accuracy: 0.531250\n",
      "|2023-11-21|22:20:41.354| [INFO] EPOCH: 082\n"
     ]
    },
    {
     "name": "stdout",
     "output_type": "stream",
     "text": [
      "best_score {'infer-train-accuracy': 0.9101123595505618, 'infer-valid-A-accuracy': 0.5454545454545454, 'infer-valid-B-accuracy': 0.625}\n"
     ]
    },
    {
     "name": "stderr",
     "output_type": "stream",
     "text": [
      "100%|██████████| 5/5 [00:00<00:00, 13.80it/s]\n",
      "|2023-11-21|22:20:41.718| [INFO] train-EMA-loss: 0.280361\n",
      "|2023-11-21|22:20:42.017| [INFO] infer-train-accuracy: 0.915730\n",
      "|2023-11-21|22:20:42.297| [INFO] infer-valid-A-accuracy: 0.506494\n",
      "|2023-11-21|22:20:42.539| [INFO] infer-valid-B-accuracy: 0.546875\n",
      "|2023-11-21|22:20:42.805| [INFO] EPOCH: 083\n"
     ]
    },
    {
     "name": "stdout",
     "output_type": "stream",
     "text": [
      "best_score {'infer-train-accuracy': 0.9157303370786517, 'infer-valid-A-accuracy': 0.5454545454545454, 'infer-valid-B-accuracy': 0.625}\n"
     ]
    },
    {
     "name": "stderr",
     "output_type": "stream",
     "text": [
      "100%|██████████| 5/5 [00:00<00:00, 13.44it/s]\n",
      "|2023-11-21|22:20:43.180| [INFO] train-EMA-loss: 0.427533\n",
      "|2023-11-21|22:20:43.501| [INFO] infer-train-accuracy: 0.932584\n",
      "|2023-11-21|22:20:43.754| [INFO] infer-valid-A-accuracy: 0.506494\n",
      "|2023-11-21|22:20:44.020| [INFO] infer-valid-B-accuracy: 0.515625\n",
      "|2023-11-21|22:20:44.272| [INFO] EPOCH: 084\n"
     ]
    },
    {
     "name": "stdout",
     "output_type": "stream",
     "text": [
      "best_score {'infer-train-accuracy': 0.9325842696629213, 'infer-valid-A-accuracy': 0.5454545454545454, 'infer-valid-B-accuracy': 0.625}\n"
     ]
    },
    {
     "name": "stderr",
     "output_type": "stream",
     "text": [
      "100%|██████████| 5/5 [00:00<00:00, 13.13it/s]\n",
      "|2023-11-21|22:20:44.655| [INFO] train-EMA-loss: 0.286610\n",
      "|2023-11-21|22:20:44.970| [INFO] infer-train-accuracy: 0.910112\n",
      "|2023-11-21|22:20:45.224| [INFO] infer-valid-A-accuracy: 0.506494\n",
      "|2023-11-21|22:20:45.482| [INFO] infer-valid-B-accuracy: 0.500000\n",
      "|2023-11-21|22:20:45.739| [INFO] EPOCH: 085\n"
     ]
    },
    {
     "name": "stdout",
     "output_type": "stream",
     "text": [
      "best_score {'infer-train-accuracy': 0.9325842696629213, 'infer-valid-A-accuracy': 0.5454545454545454, 'infer-valid-B-accuracy': 0.625}\n"
     ]
    },
    {
     "name": "stderr",
     "output_type": "stream",
     "text": [
      "100%|██████████| 5/5 [00:00<00:00, 13.94it/s]\n",
      "|2023-11-21|22:20:46.100| [INFO] train-EMA-loss: 0.275200\n",
      "|2023-11-21|22:20:46.416| [INFO] infer-train-accuracy: 0.943820\n",
      "|2023-11-21|22:20:46.667| [INFO] infer-valid-A-accuracy: 0.480519\n",
      "|2023-11-21|22:20:46.915| [INFO] infer-valid-B-accuracy: 0.546875\n",
      "|2023-11-21|22:20:47.179| [INFO] EPOCH: 086\n"
     ]
    },
    {
     "name": "stdout",
     "output_type": "stream",
     "text": [
      "best_score {'infer-train-accuracy': 0.9438202247191011, 'infer-valid-A-accuracy': 0.5454545454545454, 'infer-valid-B-accuracy': 0.625}\n"
     ]
    },
    {
     "name": "stderr",
     "output_type": "stream",
     "text": [
      "100%|██████████| 5/5 [00:00<00:00, 13.64it/s]\n",
      "|2023-11-21|22:20:47.547| [INFO] train-EMA-loss: 0.263843\n",
      "|2023-11-21|22:20:47.885| [INFO] infer-train-accuracy: 0.932584\n",
      "|2023-11-21|22:20:48.176| [INFO] infer-valid-A-accuracy: 0.506494\n",
      "|2023-11-21|22:20:48.465| [INFO] infer-valid-B-accuracy: 0.515625\n",
      "|2023-11-21|22:20:48.722| [INFO] EPOCH: 087\n"
     ]
    },
    {
     "name": "stdout",
     "output_type": "stream",
     "text": [
      "best_score {'infer-train-accuracy': 0.9438202247191011, 'infer-valid-A-accuracy': 0.5454545454545454, 'infer-valid-B-accuracy': 0.625}\n"
     ]
    },
    {
     "name": "stderr",
     "output_type": "stream",
     "text": [
      "100%|██████████| 5/5 [00:00<00:00, 12.96it/s]\n",
      "|2023-11-21|22:20:49.111| [INFO] train-EMA-loss: 0.284551\n",
      "|2023-11-21|22:20:49.421| [INFO] infer-train-accuracy: 0.949438\n",
      "|2023-11-21|22:20:49.685| [INFO] infer-valid-A-accuracy: 0.480519\n",
      "|2023-11-21|22:20:49.966| [INFO] infer-valid-B-accuracy: 0.593750\n",
      "|2023-11-21|22:20:50.219| [INFO] EPOCH: 088\n"
     ]
    },
    {
     "name": "stdout",
     "output_type": "stream",
     "text": [
      "best_score {'infer-train-accuracy': 0.949438202247191, 'infer-valid-A-accuracy': 0.5454545454545454, 'infer-valid-B-accuracy': 0.625}\n"
     ]
    },
    {
     "name": "stderr",
     "output_type": "stream",
     "text": [
      "100%|██████████| 5/5 [00:00<00:00, 13.90it/s]\n",
      "|2023-11-21|22:20:50.581| [INFO] train-EMA-loss: 0.313563\n",
      "|2023-11-21|22:20:50.873| [INFO] infer-train-accuracy: 0.977528\n",
      "|2023-11-21|22:20:51.133| [INFO] infer-valid-A-accuracy: 0.480519\n",
      "|2023-11-21|22:20:51.396| [INFO] infer-valid-B-accuracy: 0.687500\n",
      "|2023-11-21|22:20:51.655| [INFO] EPOCH: 089\n"
     ]
    },
    {
     "name": "stdout",
     "output_type": "stream",
     "text": [
      "best_score {'infer-train-accuracy': 0.9775280898876404, 'infer-valid-A-accuracy': 0.5454545454545454, 'infer-valid-B-accuracy': 0.6875}\n"
     ]
    },
    {
     "name": "stderr",
     "output_type": "stream",
     "text": [
      "100%|██████████| 5/5 [00:00<00:00, 13.74it/s]\n",
      "|2023-11-21|22:20:52.021| [INFO] train-EMA-loss: 0.270037\n",
      "|2023-11-21|22:20:52.317| [INFO] infer-train-accuracy: 0.971910\n",
      "|2023-11-21|22:20:52.613| [INFO] infer-valid-A-accuracy: 0.480519\n",
      "|2023-11-21|22:20:52.880| [INFO] infer-valid-B-accuracy: 0.609375\n",
      "|2023-11-21|22:20:53.139| [INFO] EPOCH: 090\n"
     ]
    },
    {
     "name": "stdout",
     "output_type": "stream",
     "text": [
      "best_score {'infer-train-accuracy': 0.9775280898876404, 'infer-valid-A-accuracy': 0.5454545454545454, 'infer-valid-B-accuracy': 0.6875}\n"
     ]
    },
    {
     "name": "stderr",
     "output_type": "stream",
     "text": [
      "100%|██████████| 5/5 [00:00<00:00, 13.42it/s]\n",
      "|2023-11-21|22:20:53.514| [INFO] train-EMA-loss: 0.337942\n",
      "|2023-11-21|22:20:53.815| [INFO] infer-train-accuracy: 0.949438\n",
      "|2023-11-21|22:20:54.065| [INFO] infer-valid-A-accuracy: 0.493506\n",
      "|2023-11-21|22:20:54.318| [INFO] infer-valid-B-accuracy: 0.531250\n",
      "|2023-11-21|22:20:54.584| [INFO] EPOCH: 091\n"
     ]
    },
    {
     "name": "stdout",
     "output_type": "stream",
     "text": [
      "best_score {'infer-train-accuracy': 0.9775280898876404, 'infer-valid-A-accuracy': 0.5454545454545454, 'infer-valid-B-accuracy': 0.6875}\n"
     ]
    },
    {
     "name": "stderr",
     "output_type": "stream",
     "text": [
      "100%|██████████| 5/5 [00:00<00:00, 14.18it/s]\n",
      "|2023-11-21|22:20:54.939| [INFO] train-EMA-loss: 0.239553\n",
      "|2023-11-21|22:20:55.230| [INFO] infer-train-accuracy: 0.938202\n",
      "|2023-11-21|22:20:55.493| [INFO] infer-valid-A-accuracy: 0.441558\n",
      "|2023-11-21|22:20:55.751| [INFO] infer-valid-B-accuracy: 0.531250\n",
      "|2023-11-21|22:20:56.010| [INFO] EPOCH: 092\n"
     ]
    },
    {
     "name": "stdout",
     "output_type": "stream",
     "text": [
      "best_score {'infer-train-accuracy': 0.9775280898876404, 'infer-valid-A-accuracy': 0.5454545454545454, 'infer-valid-B-accuracy': 0.6875}\n"
     ]
    },
    {
     "name": "stderr",
     "output_type": "stream",
     "text": [
      "100%|██████████| 5/5 [00:00<00:00, 12.72it/s]\n",
      "|2023-11-21|22:20:56.406| [INFO] train-EMA-loss: 0.308388\n",
      "|2023-11-21|22:20:56.705| [INFO] infer-train-accuracy: 0.893258\n",
      "|2023-11-21|22:20:56.955| [INFO] infer-valid-A-accuracy: 0.441558\n",
      "|2023-11-21|22:20:57.206| [INFO] infer-valid-B-accuracy: 0.546875\n",
      "|2023-11-21|22:20:57.463| [INFO] EPOCH: 093\n"
     ]
    },
    {
     "name": "stdout",
     "output_type": "stream",
     "text": [
      "best_score {'infer-train-accuracy': 0.9775280898876404, 'infer-valid-A-accuracy': 0.5454545454545454, 'infer-valid-B-accuracy': 0.6875}\n"
     ]
    },
    {
     "name": "stderr",
     "output_type": "stream",
     "text": [
      "100%|██████████| 5/5 [00:00<00:00, 13.58it/s]\n",
      "|2023-11-21|22:20:57.833| [INFO] train-EMA-loss: 0.208289\n",
      "|2023-11-21|22:20:58.129| [INFO] infer-train-accuracy: 0.893258\n",
      "|2023-11-21|22:20:58.405| [INFO] infer-valid-A-accuracy: 0.467532\n",
      "|2023-11-21|22:20:58.651| [INFO] infer-valid-B-accuracy: 0.562500\n",
      "|2023-11-21|22:20:58.908| [INFO] EPOCH: 094\n"
     ]
    },
    {
     "name": "stdout",
     "output_type": "stream",
     "text": [
      "best_score {'infer-train-accuracy': 0.9775280898876404, 'infer-valid-A-accuracy': 0.5454545454545454, 'infer-valid-B-accuracy': 0.6875}\n"
     ]
    },
    {
     "name": "stderr",
     "output_type": "stream",
     "text": [
      "100%|██████████| 5/5 [00:00<00:00, 12.95it/s]\n",
      "|2023-11-21|22:20:59.297| [INFO] train-EMA-loss: 0.210224\n",
      "|2023-11-21|22:20:59.599| [INFO] infer-train-accuracy: 0.971910\n",
      "|2023-11-21|22:20:59.852| [INFO] infer-valid-A-accuracy: 0.493506\n",
      "|2023-11-21|22:21:00.097| [INFO] infer-valid-B-accuracy: 0.578125\n",
      "|2023-11-21|22:21:00.349| [INFO] EPOCH: 095\n"
     ]
    },
    {
     "name": "stdout",
     "output_type": "stream",
     "text": [
      "best_score {'infer-train-accuracy': 0.9775280898876404, 'infer-valid-A-accuracy': 0.5454545454545454, 'infer-valid-B-accuracy': 0.6875}\n"
     ]
    },
    {
     "name": "stderr",
     "output_type": "stream",
     "text": [
      "100%|██████████| 5/5 [00:00<00:00, 13.66it/s]\n",
      "|2023-11-21|22:21:00.717| [INFO] train-EMA-loss: 0.262359\n",
      "|2023-11-21|22:21:01.040| [INFO] infer-train-accuracy: 0.983146\n",
      "|2023-11-21|22:21:01.301| [INFO] infer-valid-A-accuracy: 0.467532\n",
      "|2023-11-21|22:21:01.557| [INFO] infer-valid-B-accuracy: 0.609375\n",
      "|2023-11-21|22:21:01.820| [INFO] EPOCH: 096\n"
     ]
    },
    {
     "name": "stdout",
     "output_type": "stream",
     "text": [
      "best_score {'infer-train-accuracy': 0.9831460674157303, 'infer-valid-A-accuracy': 0.5454545454545454, 'infer-valid-B-accuracy': 0.6875}\n"
     ]
    },
    {
     "name": "stderr",
     "output_type": "stream",
     "text": [
      "100%|██████████| 5/5 [00:00<00:00, 13.66it/s]\n",
      "|2023-11-21|22:21:02.188| [INFO] train-EMA-loss: 0.233575\n",
      "|2023-11-21|22:21:02.486| [INFO] infer-train-accuracy: 0.932584\n",
      "|2023-11-21|22:21:02.766| [INFO] infer-valid-A-accuracy: 0.454545\n",
      "|2023-11-21|22:21:03.038| [INFO] infer-valid-B-accuracy: 0.562500\n",
      "|2023-11-21|22:21:03.298| [INFO] EPOCH: 097\n"
     ]
    },
    {
     "name": "stdout",
     "output_type": "stream",
     "text": [
      "best_score {'infer-train-accuracy': 0.9831460674157303, 'infer-valid-A-accuracy': 0.5454545454545454, 'infer-valid-B-accuracy': 0.6875}\n"
     ]
    },
    {
     "name": "stderr",
     "output_type": "stream",
     "text": [
      "100%|██████████| 5/5 [00:00<00:00, 13.80it/s]\n",
      "|2023-11-21|22:21:03.663| [INFO] train-EMA-loss: 0.153041\n",
      "|2023-11-21|22:21:03.981| [INFO] infer-train-accuracy: 0.955056\n",
      "|2023-11-21|22:21:04.239| [INFO] infer-valid-A-accuracy: 0.493506\n",
      "|2023-11-21|22:21:04.557| [INFO] infer-valid-B-accuracy: 0.609375\n",
      "|2023-11-21|22:21:04.830| [INFO] EPOCH: 098\n"
     ]
    },
    {
     "name": "stdout",
     "output_type": "stream",
     "text": [
      "best_score {'infer-train-accuracy': 0.9831460674157303, 'infer-valid-A-accuracy': 0.5454545454545454, 'infer-valid-B-accuracy': 0.6875}\n"
     ]
    },
    {
     "name": "stderr",
     "output_type": "stream",
     "text": [
      "100%|██████████| 5/5 [00:00<00:00, 13.20it/s]\n",
      "|2023-11-21|22:21:05.211| [INFO] train-EMA-loss: 0.203776\n",
      "|2023-11-21|22:21:05.548| [INFO] infer-train-accuracy: 0.943820\n",
      "|2023-11-21|22:21:05.822| [INFO] infer-valid-A-accuracy: 0.506494\n",
      "|2023-11-21|22:21:06.101| [INFO] infer-valid-B-accuracy: 0.562500\n",
      "|2023-11-21|22:21:06.371| [INFO] EPOCH: 099\n"
     ]
    },
    {
     "name": "stdout",
     "output_type": "stream",
     "text": [
      "best_score {'infer-train-accuracy': 0.9831460674157303, 'infer-valid-A-accuracy': 0.5454545454545454, 'infer-valid-B-accuracy': 0.6875}\n"
     ]
    },
    {
     "name": "stderr",
     "output_type": "stream",
     "text": [
      "100%|██████████| 5/5 [00:00<00:00, 12.34it/s]\n",
      "|2023-11-21|22:21:06.779| [INFO] train-EMA-loss: 0.169980\n",
      "|2023-11-21|22:21:07.076| [INFO] infer-train-accuracy: 0.910112\n",
      "|2023-11-21|22:21:07.352| [INFO] infer-valid-A-accuracy: 0.506494\n",
      "|2023-11-21|22:21:07.614| [INFO] infer-valid-B-accuracy: 0.546875\n"
     ]
    },
    {
     "name": "stdout",
     "output_type": "stream",
     "text": [
      "best_score {'infer-train-accuracy': 0.9831460674157303, 'infer-valid-A-accuracy': 0.5454545454545454, 'infer-valid-B-accuracy': 0.6875}\n"
     ]
    }
   ],
   "source": [
    "# # we must define the function after training/loading\n",
    "# def nodes_preproc_func(node_features: np.ndarray) -> np.ndarray:\n",
    "#     \"\"\"Pre-processing function for nodes.\"\"\"\n",
    "#     return node_scaler.transform(node_features)\n",
    "nodes_preproc_func = None\n",
    "\n",
    "\n",
    "splits = joblib.load(SPLIT_PATH)\n",
    "loader_kwargs = {\n",
    "    \"num_workers\": 6,\n",
    "    \"batch_size\": 32,\n",
    "}\n",
    "# arch_kwargs = {\n",
    "#     \"dim_features\": NUM_NODE_FEATURES,\n",
    "#     \"dim_target\": NCLASSES,\n",
    "#     \"layers\": [32, 32, 16, 8],\n",
    "#     \"dropout\": 0.3,\n",
    "#     \"pooling\": \"mean\",\n",
    "#     \"conv\": \"EdgeConv\",\n",
    "#     \"aggr\": \"max\",\n",
    "# }\n",
    "\n",
    "arch_kwargs = {\n",
    "    \"dim_features\": NUM_NODE_FEATURES,\n",
    "    \"dim_target\": NCLASSES,\n",
    "    \"layers\": [64, 32, 32],\n",
    "    \"dropout\": 0.3,\n",
    "    \"pooling\": \"mean\",\n",
    "    \"conv\": \"EdgeConv\",\n",
    "    \"aggr\": \"max\",\n",
    "}\n",
    "optim_kwargs = {\n",
    "    \"lr\": 5.0e-4,\n",
    "    \"weight_decay\": 1.0e-4,\n",
    "}\n",
    "\n",
    "NUM_EPOCHS = 100\n",
    "# if not MODEL_DIR.exists() or True:\n",
    "for split_idx, split in enumerate(splits):\n",
    "        new_split = {\n",
    "            \"train\": split[\"train\"],\n",
    "            \"infer-train\": split[\"train\"],\n",
    "            \"infer-valid-A\": split[\"valid\"],\n",
    "            \"infer-valid-B\": split[\"test\"],\n",
    "        }\n",
    "        MODEL_DIR = Path(MODEL_DIR) \n",
    "        split_save_dir = MODEL_DIR / f\"{split_idx:02d}/\"\n",
    "        rm_n_mkdir(split_save_dir)\n",
    "        reset_logging(split_save_dir)\n",
    "        run_once(\n",
    "            new_split,\n",
    "            NUM_EPOCHS,\n",
    "            save_dir=split_save_dir,\n",
    "            arch_kwargs=arch_kwargs,\n",
    "            loader_kwargs=loader_kwargs,\n",
    "            optim_kwargs=optim_kwargs,\n",
    "            on_gpu=ON_GPU,\n",
    "            GRAPH_DIR=GRAPHSDIR\n",
    "        )"
   ]
  },
  {
   "cell_type": "code",
   "execution_count": null,
   "metadata": {},
   "outputs": [],
   "source": []
  },
  {
   "cell_type": "code",
   "execution_count": null,
   "metadata": {},
   "outputs": [],
   "source": []
  }
 ],
 "metadata": {
  "kernelspec": {
   "display_name": "DL2",
   "language": "python",
   "name": "python3"
  },
  "language_info": {
   "codemirror_mode": {
    "name": "ipython",
    "version": 3
   },
   "file_extension": ".py",
   "mimetype": "text/x-python",
   "name": "python",
   "nbconvert_exporter": "python",
   "pygments_lexer": "ipython3",
   "version": "3.10.13"
  }
 },
 "nbformat": 4,
 "nbformat_minor": 2
}
